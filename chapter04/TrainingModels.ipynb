{
 "cells": [
  {
   "cell_type": "markdown",
   "metadata": {
    "colab_type": "text",
    "id": "_gNIrgkGU6Hc"
   },
   "source": [
    "# Chapter 4: Training Models\n",
    "\n",
    "## Linear Regression\n",
    "\n",
    "The goal of a linear regression model is given a training set $\\mathbf{X}$ of <i>n</i>-dimensional input vectors\n",
    "$\\mathbf{x}^{(i)}$, we want to find an <i>n</i>-dimensional vector $\\theta$ that minimizes\n",
    "\n",
    "$$ MSE\\,(\\mathbf{X}, h_{\\theta}) =\n",
    "\\large{\\frac{1}{n}}\\sum\\limits_{i=1}^n \\left( \\theta^T \\cdot \\mathbf{x}^{(i)} - y^{(i)} \\right)^2 $$\n",
    "\n",
    "where $MSE$ is the mean squared error of the training set."
   ]
  },
  {
   "cell_type": "markdown",
   "metadata": {
    "colab_type": "text",
    "id": "yPcX0ca2U6Hg"
   },
   "source": [
    "### The Normal Equation\n",
    "\n",
    "One way to find $\\theta$ is to use the <i>normal equation</i>:\n",
    "\n",
    "$$\\hat{\\theta} = \\left( \\mathbf{X}^T \\cdot \\mathbf{X} \\right)^{-1} \\cdot \\mathbf{X}^T \\cdot \\mathbf{y}.$$\n",
    "\n",
    "The example below illustrates how this can equation can be used to train a linear regression model."
   ]
  },
  {
   "cell_type": "code",
   "execution_count": 1,
   "metadata": {
    "colab": {
     "base_uri": "https://localhost:8080/",
     "height": 349
    },
    "colab_type": "code",
    "id": "iDzuESfcU6Hh",
    "outputId": "2bef39e2-bd6b-4ef3-cf09-87ac4cc43ba6"
   },
   "outputs": [
    {
     "data": {
      "image/png": "[encoded data removed]",
      "text/plain": [
       "<Figure size 576x396 with 1 Axes>"
      ]
     },
     "metadata": {
      "tags": []
     },
     "output_type": "display_data"
    }
   ],
   "source": [
    "import numpy as np\n",
    "import matplotlib.pyplot as plt\n",
    "\n",
    "X = 2 * np.random.rand(100, 1)\n",
    "y = 4 + 3 * X + np.random.rand(100, 1)\n",
    "\n",
    "plt.scatter(X, y)\n",
    "plt.show()"
   ]
  },
  {
   "cell_type": "code",
   "execution_count": 7,
   "metadata": {
    "colab": {
     "base_uri": "https://localhost:8080/",
     "height": 51
    },
    "colab_type": "code",
    "id": "ZYFlhlv0U6Hq",
    "outputId": "db3a0f67-2f49-4f6f-d563-c506c42cb613"
   },
   "outputs": [
    {
     "name": "stdout",
     "output_type": "stream",
     "text": [
      "[[4.6257677 ]\n",
      " [2.94059603]]\n"
     ]
    }
   ],
   "source": [
    "# Computing theta using the np.linalg module. It is not quite (4, 3) as we might\n",
    "# expect due to the noise.\n",
    "\n",
    "X_b = np.c_[np.ones((100, 1)), X] # add x0 = 1 to each instance.\n",
    "theta_best = np.linalg.inv(X_b.T.dot(X_b)).dot(X_b.T).dot(y)\n",
    "print(theta_best)"
   ]
  },
  {
   "cell_type": "code",
   "execution_count": 13,
   "metadata": {
    "colab": {
     "base_uri": "https://localhost:8080/",
     "height": 51
    },
    "colab_type": "code",
    "id": "w2zCIXasU6Hv",
    "outputId": "daa0ecac-7c3a-4369-8f4c-94c2dd8f6f38"
   },
   "outputs": [
    {
     "data": {
      "text/plain": [
       "array([[ 4.6257677 ],\n",
       "       [10.50695976]])"
      ]
     },
     "execution_count": 13,
     "metadata": {
      "tags": []
     },
     "output_type": "execute_result"
    }
   ],
   "source": [
    "# Making a prediction using the computed values of theta.\n",
    "\n",
    "X_new = np.array([[0], [2]])\n",
    "X_new_b = np.c_[np.ones((2, 1)), X_new]\n",
    "y_predict = X_new_b.dot(theta_best)\n",
    "y_predict"
   ]
  },
  {
   "cell_type": "code",
   "execution_count": 14,
   "metadata": {
    "colab": {
     "base_uri": "https://localhost:8080/",
     "height": 347
    },
    "colab_type": "code",
    "id": "k52KTEZRU6Hz",
    "outputId": "300de34e-5558-4eec-a40b-a4a0499e9090"
   },
   "outputs": [
    {
     "data": {
      "image/png": "[encoded data removed]",
      "text/plain": [
       "<Figure size 576x396 with 1 Axes>"
      ]
     },
     "metadata": {
      "tags": []
     },
     "output_type": "display_data"
    }
   ],
   "source": [
    "# Plot the model's prediction.\n",
    "\n",
    "plt.plot(X_new, y_predict, 'r-')\n",
    "plt.plot(X, y, 'b.')\n",
    "plt.axis([0, 2, 0, 15])\n",
    "plt.show()"
   ]
  },
  {
   "cell_type": "code",
   "execution_count": 15,
   "metadata": {
    "colab": {
     "base_uri": "https://localhost:8080/",
     "height": 68
    },
    "colab_type": "code",
    "id": "L6pPdArTU6H3",
    "outputId": "9984935f-9c21-45a9-871a-3e5db197c57c"
   },
   "outputs": [
    {
     "name": "stdout",
     "output_type": "stream",
     "text": [
      "[4.6257677] [[2.94059603]]\n",
      "[[ 4.6257677 ]\n",
      " [10.50695976]]\n"
     ]
    }
   ],
   "source": [
    "# Equivalent scikit-learn code, we see that we get the same results\n",
    "# as when we use the normal equation.\n",
    "\n",
    "from sklearn.linear_model import LinearRegression\n",
    "\n",
    "lin_reg = LinearRegression().fit(X, y)\n",
    "print(lin_reg.intercept_, lin_reg.coef_)\n",
    "print(lin_reg.predict(X_new))"
   ]
  },
  {
   "cell_type": "markdown",
   "metadata": {
    "colab_type": "text",
    "id": "8kiLLFnKU6H_"
   },
   "source": [
    "### Computational Complexity\n",
    "\n",
    "The normal equation computes the inverse of $\\mathbf{X}^T \\cdot \\mathbf{X}$, which is an $O\\left(n^3\\right)$ operation. This does not scale well for large datasets."
   ]
  },
  {
   "cell_type": "markdown",
   "metadata": {
    "colab_type": "text",
    "id": "rQanRxDxU6IA"
   },
   "source": [
    "## Gradient Descent\n",
    "\n",
    "### Batch Gradient Descent\n",
    "\n",
    "Gradient descent is the process of tweaking parameters slightly until a global minimum is found in the target space\n",
    "of the cost function.\n",
    "\n",
    "In the case of linear regression, the partial derivative of each parameter in $\\theta$ is\n",
    "\n",
    "$$ \\frac{\\partial}{\\partial\\theta_j}\\;MSE\\,(\\theta) =\n",
    "\\frac{2}{m} \\sum\\limits_{i=1}^n \\left( \\theta^T\\cdot\\mathbf{x}^{(i)} \\right) x^{(i)}_j. $$\n",
    "\n",
    "The gradient of the cost function is given by\n",
    "\n",
    "$$ \\nabla_{\\theta}\\;MSE\\,(\\theta) = \\frac{2}{n} \\; \\mathbf{X}^T \\cdot (\\mathbf{X} \\cdot \\theta - y). $$\n",
    "\n",
    "The gradient vector points in the direction of most change in the positive direction, so one iteration of\n",
    "gradient descent is computed as\n",
    "\n",
    "$$ \\theta^{(\\text{next step})} = \\theta - \\eta \\, \\nabla_{\\theta}\\;MSE\\,(\\theta) $$\n",
    "\n",
    "where $\\eta$ is the <i>learning rate</i> of the algorithm."
   ]
  },
  {
   "cell_type": "code",
   "execution_count": 16,
   "metadata": {
    "colab": {
     "base_uri": "https://localhost:8080/",
     "height": 51
    },
    "colab_type": "code",
    "id": "VEzgETObU6IE",
    "outputId": "662645bd-a64e-40fe-e918-a0b9d2f38427"
   },
   "outputs": [
    {
     "name": "stdout",
     "output_type": "stream",
     "text": [
      "[[4.6257677 ]\n",
      " [2.94059603]]\n"
     ]
    }
   ],
   "source": [
    "# An implmentation of gradient descent. As we can see the result is the same as when\n",
    "# we used the normal equation.\n",
    "\n",
    "eta = 0.1  # learning rate\n",
    "n_iterations = 1000\n",
    "m = 100\n",
    "\n",
    "theta = np.random.randn(2, 1)\n",
    "\n",
    "for _ in range(n_iterations):\n",
    "    gradients = (2 / m) * X_b.T.dot(X_b.dot(theta) - y)\n",
    "    theta = theta - (eta * gradients)\n",
    "    \n",
    "print(theta)"
   ]
  },
  {
   "cell_type": "markdown",
   "metadata": {
    "colab_type": "text",
    "id": "IIBESJxrU6IH"
   },
   "source": [
    "### Stochastic Gradient Descent\n",
    "\n",
    "Batch gradient descent can be inefficient since it uses all values in the training set at each step to compute\n",
    "the gradient, thereby making it an $O\\left(n^2\\right)$ operation. It also has trouble escaping from global minima.\n",
    "\n",
    "An alternative is stochastic gradient descent, which picks a single point randomly and computes the gradient using\n",
    "that one point."
   ]
  },
  {
   "cell_type": "code",
   "execution_count": 11,
   "metadata": {
    "colab": {
     "base_uri": "https://localhost:8080/",
     "height": 51
    },
    "colab_type": "code",
    "id": "79OWduGXU6IL",
    "outputId": "e976ffb4-40e8-4ebe-85e3-585f156a03c5"
   },
   "outputs": [
    {
     "name": "stdout",
     "output_type": "stream",
     "text": [
      "[[4.61406416]\n",
      " [2.94984114]]\n"
     ]
    }
   ],
   "source": [
    "# Implementation of stochastic gradient descent.\n",
    "\n",
    "n_epochs = 50\n",
    "t0, t1 = 5, 50\n",
    "\n",
    "def learning_schedule(t):\n",
    "  return t0 / (t + t1)\n",
    "\n",
    "n = len(X)\n",
    "theta = np.random.randn(2, 1)\n",
    "\n",
    "for epoch in range(n_epochs):\n",
    "  for i in range(n):\n",
    "    random_index = np.random.randint(n)\n",
    "    xi = X_b[random_index:random_index+1]\n",
    "    yi = y[random_index:random_index+1]\n",
    "    gradients = 2 * xi.T.dot(xi.dot(theta) - yi)\n",
    "    eta = learning_schedule(epoch * m + i)\n",
    "    theta -= eta * gradients\n",
    "    \n",
    "print(theta)"
   ]
  },
  {
   "cell_type": "code",
   "execution_count": 12,
   "metadata": {
    "colab": {
     "base_uri": "https://localhost:8080/",
     "height": 34
    },
    "colab_type": "code",
    "id": "rE9HW5uYXfOq",
    "outputId": "9dfebfcd-ad89-4e31-e4ab-ce10794c59d5"
   },
   "outputs": [
    {
     "name": "stdout",
     "output_type": "stream",
     "text": [
      "[4.61737978] [2.95516511]\n"
     ]
    }
   ],
   "source": [
    "# Scikit-Learn's SGDRegressor implements this algorithm.\n",
    "\n",
    "from sklearn.linear_model import SGDRegressor\n",
    "\n",
    "sgd_reg = SGDRegressor(max_iter=50, penalty=None, eta0=0.1, tol=1e-3)\n",
    "sgd_reg.fit(X, y.ravel())\n",
    "\n",
    "print(sgd_reg.intercept_, sgd_reg.coef_)"
   ]
  },
  {
   "cell_type": "markdown",
   "metadata": {
    "colab_type": "text",
    "id": "rGMI8_8kYsOu"
   },
   "source": [
    "### Mini-batch Gradient Descent\n",
    "\n",
    "This algorithm computes the gradient using randomly selected samples from the training set, i.e. \"mini-batches.\" This has an advantage over stochastic gradient descent because the matrix multiplication can be improved using optimized hardware.\n",
    "\n",
    "## Polynomial Regression"
   ]
  },
  {
   "cell_type": "code",
   "execution_count": 19,
   "metadata": {
    "colab": {
     "base_uri": "https://localhost:8080/",
     "height": 347
    },
    "colab_type": "code",
    "id": "P_p6aps3ZxPx",
    "outputId": "878bbae1-412d-4437-d692-76af4010697f"
   },
   "outputs": [
    {
     "data": {
      "image/png": "[encoded data removed]",
      "text/plain": [
       "<Figure size 576x396 with 1 Axes>"
      ]
     },
     "metadata": {
      "tags": []
     },
     "output_type": "display_data"
    }
   ],
   "source": [
    "# Generate nonlinear data using a simple quadratic equation.\n",
    "\n",
    "m = 100\n",
    "X = 6 * np.random.rand(m, 1) - 3\n",
    "y = 0.5 * X ** 2 + X + 2 + np.random.randn(m, 1)\n",
    "\n",
    "plt.scatter(X, y)\n",
    "plt.show()"
   ]
  },
  {
   "cell_type": "code",
   "execution_count": 20,
   "metadata": {
    "colab": {
     "base_uri": "https://localhost:8080/",
     "height": 51
    },
    "colab_type": "code",
    "id": "wKiYIWnUaYmp",
    "outputId": "ff3de590-5874-42c7-f13b-52b55653a27b"
   },
   "outputs": [
    {
     "name": "stdout",
     "output_type": "stream",
     "text": [
      "[1.11924681]\n",
      "[1.11924681 1.25271343]\n"
     ]
    }
   ],
   "source": [
    "# Using Scikit-Learn's PolynomialFeatures transformer to add the 2nd degree of\n",
    "# the polynomial in the feature set as a new feature\n",
    "\n",
    "from sklearn.preprocessing import PolynomialFeatures\n",
    "\n",
    "poly_features = PolynomialFeatures(degree=2, include_bias=False)\n",
    "X_poly = poly_features.fit_transform(X)\n",
    "print(X[0])\n",
    "print(X_poly[0])"
   ]
  },
  {
   "cell_type": "code",
   "execution_count": 21,
   "metadata": {
    "colab": {
     "base_uri": "https://localhost:8080/",
     "height": 34
    },
    "colab_type": "code",
    "id": "3FY3NiZ4bLO1",
    "outputId": "575af6f3-6496-49c5-9109-572736bafcf6"
   },
   "outputs": [
    {
     "data": {
      "text/plain": [
       "(array([2.21853043]), array([[0.93578895, 0.4722543 ]]))"
      ]
     },
     "execution_count": 21,
     "metadata": {
      "tags": []
     },
     "output_type": "execute_result"
    }
   ],
   "source": [
    "# Now we are able to use the LinearRegressor to predict the data.\n",
    "\n",
    "lin_reg = LinearRegression()\n",
    "lin_reg.fit(X_poly, y)\n",
    "lin_reg.intercept_, lin_reg.coef_"
   ]
  },
  {
   "cell_type": "markdown",
   "metadata": {
    "colab_type": "text",
    "id": "y52qUk3SEr-w"
   },
   "source": [
    "## Learning Curves"
   ]
  },
  {
   "cell_type": "code",
   "execution_count": 0,
   "metadata": {
    "colab": {},
    "colab_type": "code",
    "id": "bC7V86DCEuBX"
   },
   "outputs": [],
   "source": [
    "# The following code defines a function for plotting the learning curve of a\n",
    "# model, a plot of the performance of the model on the training and validation\n",
    "# set as a function of the training set size.\n",
    "\n",
    "from sklearn.metrics import mean_squared_error\n",
    "from sklearn.model_selection import train_test_split\n",
    "\n",
    "def plot_learning_curve(model, X, y):\n",
    "  X_train, X_val, y_train, y_val = train_test_split(X, y, test_size=0.2)\n",
    "  train_errors, val_errors = [], []\n",
    "  for m in range(1, len(X_train)):\n",
    "    model.fit(X_train[:m], y_train[:m])\n",
    "    y_train_predict = model.predict(X_train[:m])\n",
    "    y_val_predict = model.predict(X_val)\n",
    "    train_errors.append(mean_squared_error(y_train_predict, y_train[:m]))\n",
    "    val_errors.append(mean_squared_error(y_val_predict, y_val))\n",
    "  plt.plot(np.sqrt(train_errors), 'r-+', linewidth=2, label='train')\n",
    "  plt.plot(np.sqrt(val_errors), 'b-', linewidth=3, label='val')\n",
    "  plt.axis([0, 80, 0, 3])\n",
    "  plt.legend()\n",
    "  plt.show()"
   ]
  },
  {
   "cell_type": "code",
   "execution_count": 24,
   "metadata": {
    "colab": {
     "base_uri": "https://localhost:8080/",
     "height": 351
    },
    "colab_type": "code",
    "id": "jejFq0gWG_qA",
    "outputId": "49e70a9d-3144-467f-e8d1-e94c4311e8c6"
   },
   "outputs": [
    {
     "data": {
      "image/png": "[encoded data removed]",
      "text/plain": [
       "<Figure size 576x396 with 1 Axes>"
      ]
     },
     "metadata": {
      "tags": []
     },
     "output_type": "display_data"
    }
   ],
   "source": [
    "# Plotting the learning curve for linear regression. This is an example of\n",
    "# an underfitting model, they plateau at a high level.\n",
    "\n",
    "lin_reg = LinearRegression()\n",
    "plot_learning_curve(lin_reg, X, y)"
   ]
  },
  {
   "cell_type": "code",
   "execution_count": 25,
   "metadata": {
    "colab": {
     "base_uri": "https://localhost:8080/",
     "height": 351
    },
    "colab_type": "code",
    "id": "Qc28cwQbJFUU",
    "outputId": "c03dbee2-8807-4763-b1a0-1134d8be2bc1"
   },
   "outputs": [
    {
     "data": {
      "image/png": "[encoded data removed]",
      "text/plain": [
       "<Figure size 576x396 with 1 Axes>"
      ]
     },
     "metadata": {
      "tags": []
     },
     "output_type": "display_data"
    }
   ],
   "source": [
    "# Plotting the learning curve of a 10 degree polynomial model. This\n",
    "# is an example of an overfitting model, since there is a large\n",
    "# gap between the training set error and the validation set error.\n",
    "\n",
    "from sklearn.pipeline import Pipeline\n",
    "\n",
    "poly_regression = Pipeline([\n",
    "    ('poly_features', PolynomialFeatures(degree=10, include_bias=False)),\n",
    "    ('lin_reg', LinearRegression()),\n",
    "])\n",
    "\n",
    "plot_learning_curve(poly_regression, X, y)"
   ]
  },
  {
   "cell_type": "markdown",
   "metadata": {
    "colab_type": "text",
    "id": "KiuS0ip-NcNw"
   },
   "source": [
    "## Regularized Linear Models\n",
    "\n",
    "### Ridge Regression\n",
    "\n",
    "A form of regularized Linear Regression where the <i>regularization</i> term is given by\n",
    "\n",
    "$$ \\alpha \\sum\\limits_{i=1}^n \\; \\theta_i^2 $$,\n",
    "\n",
    "where $\\alpha$ is a configurable hyperparameter. If $\\alpha=0$ then the Ridge Regression becomes Linear Regression.\n",
    "The ridge regression cost function is\n",
    "\n",
    "$$ J(\\theta) = MSE\\,(\\theta) + \\frac{\\alpha}{2} \\sum\\limits_{i=1}^n \\, \\theta_i^2 $$.\n",
    "\n",
    "The Ridge Regression closed-form solution is given by\n",
    "\n",
    "$$ \\hat{\\theta} =\n",
    "\\left( \\mathbf{X}^T \\cdot \\mathbf{X} + \\alpha\\mathbf{A} \\right)^{-1} \\cdot \\mathbf{X}^T \\cdot \\mathbf{y} $$.\n",
    "\n",
    "where $\\mathbf{A}$ is the $n \\times n$ identity matrix."
   ]
  },
  {
   "cell_type": "code",
   "execution_count": 0,
   "metadata": {
    "colab": {
     "base_uri": "https://localhost:8080/",
     "height": 34
    },
    "colab_type": "code",
    "id": "qqhG9-KLVzZG",
    "outputId": "95e51c4f-16e9-43d8-af11-fb08938305b3"
   },
   "outputs": [
    {
     "data": {
      "text/plain": [
       "array([[5.04832376]])"
      ]
     },
     "execution_count": 14,
     "metadata": {
      "tags": []
     },
     "output_type": "execute_result"
    }
   ],
   "source": [
    "# An implementation of Ridge Regression using the closed form solution.\n",
    "\n",
    "from sklearn.linear_model import Ridge\n",
    "\n",
    "ridge_reg = Ridge(alpha=1, solver='cholesky')\n",
    "ridge_reg.fit(X, y)\n",
    "ridge_reg.predict([[1.5]])"
   ]
  },
  {
   "cell_type": "code",
   "execution_count": 0,
   "metadata": {
    "colab": {
     "base_uri": "https://localhost:8080/",
     "height": 88
    },
    "colab_type": "code",
    "id": "9tBpkD8JZyd3",
    "outputId": "fac1b150-4947-4403-c758-8053a5ae947c"
   },
   "outputs": [
    {
     "name": "stderr",
     "output_type": "stream",
     "text": [
      "/usr/local/lib/python3.6/dist-packages/sklearn/utils/validation.py:761: DataConversionWarning: A column-vector y was passed when a 1d array was expected. Please change the shape of y to (n_samples, ), for example using ravel().\n",
      "  y = column_or_1d(y, warn=True)\n"
     ]
    },
    {
     "data": {
      "text/plain": [
       "array([5.03970027])"
      ]
     },
     "execution_count": 15,
     "metadata": {
      "tags": []
     },
     "output_type": "execute_result"
    }
   ],
   "source": [
    "# You can also use Ridge Regression regularization when using Stochastic\n",
    "# Gradient Descent. It throws a warning but seems to work fine.\n",
    "\n",
    "sgd_reg = SGDRegressor(penalty='l2', max_iter=100, tol=1e-3)\n",
    "sgd_reg.fit(X, y)\n",
    "sgd_reg.predict([[1.5]])"
   ]
  },
  {
   "cell_type": "markdown",
   "metadata": {
    "colab_type": "text",
    "id": "8DGTIgvSA8z3"
   },
   "source": [
    "### Lasso Regression\n",
    "\n",
    "The Lasso Regression cost function is given by\n",
    "  \n",
    "$$ J(\\theta) = MSE\\,(\\theta) \\, + \\sum\\limits_{i=1}^n\\left| \\theta_i \\right| $$\n",
    "\n",
    "which is identical to the Ridge Regression cost function except it uses the $\\ell_1$ norm (Manhattan distance) instead of the $\\ell_2$ norm (Euclidean metric).\n",
    "\n",
    "The lasso cost function is sometimes non-differentiable because of the absolute value. Gradient descent still works if you use the <i>subgradient vector</i>, $\\mathbf{g}$, which is given by\n",
    "\n",
    "$$ \\mathbf{g}\\,(\\theta, J) = \\nabla_\\theta MSE\\,(\\theta)\\; + \\,\n",
    "\\alpha \\, \\left( \\begin{matrix} sign\\,(\\theta_1) \\\\ sign\\,(\\theta_2) \\\\ \\vdots \\\\\n",
    "sign\\,(\\theta_n) \\end{matrix} \\right) $$\n",
    "\n",
    "where\n",
    "\n",
    "$$ sign\\,(\\theta_i) = \\left\\{ \\begin{matrix}\n",
    "-1 \\; \\text{if} \\; \\theta_i < 0 \\\\\n",
    "0 \\; \\text{if} \\; \\theta_i = 0 \\\\\n",
    "1 \\; \\text{if} \\; \\theta_i > 0\n",
    "\\end{matrix} \\right. $$"
   ]
  },
  {
   "cell_type": "code",
   "execution_count": 0,
   "metadata": {
    "colab": {
     "base_uri": "https://localhost:8080/",
     "height": 34
    },
    "colab_type": "code",
    "id": "U6xqNsyjICeb",
    "outputId": "46650065-7485-42cc-e8d4-50164811e8d6"
   },
   "outputs": [
    {
     "data": {
      "text/plain": [
       "array([5.00532097])"
      ]
     },
     "execution_count": 16,
     "metadata": {
      "tags": []
     },
     "output_type": "execute_result"
    }
   ],
   "source": [
    "# Lasso Regression is implemented by Scikit-Learn\n",
    "\n",
    "from sklearn.linear_model import Lasso\n",
    "\n",
    "lasso_reg = Lasso(alpha=0.1)\n",
    "lasso_reg.fit(X, y)\n",
    "lasso_reg.predict([[1.5]])"
   ]
  },
  {
   "cell_type": "markdown",
   "metadata": {
    "colab_type": "text",
    "id": "naPPzSjTH08A"
   },
   "source": [
    "### Elastic Net\n",
    "\n",
    "The cost function of Elastic Net is given by\n",
    "\n",
    "$$ J(\\theta) = MSE\\,(\\theta) \\; + \\; r\\alpha \\sum\\limits_{i=1}^n \n",
    "\\left| \\theta_i \\right| \\; + \\; \\frac{\\alpha\\,(1-r)}{2}\n",
    "\\sum\\limits_{i=1}^n \\theta_i^2 $$\n",
    "\n",
    "where $r$ is a mix ratio and can range from 0 to 1. Elastic Net can be preferable to Lasso Regression due to the fact that Lasso Regression behaves eratically when the number of features is greater than the number of samples in the training set or when features are strongly correlated."
   ]
  },
  {
   "cell_type": "code",
   "execution_count": 0,
   "metadata": {
    "colab": {
     "base_uri": "https://localhost:8080/",
     "height": 34
    },
    "colab_type": "code",
    "id": "q8vxhM0kKFFM",
    "outputId": "0225fced-812e-4069-9c27-ea9f4c453bf7"
   },
   "outputs": [
    {
     "data": {
      "text/plain": [
       "array([4.96067782])"
      ]
     },
     "execution_count": 17,
     "metadata": {
      "tags": []
     },
     "output_type": "execute_result"
    }
   ],
   "source": [
    "# Scikit-Learn implements Elastic Net\n",
    "\n",
    "from sklearn.linear_model import ElasticNet\n",
    "\n",
    "elastic_net = ElasticNet(alpha=0.2, l1_ratio=0.5)\n",
    "elastic_net.fit(X, y)\n",
    "elastic_net.predict([[1.5]])"
   ]
  },
  {
   "cell_type": "markdown",
   "metadata": {
    "colab_type": "text",
    "id": "sYnvKQzDMGjd"
   },
   "source": [
    "### Early Stopping"
   ]
  },
  {
   "cell_type": "code",
   "execution_count": 40,
   "metadata": {
    "colab": {
     "base_uri": "https://localhost:8080/",
     "height": 119
    },
    "colab_type": "code",
    "id": "7ScFNW0E-_qh",
    "outputId": "9af7b81f-21b2-4cb1-92c6-4a25782f79e9"
   },
   "outputs": [
    {
     "data": {
      "text/plain": [
       "SGDRegressor(alpha=0.0001, average=False, early_stopping=False, epsilon=0.1,\n",
       "       eta0=0.0005, fit_intercept=True, l1_ratio=0.15,\n",
       "       learning_rate='constant', loss='squared_loss', max_iter=1,\n",
       "       n_iter=None, n_iter_no_change=5, penalty=None, power_t=0.25,\n",
       "       random_state=None, shuffle=True, tol=0.001, validation_fraction=0.1,\n",
       "       verbose=0, warm_start=True)"
      ]
     },
     "execution_count": 40,
     "metadata": {
      "tags": []
     },
     "output_type": "execute_result"
    }
   ],
   "source": [
    "# A basic implementation of early stopping, when a model halts\n",
    "# gradient descent when the validation error hits a minimum.\n",
    "\n",
    "from sklearn.base import clone\n",
    "from sklearn.preprocessing import StandardScaler\n",
    "from sklearn.exceptions import DataConversionWarning, ConvergenceWarning\n",
    "import warnings\n",
    "\n",
    "# Silencing warnings\n",
    "warnings.filterwarnings(\"ignore\", category=DeprecationWarning)\n",
    "warnings.filterwarnings(\"ignore\", category=DataConversionWarning)\n",
    "warnings.filterwarnings(\"ignore\", category=ConvergenceWarning)\n",
    "\n",
    "poly_scaler = Pipeline([\n",
    "    ('poly_features', PolynomialFeatures(degree=90, include_bias=False)),\n",
    "    ('std_scaler', StandardScaler()),\n",
    "])\n",
    "\n",
    "X_train, X_val, y_train, y_val = train_test_split(X, y, test_size=0.2)\n",
    "X_train_poly_scaled = poly_scaler.fit_transform(X_train)\n",
    "X_val_poly_scaled = poly_scaler.transform(X_val)\n",
    "\n",
    "# warm_start=True means the model picks up where it left off\n",
    "# each time fit() is called.\n",
    "sgd_reg = SGDRegressor(max_iter=1, warm_start=True, penalty=None,\n",
    "                      learning_rate='constant', eta0=0.0005, tol=1e-3)\n",
    "\n",
    "minimum_val_error = float('inf')\n",
    "best_epoch = None\n",
    "best_model = None\n",
    "for epoch in range(1000):\n",
    "  sgd_reg.fit(X_train_poly_scaled, y_train)\n",
    "  y_val_predict = sgd_reg.predict(X_val_poly_scaled)\n",
    "  val_error = mean_squared_error(y_val_predict, y_val)\n",
    "  if val_error < minimum_val_error:\n",
    "    minimum_val_error = val_error\n",
    "    best_epoch = epoch\n",
    "    best_model = clone(sgd_reg)\n",
    "best_model"
   ]
  },
  {
   "cell_type": "markdown",
   "metadata": {
    "colab_type": "text",
    "id": "sVp9tjsuEZXl"
   },
   "source": [
    "## Logistic Regression\n",
    "\n",
    "### Estimating Probabilities\n",
    "\n",
    "Logistic Regression is a binary classification model which attempts to predict the probability that a sample is in the positive class. If the probability is greater than 0.5, then it outputs the sample is in the positive class, 1, otherwise it is in the negative class, 0.\n",
    "\n",
    "The probability predicted by Logistic Regression is given by\n",
    "\n",
    "$$ \\hat{p} = h_\\theta (\\mathbf{x}) = \\sigma\\left( \\theta^T \\cdot \\mathbf{x}\n",
    "\\right) $$\n",
    "\n",
    "where $\\sigma(t)$ is a <i>signoid function</i> that outputs a number from 0 to 1. It is defined as\n",
    "\n",
    "$$ \\sigma(t) = \\frac{1}{1 + \\exp\\,(-t)}. $$\n",
    "\n",
    "The final output of logistic regression is given by\n",
    "\n",
    "$$ \\hat{y} = \\left\\{ \\begin{matrix}\n",
    "0 & \\text{if} \\; \\hat{p} < 0.5 \\\\\n",
    "1 & \\text{if} \\; \\hat{p} \\geq 0.5\n",
    "\\end{matrix} \\right. $$\n",
    "\n",
    "It follows from the defition of $\\sigma$ that $\\hat{p}$ is less than 0.5 when $t < 0$, so Logistic Regression predicts 1 if $\\theta^T\\cdot\\mathbf{x}$ is positive or zero, and predicts 0 if it is negative.\n",
    "\n",
    "### Training and Cost Function\n",
    "\n",
    "The cost function for a single sample, $\\mathbf{x}$ is given by\n",
    "\n",
    "$$ c(\\theta) = \\left\\{ \\begin{matrix}\n",
    "- \\log(\\hat{p}) & \\text{if} \\; y = 1 \\\\\n",
    "- \\log(1 - \\hat{p}) & \\text{if} \\; y = 0\n",
    "\\end{matrix} \\right. $$\n",
    "\n",
    "Because $-log(t)$ grows large when $t$ approaches zero, so the cost function will be large when it estimates a value close to zero for a positive class and very large when a negative class is close to 1 (recall the range of $\\sigma$ is $[0, 1]$).\n",
    "\n",
    "The total cost function is the mean of the cost for each sample in the training set, given by\n",
    "\n",
    "$$ J(\\theta) = -\\frac{1}{m} \\sum\\limits_{i=1}^m\n",
    "\\left[ y^{(i)}\\log\\left( \\hat{p}^{(i)} \\right) +\n",
    "\\left( 1 - y^{(i)} \\right) \\log\\left( 1 - \\hat{p}^{(i)} \\right) \\right]. $$\n",
    "\n",
    "There is no known closed form solution for finding the best choice of $\\theta$, but since the cost function is convex, Gradient Descent can find a solution. The partial derivative of the cost function with respect to each component of $\\theta$ is given by\n",
    "\n",
    "$$ \\frac{\\partial}{\\partial \\theta_j} J(\\theta) =\n",
    "\\frac{1}{m} \\sum\\limits_{i=1}^m \\left(\n",
    "\\sigma\\left( \\theta^T \\cdot \\mathbf{x}^{(i)} \\right)\n",
    "- y^{(i)}\\right) x^{(i)}_j$$\n",
    "\n",
    "which can be used to compute the gradient.\n",
    "\n",
    "### Decision Boundaries"
   ]
  },
  {
   "cell_type": "code",
   "execution_count": 42,
   "metadata": {
    "colab": {
     "base_uri": "https://localhost:8080/",
     "height": 34
    },
    "colab_type": "code",
    "id": "u4k93qNlQjBF",
    "outputId": "09bdbaa9-3202-4b1c-9e6d-448fa3f9fcd9"
   },
   "outputs": [
    {
     "name": "stdout",
     "output_type": "stream",
     "text": [
      "['data', 'target', 'target_names', 'DESCR', 'feature_names', 'filename']\n"
     ]
    }
   ],
   "source": [
    "# Importing the Iris dataset.\n",
    "\n",
    "from sklearn import datasets\n",
    "\n",
    "iris = datasets.load_iris()\n",
    "print(list(iris.keys()))\n",
    "\n",
    "X = iris['data'][:, 3:] # petal width\n",
    "y = (iris['target'] == 2).astype(np.int) # 1 is Iris-Virginica, else 0"
   ]
  },
  {
   "cell_type": "code",
   "execution_count": 0,
   "metadata": {
    "colab": {},
    "colab_type": "code",
    "id": "VJ1V8vFqS3tB"
   },
   "outputs": [],
   "source": [
    "# Training a LogisticRegression model.\n",
    "\n",
    "from sklearn.linear_model import LogisticRegression\n",
    "\n",
    "log_reg = LogisticRegression(solver='sag').fit(X, y)"
   ]
  },
  {
   "cell_type": "code",
   "execution_count": 51,
   "metadata": {
    "colab": {
     "base_uri": "https://localhost:8080/",
     "height": 361
    },
    "colab_type": "code",
    "id": "oMLSeLYOT7Me",
    "outputId": "ff796701-7fea-4d27-f105-7fac0fa6a5c6"
   },
   "outputs": [
    {
     "data": {
      "image/png": "[encoded data removed]",
      "text/plain": [
       "<Figure size 576x396 with 1 Axes>"
      ]
     },
     "metadata": {
      "tags": []
     },
     "output_type": "display_data"
    }
   ],
   "source": [
    "# Plotting the decision boundary.\n",
    "\n",
    "X_new = np.linspace(0, 3, 1000).reshape(-1, 1)\n",
    "y_proba = log_reg.predict_proba(X_new)\n",
    "plt.plot(X_new, y_proba[:, 1], 'g-', label='Iris-Virginica')\n",
    "plt.plot(X_new, y_proba[:, 0], 'b--', label='Not Iris-Virginica')\n",
    "plt.legend()\n",
    "plt.ylabel('Probability')\n",
    "plt.xlabel('Petal width')\n",
    "plt.show()"
   ]
  },
  {
   "cell_type": "code",
   "execution_count": 53,
   "metadata": {
    "colab": {
     "base_uri": "https://localhost:8080/",
     "height": 34
    },
    "colab_type": "code",
    "id": "kVIkuKJhVnkp",
    "outputId": "a35698fe-476d-48b3-86ca-498fa078b28f"
   },
   "outputs": [
    {
     "data": {
      "text/plain": [
       "array([1, 0])"
      ]
     },
     "execution_count": 53,
     "metadata": {
      "tags": []
     },
     "output_type": "execute_result"
    }
   ],
   "source": [
    "# Example predictions.\n",
    "\n",
    "log_reg.predict([[1.7], [1.5]])"
   ]
  },
  {
   "cell_type": "markdown",
   "metadata": {
    "colab_type": "text",
    "id": "8tBmpyjdVzVp"
   },
   "source": [
    "### Softmax Regression\n",
    "\n",
    "Logistic Regression can support multiple classes directly, this is called <i>Softmax Regression</i> or <i>Multinomial Logistic Regression</i>.\n",
    "\n",
    "Given a sample, $\\mathbf{x}$, the model first computes the scores of each class $s_k(\\mathbf{x})$ which is given by\n",
    "\n",
    "$$ s_k(\\mathbf{x}) = \\left( \\theta^{(k)}  \\right)^T \\cdot \\mathbf{x} $$\n",
    "\n",
    "which is the equation for the Linear Regression prediction. The model then estimates the probability of the sample is in each class by applying the <i>softmax function</i> (or <i>normalized exponential</i>) given by\n",
    "\n",
    "$$ \\hat{p}_k = \\sigma(\\mathbf{s}(\\mathbf{x}))_k = \\frac{\\exp\\,\\left( s_k (\\mathbf{x}) \\right)}\n",
    "{\\sum\\limits_{j=1}^K \\, \\exp\\, \\left( s_j(\\mathbf{x}) \\right) } $$\n",
    "\n",
    "where $K$ is the number of classes, $\\mathbf{s}(\\mathbf{x})$ is the vector containing the scores for each class, and $\\sigma(\\mathbf{s}(\\mathbf{x}))_k$ is the probability that $\\mathbf{x}$ is in class $k$.\n",
    "\n",
    "Like the Linear Regression classifier, the model predicts that the sample, $\\mathbf{x}$, is in the class $\\hat{y}$, given by\n",
    "\n",
    "$$ \\hat{y} =\n",
    "\\underset{k}{\\text{argmax}} \\; \\sigma(\\mathbf{s}(\\mathbf{x}))_k =\n",
    "\\underset{k}{\\text{argmax}} \\; s_k(\\mathbf{x}) =\n",
    "\\underset{k}{\\text{argmax}} \\, \\left( \\left( \\theta^{(k)} \\right)^T\n",
    "\\cdot \\mathbf{x} \\right) $$\n",
    "\n",
    "where the $\\text{argmax}$ operator selects the parameter $k$ which maximizes the function. In order to find the optimal $\\Theta$, the matrix of vectors used for each class for scoring, the model must minimize the <i>cross-entropy</i> cost function which is given by\n",
    "\n",
    "$$ J(\\Theta) = - \\frac{1}{m} \\sum\\limits_{i=1}^m\n",
    "\\sum\\limits_{k=1}^K \\, y_k^{(i)} \\log\\left( \\hat{p}_k^{(i)} \\right) $$\n",
    "\n",
    "where $y_k^{(i)}$ is 1 if the target class for the $i^{\\text{th}}$ instance is $k$; otherwise it is 0. The model is penalized when it estimates a low probability for a target class. When $K=2$, the cost function is the same as Logistic Regression. The gradient vector with respect to $\\theta^{(k)}$ for this cost function is given by\n",
    "\n",
    "$$ \\nabla_{\\theta^{(k)}} = \\frac{1}{m} \\sum\\limits_{i=1}^m\n",
    "\\left( \\hat{p}_k^{(i)} - y_k^{(i)} \\right) \\mathbf{x}^{(i)} $$\n",
    "\n",
    "which can be used for Gradient Descent."
   ]
  },
  {
   "cell_type": "code",
   "execution_count": 55,
   "metadata": {
    "colab": {
     "base_uri": "https://localhost:8080/",
     "height": 51
    },
    "colab_type": "code",
    "id": "5Xn4yQ2cij-U",
    "outputId": "a3429b8f-da14-452f-e8b2-aaaa25a94481"
   },
   "outputs": [
    {
     "name": "stdout",
     "output_type": "stream",
     "text": [
      "[2]\n",
      "[[6.38014896e-07 5.74929995e-02 9.42506362e-01]]\n"
     ]
    }
   ],
   "source": [
    "# Using Softmax Regression with the Iris dataset.\n",
    "\n",
    "X = iris['data'][:, (2, 3)] # petal length, petal width\n",
    "y = iris['target']\n",
    "\n",
    "softmax_reg = LogisticRegression(multi_class='multinomial',\n",
    "                                 solver='lbfgs', C=10)\n",
    "softmax_reg.fit(X, y)\n",
    "\n",
    "print(softmax_reg.predict([[5, 2]]))\n",
    "print(softmax_reg.predict_proba([[5, 2]]))"
   ]
  }
 ],
 "metadata": {
  "colab": {
   "collapsed_sections": [],
   "name": "TrainingModels.ipynb",
   "provenance": [],
   "version": "0.3.2"
  },
  "kernelspec": {
   "display_name": "Python 3",
   "language": "python",
   "name": "python3"
  },
  "language_info": {
   "codemirror_mode": {
    "name": "ipython",
    "version": 3
   },
   "file_extension": ".py",
   "mimetype": "text/x-python",
   "name": "python",
   "nbconvert_exporter": "python",
   "pygments_lexer": "ipython3",
   "version": "3.7.2"
  }
 },
 "nbformat": 4,
 "nbformat_minor": 1
}
