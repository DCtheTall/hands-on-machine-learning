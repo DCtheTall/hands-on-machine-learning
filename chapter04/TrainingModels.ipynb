{
  "nbformat": 4,
  "nbformat_minor": 0,
  "metadata": {
    "colab": {
      "name": "TrainingModels.ipynb",
      "version": "0.3.2",
      "provenance": [],
      "collapsed_sections": []
    },
    "kernelspec": {
      "display_name": "Python 3",
      "language": "python",
      "name": "python3"
    }
  },
  "cells": [
    {
      "metadata": {
        "id": "_gNIrgkGU6Hc",
        "colab_type": "text"
      },
      "cell_type": "markdown",
      "source": [
        "# Chapter 4: Training Models\n",
        "\n",
        "## Linear Regression\n",
        "\n",
        "The goal of a linear regression model is given a training set $\\mathbf{X}$ of <i>n</i>-dimensional input vectors\n",
        "$\\mathbf{x}^{(i)}$, we want to find an <i>n</i>-dimensional vector $\\theta$ that minimizes\n",
        "\n",
        "$ MSE\\,(\\mathbf{X}, h_{\\theta}) =\n",
        "\\large{\\frac{1}{n}}\\sum\\limits_{i=1}^n \\left( \\theta^T \\cdot \\mathbf{x}^{(i)} - y^{(i)} \\right)^2 $\n",
        "\n",
        "where $MSE$ is the mean squared error of the training set."
      ]
    },
    {
      "metadata": {
        "id": "yPcX0ca2U6Hg",
        "colab_type": "text"
      },
      "cell_type": "markdown",
      "source": [
        "### The Normal Equation\n",
        "\n",
        "One way to find $\\theta$ is to use the <i>normal equation</i>:\n",
        "\n",
        "$\\hat{\\theta} = \\left( \\mathbf{X}^T \\cdot \\mathbf{X} \\right)^{-1} \\cdot \\mathbf{X}^T \\cdot \\mathbf{y}$.\n",
        "\n",
        "The example below illustrates how this can equation can be used to train a linear regression model."
      ]
    },
    {
      "metadata": {
        "id": "iDzuESfcU6Hh",
        "colab_type": "code",
        "outputId": "1b27218e-da26-45bc-ed26-e1b383913f56",
        "colab": {
          "base_uri": "https://localhost:8080/",
          "height": 347
        }
      },
      "cell_type": "code",
      "source": [
        "import numpy as np\n",
        "import matplotlib.pyplot as plt\n",
        "\n",
        "X = 2 * np.random.rand(100, 1)\n",
        "y = 4 + 3 * X + np.random.rand(100, 1)\n",
        "\n",
        "plt.scatter(X, y)\n",
        "plt.show()"
      ],
      "execution_count": 16,
      "outputs": [
        {
          "output_type": "display_data",
          "data": {
            "image/png": "[encoded data removed]",
            "text/plain": [
              "<Figure size 576x396 with 1 Axes>"
            ]
          },
          "metadata": {
            "tags": []
          }
        }
      ]
    },
    {
      "metadata": {
        "id": "ZYFlhlv0U6Hq",
        "colab_type": "code",
        "outputId": "57500c97-1cbd-4fcd-9787-7ced1f8c352e",
        "colab": {
          "base_uri": "https://localhost:8080/",
          "height": 51
        }
      },
      "cell_type": "code",
      "source": [
        "# Computing theta using the np.linalg module. It is not quite (4, 3) as we might\n",
        "# expect due to the noise.\n",
        "\n",
        "X_b = np.c_[np.ones((100, 1)), X] # add x0 = 1 to each instance.\n",
        "theta_best = np.linalg.inv(X_b.T.dot(X_b)).dot(X_b.T).dot(y)\n",
        "print(theta_best)"
      ],
      "execution_count": 17,
      "outputs": [
        {
          "output_type": "stream",
          "text": [
            "[[4.47388681]\n",
            " [2.98741195]]\n"
          ],
          "name": "stdout"
        }
      ]
    },
    {
      "metadata": {
        "id": "w2zCIXasU6Hv",
        "colab_type": "code",
        "outputId": "e383aaa1-a78f-4712-9c48-11f60c607fd3",
        "colab": {
          "base_uri": "https://localhost:8080/",
          "height": 51
        }
      },
      "cell_type": "code",
      "source": [
        "# Making a prediction using the computed values of theta.\n",
        "\n",
        "X_new = np.array([[0], [2]])\n",
        "X_new_b = np.c_[np.ones((2, 1)), X_new]\n",
        "y_predict = X_new_b.dot(theta_best)\n",
        "y_predict"
      ],
      "execution_count": 18,
      "outputs": [
        {
          "output_type": "execute_result",
          "data": {
            "text/plain": [
              "array([[ 4.47388681],\n",
              "       [10.44871071]])"
            ]
          },
          "metadata": {
            "tags": []
          },
          "execution_count": 18
        }
      ]
    },
    {
      "metadata": {
        "id": "k52KTEZRU6Hz",
        "colab_type": "code",
        "outputId": "f3fd3982-f515-4a84-8c9c-e028e70dca4e",
        "colab": {
          "base_uri": "https://localhost:8080/",
          "height": 347
        }
      },
      "cell_type": "code",
      "source": [
        "# Plot the model's prediction.\n",
        "\n",
        "plt.plot(X_new, y_predict, 'r-')\n",
        "plt.plot(X, y, 'b.')\n",
        "plt.axis([0, 2, 0, 15])\n",
        "plt.show()"
      ],
      "execution_count": 19,
      "outputs": [
        {
          "output_type": "display_data",
          "data": {
            "image/png": "[encoded data removed]",
            "text/plain": [
              "<Figure size 576x396 with 1 Axes>"
            ]
          },
          "metadata": {
            "tags": []
          }
        }
      ]
    },
    {
      "metadata": {
        "id": "L6pPdArTU6H3",
        "colab_type": "code",
        "outputId": "b70c4731-aee5-4b62-cb77-52dd6b212a92",
        "colab": {
          "base_uri": "https://localhost:8080/",
          "height": 68
        }
      },
      "cell_type": "code",
      "source": [
        "# Equivalent scikit-learn code, we see that we get the same results\n",
        "# as when we use the normal equation.\n",
        "\n",
        "from sklearn.linear_model import LinearRegression\n",
        "\n",
        "lin_reg = LinearRegression().fit(X, y)\n",
        "print(lin_reg.intercept_, lin_reg.coef_)\n",
        "print(lin_reg.predict(X_new))"
      ],
      "execution_count": 20,
      "outputs": [
        {
          "output_type": "stream",
          "text": [
            "[4.47388681] [[2.98741195]]\n",
            "[[ 4.47388681]\n",
            " [10.44871071]]\n"
          ],
          "name": "stdout"
        }
      ]
    },
    {
      "metadata": {
        "id": "8kiLLFnKU6H_",
        "colab_type": "text"
      },
      "cell_type": "markdown",
      "source": [
        "### Computational Complexity\n",
        "\n",
        "The normal equation computes the inverse of $\\mathbf{X}^T \\cdot \\mathbf{X}$, which is an $O(n^3)$ operation. This does not scale well for large datasets."
      ]
    },
    {
      "metadata": {
        "id": "rQanRxDxU6IA",
        "colab_type": "text"
      },
      "cell_type": "markdown",
      "source": [
        "## Gradient Descent\n",
        "\n",
        "### Batch Gradient Descent\n",
        "\n",
        "Gradient descent is the process of tweaking parameters slightly until a global minimum is found in the target space\n",
        "of the cost function.\n",
        "\n",
        "In the case of linear regression, the partial derivative of each parameter in $\\theta$ is\n",
        "\n",
        "$ \\large{\\frac{\\partial}{\\partial\\theta_j}}\\;MSE\\,(\\theta) =\n",
        "\\large{\\frac{2}{m}} \\sum\\limits_{i=1}^n \\left( \\theta^T\\cdot\\mathbf{x}^{(i)} \\right) x^{(i)}_j. $\n",
        "\n",
        "The gradient of the cost function is given by\n",
        "\n",
        "$ \\nabla_{\\theta}\\;MSE\\,(\\theta) = \\large{\\frac{2}{n}} \\mathbf{X}^T \\cdot (\\mathbf{X} \\cdot \\theta - y). $\n",
        "\n",
        "The gradient vector points in the direction of most change in the positive direction, so one iteration of\n",
        "gradient descent is computed as\n",
        "\n",
        "$ \\theta^{(\\text{next step})} = \\theta - \\eta \\, \\nabla_{\\theta}\\;MSE\\,(\\theta) $\\\n",
        "\n",
        "where $\\eta$ is the <i>learning rate</i> of the algorithm."
      ]
    },
    {
      "metadata": {
        "id": "VEzgETObU6IE",
        "colab_type": "code",
        "outputId": "23cb0c5f-16d3-4411-cec7-cc920437af5d",
        "colab": {
          "base_uri": "https://localhost:8080/",
          "height": 51
        }
      },
      "cell_type": "code",
      "source": [
        "# An implmentation of gradient descent. As we can see the result is the same as when\n",
        "# we used the normal equation.\n",
        "\n",
        "eta = 0.1  # learning rate\n",
        "n_iterations = 1000\n",
        "m = 100\n",
        "\n",
        "theta = np.random.randn(2, 1)\n",
        "\n",
        "for _ in range(n_iterations):\n",
        "    gradients = (2 / m) * X_b.T.dot(X_b.dot(theta) - y)\n",
        "    theta = theta - (eta * gradients)\n",
        "    \n",
        "print(theta)"
      ],
      "execution_count": 21,
      "outputs": [
        {
          "output_type": "stream",
          "text": [
            "[[4.47388681]\n",
            " [2.98741195]]\n"
          ],
          "name": "stdout"
        }
      ]
    },
    {
      "metadata": {
        "id": "IIBESJxrU6IH",
        "colab_type": "text"
      },
      "cell_type": "markdown",
      "source": [
        "### Stochastic Gradient Descent\n",
        "\n",
        "Batch gradient descent can be inefficient since it uses all values in the training set at each step to compute\n",
        "the gradient, thereby making it an $O(n^2)$ operation. It also has trouble escaping from global minima.\n",
        "\n",
        "An alternative is stochastic gradient descent, which picks a single point randomly and computes the gradient using\n",
        "that one point."
      ]
    },
    {
      "metadata": {
        "id": "79OWduGXU6IL",
        "colab_type": "code",
        "colab": {
          "base_uri": "https://localhost:8080/",
          "height": 51
        },
        "outputId": "9a487209-bc1c-4c1a-b09b-eee62870fd24"
      },
      "cell_type": "code",
      "source": [
        "# Implementation of stochastic gradient descent.\n",
        "\n",
        "n_epochs = 50\n",
        "t0, t1 = 5, 50\n",
        "\n",
        "def learning_schedule(t):\n",
        "  return t0 / (t + t1)\n",
        "\n",
        "n = len(X)\n",
        "theta = np.random.randn(2, 1)\n",
        "\n",
        "for epoch in range(n_epochs):\n",
        "  for i in range(n):\n",
        "    random_index = np.random.randint(n)\n",
        "    xi = X_b[random_index:random_index+1]\n",
        "    yi = y[random_index:random_index+1]\n",
        "    gradients = 2 * xi.T.dot(xi.dot(theta) - yi)\n",
        "    eta = learning_schedule(epoch * m + i)\n",
        "    theta -= eta * gradients\n",
        "    \n",
        "print(theta)"
      ],
      "execution_count": 22,
      "outputs": [
        {
          "output_type": "stream",
          "text": [
            "[[4.48062551]\n",
            " [2.99166381]]\n"
          ],
          "name": "stdout"
        }
      ]
    },
    {
      "metadata": {
        "id": "rE9HW5uYXfOq",
        "colab_type": "code",
        "colab": {
          "base_uri": "https://localhost:8080/",
          "height": 34
        },
        "outputId": "a40eac46-f971-4c7e-dd87-bb0a87fa663d"
      },
      "cell_type": "code",
      "source": [
        "# Scikit-Learn's SGDRegressor implements this algorithm.\n",
        "\n",
        "from sklearn.linear_model import SGDRegressor\n",
        "\n",
        "sgd_reg = SGDRegressor(max_iter=50, penalty=None, eta0=0.1, tol=1e-3)\n",
        "sgd_reg.fit(X, y.ravel())\n",
        "\n",
        "print(sgd_reg.intercept_, sgd_reg.coef_)"
      ],
      "execution_count": 23,
      "outputs": [
        {
          "output_type": "stream",
          "text": [
            "[4.43953585] [2.9829115]\n"
          ],
          "name": "stdout"
        }
      ]
    },
    {
      "metadata": {
        "id": "rGMI8_8kYsOu",
        "colab_type": "text"
      },
      "cell_type": "markdown",
      "source": [
        "### Mini-batch Gradient Descent\n",
        "\n",
        "This algorithm computes the gradient using randomly selected samples from the training set, i.e. \"mini-batches.\" This has an advantage over stochastic gradient descent because the matrix multiplication can be improved using optimized hardware.\n",
        "\n",
        "## Polynomial Regression"
      ]
    },
    {
      "metadata": {
        "id": "P_p6aps3ZxPx",
        "colab_type": "code",
        "colab": {
          "base_uri": "https://localhost:8080/",
          "height": 347
        },
        "outputId": "40fc5eb3-0ef4-460a-a51b-20b7db8452c2"
      },
      "cell_type": "code",
      "source": [
        "# Generate nonlinear data using a simple quadratic equation.\n",
        "\n",
        "m = 100\n",
        "X = 6 * np.random.rand(m, 1) - 3\n",
        "y = 0.5 * X ** 2 + X + 2 + np.random.randn(m, 1)\n",
        "\n",
        "plt.scatter(X, y)\n",
        "plt.show()"
      ],
      "execution_count": 24,
      "outputs": [
        {
          "output_type": "display_data",
          "data": {
            "image/png": "[encoded data removed]",
            "text/plain": [
              "<Figure size 576x396 with 1 Axes>"
            ]
          },
          "metadata": {
            "tags": []
          }
        }
      ]
    },
    {
      "metadata": {
        "id": "wKiYIWnUaYmp",
        "colab_type": "code",
        "colab": {
          "base_uri": "https://localhost:8080/",
          "height": 51
        },
        "outputId": "69a33f25-2468-4fd5-e5f2-87c7b2fd6abc"
      },
      "cell_type": "code",
      "source": [
        "# Using Scikit-Learn's PolynomialFeatures transformer to add the 2nd degree of\n",
        "# the polynomial in the feature set as a new feature\n",
        "\n",
        "from sklearn.preprocessing import PolynomialFeatures\n",
        "\n",
        "poly_features = PolynomialFeatures(degree=2, include_bias=False)\n",
        "X_poly = poly_features.fit_transform(X)\n",
        "print(X[0])\n",
        "print(X_poly[0])"
      ],
      "execution_count": 26,
      "outputs": [
        {
          "output_type": "stream",
          "text": [
            "[1.30594537]\n",
            "[1.30594537 1.7054933 ]\n"
          ],
          "name": "stdout"
        }
      ]
    },
    {
      "metadata": {
        "id": "3FY3NiZ4bLO1",
        "colab_type": "code",
        "colab": {
          "base_uri": "https://localhost:8080/",
          "height": 34
        },
        "outputId": "8598d7a7-cee3-45b0-9013-a0b88ed0eeaa"
      },
      "cell_type": "code",
      "source": [
        "# Now we are able to use the LinearRegressor to predict the data.\n",
        "\n",
        "lin_reg = LinearRegression()\n",
        "lin_reg.fit(X_poly, y)\n",
        "lin_reg.intercept_, lin_reg.coef_"
      ],
      "execution_count": 29,
      "outputs": [
        {
          "output_type": "execute_result",
          "data": {
            "text/plain": [
              "(array([1.74410345]), array([[1.07881089, 0.53263159]]))"
            ]
          },
          "metadata": {
            "tags": []
          },
          "execution_count": 29
        }
      ]
    }
  ]
}