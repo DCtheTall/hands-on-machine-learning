{
  "nbformat": 4,
  "nbformat_minor": 0,
  "metadata": {
    "colab": {
      "name": "Copy of TrainingModels.ipynb",
      "version": "0.3.2",
      "provenance": [],
      "collapsed_sections": []
    },
    "kernelspec": {
      "display_name": "Python 3",
      "language": "python",
      "name": "python3"
    }
  },
  "cells": [
    {
      "metadata": {
        "id": "_gNIrgkGU6Hc",
        "colab_type": "text"
      },
      "cell_type": "markdown",
      "source": [
        "# Chapter 4: Training Models\n",
        "\n",
        "## Linear Regression\n",
        "\n",
        "The goal of a linear regression model is given a training set $\\mathbf{X}$ of <i>n</i>-dimensional input vectors\n",
        "$\\mathbf{x}^{(i)}$, we want to find an <i>n</i>-dimensional vector $\\theta$ that minimizes\n",
        "\n",
        "$ MSE\\,(\\mathbf{X}, h_{\\theta}) =\n",
        "\\large{\\frac{1}{n}}\\sum\\limits_{i=1}^n \\left( \\theta^T \\cdot \\mathbf{x}^{(i)} - y^{(i)} \\right)^2 $\n",
        "\n",
        "where $MSE$ is the mean squared error of the training set."
      ]
    },
    {
      "metadata": {
        "id": "yPcX0ca2U6Hg",
        "colab_type": "text"
      },
      "cell_type": "markdown",
      "source": [
        "### The Normal Equation\n",
        "\n",
        "One way to find $\\theta$ is to use the <i>normal equation</i>:\n",
        "\n",
        "$\\hat{\\theta} = \\left( \\mathbf{X}^T \\cdot \\mathbf{X} \\right)^{-1} \\cdot \\mathbf{X}^T \\cdot \\mathbf{y}$.\n",
        "\n",
        "The example below illustrates how this can equation can be used to train a linear regression model."
      ]
    },
    {
      "metadata": {
        "id": "iDzuESfcU6Hh",
        "colab_type": "code",
        "outputId": "2371e685-4618-4229-dd72-6b15162751a9",
        "colab": {
          "base_uri": "https://localhost:8080/",
          "height": 347
        }
      },
      "cell_type": "code",
      "source": [
        "import numpy as np\n",
        "import matplotlib.pyplot as plt\n",
        "\n",
        "X = 2 * np.random.rand(100, 1)\n",
        "y = 4 + 3 * X + np.random.rand(100, 1)\n",
        "\n",
        "plt.scatter(X, y)\n",
        "plt.show()"
      ],
      "execution_count": 0,
      "outputs": [
        {
          "output_type": "display_data",
          "data": {
            "image/png": "[encoded data removed]",
            "text/plain": [
              "<Figure size 576x396 with 1 Axes>"
            ]
          },
          "metadata": {
            "tags": []
          }
        }
      ]
    },
    {
      "metadata": {
        "id": "ZYFlhlv0U6Hq",
        "colab_type": "code",
        "outputId": "0b10b4a6-b9f4-4e17-9909-c7b6d176264c",
        "colab": {
          "base_uri": "https://localhost:8080/",
          "height": 51
        }
      },
      "cell_type": "code",
      "source": [
        "# Computing theta using the np.linalg module. It is not quite (4, 3) as we might\n",
        "# expect due to the noise.\n",
        "\n",
        "X_b = np.c_[np.ones((100, 1)), X] # add x0 = 1 to each instance.\n",
        "theta_best = np.linalg.inv(X_b.T.dot(X_b)).dot(X_b.T).dot(y)\n",
        "print(theta_best)"
      ],
      "execution_count": 4,
      "outputs": [
        {
          "output_type": "stream",
          "text": [
            "[[4.42475927]\n",
            " [3.02723605]]\n"
          ],
          "name": "stdout"
        }
      ]
    },
    {
      "metadata": {
        "id": "w2zCIXasU6Hv",
        "colab_type": "code",
        "outputId": "d508873c-a26f-4bd8-f99d-cfbb3b29324a",
        "colab": {
          "base_uri": "https://localhost:8080/",
          "height": 51
        }
      },
      "cell_type": "code",
      "source": [
        "# Making a prediction using the computed values of theta.\n",
        "\n",
        "X_new = np.array([[0], [2]])\n",
        "X_new_b = np.c_[np.ones((2, 1)), X_new]\n",
        "y_predict = X_new_b.dot(theta_best)\n",
        "y_predict"
      ],
      "execution_count": 5,
      "outputs": [
        {
          "output_type": "execute_result",
          "data": {
            "text/plain": [
              "array([[ 4.42475927],\n",
              "       [10.47923138]])"
            ]
          },
          "metadata": {
            "tags": []
          },
          "execution_count": 5
        }
      ]
    },
    {
      "metadata": {
        "id": "k52KTEZRU6Hz",
        "colab_type": "code",
        "outputId": "5b232a0d-3d11-47ea-b66a-495d83b684f3",
        "colab": {
          "base_uri": "https://localhost:8080/",
          "height": 347
        }
      },
      "cell_type": "code",
      "source": [
        "# Plot the model's prediction.\n",
        "\n",
        "plt.plot(X_new, y_predict, 'r-')\n",
        "plt.plot(X, y, 'b.')\n",
        "plt.axis([0, 2, 0, 15])\n",
        "plt.show()"
      ],
      "execution_count": 6,
      "outputs": [
        {
          "output_type": "display_data",
          "data": {
            "image/png": "[encoded data removed]",
            "text/plain": [
              "<Figure size 576x396 with 1 Axes>"
            ]
          },
          "metadata": {
            "tags": []
          }
        }
      ]
    },
    {
      "metadata": {
        "id": "L6pPdArTU6H3",
        "colab_type": "code",
        "outputId": "6dd4bd4a-95bd-4e84-9649-5aecf3209757",
        "colab": {
          "base_uri": "https://localhost:8080/",
          "height": 68
        }
      },
      "cell_type": "code",
      "source": [
        "# Equivalent scikit-learn code, we see that we get the same results\n",
        "# as when we use the normal equation.\n",
        "\n",
        "from sklearn.linear_model import LinearRegression\n",
        "\n",
        "lin_reg = LinearRegression().fit(X, y)\n",
        "print(lin_reg.intercept_, lin_reg.coef_)\n",
        "print(lin_reg.predict(X_new))"
      ],
      "execution_count": 7,
      "outputs": [
        {
          "output_type": "stream",
          "text": [
            "[4.42475927] [[3.02723605]]\n",
            "[[ 4.42475927]\n",
            " [10.47923138]]\n"
          ],
          "name": "stdout"
        }
      ]
    },
    {
      "metadata": {
        "id": "8kiLLFnKU6H_",
        "colab_type": "text"
      },
      "cell_type": "markdown",
      "source": [
        "### Computational Complexity\n",
        "\n",
        "The normal equation computes the inverse of $\\mathbf{X}^T \\cdot \\mathbf{X}$, which is an $O(n^3)$ operation. This does not scale well for large datasets."
      ]
    },
    {
      "metadata": {
        "id": "rQanRxDxU6IA",
        "colab_type": "text"
      },
      "cell_type": "markdown",
      "source": [
        "## Gradient Descent\n",
        "\n",
        "### Batch Gradient Descent\n",
        "\n",
        "Gradient descent is the process of tweaking parameters slightly until a global minimum is found in the target space\n",
        "of the cost function.\n",
        "\n",
        "In the case of linear regression, the partial derivative of each parameter in $\\theta$ is\n",
        "\n",
        "$ \\large{\\frac{\\partial}{\\partial\\theta_j}}\\;MSE\\,(\\theta) =\n",
        "\\large{\\frac{2}{m}} \\sum\\limits_{i=1}^n \\left( \\theta^T\\cdot\\mathbf{x}^{(i)} \\right) x^{(i)}_j. $\n",
        "\n",
        "The gradient of the cost function is given by\n",
        "\n",
        "$ \\nabla_{\\theta}\\;MSE\\,(\\theta) = \\large{\\frac{2}{n}} \\mathbf{X}^T \\cdot (\\mathbf{X} \\cdot \\theta - y). $\n",
        "\n",
        "The gradient vector points in the direction of most change in the positive direction, so one iteration of\n",
        "gradient descent is computed as\n",
        "\n",
        "$ \\theta^{(\\text{next step})} = \\theta - \\eta \\, \\nabla_{\\theta}\\;MSE\\,(\\theta) $\\\n",
        "\n",
        "where $\\eta$ is the <i>learning rate</i> of the algorithm."
      ]
    },
    {
      "metadata": {
        "id": "VEzgETObU6IE",
        "colab_type": "code",
        "outputId": "67b44d03-c513-4834-fa7e-9465dec68b95",
        "colab": {
          "base_uri": "https://localhost:8080/",
          "height": 51
        }
      },
      "cell_type": "code",
      "source": [
        "# An implmentation of gradient descent. As we can see the result is the same as when\n",
        "# we used the normal equation.\n",
        "\n",
        "eta = 0.1  # learning rate\n",
        "n_iterations = 1000\n",
        "m = 100\n",
        "\n",
        "theta = np.random.randn(2, 1)\n",
        "\n",
        "for _ in range(n_iterations):\n",
        "    gradients = (2 / m) * X_b.T.dot(X_b.dot(theta) - y)\n",
        "    theta = theta - (eta * gradients)\n",
        "    \n",
        "print(theta)"
      ],
      "execution_count": 8,
      "outputs": [
        {
          "output_type": "stream",
          "text": [
            "[[4.42475927]\n",
            " [3.02723605]]\n"
          ],
          "name": "stdout"
        }
      ]
    },
    {
      "metadata": {
        "id": "IIBESJxrU6IH",
        "colab_type": "text"
      },
      "cell_type": "markdown",
      "source": [
        "### Stochastic Gradient Descent\n",
        "\n",
        "Batch gradient descent can be inefficient since it uses all values in the training set at each step to compute\n",
        "the gradient, thereby making it an $O(n^2)$ operation. It also has trouble escaping from global minima.\n",
        "\n",
        "An alternative is stochastic gradient descent, which picks a single point randomly and computes the gradient using\n",
        "that one point."
      ]
    },
    {
      "metadata": {
        "id": "79OWduGXU6IL",
        "colab_type": "code",
        "colab": {}
      },
      "cell_type": "code",
      "source": [
        ""
      ],
      "execution_count": 0,
      "outputs": []
    }
  ]
}