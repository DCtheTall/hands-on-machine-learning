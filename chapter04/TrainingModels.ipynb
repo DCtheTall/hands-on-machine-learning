{
 "cells": [
  {
   "cell_type": "markdown",
   "metadata": {},
   "source": [
    "# Chapter 4: Training Models\n",
    "\n",
    "## Linear Regression\n",
    "\n",
    "The goal of a linear regression model is given a training set $\\mathbf{X}$ of <i>n</i>-dimensional input vectors\n",
    "$\\mathbf{x}^{(i)}$, we want to find an <i>n</i>-dimensional vector $\\theta$ that minimizes\n",
    "\n",
    "$ MSE\\,(\\mathbf{X}, h_{\\theta}) =\n",
    "\\large{\\frac{1}{n}}\\sum\\limits_{i=1}^n \\left( \\theta^T \\cdot \\mathbf{x}^{(i)} - y^{(i)} \\right)^2 $\n",
    "\n",
    "where $MSE$ is the mean squared error of the training set."
   ]
  },
  {
   "cell_type": "markdown",
   "metadata": {},
   "source": [
    "### The Normal Equation\n",
    "\n",
    "One way to find $\\theta$ is to use the <i>normal equation</i>:\n",
    "\n",
    "$\\hat{\\theta} = \\left( \\mathbf{X}^T \\cdot \\mathbf{X} \\right)^{-1} \\cdot \\mathbf{X}^T \\cdot \\mathbf{y}$.\n",
    "\n",
    "The example below illustrates how this can equation can be used to train a linear regression model."
   ]
  },
  {
   "cell_type": "code",
   "execution_count": 11,
   "metadata": {},
   "outputs": [
    {
     "data": {
      "image/png": "[encoded data removed]",
      "text/plain": [
       "<Figure size 432x288 with 1 Axes>"
      ]
     },
     "metadata": {
      "needs_background": "light"
     },
     "output_type": "display_data"
    }
   ],
   "source": [
    "import numpy as np\n",
    "import matplotlib.pyplot as plt\n",
    "\n",
    "X = 2 * np.random.rand(100, 1)\n",
    "y = 4 + 3 * X + np.random.rand(100, 1)\n",
    "\n",
    "plt.scatter(X, y)\n",
    "plt.show()"
   ]
  },
  {
   "cell_type": "code",
   "execution_count": 12,
   "metadata": {},
   "outputs": [
    {
     "name": "stdout",
     "output_type": "stream",
     "text": [
      "[[4.49233103]\n",
      " [3.02925674]]\n"
     ]
    }
   ],
   "source": [
    "# Computing theta using the np.linalg module. It is not quite (4, 3) as we might\n",
    "# expect due to the noise.\n",
    "\n",
    "X_b = np.c_[np.ones((100, 1)), X] # add x0 = 1 to each instance.\n",
    "theta_best = np.linalg.inv(X_b.T.dot(X_b)).dot(X_b.T).dot(y)\n",
    "print(theta_best)"
   ]
  },
  {
   "cell_type": "code",
   "execution_count": 13,
   "metadata": {},
   "outputs": [
    {
     "data": {
      "text/plain": [
       "array([[ 4.49233103],\n",
       "       [10.5508445 ]])"
      ]
     },
     "execution_count": 13,
     "metadata": {},
     "output_type": "execute_result"
    }
   ],
   "source": [
    "# Making a prediction using the computed values of theta.\n",
    "\n",
    "X_new = np.array([[0], [2]])\n",
    "X_new_b = np.c_[np.ones((2, 1)), X_new]\n",
    "y_predict = X_new_b.dot(theta_best)\n",
    "y_predict"
   ]
  },
  {
   "cell_type": "code",
   "execution_count": 14,
   "metadata": {},
   "outputs": [
    {
     "data": {
      "image/png": "[encoded data removed]",
      "text/plain": [
       "<Figure size 432x288 with 1 Axes>"
      ]
     },
     "metadata": {
      "needs_background": "light"
     },
     "output_type": "display_data"
    }
   ],
   "source": [
    "# Plot the model's prediction.\n",
    "\n",
    "plt.plot(X_new, y_predict, 'r-')\n",
    "plt.plot(X, y, 'b.')\n",
    "plt.axis([0, 2, 0, 15])\n",
    "plt.show()"
   ]
  },
  {
   "cell_type": "code",
   "execution_count": 19,
   "metadata": {},
   "outputs": [
    {
     "name": "stdout",
     "output_type": "stream",
     "text": [
      "[4.49233103] [[3.02925674]]\n",
      "[[ 4.49233103]\n",
      " [10.5508445 ]]\n"
     ]
    }
   ],
   "source": [
    "# Equivalent scikit-learn code, we see that we get the same results\n",
    "# as when we use the normal equation.\n",
    "\n",
    "from sklearn.linear_model import LinearRegression\n",
    "\n",
    "lin_reg = LinearRegression().fit(X, y)\n",
    "print(lin_reg.intercept_, lin_reg.coef_)\n",
    "print(lin_reg.predict(X_new))"
   ]
  },
  {
   "cell_type": "markdown",
   "metadata": {},
   "source": [
    "### Computational Complexity\n",
    "\n",
    "The normal equation computes the inverse of $\\mathbf{X}^T \\cdot \\mathbf{X}$, which is an $O(n^3)$ operation. This does not scale well for large datasets."
   ]
  },
  {
   "cell_type": "markdown",
   "metadata": {},
   "source": [
    "## Gradient Descent\n",
    "\n",
    "### Batch Gradient Descent\n",
    "\n",
    "Gradient descent is the process of tweaking parameters slightly until a global minimum is found in the target space\n",
    "of the cost function.\n",
    "\n",
    "In the case of linear regression, the partial derivative of each parameter in $\\theta$ is\n",
    "\n",
    "$ \\large{\\frac{\\partial}{\\partial\\theta_j}}\\;MSE\\,(\\theta) =\n",
    "\\large{\\frac{2}{m}} \\sum\\limits_{i=1}^n \\left( \\theta^T\\cdot\\mathbf{x}^{(i)} \\right) x^{(i)}_j. $\n",
    "\n",
    "The gradient of the cost function is given by\n",
    "\n",
    "$ \\nabla_{\\theta}\\;MSE\\,(\\theta) = \\large{\\frac{2}{n}} \\mathbf{X}^T \\cdot (\\mathbf{X} \\cdot \\theta - y). $\n",
    "\n",
    "The gradient vector points in the direction of most change in the positive direction, so one iteration of\n",
    "gradient descent is computed as\n",
    "\n",
    "$ \\theta^{(\\text{next step})} = \\theta - \\eta \\, \\nabla_{\\theta}\\;MSE\\,(\\theta) $\\\n",
    "\n",
    "where $\\eta$ is the <i>learning rate</i> of the algorithm."
   ]
  },
  {
   "cell_type": "code",
   "execution_count": 21,
   "metadata": {},
   "outputs": [
    {
     "name": "stdout",
     "output_type": "stream",
     "text": [
      "[[4.49233103]\n",
      " [3.02925674]]\n"
     ]
    }
   ],
   "source": [
    "# An implmentation of gradient descent. As we can see the result is the same as when\n",
    "# we used the normal equation.\n",
    "\n",
    "eta = 0.1  # learning rate\n",
    "n_iterations = 1000\n",
    "m = 100\n",
    "\n",
    "theta = np.random.randn(2, 1)\n",
    "\n",
    "for _ in range(n_iterations):\n",
    "    gradients = (2 / m) * X_b.T.dot(X_b.dot(theta) - y)\n",
    "    theta = theta - (eta * gradients)\n",
    "    \n",
    "print(theta)"
   ]
  },
  {
   "cell_type": "markdown",
   "metadata": {},
   "source": [
    "### Stochastic Gradient Descent\n",
    "\n",
    "Batch gradient descent can be inefficient since it uses all values in the training set at each step to compute\n",
    "the gradient, thereby making it an $O(n^2)$ operation. It also has trouble escaping from global minima.\n",
    "\n",
    "An alternative is stochastic gradient descent, which picks a single point randomly and computes the gradient using\n",
    "that one point."
   ]
  },
  {
   "cell_type": "code",
   "execution_count": null,
   "metadata": {},
   "outputs": [],
   "source": []
  }
 ],
 "metadata": {
  "kernelspec": {
   "display_name": "Python 3",
   "language": "python",
   "name": "python3"
  },
  "language_info": {
   "codemirror_mode": {
    "name": "ipython",
    "version": 3
   },
   "file_extension": ".py",
   "mimetype": "text/x-python",
   "name": "python",
   "nbconvert_exporter": "python",
   "pygments_lexer": "ipython3",
   "version": "3.7.2"
  }
 },
 "nbformat": 4,
 "nbformat_minor": 2
}
