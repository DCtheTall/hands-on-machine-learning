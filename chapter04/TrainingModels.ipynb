{
  "nbformat": 4,
  "nbformat_minor": 0,
  "metadata": {
    "colab": {
      "name": "TrainingModels.ipynb",
      "version": "0.3.2",
      "provenance": [],
      "collapsed_sections": []
    },
    "kernelspec": {
      "display_name": "Python 3",
      "language": "python",
      "name": "python3"
    }
  },
  "cells": [
    {
      "cell_type": "markdown",
      "metadata": {
        "colab_type": "text",
        "id": "_gNIrgkGU6Hc"
      },
      "source": [
        "# Chapter 4: Training Models\n",
        "\n",
        "## Linear Regression\n",
        "\n",
        "The goal of a linear regression model is given a training set $\\mathbf{X}$ of <i>n</i>-dimensional input vectors\n",
        "$\\mathbf{x}^{(i)}$, we want to find an <i>n</i>-dimensional vector $\\theta$ that minimizes\n",
        "\n",
        "$ MSE\\,(\\mathbf{X}, h_{\\theta}) =\n",
        " \\frac{1}{n}\\sum\\limits_{i=1}^n \\left( \\theta^T \\cdot \\mathbf{x}^{(i)} - y^{(i)} \\right)^2 $\n",
        "\n",
        "where $MSE$ is the mean squared error of the training set."
      ]
    },
    {
      "cell_type": "markdown",
      "metadata": {
        "colab_type": "text",
        "id": "yPcX0ca2U6Hg"
      },
      "source": [
        "### The Normal Equation\n",
        "\n",
        "One way to find $\\theta$ is to use the <i>normal equation</i>:\n",
        "\n",
        "$\\hat{\\theta} = \\left( \\mathbf{X}^T \\cdot \\mathbf{X} \\right)^{-1} \\cdot \\mathbf{X}^T \\cdot \\mathbf{y}.$\n",
        "\n",
        "The example below illustrates how this can equation can be used to train a linear regression model."
      ]
    },
    {
      "cell_type": "code",
      "metadata": {
        "colab_type": "code",
        "id": "iDzuESfcU6Hh",
        "outputId": "3c9e91d3-8a33-4783-cc7e-0f7900a7d29c",
        "colab": {
          "base_uri": "https://localhost:8080/",
          "height": 347
        }
      },
      "source": [
        "import numpy as np\n",
        "import matplotlib.pyplot as plt\n",
        "\n",
        "X = 2 * np.random.rand(100, 1)\n",
        "y = 4 + 3 * X + np.random.rand(100, 1)\n",
        "\n",
        "plt.scatter(X, y)\n",
        "plt.show()"
      ],
      "execution_count": 0,
      "outputs": [
        {
          "output_type": "display_data",
          "data": {
            "image/png": "[encoded data removed]",
            "text/plain": [
              "<Figure size 576x396 with 1 Axes>"
            ]
          },
          "metadata": {
            "tags": []
          }
        }
      ]
    },
    {
      "cell_type": "code",
      "metadata": {
        "colab_type": "code",
        "id": "ZYFlhlv0U6Hq",
        "outputId": "3f18b6e8-faaf-40e1-b65e-d62832a2a6ac",
        "colab": {
          "base_uri": "https://localhost:8080/",
          "height": 51
        }
      },
      "source": [
        "# Computing theta using the np.linalg module. It is not quite (4, 3) as we might\n",
        "# expect due to the noise.\n",
        "\n",
        "X_b = np.c_[np.ones((100, 1)), X] # add x0 = 1 to each instance.\n",
        "theta_best = np.linalg.inv(X_b.T.dot(X_b)).dot(X_b.T).dot(y)\n",
        "print(theta_best)"
      ],
      "execution_count": 0,
      "outputs": [
        {
          "output_type": "stream",
          "text": [
            "[[4.61142034]\n",
            " [2.93287934]]\n"
          ],
          "name": "stdout"
        }
      ]
    },
    {
      "cell_type": "code",
      "metadata": {
        "colab_type": "code",
        "id": "w2zCIXasU6Hv",
        "outputId": "4bb9e4bd-969d-4ab0-adf5-2d476f422db1",
        "colab": {
          "base_uri": "https://localhost:8080/",
          "height": 51
        }
      },
      "source": [
        "# Making a prediction using the computed values of theta.\n",
        "\n",
        "X_new = np.array([[0], [2]])\n",
        "X_new_b = np.c_[np.ones((2, 1)), X_new]\n",
        "y_predict = X_new_b.dot(theta_best)\n",
        "y_predict"
      ],
      "execution_count": 0,
      "outputs": [
        {
          "output_type": "execute_result",
          "data": {
            "text/plain": [
              "array([[ 4.61142034],\n",
              "       [10.47717902]])"
            ]
          },
          "metadata": {
            "tags": []
          },
          "execution_count": 3
        }
      ]
    },
    {
      "cell_type": "code",
      "metadata": {
        "colab_type": "code",
        "id": "k52KTEZRU6Hz",
        "outputId": "32ae8f9a-07fe-48c3-c847-85d4483d7d72",
        "colab": {
          "base_uri": "https://localhost:8080/",
          "height": 347
        }
      },
      "source": [
        "# Plot the model's prediction.\n",
        "\n",
        "plt.plot(X_new, y_predict, 'r-')\n",
        "plt.plot(X, y, 'b.')\n",
        "plt.axis([0, 2, 0, 15])\n",
        "plt.show()"
      ],
      "execution_count": 0,
      "outputs": [
        {
          "output_type": "display_data",
          "data": {
            "image/png": "[encoded data removed]",
            "text/plain": [
              "<Figure size 576x396 with 1 Axes>"
            ]
          },
          "metadata": {
            "tags": []
          }
        }
      ]
    },
    {
      "cell_type": "code",
      "metadata": {
        "colab_type": "code",
        "id": "L6pPdArTU6H3",
        "outputId": "b36115b4-2368-4780-d2c1-5ebcbeac72dc",
        "colab": {
          "base_uri": "https://localhost:8080/",
          "height": 68
        }
      },
      "source": [
        "# Equivalent scikit-learn code, we see that we get the same results\n",
        "# as when we use the normal equation.\n",
        "\n",
        "from sklearn.linear_model import LinearRegression\n",
        "\n",
        "lin_reg = LinearRegression().fit(X, y)\n",
        "print(lin_reg.intercept_, lin_reg.coef_)\n",
        "print(lin_reg.predict(X_new))"
      ],
      "execution_count": 0,
      "outputs": [
        {
          "output_type": "stream",
          "text": [
            "[4.61142034] [[2.93287934]]\n",
            "[[ 4.61142034]\n",
            " [10.47717902]]\n"
          ],
          "name": "stdout"
        }
      ]
    },
    {
      "cell_type": "markdown",
      "metadata": {
        "colab_type": "text",
        "id": "8kiLLFnKU6H_"
      },
      "source": [
        "### Computational Complexity\n",
        "\n",
        "The normal equation computes the inverse of $\\mathbf{X}^T \\cdot \\mathbf{X}$, which is an $O\\left(n^3\\right)$ operation. This does not scale well for large datasets."
      ]
    },
    {
      "cell_type": "markdown",
      "metadata": {
        "colab_type": "text",
        "id": "rQanRxDxU6IA"
      },
      "source": [
        "## Gradient Descent\n",
        "\n",
        "### Batch Gradient Descent\n",
        "\n",
        "Gradient descent is the process of tweaking parameters slightly until a global minimum is found in the target space\n",
        "of the cost function.\n",
        "\n",
        "In the case of linear regression, the partial derivative of each parameter in $\\theta$ is\n",
        "\n",
        "$ \\frac{\\partial}{\\partial\\theta_j}\\;MSE\\,(\\theta) =\n",
        "\\frac{2}{m} \\sum\\limits_{i=1}^m \\left( \\theta^T\\cdot\\mathbf{x}^{(i)} \\right) x^{(i)}_j. $\n",
        "\n",
        "The gradient of the cost function is given by\n",
        "\n",
        "$ \\nabla_{\\theta}\\;MSE\\,(\\theta) = \\frac{2}{m} \\; \\mathbf{X}^T \\cdot (\\mathbf{X} \\cdot \\theta - y). $\n",
        "\n",
        "The gradient vector points in the direction of most change in the positive direction, so one iteration of\n",
        "gradient descent is computed as\n",
        "\n",
        "$ \\theta^{(\\text{next step})} = \\theta - \\eta \\, \\nabla_{\\theta}\\;MSE\\,(\\theta) $\n",
        "\n",
        "where $\\eta$ is the <i>learning rate</i> of the algorithm."
      ]
    },
    {
      "cell_type": "code",
      "metadata": {
        "colab_type": "code",
        "id": "VEzgETObU6IE",
        "outputId": "a3afa32b-8f6b-4bb5-8b2c-20273988903c",
        "colab": {
          "base_uri": "https://localhost:8080/",
          "height": 51
        }
      },
      "source": [
        "# An implmentation of gradient descent. As we can see the result is the same as when\n",
        "# we used the normal equation.\n",
        "\n",
        "eta = 0.1  # learning rate\n",
        "n_iterations = 1000\n",
        "m = 100\n",
        "\n",
        "theta = np.random.randn(2, 1)\n",
        "\n",
        "for _ in range(n_iterations):\n",
        "    gradients = (2. / m) * X_b.T.dot(X_b.dot(theta) - y)\n",
        "    theta = theta - (eta * gradients)\n",
        "    \n",
        "print(theta)"
      ],
      "execution_count": 0,
      "outputs": [
        {
          "output_type": "stream",
          "text": [
            "[[4.61142034]\n",
            " [2.93287934]]\n"
          ],
          "name": "stdout"
        }
      ]
    },
    {
      "cell_type": "markdown",
      "metadata": {
        "colab_type": "text",
        "id": "IIBESJxrU6IH"
      },
      "source": [
        "### Stochastic Gradient Descent\n",
        "\n",
        "Batch gradient descent can be inefficient since it uses all values in the training set at each step to compute\n",
        "the gradient, thereby making it an $O\\left(n^2\\right)$ operation. It also has trouble escaping from global minima.\n",
        "\n",
        "An alternative is stochastic gradient descent, which picks a single point randomly and computes the gradient using\n",
        "that one point."
      ]
    },
    {
      "cell_type": "code",
      "metadata": {
        "colab_type": "code",
        "id": "79OWduGXU6IL",
        "outputId": "2e2dc0fc-4ff7-4f81-8a50-f7c3998317fe",
        "colab": {
          "base_uri": "https://localhost:8080/",
          "height": 51
        }
      },
      "source": [
        "# Implementation of stochastic gradient descent.\n",
        "\n",
        "n_epochs = 50\n",
        "t0, t1 = 5, 50\n",
        "\n",
        "def learning_schedule(t):\n",
        "  return t0 / (t + t1)\n",
        "\n",
        "n = len(X)\n",
        "theta = np.random.randn(2, 1)\n",
        "\n",
        "for epoch in range(n_epochs):\n",
        "  for i in range(n):\n",
        "    random_index = np.random.randint(n)\n",
        "    xi = X_b[random_index:random_index+1]\n",
        "    yi = y[random_index:random_index+1]\n",
        "    gradients = 2 * xi.T.dot(xi.dot(theta) - yi)\n",
        "    eta = learning_schedule(epoch * m + i)\n",
        "    theta -= eta * gradients\n",
        "    \n",
        "print(theta)"
      ],
      "execution_count": 0,
      "outputs": [
        {
          "output_type": "stream",
          "text": [
            "[[4.61321616]\n",
            " [2.92290853]]\n"
          ],
          "name": "stdout"
        }
      ]
    },
    {
      "cell_type": "code",
      "metadata": {
        "colab_type": "code",
        "id": "rE9HW5uYXfOq",
        "outputId": "5bb994bf-3d7c-4171-c7bd-d382e2b3e430",
        "colab": {
          "base_uri": "https://localhost:8080/",
          "height": 34
        }
      },
      "source": [
        "# Scikit-Learn's SGDRegressor implements this algorithm.\n",
        "\n",
        "from sklearn.linear_model import SGDRegressor\n",
        "\n",
        "sgd_reg = SGDRegressor(max_iter=50, penalty=None, eta0=0.1, tol=1e-3)\n",
        "sgd_reg.fit(X, y.ravel())\n",
        "\n",
        "print(sgd_reg.intercept_, sgd_reg.coef_)"
      ],
      "execution_count": 0,
      "outputs": [
        {
          "output_type": "stream",
          "text": [
            "[4.6036031] [2.94116874]\n"
          ],
          "name": "stdout"
        }
      ]
    },
    {
      "cell_type": "markdown",
      "metadata": {
        "colab_type": "text",
        "id": "rGMI8_8kYsOu"
      },
      "source": [
        "### Mini-batch Gradient Descent\n",
        "\n",
        "This algorithm computes the gradient using randomly selected samples from the training set, i.e. \"mini-batches.\" This has an advantage over stochastic gradient descent because the matrix multiplication can be improved using optimized hardware.\n",
        "\n",
        "## Polynomial Regression"
      ]
    },
    {
      "cell_type": "code",
      "metadata": {
        "colab_type": "code",
        "id": "P_p6aps3ZxPx",
        "outputId": "df7a7417-4e3f-495a-ab5d-41f4adc91c02",
        "colab": {
          "base_uri": "https://localhost:8080/",
          "height": 347
        }
      },
      "source": [
        "# Generate nonlinear data using a simple quadratic equation.\n",
        "\n",
        "m = 100\n",
        "X = 6 * np.random.rand(m, 1) - 3\n",
        "y = 0.5 * X ** 2 + X + 2 + np.random.randn(m, 1)\n",
        "\n",
        "plt.scatter(X, y)\n",
        "plt.show()"
      ],
      "execution_count": 0,
      "outputs": [
        {
          "output_type": "display_data",
          "data": {
            "image/png": "[encoded data removed]",
            "text/plain": [
              "<Figure size 576x396 with 1 Axes>"
            ]
          },
          "metadata": {
            "tags": []
          }
        }
      ]
    },
    {
      "cell_type": "code",
      "metadata": {
        "colab_type": "code",
        "id": "wKiYIWnUaYmp",
        "outputId": "a735de68-eef8-49e9-fc19-eeea968d84cf",
        "colab": {
          "base_uri": "https://localhost:8080/",
          "height": 51
        }
      },
      "source": [
        "# Using Scikit-Learn's PolynomialFeatures transformer to add the 2nd degree of\n",
        "# the polynomial in the feature set as a new feature\n",
        "\n",
        "from sklearn.preprocessing import PolynomialFeatures\n",
        "\n",
        "poly_features = PolynomialFeatures(degree=2, include_bias=False)\n",
        "X_poly = poly_features.fit_transform(X)\n",
        "print(X[0])\n",
        "print(X_poly[0])"
      ],
      "execution_count": 0,
      "outputs": [
        {
          "output_type": "stream",
          "text": [
            "[-0.95188998]\n",
            "[-0.95188998  0.90609453]\n"
          ],
          "name": "stdout"
        }
      ]
    },
    {
      "cell_type": "code",
      "metadata": {
        "colab_type": "code",
        "id": "3FY3NiZ4bLO1",
        "outputId": "52ac54ff-c9e2-48f9-87d5-c4b9f5458ed9",
        "colab": {
          "base_uri": "https://localhost:8080/",
          "height": 34
        }
      },
      "source": [
        "# Now we are able to use the LinearRegressor to predict the data.\n",
        "\n",
        "lin_reg = LinearRegression()\n",
        "lin_reg.fit(X_poly, y)\n",
        "lin_reg.intercept_, lin_reg.coef_"
      ],
      "execution_count": 0,
      "outputs": [
        {
          "output_type": "execute_result",
          "data": {
            "text/plain": [
              "(array([2.2832743]), array([[0.9682973, 0.4320871]]))"
            ]
          },
          "metadata": {
            "tags": []
          },
          "execution_count": 11
        }
      ]
    },
    {
      "cell_type": "markdown",
      "metadata": {
        "colab_type": "text",
        "id": "y52qUk3SEr-w"
      },
      "source": [
        "## Learning Curves"
      ]
    },
    {
      "cell_type": "code",
      "metadata": {
        "colab_type": "code",
        "id": "bC7V86DCEuBX",
        "colab": {}
      },
      "source": [
        "# The following code defines a function for plotting the learning curve of a\n",
        "# model, a plot of the performance of the model on the training and validation\n",
        "# set as a function of the training set size.\n",
        "\n",
        "from sklearn.metrics import mean_squared_error\n",
        "from sklearn.model_selection import train_test_split\n",
        "\n",
        "def plot_learning_curve(model, X, y):\n",
        "  X_train, X_val, y_train, y_val = train_test_split(X, y, test_size=0.2)\n",
        "  train_errors, val_errors = [], []\n",
        "  for m in range(1, len(X_train)):\n",
        "    model.fit(X_train[:m], y_train[:m])\n",
        "    y_train_predict = model.predict(X_train[:m])\n",
        "    y_val_predict = model.predict(X_val)\n",
        "    train_errors.append(mean_squared_error(y_train_predict, y_train[:m]))\n",
        "    val_errors.append(mean_squared_error(y_val_predict, y_val))\n",
        "  plt.plot(np.sqrt(train_errors), 'r-+', linewidth=2, label='train')\n",
        "  plt.plot(np.sqrt(val_errors), 'b-', linewidth=3, label='val')\n",
        "  plt.axis([0, 80, 0, 3])\n",
        "  plt.legend()\n",
        "  plt.show()"
      ],
      "execution_count": 0,
      "outputs": []
    },
    {
      "cell_type": "code",
      "metadata": {
        "colab_type": "code",
        "id": "jejFq0gWG_qA",
        "outputId": "8f2314f6-71d6-4f9e-b8d9-e7bc7e9b8d30",
        "colab": {
          "base_uri": "https://localhost:8080/",
          "height": 351
        }
      },
      "source": [
        "# Plotting the learning curve for linear regression. This is an example of\n",
        "# an underfitting model, they plateau at a high level.\n",
        "\n",
        "lin_reg = LinearRegression()\n",
        "plot_learning_curve(lin_reg, X, y)"
      ],
      "execution_count": 0,
      "outputs": [
        {
          "output_type": "display_data",
          "data": {
            "image/png": "[encoded data removed]",
            "text/plain": [
              "<Figure size 576x396 with 1 Axes>"
            ]
          },
          "metadata": {
            "tags": []
          }
        }
      ]
    },
    {
      "cell_type": "code",
      "metadata": {
        "colab_type": "code",
        "id": "Qc28cwQbJFUU",
        "outputId": "425830ba-4903-4b81-db89-ca3483f875fc",
        "colab": {
          "base_uri": "https://localhost:8080/",
          "height": 351
        }
      },
      "source": [
        "# Plotting the learning curve of a 10 degree polynomial model. This\n",
        "# is an example of an overfitting model, since there is a large\n",
        "# gap between the training set error and the validation set error.\n",
        "\n",
        "from sklearn.pipeline import Pipeline\n",
        "\n",
        "poly_regression = Pipeline([\n",
        "    ('poly_features', PolynomialFeatures(degree=10, include_bias=False)),\n",
        "    ('lin_reg', LinearRegression()),\n",
        "])\n",
        "\n",
        "plot_learning_curve(poly_regression, X, y)"
      ],
      "execution_count": 0,
      "outputs": [
        {
          "output_type": "display_data",
          "data": {
            "image/png": "[encoded data removed]",
            "text/plain": [
              "<Figure size 576x396 with 1 Axes>"
            ]
          },
          "metadata": {
            "tags": []
          }
        }
      ]
    },
    {
      "cell_type": "markdown",
      "metadata": {
        "colab_type": "text",
        "id": "KiuS0ip-NcNw"
      },
      "source": [
        "## Regularized Linear Models\n",
        "\n",
        "### Ridge Regression\n",
        "\n",
        "A form of regularized Linear Regression where the <i>regularization</i> term is given by\n",
        "\n",
        "$ \\alpha \\sum\\limits_{i=1}^n \\; \\theta_i^2 $,\n",
        "\n",
        "where $\\alpha$ is a configurable hyperparameter. If $\\alpha=0$ then the Ridge Regression becomes Linear Regression.\n",
        "The ridge regression cost function is\n",
        "\n",
        "$ J(\\theta) = MSE\\,(\\theta) + \\frac{\\alpha}{2} \\sum\\limits_{i=1}^n \\, \\theta_i^2 $.\n",
        "\n",
        "The Ridge Regression closed-form solution is given by\n",
        "\n",
        "$ \\hat{\\theta} =\n",
        "\\left( \\mathbf{X}^T \\cdot \\mathbf{X} + \\alpha\\mathbf{A} \\right)^{-1} \\cdot \\mathbf{X}^T \\cdot \\mathbf{y} $.\n",
        "\n",
        "where $\\mathbf{A}$ is the $n \\times n$ identity matrix."
      ]
    },
    {
      "cell_type": "code",
      "metadata": {
        "colab_type": "code",
        "id": "qqhG9-KLVzZG",
        "outputId": "73c2a706-6a8e-4d4d-ef31-3d144c1ae39e",
        "colab": {
          "base_uri": "https://localhost:8080/",
          "height": 34
        }
      },
      "source": [
        "# An implementation of Ridge Regression using the closed form solution.\n",
        "\n",
        "from sklearn.linear_model import Ridge\n",
        "\n",
        "ridge_reg = Ridge(alpha=1, solver='cholesky')\n",
        "ridge_reg.fit(X, y)\n",
        "ridge_reg.predict([[1.5]])"
      ],
      "execution_count": 0,
      "outputs": [
        {
          "output_type": "execute_result",
          "data": {
            "text/plain": [
              "array([[5.05600873]])"
            ]
          },
          "metadata": {
            "tags": []
          },
          "execution_count": 15
        }
      ]
    },
    {
      "cell_type": "code",
      "metadata": {
        "colab_type": "code",
        "id": "9tBpkD8JZyd3",
        "outputId": "9226dec3-6e82-4ce2-e0a1-87520d7dedf2",
        "colab": {
          "base_uri": "https://localhost:8080/",
          "height": 34
        }
      },
      "source": [
        "# You can also use Ridge Regression regularization when using Stochastic\n",
        "# Gradient Descent. It throws a warning but seems to work fine.\n",
        "\n",
        "import warnings\n",
        "\n",
        "warnings.filterwarnings(\"ignore\")\n",
        "sgd_reg = SGDRegressor(penalty='l2', max_iter=100, tol=1e-3)\n",
        "sgd_reg.fit(X, y)\n",
        "sgd_reg.predict([[1.5]])"
      ],
      "execution_count": 0,
      "outputs": [
        {
          "output_type": "execute_result",
          "data": {
            "text/plain": [
              "array([5.02961565])"
            ]
          },
          "metadata": {
            "tags": []
          },
          "execution_count": 17
        }
      ]
    },
    {
      "cell_type": "markdown",
      "metadata": {
        "colab_type": "text",
        "id": "8DGTIgvSA8z3"
      },
      "source": [
        "### Lasso Regression\n",
        "\n",
        "The Lasso Regression cost function is given by\n",
        "  \n",
        "$ J(\\theta) = MSE\\,(\\theta) \\, + \\sum\\limits_{i=1}^n\\left| \\theta_i \\right| $\n",
        "\n",
        "which is identical to the Ridge Regression cost function except it uses the $\\ell_1$ norm (Manhattan distance) instead of the $\\ell_2$ norm (Euclidean metric).\n",
        "\n",
        "The lasso cost function is sometimes non-differentiable because of the absolute value. Gradient descent still works if you use the <i>subgradient vector</i>, $\\mathbf{g}$, which is given by\n",
        "\n",
        "$ \\mathbf{g}\\,(\\theta, J) = \\nabla_\\theta MSE\\,(\\theta)\\; + \\alpha \\, \\left( \\begin{matrix} \\text{sign}\\,(\\theta_1) \\\\ \\text{sign}\\,(\\theta_2) \\\\ \\vdots \\\\ \\text{sign}\\,(\\theta_n) \\end{matrix} \\right) $\n",
        "\n",
        "where\n",
        "\n",
        "$ \\text{sign},(\\theta_i) = \\left\\{ \\begin{matrix} -1 \\; \\text{if} \\; \\theta_i < 0 \\\\ 0 \\; \\text{if} ; \\theta_i = 0 \\\\ 1 \\; \\text{if} \\; \\theta_i > 0 \\end{matrix} \\right. $"
      ]
    },
    {
      "cell_type": "code",
      "metadata": {
        "colab_type": "code",
        "id": "U6xqNsyjICeb",
        "outputId": "2fdc0435-183c-4c16-f371-71f09c297d68",
        "colab": {
          "base_uri": "https://localhost:8080/",
          "height": 34
        }
      },
      "source": [
        "# Lasso Regression is implemented by Scikit-Learn\n",
        "\n",
        "from sklearn.linear_model import Lasso\n",
        "\n",
        "lasso_reg = Lasso(alpha=0.1)\n",
        "lasso_reg.fit(X, y)\n",
        "lasso_reg.predict([[1.5]])"
      ],
      "execution_count": 0,
      "outputs": [
        {
          "output_type": "execute_result",
          "data": {
            "text/plain": [
              "array([5.00879813])"
            ]
          },
          "metadata": {
            "tags": []
          },
          "execution_count": 18
        }
      ]
    },
    {
      "cell_type": "markdown",
      "metadata": {
        "colab_type": "text",
        "id": "naPPzSjTH08A"
      },
      "source": [
        "### Elastic Net\n",
        "\n",
        "The cost function of Elastic Net is given by\n",
        "\n",
        "$ J(\\theta) = MSE\\,(\\theta) \\; + \\; r\\alpha \\sum\\limits_{i=1}^n \n",
        "\\left| \\theta_i \\right| \\; + \\; \\frac{\\alpha\\,(1-r)}{2}\n",
        "\\sum\\limits_{i=1}^n \\theta_i^{\\;2} $\n",
        "\n",
        "where $r$ is a mix ratio and can range from 0 to 1. Elastic Net can be preferable to Lasso Regression due to the fact that Lasso Regression behaves eratically when the number of features is greater than the number of samples in the training set or when features are strongly correlated."
      ]
    },
    {
      "cell_type": "code",
      "metadata": {
        "colab_type": "code",
        "id": "q8vxhM0kKFFM",
        "outputId": "f611ef66-2210-4880-d16f-1ab2495d0a35",
        "colab": {
          "base_uri": "https://localhost:8080/",
          "height": 34
        }
      },
      "source": [
        "# Scikit-Learn implements Elastic Net\n",
        "\n",
        "from sklearn.linear_model import ElasticNet\n",
        "\n",
        "elastic_net = ElasticNet(alpha=0.2, l1_ratio=0.5)\n",
        "elastic_net.fit(X, y)\n",
        "elastic_net.predict([[1.5]])"
      ],
      "execution_count": 0,
      "outputs": [
        {
          "output_type": "execute_result",
          "data": {
            "text/plain": [
              "array([4.96423078])"
            ]
          },
          "metadata": {
            "tags": []
          },
          "execution_count": 19
        }
      ]
    },
    {
      "cell_type": "markdown",
      "metadata": {
        "colab_type": "text",
        "id": "sYnvKQzDMGjd"
      },
      "source": [
        "### Early Stopping"
      ]
    },
    {
      "cell_type": "code",
      "metadata": {
        "colab_type": "code",
        "id": "7ScFNW0E-_qh",
        "outputId": "8b92a790-66f2-4279-9bc5-8a65e641b2d4",
        "colab": {
          "base_uri": "https://localhost:8080/",
          "height": 119
        }
      },
      "source": [
        "# A basic implementation of early stopping, when a model halts\n",
        "# gradient descent when the validation error hits a minimum.\n",
        "\n",
        "from sklearn.base import clone\n",
        "from sklearn.preprocessing import StandardScaler\n",
        "from sklearn.exceptions import DataConversionWarning, ConvergenceWarning\n",
        "import warnings\n",
        "\n",
        "# Silencing warnings\n",
        "warnings.filterwarnings(\"ignore\", category=DeprecationWarning)\n",
        "warnings.filterwarnings(\"ignore\", category=DataConversionWarning)\n",
        "warnings.filterwarnings(\"ignore\", category=ConvergenceWarning)\n",
        "\n",
        "poly_scaler = Pipeline([\n",
        "    ('poly_features', PolynomialFeatures(degree=90, include_bias=False)),\n",
        "    ('std_scaler', StandardScaler()),\n",
        "])\n",
        "\n",
        "X_train, X_val, y_train, y_val = train_test_split(X, y, test_size=0.2)\n",
        "X_train_poly_scaled = poly_scaler.fit_transform(X_train)\n",
        "X_val_poly_scaled = poly_scaler.transform(X_val)\n",
        "\n",
        "# warm_start=True means the model picks up where it left off\n",
        "# each time fit() is called.\n",
        "sgd_reg = SGDRegressor(max_iter=1, warm_start=True, penalty=None,\n",
        "                      learning_rate='constant', eta0=0.0005, tol=1e-3)\n",
        "\n",
        "minimum_val_error = float('inf')\n",
        "best_epoch = None\n",
        "best_model = None\n",
        "for epoch in range(1000):\n",
        "  sgd_reg.fit(X_train_poly_scaled, y_train)\n",
        "  y_val_predict = sgd_reg.predict(X_val_poly_scaled)\n",
        "  val_error = mean_squared_error(y_val_predict, y_val)\n",
        "  if val_error < minimum_val_error:\n",
        "    minimum_val_error = val_error\n",
        "    best_epoch = epoch\n",
        "    best_model = clone(sgd_reg)\n",
        "best_model"
      ],
      "execution_count": 0,
      "outputs": [
        {
          "output_type": "execute_result",
          "data": {
            "text/plain": [
              "SGDRegressor(alpha=0.0001, average=False, early_stopping=False, epsilon=0.1,\n",
              "       eta0=0.0005, fit_intercept=True, l1_ratio=0.15,\n",
              "       learning_rate='constant', loss='squared_loss', max_iter=1,\n",
              "       n_iter=None, n_iter_no_change=5, penalty=None, power_t=0.25,\n",
              "       random_state=None, shuffle=True, tol=0.001, validation_fraction=0.1,\n",
              "       verbose=0, warm_start=True)"
            ]
          },
          "metadata": {
            "tags": []
          },
          "execution_count": 21
        }
      ]
    },
    {
      "cell_type": "markdown",
      "metadata": {
        "colab_type": "text",
        "id": "sVp9tjsuEZXl"
      },
      "source": [
        "## Logistic Regression\n",
        "\n",
        "### Estimating Probabilities\n",
        "\n",
        "Logistic Regression is a binary classification model which attempts to predict the probability that a sample is in the positive class. If the probability is greater than 0.5, then it outputs the sample is in the positive class, 1, otherwise it is in the negative class, 0.\n",
        "\n",
        "The probability predicted by Logistic Regression is given by\n",
        "\n",
        "$ \\hat{p} = h_\\theta (\\mathbf{x}) = \\sigma\\left( \\theta^T \\cdot \\mathbf{x}\n",
        "\\right) $\n",
        "\n",
        "where $\\sigma(t)$ is a <i>signoid function</i> that outputs a number from 0 to 1. It is defined as\n",
        "\n",
        "$ \\sigma(t) = \\frac{1}{1 + \\exp\\,(-t)}. $\n",
        "\n",
        "The final output of logistic regression is given by\n",
        "\n",
        "$ \\hat{y} = \\left\\{ \\begin{matrix}\n",
        "0 & \\text{if} \\; \\hat{p} < 0.5 \\\\\n",
        "1 & \\text{if} \\; \\hat{p} \\geq 0.5\n",
        "\\end{matrix} \\right. $\n",
        "\n",
        "It follows from the defition of $\\sigma$ that $\\hat{p}$ is less than 0.5 when $t < 0$, so Logistic Regression predicts 1 if $\\theta^T\\cdot\\mathbf{x}$ is positive or zero, and predicts 0 if it is negative.\n",
        "\n",
        "### Training and Cost Function\n",
        "\n",
        "The cost function for a single sample, $\\mathbf{x}$ is given by\n",
        "\n",
        "$ c(\\theta) = \\left\\{ \\begin{matrix}\n",
        "- \\log(\\hat{p}) & \\text{if} \\; y = 1 \\\\\n",
        "- \\log(1 - \\hat{p}) & \\text{if} \\; y = 0\n",
        "\\end{matrix} \\right. $\n",
        "\n",
        "Because $-log(t)$ grows large when $t$ approaches zero, so the cost function will be large when it estimates a value close to zero for a positive class and very large when a negative class is close to 1 (recall the range of $\\sigma$ is $[0, 1]$).\n",
        "\n",
        "The total cost function is the mean of the cost for each sample in the training set, given by\n",
        "\n",
        "$ J(\\theta) = -\\frac{1}{m} \\sum\\limits_{i=1}^m\n",
        "\\left[ y^{(i)}\\log\\left( \\hat{p}^{(i)} \\right) +\n",
        "\\left( 1 - y^{(i)} \\right) \\log\\left( 1 - \\hat{p}^{(i)} \\right) \\right]. $\n",
        "\n",
        "There is no known closed form solution for finding the best choice of $\\theta$, but since the cost function is convex, Gradient Descent can find a solution. The partial derivative of the cost function with respect to each component of $\\theta$ is given by\n",
        "\n",
        "$ \\frac{\\partial}{\\partial \\theta_j} J(\\theta) =\n",
        "\\frac{1}{m} \\sum\\limits_{i=1}^m \\left(\n",
        "\\sigma\\left( \\theta^T \\cdot \\mathbf{x}^{(i)} \\right)\n",
        "- y^{(i)}\\right) x^{(i)}_j$\n",
        "\n",
        "which can be used to compute the gradient.\n",
        "\n",
        "### Decision Boundaries"
      ]
    },
    {
      "cell_type": "code",
      "metadata": {
        "colab_type": "code",
        "id": "u4k93qNlQjBF",
        "outputId": "0ca4fe8e-ae41-44c3-bbac-f2fb4af19f5d",
        "colab": {
          "base_uri": "https://localhost:8080/",
          "height": 34
        }
      },
      "source": [
        "# Importing the Iris dataset.\n",
        "\n",
        "from sklearn import datasets\n",
        "\n",
        "iris = datasets.load_iris()\n",
        "print(list(iris.keys()))\n",
        "\n",
        "X = iris['data'][:, 3:] # petal width\n",
        "y = (iris['target'] == 2).astype(np.int) # 1 is Iris-Virginica, else 0"
      ],
      "execution_count": 0,
      "outputs": [
        {
          "output_type": "stream",
          "text": [
            "['data', 'target', 'target_names', 'DESCR', 'feature_names', 'filename']\n"
          ],
          "name": "stdout"
        }
      ]
    },
    {
      "cell_type": "code",
      "metadata": {
        "colab_type": "code",
        "id": "VJ1V8vFqS3tB",
        "colab": {}
      },
      "source": [
        "# Training a LogisticRegression model.\n",
        "\n",
        "from sklearn.linear_model import LogisticRegression\n",
        "\n",
        "log_reg = LogisticRegression(solver='sag').fit(X, y)"
      ],
      "execution_count": 0,
      "outputs": []
    },
    {
      "cell_type": "code",
      "metadata": {
        "colab_type": "code",
        "id": "oMLSeLYOT7Me",
        "outputId": "14e512e4-74a8-40d5-89ba-4ec502bbb489",
        "colab": {
          "base_uri": "https://localhost:8080/",
          "height": 361
        }
      },
      "source": [
        "# Plotting the decision boundary.\n",
        "\n",
        "X_new = np.linspace(0, 3, 1000).reshape(-1, 1)\n",
        "y_proba = log_reg.predict_proba(X_new)\n",
        "plt.plot(X_new, y_proba[:, 1], 'g-', label='Iris-Virginica')\n",
        "plt.plot(X_new, y_proba[:, 0], 'b--', label='Not Iris-Virginica')\n",
        "plt.legend()\n",
        "plt.ylabel('Probability')\n",
        "plt.xlabel('Petal width')\n",
        "plt.show()"
      ],
      "execution_count": 0,
      "outputs": [
        {
          "output_type": "display_data",
          "data": {
            "image/png": "[encoded data removed]",
            "text/plain": [
              "<Figure size 576x396 with 1 Axes>"
            ]
          },
          "metadata": {
            "tags": []
          }
        }
      ]
    },
    {
      "cell_type": "code",
      "metadata": {
        "colab_type": "code",
        "id": "kVIkuKJhVnkp",
        "outputId": "ba9bbb20-51a9-4a7d-978d-627b89490014",
        "colab": {
          "base_uri": "https://localhost:8080/",
          "height": 34
        }
      },
      "source": [
        "# Example predictions.\n",
        "\n",
        "log_reg.predict([[1.7], [1.5]])"
      ],
      "execution_count": 0,
      "outputs": [
        {
          "output_type": "execute_result",
          "data": {
            "text/plain": [
              "array([1, 0])"
            ]
          },
          "metadata": {
            "tags": []
          },
          "execution_count": 25
        }
      ]
    },
    {
      "cell_type": "markdown",
      "metadata": {
        "colab_type": "text",
        "id": "8tBmpyjdVzVp"
      },
      "source": [
        "### Softmax Regression\n",
        "\n",
        "Logistic Regression can support multiple classes directly, this is called <i>Softmax Regression</i> or <i>Multinomial Logistic Regression</i>.\n",
        "\n",
        "Given a sample, $\\mathbf{x}$, the model first computes the scores of each class $s_k(\\mathbf{x})$ which is given by\n",
        "\n",
        "$ s_k(\\mathbf{x}) = \\left( \\theta^{(k)}  \\right)^T \\cdot \\mathbf{x} $\n",
        "\n",
        "which is the equation for the Linear Regression prediction. The model then estimates the probability of the sample is in each class by applying the <i>softmax function</i> (or <i>normalized exponential</i>) given by\n",
        "\n",
        "$ \\hat{p}_k = \\sigma(\\mathbf{s}(\\mathbf{x}))_k = \\frac{\\exp\\,\\left( s_k (\\mathbf{x}) \\right)}\n",
        "{\\sum\\limits_{j=1}^K \\, \\exp\\, \\left( s_j(\\mathbf{x}) \\right) } $\n",
        "\n",
        "where $K$ is the number of classes, $\\mathbf{s}(\\mathbf{x})$ is the vector containing the scores for each class, and $\\sigma(\\mathbf{s}(\\mathbf{x}))_k$ is the probability that $\\mathbf{x}$ is in class $k$.\n",
        "\n",
        "Like the Linear Regression classifier, the model predicts that the sample, $\\mathbf{x}$, is in the class $\\hat{y}$, given by\n",
        "\n",
        "$ \\hat{y} =\n",
        "\\underset{k}{\\text{argmax}} \\; \\sigma(\\mathbf{s}(\\mathbf{x}))_k =\n",
        "\\underset{k}{\\text{argmax}} \\; s_k(\\mathbf{x}) =\n",
        "\\underset{k}{\\text{argmax}} \\, \\left( \\left( \\theta^{(k)} \\right)^T\n",
        "\\cdot \\mathbf{x} \\right) $\n",
        "\n",
        "where the $\\text{argmax}$ operator selects the parameter $k$ which maximizes the function. In order to find the optimal $\\Theta$, the matrix of vectors used for each class for scoring, the model must minimize the <i>cross-entropy</i> cost function which is given by\n",
        "\n",
        "$ J(\\Theta) = - \\frac{1}{m} \\sum\\limits_{i=1}^m\n",
        "\\sum\\limits_{k=1}^K \\, y_k^{(i)} \\log\\left( \\hat{p}_k^{(i)} \\right) $\n",
        "\n",
        "where $y_k^{(i)}$ is 1 if the target class for the $i^{\\text{th}}$ instance is $k$; otherwise it is 0. The model is penalized when it estimates a low probability for a target class. When $K=2$, the cost function is the same as Logistic Regression. The gradient vector with respect to $\\theta^{(k)}$ for this cost function is given by\n",
        "\n",
        "$ \\nabla_{\\theta^{(k)}} = \\frac{1}{m} \\sum\\limits_{i=1}^m\n",
        "\\left( \\hat{p}_k^{(i)} - y_k^{(i)} \\right) \\mathbf{x}^{(i)} $\n",
        "\n",
        "which can be used for Gradient Descent."
      ]
    },
    {
      "cell_type": "code",
      "metadata": {
        "colab_type": "code",
        "id": "5Xn4yQ2cij-U",
        "outputId": "075138af-7ac4-43c6-ad9d-fd61e48f0505",
        "colab": {
          "base_uri": "https://localhost:8080/",
          "height": 51
        }
      },
      "source": [
        "# Using Softmax Regression with the Iris dataset.\n",
        "\n",
        "X = iris['data'][:, (2, 3)] # petal length, petal width\n",
        "y = iris['target']\n",
        "\n",
        "softmax_reg = LogisticRegression(multi_class='multinomial',\n",
        "                                 solver='lbfgs', C=10)\n",
        "softmax_reg.fit(X, y)\n",
        "\n",
        "print(softmax_reg.predict([[5, 2]]))\n",
        "print(softmax_reg.predict_proba([[5, 2]]))"
      ],
      "execution_count": 0,
      "outputs": [
        {
          "output_type": "stream",
          "text": [
            "[2]\n",
            "[[6.38014896e-07 5.74929995e-02 9.42506362e-01]]\n"
          ],
          "name": "stdout"
        }
      ]
    },
    {
      "cell_type": "code",
      "metadata": {
        "id": "VADAVtOzzaWs",
        "colab_type": "code",
        "outputId": "464de669-90cc-4065-8b5e-0cfa9f0018ca",
        "colab": {
          "base_uri": "https://localhost:8080/",
          "height": 287
        }
      },
      "source": [
        "# Decision boundary for all 3 classes.\n",
        "\n",
        "x0, x1 = np.meshgrid(\n",
        "        np.linspace(0, 8, 500).reshape(-1, 1),\n",
        "        np.linspace(0, 3.5, 200).reshape(-1, 1),\n",
        "    )\n",
        "X_new = np.c_[x0.ravel(), x1.ravel()]\n",
        "\n",
        "\n",
        "y_proba = softmax_reg.predict_proba(X_new)\n",
        "y_predict = softmax_reg.predict(X_new)\n",
        "\n",
        "zz1 = y_proba[:, 1].reshape(x0.shape)\n",
        "zz = y_predict.reshape(x0.shape)\n",
        "\n",
        "plt.figure(figsize=(10, 4))\n",
        "plt.plot(X[y==2, 0], X[y==2, 1], \"g^\", label=\"Iris-Virginica\")\n",
        "plt.plot(X[y==1, 0], X[y==1, 1], \"bs\", label=\"Iris-Versicolor\")\n",
        "plt.plot(X[y==0, 0], X[y==0, 1], \"yo\", label=\"Iris-Setosa\")\n",
        "\n",
        "from matplotlib.colors import ListedColormap\n",
        "custom_cmap = ListedColormap(['#fafab0','#9898ff','#a0faa0'])\n",
        "\n",
        "plt.contourf(x0, x1, zz, cmap=custom_cmap)\n",
        "contour = plt.contour(x0, x1, zz1, cmap=plt.cm.brg)\n",
        "plt.clabel(contour, inline=1, fontsize=12)\n",
        "plt.xlabel(\"Petal length\", fontsize=14)\n",
        "plt.ylabel(\"Petal width\", fontsize=14)\n",
        "plt.legend(loc=\"center left\", fontsize=14)\n",
        "plt.axis([0, 7, 0, 3.5])\n",
        "plt.show()"
      ],
      "execution_count": 0,
      "outputs": [
        {
          "output_type": "display_data",
          "data": {
            "image/png": "[encoded data removed]",
            "text/plain": [
              "<Figure size 720x288 with 1 Axes>"
            ]
          },
          "metadata": {
            "tags": []
          }
        }
      ]
    },
    {
      "cell_type": "markdown",
      "metadata": {
        "id": "FANIePyJyNvq",
        "colab_type": "text"
      },
      "source": [
        "## Exercises\n",
        "\n",
        "### 1. What Linear Regression training algorithm can you use if you have a training set with millions of features?\n",
        "\n",
        "You can use stochastic gradient descent.\n",
        "\n",
        "### 2. Suppose the features from your training set have very different scales. What algorithm might suffer from this and how? What can you do about it?\n",
        "\n",
        "If features have different scales, then the gradient will look like an elongated\n",
        "bowl, so Gradient Descent will take a long time to converge. Regularized models\n",
        "may also falsely penalize features with a large weight. To address this, you\n",
        "can scale your features using `StandardScaler`.\n",
        "\n",
        "### 3. Can Gradient Descent get stuck in a local minimum while training a Logistic Regression model?\n",
        "\n",
        "No, since the cost function for Logistic Regression is convex.\n",
        "\n",
        "### 4. Do all Gradient Descent algorithms lead to the same model provided you let them run long enough?\n",
        "\n",
        "As long as the cost function for the regression is convex and the learning rate is not too high, then yes, they should all lead to the same model after enough iterations.\n",
        "\n",
        "### 5. Suppose you use Batch Gradient Descent and you plot the validation error at every epoch. If you notice the validation error consistently goes up, what is likely going on? How can you fix this?\n",
        "\n",
        "The validation error consistently going up means that either the learning rate of the Gradient Descent algorithm is too high or that the model is starting to overfit the training data.\n",
        "\n",
        "### 6. Is it a good idea to stop Mini-batch Gradient Descent immediately when the validation error goes up?\n",
        "\n",
        "No, due to the random nature of Mini-batch Gradient Descent, you should stop iterating when the validation error begins consistently going up, rather than\n",
        "when it only goes up once.\n",
        "\n",
        "### 7. Which Gradient Descent algorithm will reach the vicinity of the optimal solution the fastest? Which will actually converge? How can you make the others converge as well?\n",
        "\n",
        "Stochastic Gradient Descent will converge around the optimal solution the fastest. Batch Gradient Descent will actually converge on the optimal solution. Stochastic algorithms may bounce around near the optimal solution and not converge, but by adding Early Stopping you can have the stochastic algorithms converge on the closest they get to the optimal solution after a given number of iterations.\n",
        "\n",
        "### 8. Suppose you are using Polynomial Regression. You plot the learning curves and you notice that there is a large gap between the training error and the validation error. What is happening? What are three ways to solve this?\n",
        "\n",
        "A large gap between the training and validation error suggests that the model is overfitting the data. One thing you can do to help alleviate this is add regularization to your regression model. You could also reduce the degree of the polynomial features you are interested in. Lastly you can try increasing the size of the training set.\n",
        "\n",
        "### 9. Suppose you are using Ridge Regression and you notice that the training error and the validation error are almost equal and fairly high. Would you say that the model suffers from high bias or high variance? Should you increase the regularization hyperparameter, $\\alpha$, or decrease it?\n",
        "\n",
        "The model seems to be suffering from high variance, it cannot accurately predict either the output of the validation and test sets. One thing you can do is increase the regularization hyperparameter, $\\alpha$, to decrease the regularization used in the model.\n",
        "\n",
        "### 10. Why would you want to use:\n",
        "\n",
        "#### Ridge Regression instead of plain Linear Regression?\n",
        "\n",
        "Models with some regularization tend to outperform plain Linear Regression.\n",
        "\n",
        "#### Lasso instead of Ridge Regression?\n",
        "\n",
        "Lasso's $\\ell_1$ regularization tends to cause unimportant features to vanish to zero. This provides some automatic feature selection that Ridge Regression does not.\n",
        "\n",
        "#### Elastic Net instead of Lasso?\n",
        "\n",
        "Lasso Regression can act wildly in some cases, such as when features are highly correlated to one another or when there are more features than training instances. Elastic Net provides some $\\ell_2$ regularization to counteract this, and you can set the $\\ell_1$ mixing hyperparameter close to 1 so that Elastic Net behaves somewhat like Lasso.\n",
        "\n",
        "### 11. Suppose you want to classify pictures as outdoor/indoor and daytime/nightime. Should you implement two Logistic Regression classifiers or one Softmax Regression classifier?\n",
        "\n",
        "You should use a Softmax Regression to train your model since all four classes look pretty distinct.\n",
        "\n",
        "### 12. Implement Batch Gradient Descent with early stopping for Softmax Regression (without using Scikit-Learn)."
      ]
    },
    {
      "cell_type": "code",
      "metadata": {
        "id": "jM_A84MzDmbt",
        "colab_type": "code",
        "outputId": "1c129c36-899e-4d87-f720-16b470da1d61",
        "colab": {
          "base_uri": "https://localhost:8080/",
          "height": 34
        }
      },
      "source": [
        "def to_one_hot(y):\n",
        "  \"\"\"\n",
        "  Transform an numpy array of integers in [0, k) to a len(y) * k numpy array\n",
        "  where  y_out[i][k] == 1 iff y[i] == k and is 0 otherwise.\n",
        "  \n",
        "  \"\"\"\n",
        "  classes = len(set(y))\n",
        "  m = len(y)\n",
        "  y_one_hot = np.zeros((m, classes))\n",
        "  y_one_hot[np.arange(m), y] = 1\n",
        "  return y_one_hot\n",
        "\n",
        "\n",
        "def train_test_split(X, y, test_size=0.2):\n",
        "  \"\"\"\n",
        "  Basic implementation of train-test splitting using random sampling.\n",
        "  \n",
        "  Assumes len(X) == len(y), test_size in [0, 1].\n",
        "  \n",
        "  \"\"\"\n",
        "  n = len(X)\n",
        "  rand_idx = np.random.permutation(n)\n",
        "  cutoff = int(n * (1. - test_size))\n",
        "  X_train, X_test = X[rand_idx[:cutoff]], X[rand_idx[cutoff:]]\n",
        "  y_train, y_test = y[rand_idx[:cutoff]], y[rand_idx[cutoff:]]\n",
        "  return X_train, X_test, y_train, y_test\n",
        "\n",
        "\n",
        "class Softmax:\n",
        "  \"\"\"\n",
        "  Softmax Regression class which uses Mini-Batch Gradient Descent to train\n",
        "  itself.\n",
        "  \n",
        "  Assumes that batch_size in [0, len(X)) where X is the training set.\n",
        "  \n",
        "  \"\"\"\n",
        "  def __init__(self, learning_rate=0.1, n_iter=5000, batch_size=10,\n",
        "               n_batches=5):\n",
        "    self.learning_rate_ = learning_rate\n",
        "    self.n_iter_ = n_iter\n",
        "    self.batch_size_ = batch_size\n",
        "    self.n_batches_ = n_batches\n",
        "    self.theta = None\n",
        "    \n",
        "  def fit(self, X, y):\n",
        "    \"\"\"\n",
        "    The model is trained using Mini-Batch Gradient Descent using the\n",
        "    experession for the gradient specified above.\n",
        "    \n",
        "    Assumes X to be a 2D np array, y to be a 2D np array of 0 or 1,\n",
        "      len(X) == len(y), and that the output vector, y, is One-Hot Encoded.\n",
        "    \n",
        "    \"\"\"\n",
        "    m, n = X.shape\n",
        "    K = len(y[0])\n",
        "    self.theta = np.random.randn(K, n)\n",
        "    for _ in range(self.n_iter_):\n",
        "      rand_idx = np.random.permutation(len(X))\n",
        "      for k in range(K):\n",
        "        theta_k = self.theta[k]\n",
        "        grad = np.zeros(n)\n",
        "        for i in range(min(len(X) // self.batch_size_, self.n_batches_)):\n",
        "          X_batch = X[rand_idx[i*self.batch_size_:(i+1)*self.batch_size_]]\n",
        "          y_batch = y[rand_idx[i*self.batch_size_:(i+1)*self.batch_size_]]\n",
        "          for x, y_ in zip(X_batch, y_batch):\n",
        "            s_k = float(x.dot(theta_k))\n",
        "            p_k = np.exp(s_k) / sum(np.exp(x.dot(self.theta[j])) for j in range(K))\n",
        "            grad = np.add(grad, x * (p_k - y_[k]))\n",
        "        grad /= float(m)\n",
        "        self.theta[k] = np.add(self.theta[k], (-self.learning_rate_ * grad).reshape(1, -1))\n",
        "    return self\n",
        "  \n",
        "  def predict(self, X):\n",
        "    \"\"\"\n",
        "    Returns an output vector with the model's prediction of what class each\n",
        "    instance in X belongs to. The output vector is One-Hot Encoded.\n",
        "    \n",
        "    Assumes X to be a 2D numpy array, model was trained.\n",
        "    \n",
        "    \"\"\"\n",
        "    K = len(self.theta)\n",
        "    y = np.zeros((len(X), K))\n",
        "    for x, y_ in zip(X, y):\n",
        "      best_probability = -float('inf')\n",
        "      best_idx = -1\n",
        "      for k in range(K):\n",
        "        p = x.dot(self.theta[k])\n",
        "        if p > best_probability:\n",
        "          best_probability = p\n",
        "          best_idx = k\n",
        "      y_[best_idx] = 1\n",
        "    return y\n",
        "\n",
        "  def score(self, X, y):\n",
        "    \"\"\"\n",
        "    Score the model's performance using an input, and its actual output. It\n",
        "    returns the accuracy of the model, i.e.\n",
        "    \n",
        "    TP / (TP + FN)\n",
        "    \n",
        "    Makes the same assumptions as .predict()\n",
        "    \n",
        "    \"\"\"\n",
        "    y_pred = self.predict(X)\n",
        "    correct = 0.\n",
        "    for y1, y2 in zip(y, y_pred):\n",
        "      if np.allclose(y1, y2):\n",
        "        correct += 1\n",
        "    return correct / len(X)\n",
        "\n",
        "X, y = iris['data'], to_one_hot(iris['target'])\n",
        "X_train, X_test, y_train, y_test = train_test_split(X, y)\n",
        "\n",
        "softmax = Softmax().fit(X_train, y_train)\n",
        "softmax.score(X_test, y_test)"
      ],
      "execution_count": 0,
      "outputs": [
        {
          "output_type": "execute_result",
          "data": {
            "text/plain": [
              "0.9666666666666667"
            ]
          },
          "metadata": {
            "tags": []
          },
          "execution_count": 60
        }
      ]
    }
  ]
}