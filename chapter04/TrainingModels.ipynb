{
  "nbformat": 4,
  "nbformat_minor": 0,
  "metadata": {
    "colab": {
      "name": "TrainingModels.ipynb",
      "version": "0.3.2",
      "provenance": [],
      "collapsed_sections": []
    },
    "kernelspec": {
      "display_name": "Python 3",
      "language": "python",
      "name": "python3"
    }
  },
  "cells": [
    {
      "metadata": {
        "colab_type": "text",
        "id": "_gNIrgkGU6Hc"
      },
      "cell_type": "markdown",
      "source": [
        "# Chapter 4: Training Models\n",
        "\n",
        "## Linear Regression\n",
        "\n",
        "The goal of a linear regression model is given a training set $\\mathbf{X}$ of <i>n</i>-dimensional input vectors\n",
        "$\\mathbf{x}^{(i)}$, we want to find an <i>n</i>-dimensional vector $\\theta$ that minimizes\n",
        "\n",
        "$$ MSE\\,(\\mathbf{X}, h_{\\theta}) =\n",
        "\\large{\\frac{1}{n}}\\sum\\limits_{i=1}^n \\left( \\theta^T \\cdot \\mathbf{x}^{(i)} - y^{(i)} \\right)^2 $$\n",
        "\n",
        "where $MSE$ is the mean squared error of the training set."
      ]
    },
    {
      "metadata": {
        "colab_type": "text",
        "id": "yPcX0ca2U6Hg"
      },
      "cell_type": "markdown",
      "source": [
        "### The Normal Equation\n",
        "\n",
        "One way to find $\\theta$ is to use the <i>normal equation</i>:\n",
        "\n",
        "$$\\hat{\\theta} = \\left( \\mathbf{X}^T \\cdot \\mathbf{X} \\right)^{-1} \\cdot \\mathbf{X}^T \\cdot \\mathbf{y}.$$\n",
        "\n",
        "The example below illustrates how this can equation can be used to train a linear regression model."
      ]
    },
    {
      "metadata": {
        "colab_type": "code",
        "id": "iDzuESfcU6Hh",
        "outputId": "7253eece-603b-4719-cc48-3f9168c6eb96",
        "colab": {
          "base_uri": "https://localhost:8080/",
          "height": 269
        }
      },
      "cell_type": "code",
      "source": [
        "import numpy as np\n",
        "import matplotlib.pyplot as plt\n",
        "\n",
        "X = 2 * np.random.rand(100, 1)\n",
        "y = 4 + 3 * X + np.random.rand(100, 1)\n",
        "\n",
        "plt.scatter(X, y)\n",
        "plt.show()"
      ],
      "execution_count": 0,
      "outputs": [
        {
          "output_type": "display_data",
          "data": {
            "image/png": "[encoded data removed]",
            "text/plain": [
              "<Figure size 432x288 with 1 Axes>"
            ]
          },
          "metadata": {
            "tags": []
          }
        }
      ]
    },
    {
      "metadata": {
        "colab_type": "code",
        "id": "ZYFlhlv0U6Hq",
        "outputId": "e8f40150-62ea-460d-93ac-ddb55d6cb094",
        "colab": {
          "base_uri": "https://localhost:8080/",
          "height": 53
        }
      },
      "cell_type": "code",
      "source": [
        "# Computing theta using the np.linalg module. It is not quite (4, 3) as we might\n",
        "# expect due to the noise.\n",
        "\n",
        "X_b = np.c_[np.ones((100, 1)), X] # add x0 = 1 to each instance.\n",
        "theta_best = np.linalg.inv(X_b.T.dot(X_b)).dot(X_b.T).dot(y)\n",
        "print(theta_best)"
      ],
      "execution_count": 0,
      "outputs": [
        {
          "output_type": "stream",
          "text": [
            "[[4.54465837]\n",
            " [2.98578521]]\n"
          ],
          "name": "stdout"
        }
      ]
    },
    {
      "metadata": {
        "colab_type": "code",
        "id": "w2zCIXasU6Hv",
        "outputId": "064759d9-1820-4104-c4aa-3ba975d6f649",
        "colab": {
          "base_uri": "https://localhost:8080/",
          "height": 53
        }
      },
      "cell_type": "code",
      "source": [
        "# Making a prediction using the computed values of theta.\n",
        "\n",
        "X_new = np.array([[0], [2]])\n",
        "X_new_b = np.c_[np.ones((2, 1)), X_new]\n",
        "y_predict = X_new_b.dot(theta_best)\n",
        "y_predict"
      ],
      "execution_count": 0,
      "outputs": [
        {
          "output_type": "execute_result",
          "data": {
            "text/plain": [
              "array([[ 4.54465837],\n",
              "       [10.51622879]])"
            ]
          },
          "metadata": {
            "tags": []
          },
          "execution_count": 3
        }
      ]
    },
    {
      "metadata": {
        "colab_type": "code",
        "id": "k52KTEZRU6Hz",
        "outputId": "444e8dbe-c79a-41f9-d5c0-9f7253c1cdcf",
        "colab": {
          "base_uri": "https://localhost:8080/",
          "height": 269
        }
      },
      "cell_type": "code",
      "source": [
        "# Plot the model's prediction.\n",
        "\n",
        "plt.plot(X_new, y_predict, 'r-')\n",
        "plt.plot(X, y, 'b.')\n",
        "plt.axis([0, 2, 0, 15])\n",
        "plt.show()"
      ],
      "execution_count": 0,
      "outputs": [
        {
          "output_type": "display_data",
          "data": {
            "image/png": "[encoded data removed]",
            "text/plain": [
              "<Figure size 432x288 with 1 Axes>"
            ]
          },
          "metadata": {
            "tags": []
          }
        }
      ]
    },
    {
      "metadata": {
        "colab_type": "code",
        "id": "L6pPdArTU6H3",
        "outputId": "51a850a8-fb29-4e5b-8c56-9197ec339beb",
        "colab": {
          "base_uri": "https://localhost:8080/",
          "height": 71
        }
      },
      "cell_type": "code",
      "source": [
        "# Equivalent scikit-learn code, we see that we get the same results\n",
        "# as when we use the normal equation.\n",
        "\n",
        "from sklearn.linear_model import LinearRegression\n",
        "\n",
        "lin_reg = LinearRegression().fit(X, y)\n",
        "print(lin_reg.intercept_, lin_reg.coef_)\n",
        "print(lin_reg.predict(X_new))"
      ],
      "execution_count": 0,
      "outputs": [
        {
          "output_type": "stream",
          "text": [
            "[4.54465837] [[2.98578521]]\n",
            "[[ 4.54465837]\n",
            " [10.51622879]]\n"
          ],
          "name": "stdout"
        }
      ]
    },
    {
      "metadata": {
        "colab_type": "text",
        "id": "8kiLLFnKU6H_"
      },
      "cell_type": "markdown",
      "source": [
        "### Computational Complexity\n",
        "\n",
        "The normal equation computes the inverse of $\\mathbf{X}^T \\cdot \\mathbf{X}$, which is an $O\\left(n^3\\right)$ operation. This does not scale well for large datasets."
      ]
    },
    {
      "metadata": {
        "colab_type": "text",
        "id": "rQanRxDxU6IA"
      },
      "cell_type": "markdown",
      "source": [
        "## Gradient Descent\n",
        "\n",
        "### Batch Gradient Descent\n",
        "\n",
        "Gradient descent is the process of tweaking parameters slightly until a global minimum is found in the target space\n",
        "of the cost function.\n",
        "\n",
        "In the case of linear regression, the partial derivative of each parameter in $\\theta$ is\n",
        "\n",
        "$$ \\frac{\\partial}{\\partial\\theta_j}\\;MSE\\,(\\theta) =\n",
        "\\frac{2}{m} \\sum\\limits_{i=1}^m \\left( \\theta^T\\cdot\\mathbf{x}^{(i)} \\right) x^{(i)}_j. $$\n",
        "\n",
        "The gradient of the cost function is given by\n",
        "\n",
        "$$ \\nabla_{\\theta}\\;MSE\\,(\\theta) = \\frac{2}{m} \\; \\mathbf{X}^T \\cdot (\\mathbf{X} \\cdot \\theta - y). $$\n",
        "\n",
        "The gradient vector points in the direction of most change in the positive direction, so one iteration of\n",
        "gradient descent is computed as\n",
        "\n",
        "$$ \\theta^{(\\text{next step})} = \\theta - \\eta \\, \\nabla_{\\theta}\\;MSE\\,(\\theta) $$\n",
        "\n",
        "where $\\eta$ is the <i>learning rate</i> of the algorithm."
      ]
    },
    {
      "metadata": {
        "colab_type": "code",
        "id": "VEzgETObU6IE",
        "outputId": "17639a61-8357-4d9e-e7ca-3d72101c345a",
        "colab": {
          "base_uri": "https://localhost:8080/",
          "height": 53
        }
      },
      "cell_type": "code",
      "source": [
        "# An implmentation of gradient descent. As we can see the result is the same as when\n",
        "# we used the normal equation.\n",
        "\n",
        "eta = 0.1  # learning rate\n",
        "n_iterations = 1000\n",
        "m = 100\n",
        "\n",
        "theta = np.random.randn(2, 1)\n",
        "\n",
        "for _ in range(n_iterations):\n",
        "    gradients = (2. / m) * X_b.T.dot(X_b.dot(theta) - y)\n",
        "    theta = theta - (eta * gradients)\n",
        "    \n",
        "print(theta)"
      ],
      "execution_count": 0,
      "outputs": [
        {
          "output_type": "stream",
          "text": [
            "[[4.54465837]\n",
            " [2.98578521]]\n"
          ],
          "name": "stdout"
        }
      ]
    },
    {
      "metadata": {
        "colab_type": "text",
        "id": "IIBESJxrU6IH"
      },
      "cell_type": "markdown",
      "source": [
        "### Stochastic Gradient Descent\n",
        "\n",
        "Batch gradient descent can be inefficient since it uses all values in the training set at each step to compute\n",
        "the gradient, thereby making it an $O\\left(n^2\\right)$ operation. It also has trouble escaping from global minima.\n",
        "\n",
        "An alternative is stochastic gradient descent, which picks a single point randomly and computes the gradient using\n",
        "that one point."
      ]
    },
    {
      "metadata": {
        "colab_type": "code",
        "id": "79OWduGXU6IL",
        "outputId": "fa6dffc6-a249-4cd2-b706-c5b8db422186",
        "colab": {
          "base_uri": "https://localhost:8080/",
          "height": 53
        }
      },
      "cell_type": "code",
      "source": [
        "# Implementation of stochastic gradient descent.\n",
        "\n",
        "n_epochs = 50\n",
        "t0, t1 = 5, 50\n",
        "\n",
        "def learning_schedule(t):\n",
        "  return t0 / (t + t1)\n",
        "\n",
        "n = len(X)\n",
        "theta = np.random.randn(2, 1)\n",
        "\n",
        "for epoch in range(n_epochs):\n",
        "  for i in range(n):\n",
        "    random_index = np.random.randint(n)\n",
        "    xi = X_b[random_index:random_index+1]\n",
        "    yi = y[random_index:random_index+1]\n",
        "    gradients = 2 * xi.T.dot(xi.dot(theta) - yi)\n",
        "    eta = learning_schedule(epoch * m + i)\n",
        "    theta -= eta * gradients\n",
        "    \n",
        "print(theta)"
      ],
      "execution_count": 0,
      "outputs": [
        {
          "output_type": "stream",
          "text": [
            "[[4.5322741 ]\n",
            " [2.97492071]]\n"
          ],
          "name": "stdout"
        }
      ]
    },
    {
      "metadata": {
        "colab_type": "code",
        "id": "rE9HW5uYXfOq",
        "outputId": "30f65fd7-6471-4928-8e0e-1714e2f7bfb7",
        "colab": {
          "base_uri": "https://localhost:8080/",
          "height": 35
        }
      },
      "cell_type": "code",
      "source": [
        "# Scikit-Learn's SGDRegressor implements this algorithm.\n",
        "\n",
        "from sklearn.linear_model import SGDRegressor\n",
        "\n",
        "sgd_reg = SGDRegressor(max_iter=50, penalty=None, eta0=0.1, tol=1e-3)\n",
        "sgd_reg.fit(X, y.ravel())\n",
        "\n",
        "print(sgd_reg.intercept_, sgd_reg.coef_)"
      ],
      "execution_count": 0,
      "outputs": [
        {
          "output_type": "stream",
          "text": [
            "[4.50894767] [2.9833774]\n"
          ],
          "name": "stdout"
        }
      ]
    },
    {
      "metadata": {
        "colab_type": "text",
        "id": "rGMI8_8kYsOu"
      },
      "cell_type": "markdown",
      "source": [
        "### Mini-batch Gradient Descent\n",
        "\n",
        "This algorithm computes the gradient using randomly selected samples from the training set, i.e. \"mini-batches.\" This has an advantage over stochastic gradient descent because the matrix multiplication can be improved using optimized hardware.\n",
        "\n",
        "## Polynomial Regression"
      ]
    },
    {
      "metadata": {
        "colab_type": "code",
        "id": "P_p6aps3ZxPx",
        "outputId": "c2bd9a1f-4089-4b3b-81f1-826bad991e2c",
        "colab": {
          "base_uri": "https://localhost:8080/",
          "height": 269
        }
      },
      "cell_type": "code",
      "source": [
        "# Generate nonlinear data using a simple quadratic equation.\n",
        "\n",
        "m = 100\n",
        "X = 6 * np.random.rand(m, 1) - 3\n",
        "y = 0.5 * X ** 2 + X + 2 + np.random.randn(m, 1)\n",
        "\n",
        "plt.scatter(X, y)\n",
        "plt.show()"
      ],
      "execution_count": 0,
      "outputs": [
        {
          "output_type": "display_data",
          "data": {
            "image/png": "[encoded data removed]",
            "text/plain": [
              "<Figure size 432x288 with 1 Axes>"
            ]
          },
          "metadata": {
            "tags": []
          }
        }
      ]
    },
    {
      "metadata": {
        "colab_type": "code",
        "id": "wKiYIWnUaYmp",
        "outputId": "ec3856c4-f0c9-437e-9b27-bae15068540d",
        "colab": {
          "base_uri": "https://localhost:8080/",
          "height": 53
        }
      },
      "cell_type": "code",
      "source": [
        "# Using Scikit-Learn's PolynomialFeatures transformer to add the 2nd degree of\n",
        "# the polynomial in the feature set as a new feature\n",
        "\n",
        "from sklearn.preprocessing import PolynomialFeatures\n",
        "\n",
        "poly_features = PolynomialFeatures(degree=2, include_bias=False)\n",
        "X_poly = poly_features.fit_transform(X)\n",
        "print(X[0])\n",
        "print(X_poly[0])"
      ],
      "execution_count": 0,
      "outputs": [
        {
          "output_type": "stream",
          "text": [
            "[-0.70749257]\n",
            "[-0.70749257  0.50054574]\n"
          ],
          "name": "stdout"
        }
      ]
    },
    {
      "metadata": {
        "colab_type": "code",
        "id": "3FY3NiZ4bLO1",
        "outputId": "234cd098-d339-440c-92d1-4603a2487c0c",
        "colab": {
          "base_uri": "https://localhost:8080/",
          "height": 35
        }
      },
      "cell_type": "code",
      "source": [
        "# Now we are able to use the LinearRegressor to predict the data.\n",
        "\n",
        "lin_reg = LinearRegression()\n",
        "lin_reg.fit(X_poly, y)\n",
        "lin_reg.intercept_, lin_reg.coef_"
      ],
      "execution_count": 0,
      "outputs": [
        {
          "output_type": "execute_result",
          "data": {
            "text/plain": [
              "(array([2.18117251]), array([[1.05134915, 0.46860843]]))"
            ]
          },
          "metadata": {
            "tags": []
          },
          "execution_count": 11
        }
      ]
    },
    {
      "metadata": {
        "colab_type": "text",
        "id": "y52qUk3SEr-w"
      },
      "cell_type": "markdown",
      "source": [
        "## Learning Curves"
      ]
    },
    {
      "metadata": {
        "colab_type": "code",
        "id": "bC7V86DCEuBX",
        "colab": {}
      },
      "cell_type": "code",
      "source": [
        "# The following code defines a function for plotting the learning curve of a\n",
        "# model, a plot of the performance of the model on the training and validation\n",
        "# set as a function of the training set size.\n",
        "\n",
        "from sklearn.metrics import mean_squared_error\n",
        "from sklearn.model_selection import train_test_split\n",
        "\n",
        "def plot_learning_curve(model, X, y):\n",
        "  X_train, X_val, y_train, y_val = train_test_split(X, y, test_size=0.2)\n",
        "  train_errors, val_errors = [], []\n",
        "  for m in range(1, len(X_train)):\n",
        "    model.fit(X_train[:m], y_train[:m])\n",
        "    y_train_predict = model.predict(X_train[:m])\n",
        "    y_val_predict = model.predict(X_val)\n",
        "    train_errors.append(mean_squared_error(y_train_predict, y_train[:m]))\n",
        "    val_errors.append(mean_squared_error(y_val_predict, y_val))\n",
        "  plt.plot(np.sqrt(train_errors), 'r-+', linewidth=2, label='train')\n",
        "  plt.plot(np.sqrt(val_errors), 'b-', linewidth=3, label='val')\n",
        "  plt.axis([0, 80, 0, 3])\n",
        "  plt.legend()\n",
        "  plt.show()"
      ],
      "execution_count": 0,
      "outputs": []
    },
    {
      "metadata": {
        "colab_type": "code",
        "id": "jejFq0gWG_qA",
        "outputId": "698412bc-3d97-4ea5-9acc-0845f3fb867d",
        "colab": {
          "base_uri": "https://localhost:8080/",
          "height": 269
        }
      },
      "cell_type": "code",
      "source": [
        "# Plotting the learning curve for linear regression. This is an example of\n",
        "# an underfitting model, they plateau at a high level.\n",
        "\n",
        "lin_reg = LinearRegression()\n",
        "plot_learning_curve(lin_reg, X, y)"
      ],
      "execution_count": 0,
      "outputs": [
        {
          "output_type": "display_data",
          "data": {
            "image/png": "[encoded data removed]",
            "text/plain": [
              "<Figure size 432x288 with 1 Axes>"
            ]
          },
          "metadata": {
            "tags": []
          }
        }
      ]
    },
    {
      "metadata": {
        "colab_type": "code",
        "id": "Qc28cwQbJFUU",
        "outputId": "4940d0ca-c465-44e5-f6ab-fb6d6481b7c4",
        "colab": {
          "base_uri": "https://localhost:8080/",
          "height": 269
        }
      },
      "cell_type": "code",
      "source": [
        "# Plotting the learning curve of a 10 degree polynomial model. This\n",
        "# is an example of an overfitting model, since there is a large\n",
        "# gap between the training set error and the validation set error.\n",
        "\n",
        "from sklearn.pipeline import Pipeline\n",
        "\n",
        "poly_regression = Pipeline([\n",
        "    ('poly_features', PolynomialFeatures(degree=10, include_bias=False)),\n",
        "    ('lin_reg', LinearRegression()),\n",
        "])\n",
        "\n",
        "plot_learning_curve(poly_regression, X, y)"
      ],
      "execution_count": 0,
      "outputs": [
        {
          "output_type": "display_data",
          "data": {
            "image/png": "[encoded data removed]",
            "text/plain": [
              "<Figure size 432x288 with 1 Axes>"
            ]
          },
          "metadata": {
            "tags": []
          }
        }
      ]
    },
    {
      "metadata": {
        "colab_type": "text",
        "id": "KiuS0ip-NcNw"
      },
      "cell_type": "markdown",
      "source": [
        "## Regularized Linear Models\n",
        "\n",
        "### Ridge Regression\n",
        "\n",
        "A form of regularized Linear Regression where the <i>regularization</i> term is given by\n",
        "\n",
        "$$ \\alpha \\sum\\limits_{i=1}^n \\; \\theta_i^2 $$,\n",
        "\n",
        "where $\\alpha$ is a configurable hyperparameter. If $\\alpha=0$ then the Ridge Regression becomes Linear Regression.\n",
        "The ridge regression cost function is\n",
        "\n",
        "$$ J(\\theta) = MSE\\,(\\theta) + \\frac{\\alpha}{2} \\sum\\limits_{i=1}^n \\, \\theta_i^2 $$.\n",
        "\n",
        "The Ridge Regression closed-form solution is given by\n",
        "\n",
        "$$ \\hat{\\theta} =\n",
        "\\left( \\mathbf{X}^T \\cdot \\mathbf{X} + \\alpha\\mathbf{A} \\right)^{-1} \\cdot \\mathbf{X}^T \\cdot \\mathbf{y} $$.\n",
        "\n",
        "where $\\mathbf{A}$ is the $n \\times n$ identity matrix."
      ]
    },
    {
      "metadata": {
        "colab_type": "code",
        "id": "qqhG9-KLVzZG",
        "outputId": "aaf43866-8117-44f1-b7d7-a476dc62519e",
        "colab": {
          "base_uri": "https://localhost:8080/",
          "height": 35
        }
      },
      "cell_type": "code",
      "source": [
        "# An implementation of Ridge Regression using the closed form solution.\n",
        "\n",
        "from sklearn.linear_model import Ridge\n",
        "\n",
        "ridge_reg = Ridge(alpha=1, solver='cholesky')\n",
        "ridge_reg.fit(X, y)\n",
        "ridge_reg.predict([[1.5]])"
      ],
      "execution_count": 0,
      "outputs": [
        {
          "output_type": "execute_result",
          "data": {
            "text/plain": [
              "array([[5.25483018]])"
            ]
          },
          "metadata": {
            "tags": []
          },
          "execution_count": 15
        }
      ]
    },
    {
      "metadata": {
        "colab_type": "code",
        "id": "9tBpkD8JZyd3",
        "outputId": "fcc874e4-679e-40ba-fd39-74ccf80304df",
        "colab": {
          "base_uri": "https://localhost:8080/",
          "height": 71
        }
      },
      "cell_type": "code",
      "source": [
        "# You can also use Ridge Regression regularization when using Stochastic\n",
        "# Gradient Descent. It throws a warning but seems to work fine.\n",
        "\n",
        "sgd_reg = SGDRegressor(penalty='l2', max_iter=100, tol=1e-3)\n",
        "sgd_reg.fit(X, y)\n",
        "sgd_reg.predict([[1.5]])"
      ],
      "execution_count": 0,
      "outputs": [
        {
          "output_type": "stream",
          "text": [
            "/usr/local/lib/python3.6/dist-packages/sklearn/utils/validation.py:761: DataConversionWarning: A column-vector y was passed when a 1d array was expected. Please change the shape of y to (n_samples, ), for example using ravel().\n",
            "  y = column_or_1d(y, warn=True)\n"
          ],
          "name": "stderr"
        },
        {
          "output_type": "execute_result",
          "data": {
            "text/plain": [
              "array([5.22168245])"
            ]
          },
          "metadata": {
            "tags": []
          },
          "execution_count": 16
        }
      ]
    },
    {
      "metadata": {
        "colab_type": "text",
        "id": "8DGTIgvSA8z3"
      },
      "cell_type": "markdown",
      "source": [
        "### Lasso Regression\n",
        "\n",
        "The Lasso Regression cost function is given by\n",
        "  \n",
        "$$ J(\\theta) = MSE\\,(\\theta) \\, + \\sum\\limits_{i=1}^n\\left| \\theta_i \\right| $$\n",
        "\n",
        "which is identical to the Ridge Regression cost function except it uses the $\\ell_1$ norm (Manhattan distance) instead of the $\\ell_2$ norm (Euclidean metric).\n",
        "\n",
        "The lasso cost function is sometimes non-differentiable because of the absolute value. Gradient descent still works if you use the <i>subgradient vector</i>, $\\mathbf{g}$, which is given by\n",
        "\n",
        "$$ \\mathbf{g}\\,(\\theta, J) = \\nabla_\\theta MSE\\,(\\theta)\\; + \\,\n",
        "\\alpha \\, \\left( \\begin{matrix} sign\\,(\\theta_1) \\\\ sign\\,(\\theta_2) \\\\ \\vdots \\\\\n",
        "sign\\,(\\theta_n) \\end{matrix} \\right) $$\n",
        "\n",
        "where\n",
        "\n",
        "$$ sign\\,(\\theta_i) = \\left\\{ \\begin{matrix}\n",
        "-1 \\; \\text{if} \\; \\theta_i < 0 \\\\\n",
        "0 \\; \\text{if} \\; \\theta_i = 0 \\\\\n",
        "1 \\; \\text{if} \\; \\theta_i > 0\n",
        "\\end{matrix} \\right. $$"
      ]
    },
    {
      "metadata": {
        "colab_type": "code",
        "id": "U6xqNsyjICeb",
        "outputId": "393ad2b2-2e9f-46e7-b8d5-4a7a82b33aa5",
        "colab": {
          "base_uri": "https://localhost:8080/",
          "height": 35
        }
      },
      "cell_type": "code",
      "source": [
        "# Lasso Regression is implemented by Scikit-Learn\n",
        "\n",
        "from sklearn.linear_model import Lasso\n",
        "\n",
        "lasso_reg = Lasso(alpha=0.1)\n",
        "lasso_reg.fit(X, y)\n",
        "lasso_reg.predict([[1.5]])"
      ],
      "execution_count": 0,
      "outputs": [
        {
          "output_type": "execute_result",
          "data": {
            "text/plain": [
              "array([5.20396786])"
            ]
          },
          "metadata": {
            "tags": []
          },
          "execution_count": 17
        }
      ]
    },
    {
      "metadata": {
        "colab_type": "text",
        "id": "naPPzSjTH08A"
      },
      "cell_type": "markdown",
      "source": [
        "### Elastic Net\n",
        "\n",
        "The cost function of Elastic Net is given by\n",
        "\n",
        "$$ J(\\theta) = MSE\\,(\\theta) \\; + \\; r\\alpha \\sum\\limits_{i=1}^n \n",
        "\\left| \\theta_i \\right| \\; + \\; \\frac{\\alpha\\,(1-r)}{2}\n",
        "\\sum\\limits_{i=1}^n \\theta_i^2 $$\n",
        "\n",
        "where $r$ is a mix ratio and can range from 0 to 1. Elastic Net can be preferable to Lasso Regression due to the fact that Lasso Regression behaves eratically when the number of features is greater than the number of samples in the training set or when features are strongly correlated."
      ]
    },
    {
      "metadata": {
        "colab_type": "code",
        "id": "q8vxhM0kKFFM",
        "outputId": "2736c177-6799-48dd-ce2d-ec16631be9e1",
        "colab": {
          "base_uri": "https://localhost:8080/",
          "height": 35
        }
      },
      "cell_type": "code",
      "source": [
        "# Scikit-Learn implements Elastic Net\n",
        "\n",
        "from sklearn.linear_model import ElasticNet\n",
        "\n",
        "elastic_net = ElasticNet(alpha=0.2, l1_ratio=0.5)\n",
        "elastic_net.fit(X, y)\n",
        "elastic_net.predict([[1.5]])"
      ],
      "execution_count": 0,
      "outputs": [
        {
          "output_type": "execute_result",
          "data": {
            "text/plain": [
              "array([5.14488376])"
            ]
          },
          "metadata": {
            "tags": []
          },
          "execution_count": 18
        }
      ]
    },
    {
      "metadata": {
        "colab_type": "text",
        "id": "sYnvKQzDMGjd"
      },
      "cell_type": "markdown",
      "source": [
        "### Early Stopping"
      ]
    },
    {
      "metadata": {
        "colab_type": "code",
        "id": "7ScFNW0E-_qh",
        "outputId": "f295378f-1f8f-4353-cffb-9d371a9e75b7",
        "colab": {
          "base_uri": "https://localhost:8080/",
          "height": 125
        }
      },
      "cell_type": "code",
      "source": [
        "# A basic implementation of early stopping, when a model halts\n",
        "# gradient descent when the validation error hits a minimum.\n",
        "\n",
        "from sklearn.base import clone\n",
        "from sklearn.preprocessing import StandardScaler\n",
        "from sklearn.exceptions import DataConversionWarning, ConvergenceWarning\n",
        "import warnings\n",
        "\n",
        "# Silencing warnings\n",
        "warnings.filterwarnings(\"ignore\", category=DeprecationWarning)\n",
        "warnings.filterwarnings(\"ignore\", category=DataConversionWarning)\n",
        "warnings.filterwarnings(\"ignore\", category=ConvergenceWarning)\n",
        "\n",
        "poly_scaler = Pipeline([\n",
        "    ('poly_features', PolynomialFeatures(degree=90, include_bias=False)),\n",
        "    ('std_scaler', StandardScaler()),\n",
        "])\n",
        "\n",
        "X_train, X_val, y_train, y_val = train_test_split(X, y, test_size=0.2)\n",
        "X_train_poly_scaled = poly_scaler.fit_transform(X_train)\n",
        "X_val_poly_scaled = poly_scaler.transform(X_val)\n",
        "\n",
        "# warm_start=True means the model picks up where it left off\n",
        "# each time fit() is called.\n",
        "sgd_reg = SGDRegressor(max_iter=1, warm_start=True, penalty=None,\n",
        "                      learning_rate='constant', eta0=0.0005, tol=1e-3)\n",
        "\n",
        "minimum_val_error = float('inf')\n",
        "best_epoch = None\n",
        "best_model = None\n",
        "for epoch in range(1000):\n",
        "  sgd_reg.fit(X_train_poly_scaled, y_train)\n",
        "  y_val_predict = sgd_reg.predict(X_val_poly_scaled)\n",
        "  val_error = mean_squared_error(y_val_predict, y_val)\n",
        "  if val_error < minimum_val_error:\n",
        "    minimum_val_error = val_error\n",
        "    best_epoch = epoch\n",
        "    best_model = clone(sgd_reg)\n",
        "best_model"
      ],
      "execution_count": 0,
      "outputs": [
        {
          "output_type": "execute_result",
          "data": {
            "text/plain": [
              "SGDRegressor(alpha=0.0001, average=False, early_stopping=False, epsilon=0.1,\n",
              "       eta0=0.0005, fit_intercept=True, l1_ratio=0.15,\n",
              "       learning_rate='constant', loss='squared_loss', max_iter=1,\n",
              "       n_iter=None, n_iter_no_change=5, penalty=None, power_t=0.25,\n",
              "       random_state=None, shuffle=True, tol=0.001, validation_fraction=0.1,\n",
              "       verbose=0, warm_start=True)"
            ]
          },
          "metadata": {
            "tags": []
          },
          "execution_count": 19
        }
      ]
    },
    {
      "metadata": {
        "colab_type": "text",
        "id": "sVp9tjsuEZXl"
      },
      "cell_type": "markdown",
      "source": [
        "## Logistic Regression\n",
        "\n",
        "### Estimating Probabilities\n",
        "\n",
        "Logistic Regression is a binary classification model which attempts to predict the probability that a sample is in the positive class. If the probability is greater than 0.5, then it outputs the sample is in the positive class, 1, otherwise it is in the negative class, 0.\n",
        "\n",
        "The probability predicted by Logistic Regression is given by\n",
        "\n",
        "$$ \\hat{p} = h_\\theta (\\mathbf{x}) = \\sigma\\left( \\theta^T \\cdot \\mathbf{x}\n",
        "\\right) $$\n",
        "\n",
        "where $\\sigma(t)$ is a <i>signoid function</i> that outputs a number from 0 to 1. It is defined as\n",
        "\n",
        "$$ \\sigma(t) = \\frac{1}{1 + \\exp\\,(-t)}. $$\n",
        "\n",
        "The final output of logistic regression is given by\n",
        "\n",
        "$$ \\hat{y} = \\left\\{ \\begin{matrix}\n",
        "0 & \\text{if} \\; \\hat{p} < 0.5 \\\\\n",
        "1 & \\text{if} \\; \\hat{p} \\geq 0.5\n",
        "\\end{matrix} \\right. $$\n",
        "\n",
        "It follows from the defition of $\\sigma$ that $\\hat{p}$ is less than 0.5 when $t < 0$, so Logistic Regression predicts 1 if $\\theta^T\\cdot\\mathbf{x}$ is positive or zero, and predicts 0 if it is negative.\n",
        "\n",
        "### Training and Cost Function\n",
        "\n",
        "The cost function for a single sample, $\\mathbf{x}$ is given by\n",
        "\n",
        "$$ c(\\theta) = \\left\\{ \\begin{matrix}\n",
        "- \\log(\\hat{p}) & \\text{if} \\; y = 1 \\\\\n",
        "- \\log(1 - \\hat{p}) & \\text{if} \\; y = 0\n",
        "\\end{matrix} \\right. $$\n",
        "\n",
        "Because $-log(t)$ grows large when $t$ approaches zero, so the cost function will be large when it estimates a value close to zero for a positive class and very large when a negative class is close to 1 (recall the range of $\\sigma$ is $[0, 1]$).\n",
        "\n",
        "The total cost function is the mean of the cost for each sample in the training set, given by\n",
        "\n",
        "$$ J(\\theta) = -\\frac{1}{m} \\sum\\limits_{i=1}^m\n",
        "\\left[ y^{(i)}\\log\\left( \\hat{p}^{(i)} \\right) +\n",
        "\\left( 1 - y^{(i)} \\right) \\log\\left( 1 - \\hat{p}^{(i)} \\right) \\right]. $$\n",
        "\n",
        "There is no known closed form solution for finding the best choice of $\\theta$, but since the cost function is convex, Gradient Descent can find a solution. The partial derivative of the cost function with respect to each component of $\\theta$ is given by\n",
        "\n",
        "$$ \\frac{\\partial}{\\partial \\theta_j} J(\\theta) =\n",
        "\\frac{1}{m} \\sum\\limits_{i=1}^m \\left(\n",
        "\\sigma\\left( \\theta^T \\cdot \\mathbf{x}^{(i)} \\right)\n",
        "- y^{(i)}\\right) x^{(i)}_j$$\n",
        "\n",
        "which can be used to compute the gradient.\n",
        "\n",
        "### Decision Boundaries"
      ]
    },
    {
      "metadata": {
        "colab_type": "code",
        "id": "u4k93qNlQjBF",
        "outputId": "259b6d8e-1f84-4def-eaaf-34791870e022",
        "colab": {
          "base_uri": "https://localhost:8080/",
          "height": 35
        }
      },
      "cell_type": "code",
      "source": [
        "# Importing the Iris dataset.\n",
        "\n",
        "from sklearn import datasets\n",
        "\n",
        "iris = datasets.load_iris()\n",
        "print(list(iris.keys()))\n",
        "\n",
        "X = iris['data'][:, 3:] # petal width\n",
        "y = (iris['target'] == 2).astype(np.int) # 1 is Iris-Virginica, else 0"
      ],
      "execution_count": 0,
      "outputs": [
        {
          "output_type": "stream",
          "text": [
            "['data', 'target', 'target_names', 'DESCR', 'feature_names', 'filename']\n"
          ],
          "name": "stdout"
        }
      ]
    },
    {
      "metadata": {
        "colab_type": "code",
        "id": "VJ1V8vFqS3tB",
        "colab": {}
      },
      "cell_type": "code",
      "source": [
        "# Training a LogisticRegression model.\n",
        "\n",
        "from sklearn.linear_model import LogisticRegression\n",
        "\n",
        "log_reg = LogisticRegression(solver='sag').fit(X, y)"
      ],
      "execution_count": 0,
      "outputs": []
    },
    {
      "metadata": {
        "colab_type": "code",
        "id": "oMLSeLYOT7Me",
        "outputId": "98b3ff6d-9154-49d7-c5ca-edaa3410b9e5",
        "colab": {
          "base_uri": "https://localhost:8080/",
          "height": 283
        }
      },
      "cell_type": "code",
      "source": [
        "# Plotting the decision boundary.\n",
        "\n",
        "X_new = np.linspace(0, 3, 1000).reshape(-1, 1)\n",
        "y_proba = log_reg.predict_proba(X_new)\n",
        "plt.plot(X_new, y_proba[:, 1], 'g-', label='Iris-Virginica')\n",
        "plt.plot(X_new, y_proba[:, 0], 'b--', label='Not Iris-Virginica')\n",
        "plt.legend()\n",
        "plt.ylabel('Probability')\n",
        "plt.xlabel('Petal width')\n",
        "plt.show()"
      ],
      "execution_count": 0,
      "outputs": [
        {
          "output_type": "display_data",
          "data": {
            "image/png": "[encoded data removed]",
            "text/plain": [
              "<Figure size 432x288 with 1 Axes>"
            ]
          },
          "metadata": {
            "tags": []
          }
        }
      ]
    },
    {
      "metadata": {
        "colab_type": "code",
        "id": "kVIkuKJhVnkp",
        "outputId": "72cfe276-6b13-4b3b-fdc4-78cdda32754a",
        "colab": {
          "base_uri": "https://localhost:8080/",
          "height": 35
        }
      },
      "cell_type": "code",
      "source": [
        "# Example predictions.\n",
        "\n",
        "log_reg.predict([[1.7], [1.5]])"
      ],
      "execution_count": 0,
      "outputs": [
        {
          "output_type": "execute_result",
          "data": {
            "text/plain": [
              "array([1, 0])"
            ]
          },
          "metadata": {
            "tags": []
          },
          "execution_count": 27
        }
      ]
    },
    {
      "metadata": {
        "colab_type": "text",
        "id": "8tBmpyjdVzVp"
      },
      "cell_type": "markdown",
      "source": [
        "### Softmax Regression\n",
        "\n",
        "Logistic Regression can support multiple classes directly, this is called <i>Softmax Regression</i> or <i>Multinomial Logistic Regression</i>.\n",
        "\n",
        "Given a sample, $\\mathbf{x}$, the model first computes the scores of each class $s_k(\\mathbf{x})$ which is given by\n",
        "\n",
        "$$ s_k(\\mathbf{x}) = \\left( \\theta^{(k)}  \\right)^T \\cdot \\mathbf{x} $$\n",
        "\n",
        "which is the equation for the Linear Regression prediction. The model then estimates the probability of the sample is in each class by applying the <i>softmax function</i> (or <i>normalized exponential</i>) given by\n",
        "\n",
        "$$ \\hat{p}_k = \\sigma(\\mathbf{s}(\\mathbf{x}))_k = \\frac{\\exp\\,\\left( s_k (\\mathbf{x}) \\right)}\n",
        "{\\sum\\limits_{j=1}^K \\, \\exp\\, \\left( s_j(\\mathbf{x}) \\right) } $$\n",
        "\n",
        "where $K$ is the number of classes, $\\mathbf{s}(\\mathbf{x})$ is the vector containing the scores for each class, and $\\sigma(\\mathbf{s}(\\mathbf{x}))_k$ is the probability that $\\mathbf{x}$ is in class $k$.\n",
        "\n",
        "Like the Linear Regression classifier, the model predicts that the sample, $\\mathbf{x}$, is in the class $\\hat{y}$, given by\n",
        "\n",
        "$$ \\hat{y} =\n",
        "\\underset{k}{\\text{argmax}} \\; \\sigma(\\mathbf{s}(\\mathbf{x}))_k =\n",
        "\\underset{k}{\\text{argmax}} \\; s_k(\\mathbf{x}) =\n",
        "\\underset{k}{\\text{argmax}} \\, \\left( \\left( \\theta^{(k)} \\right)^T\n",
        "\\cdot \\mathbf{x} \\right) $$\n",
        "\n",
        "where the $\\text{argmax}$ operator selects the parameter $k$ which maximizes the function. In order to find the optimal $\\Theta$, the matrix of vectors used for each class for scoring, the model must minimize the <i>cross-entropy</i> cost function which is given by\n",
        "\n",
        "$$ J(\\Theta) = - \\frac{1}{m} \\sum\\limits_{i=1}^m\n",
        "\\sum\\limits_{k=1}^K \\, y_k^{(i)} \\log\\left( \\hat{p}_k^{(i)} \\right) $$\n",
        "\n",
        "where $y_k^{(i)}$ is 1 if the target class for the $i^{\\text{th}}$ instance is $k$; otherwise it is 0. The model is penalized when it estimates a low probability for a target class. When $K=2$, the cost function is the same as Logistic Regression. The gradient vector with respect to $\\theta^{(k)}$ for this cost function is given by\n",
        "\n",
        "$$ \\nabla_{\\theta^{(k)}} = \\frac{1}{m} \\sum\\limits_{i=1}^m\n",
        "\\left( \\hat{p}_k^{(i)} - y_k^{(i)} \\right) \\mathbf{x}^{(i)} $$\n",
        "\n",
        "which can be used for Gradient Descent."
      ]
    },
    {
      "metadata": {
        "colab_type": "code",
        "id": "5Xn4yQ2cij-U",
        "outputId": "cd06c763-8708-40ec-d289-671cfc434a1a",
        "colab": {
          "base_uri": "https://localhost:8080/",
          "height": 53
        }
      },
      "cell_type": "code",
      "source": [
        "# Using Softmax Regression with the Iris dataset.\n",
        "\n",
        "X = iris['data'][:, (2, 3)] # petal length, petal width\n",
        "y = iris['target']\n",
        "\n",
        "softmax_reg = LogisticRegression(multi_class='multinomial',\n",
        "                                 solver='lbfgs', C=10)\n",
        "softmax_reg.fit(X, y)\n",
        "\n",
        "print(softmax_reg.predict([[5, 2]]))\n",
        "print(softmax_reg.predict_proba([[5, 2]]))"
      ],
      "execution_count": 0,
      "outputs": [
        {
          "output_type": "stream",
          "text": [
            "[2]\n",
            "[[6.38014896e-07 5.74929995e-02 9.42506362e-01]]\n"
          ],
          "name": "stdout"
        }
      ]
    },
    {
      "metadata": {
        "id": "VADAVtOzzaWs",
        "colab_type": "code",
        "outputId": "c32add98-17f7-4339-b3e2-dcd0698e3172",
        "colab": {
          "base_uri": "https://localhost:8080/",
          "height": 287
        }
      },
      "cell_type": "code",
      "source": [
        "# Decision boundary for all 3 classes.\n",
        "\n",
        "x0, x1 = np.meshgrid(\n",
        "        np.linspace(0, 8, 500).reshape(-1, 1),\n",
        "        np.linspace(0, 3.5, 200).reshape(-1, 1),\n",
        "    )\n",
        "X_new = np.c_[x0.ravel(), x1.ravel()]\n",
        "\n",
        "\n",
        "y_proba = softmax_reg.predict_proba(X_new)\n",
        "y_predict = softmax_reg.predict(X_new)\n",
        "\n",
        "zz1 = y_proba[:, 1].reshape(x0.shape)\n",
        "zz = y_predict.reshape(x0.shape)\n",
        "\n",
        "plt.figure(figsize=(10, 4))\n",
        "plt.plot(X[y==2, 0], X[y==2, 1], \"g^\", label=\"Iris-Virginica\")\n",
        "plt.plot(X[y==1, 0], X[y==1, 1], \"bs\", label=\"Iris-Versicolor\")\n",
        "plt.plot(X[y==0, 0], X[y==0, 1], \"yo\", label=\"Iris-Setosa\")\n",
        "\n",
        "from matplotlib.colors import ListedColormap\n",
        "custom_cmap = ListedColormap(['#fafab0','#9898ff','#a0faa0'])\n",
        "\n",
        "plt.contourf(x0, x1, zz, cmap=custom_cmap)\n",
        "contour = plt.contour(x0, x1, zz1, cmap=plt.cm.brg)\n",
        "plt.clabel(contour, inline=1, fontsize=12)\n",
        "plt.xlabel(\"Petal length\", fontsize=14)\n",
        "plt.ylabel(\"Petal width\", fontsize=14)\n",
        "plt.legend(loc=\"center left\", fontsize=14)\n",
        "plt.axis([0, 7, 0, 3.5])\n",
        "plt.show()"
      ],
      "execution_count": 0,
      "outputs": [
        {
          "output_type": "display_data",
          "data": {
            "image/png": "[encoded data removed]",
            "text/plain": [
              "<Figure size 720x288 with 1 Axes>"
            ]
          },
          "metadata": {
            "tags": []
          }
        }
      ]
    },
    {
      "metadata": {
        "id": "FANIePyJyNvq",
        "colab_type": "text"
      },
      "cell_type": "markdown",
      "source": [
        "## Exercises\n",
        "\n",
        "### 1. What Linear Regression training algorithm can you use if you have a training set with millions of features?\n",
        "\n",
        "You can use stochastic gradient descent.\n",
        "\n",
        "### 2. Suppose the features from your training set have very different scales. What algorithm might suffer from this and how? What can you do about it?\n",
        "\n",
        "If features have different scales, then the gradient will look like an elongated\n",
        "bowl, so Gradient Descent will take a long time to converge. Regularized models\n",
        "may also falsely penalize features with a large weight. To address this, you\n",
        "can scale your features using `StandardScaler`.\n",
        "\n",
        "### 3. Can Gradient Descent get stuck in a local minimum while training a Logistic Regression model?\n",
        "\n",
        "No, since the cost function for Logistic Regression is convex.\n",
        "\n",
        "### 4. Do all Gradient Descent algorithms lead to the same model provided you let them run long enough?\n",
        "\n",
        "As long as the cost function for the regression is convex and the learning rate is not too high, then yes, they should all lead to the same model after enough iterations.\n",
        "\n",
        "### 5. Suppose you use Batch Gradient Descent and you plot the validation error at every epoch. If you notice the validation error consistently goes up, what is likely going on? How can you fix this?\n",
        "\n",
        "The validation error consistently going up means that either the learning rate of the Gradient Descent algorithm is too high or that the model is starting to overfit the training data.\n",
        "\n",
        "### 6. Is it a good idea to stop Mini-batch Gradient Descent immediately when the validation error goes up?\n",
        "\n",
        "No, due to the random nature of Mini-batch Gradient Descent, you should stop iterating when the validation error begins consistently going up, rather than\n",
        "when it only goes up once.\n",
        "\n",
        "### 7. Which Gradient Descent algorithm will reach the vicinity of the optimal solution the fastest? Which will actually converge? How can you make the others converge as well?\n",
        "\n",
        "Stochastic Gradient Descent will converge around the optimal solution the fastest. Batch Gradient Descent will actually converge on the optimal solution. Stochastic algorithms may bounce around near the optimal solution and not converge, but by adding Early Stopping you can have the stochastic algorithms converge on the closest they get to the optimal solution after a given number of iterations.\n",
        "\n",
        "### 8. Suppose you are using Polynomial Regression. You plot the learning curves and you notice that there is a large gap between the training error and the validation error. What is happening? What are three ways to solve this?\n",
        "\n",
        "A large gap between the training and validation error suggests that the model is overfitting the data. One thing you can do to help alleviate this is add regularization to your regression model. You could also reduce the degree of the polynomial features you are interested in. Lastly you can try increasing the size of the training set.\n",
        "\n",
        "### 9. Suppose you are using Ridge Regression and you notice that the training error and the validation error are almost equal and fairly high. Would you say that the model suffers from high bias or high variance? Should you increase the regularization hyperparameter, $\\alpha$, or decrease it?\n",
        "\n",
        "The model seems to be suffering from high variance, it cannot accurately predict either the output of the validation and test sets. One thing you can do is increase the regularization hyperparameter, $\\alpha$, to decrease the regularization used in the model.\n",
        "\n",
        "### 10. Why would you want to use:\n",
        "\n",
        "#### Ridge Regression instead of plain Linear Regression?\n",
        "\n",
        "Models with some regularization tend to outperform plain Linear Regression.\n",
        "\n",
        "#### Lasso instead of Ridge Regression?\n",
        "\n",
        "Lasso's $\\ell_1$ regularization tends to cause unimportant features to vanish to zero. This provides some automatic feature selection that Ridge Regression does not.\n",
        "\n",
        "#### Elastic Net instead of Lasso?\n",
        "\n",
        "Lasso Regression can act wildly in some cases, such as when features are highly correlated to one another or when there are more features than training instances. Elastic Net provides some $\\ell_2$ regularization to counteract this, and you can set the $\\ell_1$ mixing hyperparameter close to 1 so that Elastic Net behaves somewhat like Lasso.\n",
        "\n",
        "### 11. Suppose you want to classify pictures as outdoor/indoor and daytime/nightime. Should you implement two Logistic Regression classifiers or one Softmax Regression classifier?\n",
        "\n",
        "You should use a Softmax Regression to train your model since all four classes look pretty distinct.\n",
        "\n",
        "### 12. Implement Batch Gradient Descent with early stopping for Softmax Regression (without using Scikit-Learn)."
      ]
    },
    {
      "metadata": {
        "id": "jM_A84MzDmbt",
        "colab_type": "code",
        "colab": {}
      },
      "cell_type": "code",
      "source": [
        "import numpy as np\n",
        "\n",
        "\n",
        "def train_test_split(X, y, test_size=0.2):\n",
        "  \"\"\"\n",
        "  Assumes len(X) == len(y), test_size in [0, 1]\n",
        "  \n",
        "  \"\"\"\n",
        "  n = len(X)\n",
        "  rand_idx = np.random.permutation(n)\n",
        "  cutoff = n * (1. - test_size)\n",
        "  X_train, X_test = X[:cutoff], X[cutoff:]\n",
        "  y_train, y_test = y[:cutoff], y[cutoff:]\n",
        "  return X_train, X_test, y_train, y_test\n",
        "\n",
        "\n",
        "class Softmax:\n",
        "  \"\"\"\n",
        "  Softmax Regression class\n",
        "  \n",
        "  \"\"\"\n",
        "  def __init__(self, learning_rate=0.1, n_iter=10000):\n",
        "    self.learning_rate_ = learning_rate\n",
        "    self.n_iter_ = 10000\n",
        "    self.theta = None\n",
        "    \n",
        "  def fit(self, X, y):\n",
        "    \"\"\"\n",
        "    Assumes len(X) == len(y)\n",
        "    \n",
        "    \"\"\"\n",
        "    # TODO start w batch gradient descent then modify to use mini-batch stochastic descent.\n",
        "    m = len(X)\n",
        "    return self\n",
        "  \n",
        "  def predict(self, X):\n",
        "    pass"
      ],
      "execution_count": 0,
      "outputs": []
    }
  ]
}