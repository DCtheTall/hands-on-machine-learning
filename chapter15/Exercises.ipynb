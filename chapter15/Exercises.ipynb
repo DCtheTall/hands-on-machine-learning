{
  "nbformat": 4,
  "nbformat_minor": 0,
  "metadata": {
    "colab": {
      "name": "Exercises.ipynb",
      "version": "0.3.2",
      "provenance": [],
      "collapsed_sections": []
    },
    "kernelspec": {
      "name": "python3",
      "display_name": "Python 3"
    },
    "accelerator": "GPU"
  },
  "cells": [
    {
      "cell_type": "markdown",
      "metadata": {
        "id": "c0XSUOR1r2EO",
        "colab_type": "text"
      },
      "source": [
        "# Chapter 15: Autoencoders\n",
        "\n",
        "## Chapter Exercises\n",
        "\n",
        "### 1. What are the main tasks that autoencoders are used for?\n",
        "\n",
        "Autoencoders are neural networks which are trained to reproduce their output. Rheir hidden layers have a lower dimensionality than the signals, so the model needs to learn a \"coding\" of the training set in the hidden layers. From these codings it should be possible to reproduce instances of the input set, or event create entirely new instances that appear to be sampled from the original training set."
      ]
    },
    {
      "cell_type": "markdown",
      "metadata": {
        "id": "GJAXkXSZsho-",
        "colab_type": "text"
      },
      "source": [
        "### 2. Suppose you want to train a classifier and have plenty of unlabeled training data, but only a few thousand labeled instances. How could autoencoders help? How would you proceed?\n",
        "\n",
        "First you would train an autoencoder to reproduce the unlabeled training data. The lower layers and coding layer can be reused as the lower layers of a classification neural network. The classifier will be able to get reasonable performance because of the unsupervised pretraining you did with the autoencoder."
      ]
    },
    {
      "cell_type": "markdown",
      "metadata": {
        "id": "UYGvpAmXsiUV",
        "colab_type": "text"
      },
      "source": [
        "### 3. If an autoencoder perfectly reconstructs the inputs, is it necessarily a good autoencoder? How can you evaluate the performance of the autoencoder?\n",
        "\n",
        "Not necessarily. The model could have just learned to reproduce the training set and cannot generalize to new data, i.e. it is overfitting the training data. One way to see if an autoencoder can generalize is to record the value of the cost function when trying to reproduce new data from the test set."
      ]
    },
    {
      "cell_type": "markdown",
      "metadata": {
        "id": "o3UTdj33sklt",
        "colab_type": "text"
      },
      "source": [
        "### 4. What are undercomplete and overcomplete autoencoders? What is the main risk of an excessive undercomplete autoencoder? What about the main risk of an overcomplete autoencoder?\n",
        "\n",
        "An undercomplete autoencoder's coding layer has a lower dimensionality than the input features. This forces the model to learn general patterns about the training set since it must learn to represent the information in a more dense representation.\n",
        "\n",
        "An overcomplete autoencoder's coding layer has a higher dimensionality than the input features. This means it is capable of trivially reproducing the input features because it has more degrees of freedom than the input. This is why we enforce sparsity loss on overcomplete autoencoders, to prevent overfitting."
      ]
    },
    {
      "cell_type": "markdown",
      "metadata": {
        "id": "sT9JE4Vksulj",
        "colab_type": "text"
      },
      "source": [
        "### 5. How would you tie weights in a stacked autoencoder? What is the point of doing so?\n",
        "\n",
        "If you have a stacked autoencoder with $N$ hidden layers, let $W_L$ be the weights (or kernel) of the $L$<sup>th</sup> layer. You tie the weights of an autoencoder by setting\n",
        "\n",
        "$$ W_{N - L + 1} = W_L^{\\;T} $$\n",
        "\n",
        "for each $L$ up to $N/2$. You can see an example of an autoencoder that ties weights in `Autoencoders.ipynb`."
      ]
    },
    {
      "cell_type": "markdown",
      "metadata": {
        "id": "Kpb0Rkzks0PX",
        "colab_type": "text"
      },
      "source": [
        "### 6. What is a common technique to visualize features learned by the lower layer of a stacked autoencoder? What about the higher layers?\n",
        "\n",
        "One way to visualize the lower layer features is to reshape the weight vectors of the coding layers to the shape of the input features and plot them, see **Visualizing the Extracted Features** in `Autoencoders.ipynb` for an example. \n",
        "\n",
        "To visualize the features you can see which training instances activate each neuron in the higher layers the most."
      ]
    },
    {
      "cell_type": "markdown",
      "metadata": {
        "id": "sV1ABSlEs-ZG",
        "colab_type": "text"
      },
      "source": [
        "### 7. What is a generative model? Can you name a type of generative autoencoder?\n",
        "\n",
        "A generative model are probabilistic models whose outputs depend on change, both during training and during producing (or \"generating\") new data that looks like it was sampled from the training set. The model also learns the parameters for the distribution of the random variables as part of training.\n",
        "\n",
        "One type of generative autoencoder is a _variational autoencoder_, see `Autoencoders.ipynb` for an example of a variational autoencoder for the MNIST dataset."
      ]
    },
    {
      "cell_type": "markdown",
      "metadata": {
        "id": "urrpLxZBt2VS",
        "colab_type": "text"
      },
      "source": [
        "### 8. Let's use a denoising autoencoder to pretrain an image classifier.\n",
        "\n",
        "#### You can use MNIST (simplest), or another large set of images such as [CIFAR10](https://www.cs.toronto.edu/~kriz/cifar.html) if you want a bigger challenge. If you choose CIFAR10 you need to write code to load batches of images for traiing. If you want to skip this part, [TensorFlow's model zoo contains tools to do just that](https://github.com/tensorflow/models/blob/master/research/slim/download_and_convert_data.py).\n",
        "\n",
        "Since the MNIST dataset is used many places in this repository, I am going to use the CIFAR10 dataset and train a convolutional autoencoder since the final task is to train an image classifcation model."
      ]
    },
    {
      "cell_type": "code",
      "metadata": {
        "id": "BWmoKgZxvLJU",
        "colab_type": "code",
        "outputId": "5af9b058-9b42-4677-8635-6c7fee7416d8",
        "colab": {
          "base_uri": "https://localhost:8080/",
          "height": 33
        }
      },
      "source": [
        "# Downloading the data. The code here is based on the code from\n",
        "# https://github.com/tensorflow/models/blob/master/research/slim/datasets/download_and_convert_cifar10.py\n",
        "\n",
        "from six.moves import urllib\n",
        "import os\n",
        "import sys\n",
        "import tarfile\n",
        "\n",
        "!mkdir -p 'data'\n",
        "data_dir = 'data/'\n",
        "\n",
        "data_url = 'https://www.cs.toronto.edu/~kriz/cifar-10-python.tar.gz'\n",
        "filename = data_url.split('/')[-1]\n",
        "filepath = data_dir + data_url.split('/')[-1]\n",
        "\n",
        "if not os.path.exists(filepath):\n",
        "  def progress(count, block_size, total_size):\n",
        "    sys.stdout.write('\\r>> Downloading %s %.1f%%' % \\\n",
        "        (filename, float(count * block_size) / total_size * 100))\n",
        "    sys.stdout.flush()\n",
        "  filepath, _ = urllib.request.urlretrieve(data_url, filepath, progress)\n",
        "  tarfile.open(filepath, 'r:gz').extractall(data_dir)"
      ],
      "execution_count": 0,
      "outputs": [
        {
          "output_type": "stream",
          "text": [
            ">> Downloading cifar-10-python.tar.gz 100.0%"
          ],
          "name": "stdout"
        }
      ]
    },
    {
      "cell_type": "code",
      "metadata": {
        "id": "KNw1GVAX6BIX",
        "colab_type": "code",
        "outputId": "39838551-3502-489a-c25a-865c1c69a24a",
        "colab": {
          "base_uri": "https://localhost:8080/",
          "height": 50
        }
      },
      "source": [
        "!ls data/cifar-10-batches-py/"
      ],
      "execution_count": 0,
      "outputs": [
        {
          "output_type": "stream",
          "text": [
            "batches.meta  data_batch_2  data_batch_4  readme.html\n",
            "data_batch_1  data_batch_3  data_batch_5  test_batch\n"
          ],
          "name": "stdout"
        }
      ]
    },
    {
      "cell_type": "code",
      "metadata": {
        "id": "VvnOB8336LJd",
        "colab_type": "code",
        "colab": {}
      },
      "source": [
        "# Transforming the data into a useable form.\n",
        "\n",
        "import pickle\n",
        "import numpy as np\n",
        "\n",
        "cifar_dir = 'data/cifar-10-batches-py/'\n",
        "batches_path = cifar_dir + 'data_batch_'\n",
        "test_batch_path = cifar_dir + 'test_batch'\n",
        "\n",
        "data_batches = []\n",
        "X_train, y_train = [], []\n",
        "for i in range(1, 6):\n",
        "  with open(batches_path + str(i), 'rb') as f:\n",
        "    D = pickle.load(f, encoding='bytes')\n",
        "    for data in D[b'data']:\n",
        "      X_train.append(data / 255)\n",
        "    for label in D[b'labels']:\n",
        "      y_train.append(label)\n",
        "\n",
        "X_test, y_test = [], []\n",
        "with open(test_batch_path, 'rb') as f:\n",
        "  D = pickle.load(f, encoding='bytes')\n",
        "  for data in D[b'data']:\n",
        "    X_test.append(data / 255)\n",
        "  for label in D[b'labels']:\n",
        "    y_test.append(label)"
      ],
      "execution_count": 0,
      "outputs": []
    },
    {
      "cell_type": "code",
      "metadata": {
        "id": "Hi3PfF4W89qm",
        "colab_type": "code",
        "colab": {}
      },
      "source": [
        "X_train, y_train = \\\n",
        "    np.array(X_train, dtype=np.float32), np.array(y_train, dtype=np.int32)\n",
        "X_test, y_test = \\\n",
        "    np.array(X_test, dtype=np.float32), np.array(y_test, dtype=np.int32)"
      ],
      "execution_count": 0,
      "outputs": []
    },
    {
      "cell_type": "code",
      "metadata": {
        "id": "6YmG3owe-P34",
        "colab_type": "code",
        "outputId": "08bab33c-8e12-4879-d3c0-9dc14da0aead",
        "colab": {
          "base_uri": "https://localhost:8080/",
          "height": 50
        }
      },
      "source": [
        "print(X_train.shape)\n",
        "print(y_train.shape)"
      ],
      "execution_count": 0,
      "outputs": [
        {
          "output_type": "stream",
          "text": [
            "(50000, 3072)\n",
            "(50000,)\n"
          ],
          "name": "stdout"
        }
      ]
    },
    {
      "cell_type": "code",
      "metadata": {
        "id": "EXgi09-QVVll",
        "colab_type": "code",
        "colab": {}
      },
      "source": [
        "# Define a function to plot an image.\n",
        "\n",
        "import matplotlib.pyplot as plt\n",
        "\n",
        "def plot_image(img, shape=(32, 32, 3)):\n",
        "  plt.imshow(img.reshape(shape), cmap='gray', interpolation='nearest')\n",
        "  plt.axis('off')"
      ],
      "execution_count": 0,
      "outputs": []
    },
    {
      "cell_type": "code",
      "metadata": {
        "id": "8OsYoRg4VbAV",
        "colab_type": "code",
        "colab": {}
      },
      "source": [
        "# Defining a function for reshaping the data for plotting.\n",
        "\n",
        "def reshape_instance(instance):\n",
        "  pixels = [None for _ in range(32 ** 2)]\n",
        "  for i in range(32 ** 2):\n",
        "    pixels[i] = [instance[i + (j * (32 ** 2))] for j in range(3)]\n",
        "  return np.array(pixels, dtype=np.float32)"
      ],
      "execution_count": 0,
      "outputs": []
    },
    {
      "cell_type": "code",
      "metadata": {
        "id": "0tfvyWpgVdqK",
        "colab_type": "code",
        "outputId": "0136182f-cd89-43bb-fead-ac3b5f1efad9",
        "colab": {
          "base_uri": "https://localhost:8080/",
          "height": 158
        }
      },
      "source": [
        "plt.figure(figsize=(2,2))\n",
        "plot_image(reshape_instance(X_train[0]))\n",
        "plt.show()"
      ],
      "execution_count": 0,
      "outputs": [
        {
          "output_type": "display_data",
          "data": {
            "image/png": "[encoded data removed]",
            "text/plain": [
              "<Figure size 144x144 with 1 Axes>"
            ]
          },
          "metadata": {
            "tags": []
          }
        }
      ]
    },
    {
      "cell_type": "code",
      "metadata": {
        "id": "49WKKwkU-eTb",
        "colab_type": "code",
        "colab": {}
      },
      "source": [
        "# Defining a function for generating mini-batches during training.\n",
        "\n",
        "import numpy.random as rnd\n",
        "\n",
        "def shuffle_batches(X, y, batch_size):\n",
        "  rand_idx = rnd.permutation(len(X))\n",
        "  n_batches = len(X) // batch_size\n",
        "  for batch_idx in np.array_split(rand_idx, n_batches):\n",
        "    yield X[batch_idx], y[batch_idx] "
      ],
      "execution_count": 0,
      "outputs": []
    },
    {
      "cell_type": "markdown",
      "metadata": {
        "id": "7G67JF7XyoBf",
        "colab_type": "text"
      },
      "source": [
        "#### Split the dataset into a training set and a test set. Train a deep denoising autoencoder on the full training set.\n",
        "\n",
        "Since the data is already split into a training and a test set, I will start right away with training an autoencoder."
      ]
    },
    {
      "cell_type": "code",
      "metadata": {
        "id": "SVQrhy5AB9Qm",
        "colab_type": "code",
        "colab": {}
      },
      "source": [
        "# Defining the model graph.\n",
        "\n",
        "import tensorflow as tf\n",
        "from functools import partial\n",
        "\n",
        "def reset_graph(seed=42):\n",
        "  tf.reset_default_graph()\n",
        "  tf.set_random_seed(seed)\n",
        "  rnd.seed(seed)\n",
        "\n",
        "reset_graph()\n",
        "\n",
        "n_inputs = 3 * (32 ** 2)\n",
        "n_hidden1 = 3 * (16 ** 2)\n",
        "n_hidden2 = 3 * (8 ** 2)\n",
        "n_hidden3 = n_hidden1\n",
        "n_outputs = n_inputs\n",
        "\n",
        "learning_rate = 1e-3\n",
        "dropout_rate = 0.3\n",
        "\n",
        "X = tf.placeholder(tf.float32, shape=(None, n_inputs))\n",
        "training = tf.placeholder_with_default(False, shape=())\n",
        "\n",
        "X_drop = tf.layers.dropout(X, rate=dropout_rate, training=training)\n",
        "\n",
        "he_init = tf.contrib.layers.variance_scaling_initializer()\n",
        "\n",
        "init_weights = lambda n1, n2, name: \\\n",
        "    tf.Variable(he_init([n1, n2]), dtype=tf.float32, name=name)\n",
        "W1 = init_weights(n_inputs, n_hidden1, name='W1')\n",
        "W2 = init_weights(n_hidden1, n_hidden2, name='W2')\n",
        "W3 = init_weights(n_hidden2, n_hidden3, name='W3')\n",
        "W4 = init_weights(n_hidden3, n_outputs, name='W4')\n",
        "\n",
        "init_bias = lambda n, name: \\\n",
        "    tf.Variable(tf.zeros(n), dtype=tf.float32, name=name)\n",
        "b1 = init_bias(n_hidden1, name='bias1')\n",
        "b2 = init_bias(n_hidden2, name='bias2')\n",
        "b3 = init_bias(n_hidden3, name='bias3')\n",
        "b4 = init_bias(n_outputs, name='bias4')\n",
        "\n",
        "hidden1 = tf.nn.elu(tf.matmul(X_drop, W1) + b1)\n",
        "hidden2 = tf.nn.elu(tf.matmul(hidden1, W2) + b2)\n",
        "hidden3 = tf.nn.elu(tf.matmul(hidden2, W3) + b3)\n",
        "outputs = tf.nn.sigmoid(tf.matmul(hidden3, W4) + b4)\n",
        "\n",
        "reconstruction_loss = tf.reduce_mean(tf.square(X - outputs))\n",
        "optimizer = tf.train.AdamOptimizer(learning_rate)\n",
        "training_op = optimizer.minimize(reconstruction_loss)\n",
        "\n",
        "saver = tf.train.Saver()\n",
        "init = tf.global_variables_initializer()"
      ],
      "execution_count": 0,
      "outputs": []
    },
    {
      "cell_type": "code",
      "metadata": {
        "id": "bMPdL3gnFco8",
        "colab_type": "code",
        "outputId": "b0e246eb-a9af-409d-f916-64b07c38213c",
        "colab": {
          "base_uri": "https://localhost:8080/",
          "height": 200
        }
      },
      "source": [
        "# Train the model.\n",
        "\n",
        "n_epochs = 50\n",
        "batch_size = 150\n",
        "model_path = 'cifar10_autoencoder'\n",
        "\n",
        "with tf.Session() as sess:\n",
        "  init.run()\n",
        "  for epoch in range(n_epochs):\n",
        "    n_batches = len(X_train) // batch_size\n",
        "    i = 0\n",
        "    for X_batch, _ in shuffle_batches(X_train, y_train, batch_size):\n",
        "      i += 1\n",
        "      print('\\r{}%'.format(100 * i // n_batches), end='')\n",
        "      sys.stdout.flush()\n",
        "      sess.run(training_op, feed_dict={X: X_batch, training: True})\n",
        "    loss_train = reconstruction_loss.eval(feed_dict={X: X_batch})\n",
        "    if epoch % 5 == 0:\n",
        "      print('\\r{}'.format(epoch), 'Train MSE:', loss_train)\n",
        "  saver.save(sess, model_path)\n",
        "  loss_test = reconstruction_loss.eval(feed_dict={X: X_test})\n",
        "  print('\\rTest MSE:', loss_test)"
      ],
      "execution_count": 0,
      "outputs": [
        {
          "output_type": "stream",
          "text": [
            "0 Train MSE: 0.019156324\n",
            "5 Train MSE: 0.011925949\n",
            "10 Train MSE: 0.010401742\n",
            "15 Train MSE: 0.009037251\n",
            "20 Train MSE: 0.00828981\n",
            "25 Train MSE: 0.008364517\n",
            "30 Train MSE: 0.008173107\n",
            "35 Train MSE: 0.008024467\n",
            "40 Train MSE: 0.0070956266\n",
            "45 Train MSE: 0.0076373117\n",
            "Test MSE: 0.007620284\n"
          ],
          "name": "stdout"
        }
      ]
    },
    {
      "cell_type": "markdown",
      "metadata": {
        "id": "1ZN1gd7-yoUC",
        "colab_type": "text"
      },
      "source": [
        "#### Check that the images are fairly well reconstructed, and visualize the low level features. Visualize the images that most activate each neuron in the coding layer."
      ]
    },
    {
      "cell_type": "code",
      "metadata": {
        "id": "sr8thVBHL6V_",
        "colab_type": "code",
        "colab": {}
      },
      "source": [
        "# Plot some instances of the training set and their reconstruction. One per\n",
        "# type of label.\n",
        "\n",
        "examples = dict()\n",
        "\n",
        "for i, x in enumerate(X_train):\n",
        "  label = y_train[i]\n",
        "  if label not in examples:\n",
        "    examples[label] = x\n",
        "    if len(examples) == 10:\n",
        "      examples = list(examples.values())\n",
        "      break\n",
        "\n",
        "with tf.Session() as sess:\n",
        "  init.run()\n",
        "  saver.restore(sess, model_path)\n",
        "  outputs_val = outputs.eval(feed_dict={X: examples})"
      ],
      "execution_count": 0,
      "outputs": []
    },
    {
      "cell_type": "code",
      "metadata": {
        "id": "rExoGMTFOazm",
        "colab_type": "code",
        "outputId": "3b322499-c633-4eb3-f5c9-651df57fcd09",
        "colab": {
          "base_uri": "https://localhost:8080/",
          "height": 1000
        }
      },
      "source": [
        "for i, x in enumerate(examples):\n",
        "  plt.figure(figsize=(15, 15))\n",
        "  plt.subplot(10, 2, (2 * i) + 1)\n",
        "  plot_image(reshape_instance(x))\n",
        "  plt.subplot(10, 2, (2 * i) + 2)\n",
        "  plot_image(reshape_instance(outputs_val[i]))\n",
        "plt.show()"
      ],
      "execution_count": 0,
      "outputs": [
        {
          "output_type": "display_data",
          "data": {
            "image/png": "[encoded data removed]",
            "text/plain": [
              "<Figure size 1080x1080 with 2 Axes>"
            ]
          },
          "metadata": {
            "tags": []
          }
        },
        {
          "output_type": "display_data",
          "data": {
            "image/png": "[encoded data removed]",
            "text/plain": [
              "<Figure size 1080x1080 with 2 Axes>"
            ]
          },
          "metadata": {
            "tags": []
          }
        },
        {
          "output_type": "display_data",
          "data": {
            "image/png": "[encoded data removed]",
            "text/plain": [
              "<Figure size 1080x1080 with 2 Axes>"
            ]
          },
          "metadata": {
            "tags": []
          }
        },
        {
          "output_type": "display_data",
          "data": {
            "image/png": "[encoded data removed]",
            "text/plain": [
              "<Figure size 1080x1080 with 2 Axes>"
            ]
          },
          "metadata": {
            "tags": []
          }
        },
        {
          "output_type": "display_data",
          "data": {
            "image/png": "[encoded data removed]",
            "text/plain": [
              "<Figure size 1080x1080 with 2 Axes>"
            ]
          },
          "metadata": {
            "tags": []
          }
        },
        {
          "output_type": "display_data",
          "data": {
            "image/png": "[encoded data removed]",
            "text/plain": [
              "<Figure size 1080x1080 with 2 Axes>"
            ]
          },
          "metadata": {
            "tags": []
          }
        },
        {
          "output_type": "display_data",
          "data": {
            "image/png": "[encoded data removed]",
            "text/plain": [
              "<Figure size 1080x1080 with 2 Axes>"
            ]
          },
          "metadata": {
            "tags": []
          }
        },
        {
          "output_type": "display_data",
          "data": {
            "image/png": "[encoded data removed]",
            "text/plain": [
              "<Figure size 1080x1080 with 2 Axes>"
            ]
          },
          "metadata": {
            "tags": []
          }
        },
        {
          "output_type": "display_data",
          "data": {
            "image/png": "[encoded data removed]",
            "text/plain": [
              "<Figure size 1080x1080 with 2 Axes>"
            ]
          },
          "metadata": {
            "tags": []
          }
        },
        {
          "output_type": "display_data",
          "data": {
            "image/png": "[encoded data removed]",
            "text/plain": [
              "<Figure size 1080x1080 with 2 Axes>"
            ]
          },
          "metadata": {
            "tags": []
          }
        }
      ]
    },
    {
      "cell_type": "code",
      "metadata": {
        "id": "41PE87I9clpF",
        "colab_type": "code",
        "colab": {}
      },
      "source": [
        "# Getting the weights in the coding layers.\n",
        "\n",
        "with tf.Session() as sess:\n",
        "  init.run()\n",
        "  weights1_val = W1.eval()\n",
        "  weights2_val = W2.eval()"
      ],
      "execution_count": 0,
      "outputs": []
    },
    {
      "cell_type": "code",
      "metadata": {
        "id": "gcISHAUReYZd",
        "colab_type": "code",
        "outputId": "ca692963-3ecf-40e4-b49e-387d0ee3d623",
        "colab": {
          "base_uri": "https://localhost:8080/",
          "height": 50
        }
      },
      "source": [
        "print(weights1_val.shape)\n",
        "print(weights2_val.shape)"
      ],
      "execution_count": 0,
      "outputs": [
        {
          "output_type": "stream",
          "text": [
            "(3072, 768)\n",
            "(768, 192)\n"
          ],
          "name": "stdout"
        }
      ]
    },
    {
      "cell_type": "code",
      "metadata": {
        "id": "HqzKgARWc6QC",
        "colab_type": "code",
        "colab": {}
      },
      "source": [
        "# Defining a function for reshaping the weights layer.\n",
        "\n",
        "def reshape_weights(weights, image_dim):\n",
        "  pixels = [None for _ in range(image_dim ** 2)]\n",
        "  for i in range(image_dim ** 2):\n",
        "    pixels[i] = [weights[i + (j * (image_dim ** 2))] for j in range(3)]\n",
        "  return np.array(pixels, dtype=np.float32)"
      ],
      "execution_count": 0,
      "outputs": []
    },
    {
      "cell_type": "code",
      "metadata": {
        "id": "klrLUYV6eKeg",
        "colab_type": "code",
        "outputId": "dd06d2b7-e861-44d3-ca05-3dc97a6a1651",
        "colab": {
          "base_uri": "https://localhost:8080/",
          "height": 644
        }
      },
      "source": [
        "# Visualizing the coding layers. I use Scikit-Learn's MinMaxScaler to transform\n",
        "# the weights to the range [0, 1].\n",
        "\n",
        "from sklearn.preprocessing import MinMaxScaler\n",
        "\n",
        "W1 = MinMaxScaler().fit_transform(weights1_val.T)\n",
        "W2 = MinMaxScaler().fit_transform(weights2_val.T)\n",
        "for i in range(5):\n",
        "  plt.figure(figsize=(10, 10))\n",
        "  plt.subplot(5, 2, (2 * i) + 1)\n",
        "  plot_image(reshape_weights(W1[i], 16), shape=(16, 16, 3))\n",
        "  plt.subplot(5, 2, (2 * i) + 2)\n",
        "  plot_image(reshape_weights(W2[i], 8), shape=(8, 8, 3))\n",
        "plt.show()"
      ],
      "execution_count": 0,
      "outputs": [
        {
          "output_type": "display_data",
          "data": {
            "image/png": "[encoded data removed]",
            "text/plain": [
              "<Figure size 720x720 with 2 Axes>"
            ]
          },
          "metadata": {
            "tags": []
          }
        },
        {
          "output_type": "display_data",
          "data": {
            "image/png": "[encoded data removed]",
            "text/plain": [
              "<Figure size 720x720 with 2 Axes>"
            ]
          },
          "metadata": {
            "tags": []
          }
        },
        {
          "output_type": "display_data",
          "data": {
            "image/png": "[encoded data removed]",
            "text/plain": [
              "<Figure size 720x720 with 2 Axes>"
            ]
          },
          "metadata": {
            "tags": []
          }
        },
        {
          "output_type": "display_data",
          "data": {
            "image/png": "[encoded data removed]",
            "text/plain": [
              "<Figure size 720x720 with 2 Axes>"
            ]
          },
          "metadata": {
            "tags": []
          }
        },
        {
          "output_type": "display_data",
          "data": {
            "image/png": "[encoded data removed]",
            "text/plain": [
              "<Figure size 720x720 with 2 Axes>"
            ]
          },
          "metadata": {
            "tags": []
          }
        }
      ]
    },
    {
      "cell_type": "markdown",
      "metadata": {
        "id": "t7NciXOByozR",
        "colab_type": "text"
      },
      "source": [
        "#### Build a classification deep neural network, reusing the lower layers of the autoencoder. Train it using only 10% of the training set. Can you get it to perform as well as the same classifier trained on the full training set?"
      ]
    },
    {
      "cell_type": "code",
      "metadata": {
        "id": "y2K8Ki2KmFc9",
        "colab_type": "code",
        "colab": {}
      },
      "source": [
        "# First going to create a classifier whose lower layers are the same shape\n",
        "# as the autoencoder I trained above.\n",
        "\n",
        "reset_graph()\n",
        "\n",
        "n_inputs = 3 * (32 ** 2)\n",
        "n_hidden1 = 3 * (16 ** 2)\n",
        "n_hidden2 = 3 * (8 ** 2)\n",
        "n_hidden3 = 150\n",
        "n_outputs = 10\n",
        "\n",
        "learning_rate = 1e-4\n",
        "l2_reg = 0.0005\n",
        "\n",
        "X = tf.placeholder(tf.float32, shape=(None, n_inputs))\n",
        "y = tf.placeholder(tf.int32, shape=(None))\n",
        "\n",
        "training = tf.placeholder_with_default(False, shape=())\n",
        "\n",
        "he_init = tf.contrib.layers.variance_scaling_initializer()\n",
        "dense = partial(tf.layers.dense, activation=tf.nn.elu,\n",
        "                kernel_initializer=he_init)\n",
        "\n",
        "he_init = tf.contrib.layers.variance_scaling_initializer()\n",
        "regularizer = tf.contrib.layers.l2_regularizer(l2_reg)\n",
        "\n",
        "init_weights = lambda n1, n2, name: \\\n",
        "    tf.Variable(he_init([n1, n2]), dtype=tf.float32, name=name)\n",
        "W1 = init_weights(n_inputs, n_hidden1, name='W1')\n",
        "W2 = init_weights(n_hidden1, n_hidden2, name='W2')\n",
        "W3 = init_weights(n_hidden2, n_hidden3, name='W3')\n",
        "W4 = init_weights(n_hidden3, n_outputs, name='W4')\n",
        "\n",
        "init_bias = lambda n, name: \\\n",
        "    tf.Variable(tf.zeros(n), dtype=tf.float32, name=name)\n",
        "b1 = init_bias(n_hidden1, name='bias1')\n",
        "b2 = init_bias(n_hidden2, name='bias2')\n",
        "b3 = init_bias(n_hidden3, name='bias3')\n",
        "b4 = init_bias(n_outputs, name='bias4')\n",
        "\n",
        "hidden1 = tf.nn.elu(tf.matmul(X, W1) + b1)\n",
        "hidden2 = tf.nn.elu(tf.matmul(hidden1, W2) + b2)\n",
        "hidden3 = tf.nn.elu(tf.matmul(hidden2, W3) + b3)\n",
        "logits = tf.matmul(hidden3, W4) + b4\n",
        "\n",
        "xentropy = tf.nn.sparse_softmax_cross_entropy_with_logits(labels=y,\n",
        "                                                          logits=logits)\n",
        "reg_loss = regularizer(W1) + regularizer(W2) + regularizer(W3) + \\\n",
        "    regularizer(W4)\n",
        "loss = tf.reduce_mean(xentropy) + reg_loss\n",
        "optimizer = tf.train.AdamOptimizer(learning_rate)\n",
        "training_op = optimizer.minimize(loss)\n",
        "pretrain_training_op = optimizer.minimize(loss, var_list=[W3, b3, W4, b4])\n",
        "\n",
        "correct = tf.nn.in_top_k(logits, y, 1)\n",
        "accuracy = tf.reduce_mean(tf.cast(correct, tf.float32))\n",
        "\n",
        "pretrain_saver = tf.train.Saver([W1, W2, b1, b2])\n",
        "init = tf.global_variables_initializer()"
      ],
      "execution_count": 0,
      "outputs": []
    },
    {
      "cell_type": "code",
      "metadata": {
        "id": "pAoiK3DEpxDw",
        "colab_type": "code",
        "outputId": "741845f6-d49d-4748-fc7a-b24494a5f8e4",
        "colab": {
          "base_uri": "https://localhost:8080/",
          "height": 200
        }
      },
      "source": [
        "# Training the model without pretraining on the whole dataset.\n",
        "\n",
        "n_epochs = 50\n",
        "batch_size = 150\n",
        "\n",
        "with tf.Session() as sess:\n",
        "  init.run()\n",
        "  for epoch in range(n_epochs):\n",
        "    n_batches = len(X_train) // batch_size\n",
        "    i = 0\n",
        "    for X_batch, y_batch in shuffle_batches(X_train, y_train, batch_size):\n",
        "      i += 1\n",
        "      print('\\r{}%'.format(100 * i // n_batches), end='')\n",
        "      sys.stdout.flush()\n",
        "      sess.run(training_op, feed_dict={X: X_batch, y: y_batch})\n",
        "    if epoch % 5 == 0:\n",
        "      loss_train = loss.eval(feed_dict={X: X_train, y: y_train})\n",
        "      acc_train = accuracy.eval(feed_dict={X: X_train, y: y_train})\n",
        "      print('\\r{}'.format(epoch), 'Train Loss:', loss_train, 'Train Accuracy:',\n",
        "            100 * acc_train)\n",
        "  acc_test = accuracy.eval(feed_dict={X: X_test, y: y_test})\n",
        "  print('\\rTest Accuracy:', 100 * acc_test)"
      ],
      "execution_count": 0,
      "outputs": [
        {
          "output_type": "stream",
          "text": [
            "0 Train Loss: 2.2848747 Train Accuracy: 39.743998646736145\n",
            "5 Train Loss: 1.9611313 Train Accuracy: 48.980000615119934\n",
            "10 Train Loss: 1.8068571 Train Accuracy: 53.67199778556824\n",
            "15 Train Loss: 1.6686205 Train Accuracy: 57.50200152397156\n",
            "20 Train Loss: 1.5706263 Train Accuracy: 60.27200222015381\n",
            "25 Train Loss: 1.4803302 Train Accuracy: 63.26199769973755\n",
            "30 Train Loss: 1.4532766 Train Accuracy: 63.14600110054016\n",
            "35 Train Loss: 1.3512461 Train Accuracy: 66.85600280761719\n",
            "40 Train Loss: 1.3468226 Train Accuracy: 66.58200025558472\n",
            "45 Train Loss: 1.2468351 Train Accuracy: 70.0380027294159\n",
            "Test Accuracy: 55.239999294281006\n"
          ],
          "name": "stdout"
        }
      ]
    },
    {
      "cell_type": "code",
      "metadata": {
        "id": "LvY5EYaA2ZK5",
        "colab_type": "code",
        "outputId": "cce388e7-e9d1-4a28-9150-0c3845a1cbf0",
        "colab": {
          "base_uri": "https://localhost:8080/",
          "height": 200
        }
      },
      "source": [
        "# Training the model with pretraining on 10% of the training dataset.\n",
        "# It does not perform as well as training using the whole training set without\n",
        "# pretraining, but this is expected given we're only using 10% of the training\n",
        "# set for the supervised task.\n",
        "\n",
        "n_epochs = 200\n",
        "batch_size = 150\n",
        "\n",
        "X_train_short = X_train[:len(X_train) // 10]\n",
        "y_train_short = y_train[:len(y_train) // 10]\n",
        "\n",
        "with tf.Session() as sess:\n",
        "  init.run()\n",
        "  pretrain_saver.restore(sess, model_path)\n",
        "  for epoch in range(n_epochs):\n",
        "    n_batches = len(X_train_short) // batch_size\n",
        "    i = 0\n",
        "    for X_batch, y_batch in shuffle_batches(X_train_short, y_train_short,\n",
        "                                            batch_size):\n",
        "      i += 1\n",
        "      print('\\r{}%'.format(100 * i // n_batches), end='')\n",
        "      sys.stdout.flush()\n",
        "      sess.run(pretrain_training_op, feed_dict={X: X_batch, y: y_batch})\n",
        "    if epoch % 20 == 0:\n",
        "      loss_train = loss.eval(feed_dict={X: X_train_short, y: y_train_short})\n",
        "      acc_train = accuracy.eval(feed_dict={X: X_train_short, y: y_train_short})\n",
        "      print('\\r{}'.format(epoch), 'Train Loss:', loss_train, 'Train Accuracy:',\n",
        "            100 * acc_train)\n",
        "  acc_test = accuracy.eval(feed_dict={X: X_test, y: y_test})\n",
        "  print('\\rTest Accuracy:', 100 * acc_test)"
      ],
      "execution_count": 0,
      "outputs": [
        {
          "output_type": "stream",
          "text": [
            "0 Train Loss: 3.931398 Train Accuracy: 11.339999735355377\n",
            "20 Train Loss: 3.0352888 Train Accuracy: 33.7799996137619\n",
            "40 Train Loss: 2.8699465 Train Accuracy: 40.25999903678894\n",
            "60 Train Loss: 2.7878394 Train Accuracy: 43.07999908924103\n",
            "80 Train Loss: 2.737611 Train Accuracy: 44.760000705718994\n",
            "100 Train Loss: 2.703654 Train Accuracy: 46.90000116825104\n",
            "120 Train Loss: 2.672138 Train Accuracy: 48.339998722076416\n",
            "140 Train Loss: 2.6493688 Train Accuracy: 48.62000048160553\n",
            "160 Train Loss: 2.6204128 Train Accuracy: 49.73999857902527\n",
            "180 Train Loss: 2.6003225 Train Accuracy: 50.8400022983551\n",
            "Test Accuracy: 40.65000116825104\n"
          ],
          "name": "stdout"
        }
      ]
    },
    {
      "cell_type": "markdown",
      "metadata": {
        "id": "_TS1H0H5vQvR",
        "colab_type": "text"
      },
      "source": [
        "### 9. [_Semanting hashing_](http://www.cs.toronto.edu/~rsalakhu/papers/sdarticle.pdf) is a technique used for efficient _information retrieval_: a document (e.g. an iamges) is passed throug a system (typically a neural network) that outputs a low-dimensional binary vector (e.g. 30 bits). Indexing each document using its hash, it is possible to retrieve many documents similar to the particular document almonst instantly. Let's implement semantic hashing using a slightly tweaked stacked autoencoder.\n",
        "\n",
        "#### Create a stacked autoencoder containng two hidden layers below the coding layer, and train it in the image dataset you used in the previous exercis. The coding layer should contain 30 neurons and use the logistic activation function to output values between 0 and 1. After training, to produce the hash of an image, you can simply run it through the autoencoder, take the output of the coding layer and round the output of each neuron to 0 or 1."
      ]
    },
    {
      "cell_type": "markdown",
      "metadata": {
        "id": "BImAcendy8nP",
        "colab_type": "text"
      },
      "source": [
        "#### One trick proposed by Salakhutdinov and Hinton is to add Gaussian noise (with zero mean) to the inputs of the coding layer during training. In order to preserve a high signal-to-noise ration, the autoencoder will learn to feed large values to the coding layer. In turn, this means the logistic activation function of the coding layer will likely saturate at 0 or 1. As a result, rounding the codings to 0 or 1 won't distort the output as much."
      ]
    },
    {
      "cell_type": "markdown",
      "metadata": {
        "id": "NZJkE-eOy8vu",
        "colab_type": "text"
      },
      "source": [
        "#### Compute the hash of every image, and see if images with identical hashes look alike. Since the dataset is labeled, one way to measure the performance of the autoencoder is to see if images with the same hash are part of the same class. You can use the Gini purity (introduced in Chapter 6) of the sets of images with identical (or very similar hashes)."
      ]
    },
    {
      "cell_type": "markdown",
      "metadata": {
        "id": "vq4sgG-zy9Dg",
        "colab_type": "text"
      },
      "source": [
        "#### Try fine tuning the hyperparameters using cross-validation."
      ]
    },
    {
      "cell_type": "markdown",
      "metadata": {
        "id": "8kkaLtCjy9MG",
        "colab_type": "text"
      },
      "source": [
        "#### Note that with a labeled dataset, another approach is to train a convolutional neural network (CNN) for classiciation, then use the layer below the output layer to produce the hashes. See [Jimma Gua and Jianmin Li's 2015 paper](https://arxiv.org/pdf/1509.01354.pdf). See if it performs better."
      ]
    },
    {
      "cell_type": "markdown",
      "metadata": {
        "id": "kOkOQ9AgyYj1",
        "colab_type": "text"
      },
      "source": [
        "### 10. Train a variational autoencoder on the image dataset used in the previous exercises and make it generate images. Alternatively, you can try to find an unlabeled dataset that you are interested in and see if you can generate new samples.\n",
        "\n",
        "Look at this tutorial: https://www.tensorflow.org/beta/tutorials/generative/cvae for a convolutional variational autoencoder (CVAE)."
      ]
    }
  ]
}