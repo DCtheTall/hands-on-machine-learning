{
  "nbformat": 4,
  "nbformat_minor": 0,
  "metadata": {
    "colab": {
      "name": "Autoencoders.ipynb",
      "version": "0.3.2",
      "provenance": [],
      "collapsed_sections": []
    },
    "kernelspec": {
      "name": "python3",
      "display_name": "Python 3"
    },
    "accelerator": "GPU"
  },
  "cells": [
    {
      "cell_type": "markdown",
      "metadata": {
        "id": "BD2Yqnh1gXS8",
        "colab_type": "text"
      },
      "source": [
        "# Chapter 15: Autoencoders\n",
        "\n",
        "Autoencoders are an unsupervised neural network architecture who are tasked with reproducing their input. They do so by learning how to encode their inputs using hidden layers that are _smaller_ than the input layer. This forces the model to learn an efficient representation of the data, called _codings_.\n",
        "\n",
        "Below is some setup code which the author uses for the code throughout the chapter.\n",
        "\n"
      ]
    },
    {
      "cell_type": "code",
      "metadata": {
        "id": "jLsyTnsMgU2s",
        "colab_type": "code",
        "colab": {}
      },
      "source": [
        "import numpy as np\n",
        "import os\n",
        "import sys\n",
        "\n",
        "def reset_graph(seed=42):\n",
        "    tf.reset_default_graph()\n",
        "    tf.set_random_seed(seed)\n",
        "    np.random.seed(seed)\n",
        "\n",
        "# Plot styling.\n",
        "%matplotlib inline\n",
        "import matplotlib\n",
        "import matplotlib.pyplot as plt\n",
        "plt.rcParams['axes.labelsize'] = 14\n",
        "plt.rcParams['xtick.labelsize'] = 12\n",
        "plt.rcParams['ytick.labelsize'] = 12\n",
        "\n",
        "# Code for saving figures.\n",
        "PROJECT_ROOT_DIR = \".\"\n",
        "CHAPTER_ID = \"autoencoders\"\n",
        "def save_fig(fig_id, tight_layout=True):\n",
        "    path = os.path.join(PROJECT_ROOT_DIR, 'images', '{}.png'.format(fig_id))\n",
        "    print(\"Saving figure\", fig_id)\n",
        "    if tight_layout:\n",
        "        plt.tight_layout()\n",
        "    plt.savefig(path, format='png', dpi=300)"
      ],
      "execution_count": 0,
      "outputs": []
    },
    {
      "cell_type": "code",
      "metadata": {
        "id": "Rl0abSFRt-yq",
        "colab_type": "code",
        "colab": {}
      },
      "source": [
        "def plot_image(image, shape=[28, 28]):\n",
        "    plt.imshow(image.reshape(shape), cmap='Greys', interpolation='nearest')\n",
        "    plt.axis('off')"
      ],
      "execution_count": 0,
      "outputs": []
    },
    {
      "cell_type": "code",
      "metadata": {
        "id": "olJpqlG4KYMx",
        "colab_type": "code",
        "colab": {}
      },
      "source": [
        "!mkdir images"
      ],
      "execution_count": 0,
      "outputs": []
    },
    {
      "cell_type": "markdown",
      "metadata": {
        "id": "qtkKk8HxGzL5",
        "colab_type": "text"
      },
      "source": [
        "## Performing PCA with an Undercomplete Linear Autoencoder\n",
        "\n",
        "An autoencoder with only linear activation functions that uses MSE as the loss function can be shown to be equivalent to PCA (Chapter 8)."
      ]
    },
    {
      "cell_type": "code",
      "metadata": {
        "id": "XQXLRrN3Gymx",
        "colab_type": "code",
        "colab": {}
      },
      "source": [
        "# Create a 3D dataset.\n",
        "\n",
        "import numpy.random as rnd\n",
        "\n",
        "rnd.seed(42)\n",
        "m = 200\n",
        "w1, w2 = 0.1, 0.3\n",
        "noise = 0.1\n",
        "\n",
        "angles = rnd.rand(m) * 3 * np.pi / 2 - 0.5\n",
        "data = np.empty((m, 3))\n",
        "data[:, 0] = np.cos(angles) + (np.sin(angles) / 2) + (noise * rnd.randn(m) / 2)\n",
        "data[:, 1] = (np.sin(angles) * 0.7) + (noise * rnd.randn(m) / 2)\n",
        "data[:, 2] = (data[:, 0] * w1) + (data[:, 1] * w2) + (noise * rnd.randn(m))"
      ],
      "execution_count": 0,
      "outputs": []
    },
    {
      "cell_type": "code",
      "metadata": {
        "id": "V4N4ceT_H1-t",
        "colab_type": "code",
        "colab": {}
      },
      "source": [
        "# Scale the data with StandardScaler.\n",
        "\n",
        "from sklearn.preprocessing import StandardScaler\n",
        "\n",
        "scaler = StandardScaler()\n",
        "X_train = scaler.fit_transform(data[:100])\n",
        "X_test = scaler.transform(data[100:])"
      ],
      "execution_count": 0,
      "outputs": []
    },
    {
      "cell_type": "code",
      "metadata": {
        "id": "VKrj7NTVIl1f",
        "colab_type": "code",
        "colab": {}
      },
      "source": [
        "# Define the model graph.\n",
        "\n",
        "import tensorflow as tf\n",
        "\n",
        "reset_graph()\n",
        "\n",
        "n_inputs = 3\n",
        "n_hidden = 2\n",
        "n_outputs = n_inputs\n",
        "\n",
        "learning_rate = 0.01\n",
        "\n",
        "X = tf.placeholder(tf.float32, shape=(None, n_inputs))\n",
        "hidden = tf.layers.dense(X, n_hidden)\n",
        "outputs = tf.layers.dense(hidden, n_outputs)\n",
        "\n",
        "reconstruction_loss = tf.reduce_mean(tf.square(outputs - X))\n",
        "\n",
        "opt = tf.train.AdamOptimizer(learning_rate)\n",
        "training_op = opt.minimize(reconstruction_loss)\n",
        "\n",
        "init = tf.global_variables_initializer()"
      ],
      "execution_count": 0,
      "outputs": []
    },
    {
      "cell_type": "code",
      "metadata": {
        "id": "bWZb2YAsJoK6",
        "colab_type": "code",
        "colab": {}
      },
      "source": [
        "# Training the autoencoder.\n",
        "\n",
        "n_iterations = 100\n",
        "codings = hidden\n",
        "\n",
        "with tf.Session() as sess:\n",
        "  init.run()\n",
        "  for i in range(n_iterations):\n",
        "    training_op.run(feed_dict={X: X_train})\n",
        "  codings_val = codings.eval(feed_dict={X: X_test})"
      ],
      "execution_count": 0,
      "outputs": []
    },
    {
      "cell_type": "code",
      "metadata": {
        "id": "uUAIdt0oKDO0",
        "colab_type": "code",
        "outputId": "77487f72-1cb1-4bd4-e1d6-fa15c32ec227",
        "colab": {
          "base_uri": "https://localhost:8080/",
          "height": 243
        }
      },
      "source": [
        "# Plotting the figure.\n",
        "\n",
        "fig = plt.figure(figsize=(4,3))\n",
        "plt.plot(codings_val[:,0], codings_val[:, 1], 'b.')\n",
        "plt.xlabel('$z_1$', fontsize=18)\n",
        "plt.ylabel('$z_2$', fontsize=18, rotation=0)\n",
        "save_fig('linear_autoencoder_pca_plot')\n",
        "plt.show()"
      ],
      "execution_count": 10,
      "outputs": [
        {
          "output_type": "stream",
          "text": [
            "Saving figure linear_autoencoder_pca_plot\n"
          ],
          "name": "stdout"
        },
        {
          "output_type": "display_data",
          "data": {
            "image/png": "[encoded data removed]",
            "text/plain": [
              "<Figure size 288x216 with 1 Axes>"
            ]
          },
          "metadata": {
            "tags": []
          }
        }
      ]
    },
    {
      "cell_type": "markdown",
      "metadata": {
        "id": "yc0YcMeLd8PE",
        "colab_type": "text"
      },
      "source": [
        "## Stacked Autoencoders\n",
        "\n",
        "Autoencoders with multiple hidden layers are called _stacked autoencoders_ (or _deep autoencoders_). You must be wary that if the autoencoder is too deep, it may just learn how to reproduce the training set, leading to overfitting. Below is a TensorFlow implementation of a stacked autoencoder with 3 hidden layers used for generating handwritten digits using the MNIST dataset."
      ]
    },
    {
      "cell_type": "code",
      "metadata": {
        "id": "cGCKRSUzfNG9",
        "colab_type": "code",
        "outputId": "15bf825c-a627-4067-fca0-4d1a0ae4945d",
        "colab": {
          "base_uri": "https://localhost:8080/",
          "height": 486
        }
      },
      "source": [
        "# Downloading the data.\n",
        "\n",
        "from tensorflow.examples.tutorials.mnist import input_data\n",
        "mnist = input_data.read_data_sets(\"/tmp/data/\")"
      ],
      "execution_count": 11,
      "outputs": [
        {
          "output_type": "stream",
          "text": [
            "W0726 23:00:09.257616 140449950971776 deprecation.py:323] From <ipython-input-11-3542004e0c25>:3: read_data_sets (from tensorflow.contrib.learn.python.learn.datasets.mnist) is deprecated and will be removed in a future version.\n",
            "Instructions for updating:\n",
            "Please use alternatives such as official/mnist/dataset.py from tensorflow/models.\n",
            "W0726 23:00:09.258726 140449950971776 deprecation.py:323] From /usr/local/lib/python3.6/dist-packages/tensorflow/contrib/learn/python/learn/datasets/mnist.py:260: maybe_download (from tensorflow.contrib.learn.python.learn.datasets.base) is deprecated and will be removed in a future version.\n",
            "Instructions for updating:\n",
            "Please write your own downloading logic.\n",
            "W0726 23:00:09.259922 140449950971776 deprecation.py:323] From /usr/local/lib/python3.6/dist-packages/tensorflow/contrib/learn/python/learn/datasets/base.py:252: _internal_retry.<locals>.wrap.<locals>.wrapped_fn (from tensorflow.contrib.learn.python.learn.datasets.base) is deprecated and will be removed in a future version.\n",
            "Instructions for updating:\n",
            "Please use urllib or similar directly.\n",
            "W0726 23:00:09.348358 140449950971776 deprecation.py:323] From /usr/local/lib/python3.6/dist-packages/tensorflow/contrib/learn/python/learn/datasets/mnist.py:262: extract_images (from tensorflow.contrib.learn.python.learn.datasets.mnist) is deprecated and will be removed in a future version.\n",
            "Instructions for updating:\n",
            "Please use tf.data to implement this functionality.\n"
          ],
          "name": "stderr"
        },
        {
          "output_type": "stream",
          "text": [
            "Successfully downloaded train-images-idx3-ubyte.gz 9912422 bytes.\n",
            "Extracting /tmp/data/train-images-idx3-ubyte.gz\n"
          ],
          "name": "stdout"
        },
        {
          "output_type": "stream",
          "text": [
            "W0726 23:00:09.610725 140449950971776 deprecation.py:323] From /usr/local/lib/python3.6/dist-packages/tensorflow/contrib/learn/python/learn/datasets/mnist.py:267: extract_labels (from tensorflow.contrib.learn.python.learn.datasets.mnist) is deprecated and will be removed in a future version.\n",
            "Instructions for updating:\n",
            "Please use tf.data to implement this functionality.\n",
            "W0726 23:00:09.684408 140449950971776 deprecation.py:323] From /usr/local/lib/python3.6/dist-packages/tensorflow/contrib/learn/python/learn/datasets/mnist.py:290: DataSet.__init__ (from tensorflow.contrib.learn.python.learn.datasets.mnist) is deprecated and will be removed in a future version.\n",
            "Instructions for updating:\n",
            "Please use alternatives such as official/mnist/dataset.py from tensorflow/models.\n"
          ],
          "name": "stderr"
        },
        {
          "output_type": "stream",
          "text": [
            "Successfully downloaded train-labels-idx1-ubyte.gz 28881 bytes.\n",
            "Extracting /tmp/data/train-labels-idx1-ubyte.gz\n",
            "Successfully downloaded t10k-images-idx3-ubyte.gz 1648877 bytes.\n",
            "Extracting /tmp/data/t10k-images-idx3-ubyte.gz\n",
            "Successfully downloaded t10k-labels-idx1-ubyte.gz 4542 bytes.\n",
            "Extracting /tmp/data/t10k-labels-idx1-ubyte.gz\n"
          ],
          "name": "stdout"
        }
      ]
    },
    {
      "cell_type": "markdown",
      "metadata": {
        "id": "KuAyScFRf3Cd",
        "colab_type": "text"
      },
      "source": [
        "### Train all layers at once\n",
        "\n",
        "The example below trains all of the hidden layers of the stacked autoencoder at once."
      ]
    },
    {
      "cell_type": "code",
      "metadata": {
        "id": "E0E4zltAf2iR",
        "colab_type": "code",
        "colab": {}
      },
      "source": [
        "# Define the model graph.\n",
        "\n",
        "from functools import partial\n",
        "\n",
        "reset_graph()\n",
        "\n",
        "n_inputs = 28 ** 2\n",
        "n_hidden1 = 512\n",
        "n_hidden2 = 256\n",
        "n_hidden3 = n_hidden1\n",
        "n_outputs = n_inputs\n",
        "n_outputs = n_inputs\n",
        "\n",
        "learning_rate = 0.001\n",
        "l2_reg = 0.0001\n",
        "\n",
        "X = tf.placeholder(tf.float32, shape=(None, n_inputs))\n",
        "\n",
        "he_init = tf.contrib.layers.variance_scaling_initializer()\n",
        "regularizer = tf.contrib.layers.l2_regularizer(l2_reg)\n",
        "\n",
        "dense = partial(tf.layers.dense, activation=tf.nn.relu,\n",
        "                kernel_initializer=he_init, kernel_regularizer=regularizer)\n",
        "\n",
        "hidden1 = dense(X, n_hidden1)\n",
        "hidden2 = dense(hidden1, n_hidden2)\n",
        "hidden3 = dense(hidden2, n_hidden3)\n",
        "outputs = dense(hidden3, n_outputs, activation=None)\n",
        "\n",
        "loss = tf.reduce_mean(tf.square(outputs - X))\n",
        "opt = tf.train.AdamOptimizer(learning_rate)\n",
        "training_op = opt.minimize(loss)\n",
        "\n",
        "saver = tf.train.Saver()\n",
        "init = tf.global_variables_initializer()"
      ],
      "execution_count": 0,
      "outputs": []
    },
    {
      "cell_type": "code",
      "metadata": {
        "id": "ZWhm_cP7opNl",
        "colab_type": "code",
        "outputId": "ae64dcf0-53a0-41f5-dfb1-7b02649d4f19",
        "colab": {
          "base_uri": "https://localhost:8080/",
          "height": 104
        }
      },
      "source": [
        "# Train the model.\n",
        "\n",
        "n_epochs = 5\n",
        "batch_size = 150\n",
        "\n",
        "with tf.Session() as sess:\n",
        "  init.run()\n",
        "  for epoch in range(n_epochs):\n",
        "    n_batches = mnist.train.num_examples // batch_size\n",
        "    for i in range(n_batches):\n",
        "      print('\\r{}%'.format((100 * i) // n_batches), end=\"\")\n",
        "      sys.stdout.flush()\n",
        "      X_batch, y_batch = mnist.train.next_batch(batch_size)\n",
        "      sess.run(training_op, feed_dict={X: X_batch})\n",
        "    loss_train = loss.eval(feed_dict={X: X_batch})\n",
        "    print(\"\\r{}\".format(epoch), \"Train MSE:\", loss_train)\n",
        "    saver.save(sess, './my_model_all_layers.ckpt')"
      ],
      "execution_count": 13,
      "outputs": [
        {
          "output_type": "stream",
          "text": [
            "0 Train MSE: 0.015861783\n",
            "1 Train MSE: 0.014255311\n",
            "2 Train MSE: 0.013394645\n",
            "3 Train MSE: 0.012614648\n",
            "4 Train MSE: 0.012561665\n"
          ],
          "name": "stdout"
        }
      ]
    },
    {
      "cell_type": "code",
      "metadata": {
        "id": "l0fb-Hn6tGGi",
        "colab_type": "code",
        "colab": {}
      },
      "source": [
        "# Define a plotting function.\n",
        "\n",
        "def show_reconstructed_digits(X, outputs, model_path=None, n_test_digits=2):\n",
        "  with tf.Session() as sess:\n",
        "    if model_path:\n",
        "      saver.restore(sess, model_path)\n",
        "    X_test = mnist.test.images[:n_test_digits]\n",
        "    outputs_val = outputs.eval(feed_dict={X: X_test})\n",
        "  for digit_idx in range(n_test_digits):\n",
        "    plt.subplot(n_test_digits, 2, (digit_idx * 2) + 1)\n",
        "    plot_image(X_test[digit_idx])\n",
        "    plt.subplot(n_test_digits, 2, (digit_idx * 2) + 2)\n",
        "    plot_image(outputs_val[digit_idx])"
      ],
      "execution_count": 0,
      "outputs": []
    },
    {
      "cell_type": "code",
      "metadata": {
        "id": "-lm4IG21tzA_",
        "colab_type": "code",
        "outputId": "57facad6-5a73-4999-a923-68ad511bf16b",
        "colab": {
          "base_uri": "https://localhost:8080/",
          "height": 315
        }
      },
      "source": [
        "show_reconstructed_digits(X, outputs, './my_model_all_layers.ckpt')\n",
        "save_fig('reconstruction_plot')"
      ],
      "execution_count": 16,
      "outputs": [
        {
          "output_type": "stream",
          "text": [
            "Saving figure reconstruction_plot\n"
          ],
          "name": "stdout"
        },
        {
          "output_type": "display_data",
          "data": {
            "image/png": "[encoded data removed]",
            "text/plain": [
              "<Figure size 432x288 with 4 Axes>"
            ]
          },
          "metadata": {
            "tags": []
          }
        }
      ]
    },
    {
      "cell_type": "markdown",
      "metadata": {
        "id": "9cPKF-a2vNaL",
        "colab_type": "text"
      },
      "source": [
        "### Tying Weights\n",
        "\n",
        "When you are using a near-symmetric autoencoder (like the one above) then you can _tie the weights_ of the decoder layers to th weights of the encoder layers. Specifically, if the autoencoder has $N$ layers and $\\mathbf{W}_L$ is the weights tensor of the $L$<sup>th</sup> layer, then the decoder layer weights can be defined as\n",
        "\n",
        "$$ \\mathbf{W}_{N-L+1} = \\mathbf{W}^{\\;\\,T}_L $$\n",
        "\n",
        "Below is a TensorFlow implementation of a stacked autoencoder which ties weights."
      ]
    },
    {
      "cell_type": "code",
      "metadata": {
        "id": "YAL4rZnpxeZR",
        "colab_type": "code",
        "colab": {}
      },
      "source": [
        "# Defining the model graph.\n",
        "\n",
        "reset_graph()\n",
        "\n",
        "n_inputs = 28 ** 2\n",
        "n_hidden1 = 512\n",
        "n_hidden2 = 256\n",
        "n_hidden3 = n_hidden1\n",
        "n_outputs = n_inputs\n",
        "n_outputs = n_inputs\n",
        "\n",
        "learning_rate = 0.001\n",
        "l2_reg = 0.00005\n",
        "\n",
        "X = tf.placeholder(tf.float32, shape=(None, n_inputs))\n",
        "\n",
        "he_init = tf.contrib.layers.variance_scaling_initializer()\n",
        "regularizer = tf.contrib.layers.l2_regularizer(l2_reg)\n",
        "\n",
        "weights1_init = he_init([n_inputs, n_hidden1])\n",
        "weights2_init = he_init([n_hidden1, n_hidden2])\n",
        "\n",
        "weights1 = tf.Variable(weights1_init, dtype=tf.float32)\n",
        "weights2 = tf.Variable(weights2_init, dtype=tf.float32)\n",
        "weights3 = tf.transpose(weights2)\n",
        "weights4 = tf.transpose(weights1)\n",
        "\n",
        "bias = lambda n: tf.Variable(tf.zeros(n))\n",
        "bias1 = bias(n_hidden1)\n",
        "bias2 = bias(n_hidden2)\n",
        "bias3 = bias(n_hidden3)\n",
        "bias4 = bias(n_outputs)\n",
        "\n",
        "hidden = lambda X, W, b: tf.nn.elu(tf.matmul(X, W) + b)\n",
        "hidden1 = hidden(X, weights1, bias1)\n",
        "hidden2 = hidden(hidden1, weights2, bias2)\n",
        "hidden3 = hidden(hidden2, weights3, bias3)\n",
        "outputs = tf.matmul(hidden3, weights4) + bias4\n",
        "\n",
        "reconstruction_loss = tf.reduce_mean(tf.square(X - outputs))\n",
        "loss = reconstruction_loss + regularizer(weights1) + regularizer(weights2)\n",
        "opt = tf.train.AdamOptimizer(learning_rate)\n",
        "training_op = opt.minimize(loss)\n",
        "\n",
        "saver = tf.train.Saver()\n",
        "init = tf.global_variables_initializer()"
      ],
      "execution_count": 0,
      "outputs": []
    },
    {
      "cell_type": "code",
      "metadata": {
        "id": "PCMl8t-v0uUI",
        "colab_type": "code",
        "outputId": "14e39a51-5dd5-444c-dab0-942c627f0d3e",
        "colab": {
          "base_uri": "https://localhost:8080/",
          "height": 104
        }
      },
      "source": [
        "# Train the model.\n",
        "\n",
        "n_epochs = 5\n",
        "batch_size = 150\n",
        "\n",
        "with tf.Session() as sess:\n",
        "  init.run()\n",
        "  for epoch in range(n_epochs):\n",
        "    n_batches = mnist.train.num_examples // batch_size\n",
        "    for i in range(n_batches):\n",
        "      print('\\r{}%'.format((100 * i) // n_batches), end=\"\")\n",
        "      sys.stdout.flush()\n",
        "      X_batch, y_batch = mnist.train.next_batch(batch_size)\n",
        "      sess.run(training_op, feed_dict={X: X_batch})\n",
        "    loss_train = reconstruction_loss.eval(feed_dict={X: X_batch})\n",
        "    print('\\r{}'.format(epoch), 'Train MSE:', loss_train)\n",
        "    saver.save(sess, './my_model_all_layers.ckpt')"
      ],
      "execution_count": 18,
      "outputs": [
        {
          "output_type": "stream",
          "text": [
            "0 Train MSE: 0.0059264963\n",
            "1 Train MSE: 0.0042326236\n",
            "2 Train MSE: 0.004368516\n",
            "3 Train MSE: 0.004215196\n",
            "4 Train MSE: 0.004000963\n"
          ],
          "name": "stdout"
        }
      ]
    },
    {
      "cell_type": "code",
      "metadata": {
        "id": "bPKL-lwC1s--",
        "colab_type": "code",
        "outputId": "e29834c9-0795-4cc3-bdfa-8a8c6dfdceb5",
        "colab": {
          "base_uri": "https://localhost:8080/",
          "height": 315
        }
      },
      "source": [
        "show_reconstructed_digits(X, outputs, './my_model_all_layers.ckpt')\n",
        "save_fig('tying_weight_reconstruction_plot')"
      ],
      "execution_count": 19,
      "outputs": [
        {
          "output_type": "stream",
          "text": [
            "Saving figure tying_weight_reconstruction_plot\n"
          ],
          "name": "stdout"
        },
        {
          "output_type": "display_data",
          "data": {
            "image/png": "[encoded data removed]",
            "text/plain": [
              "<Figure size 432x288 with 4 Axes>"
            ]
          },
          "metadata": {
            "tags": []
          }
        }
      ]
    },
    {
      "cell_type": "markdown",
      "metadata": {
        "id": "bgxLRw3KJ5Cy",
        "colab_type": "text"
      },
      "source": [
        "### Train One Autoencoder at a Time in Multiple Graphs\n",
        "\n",
        "You can train a stacked autoencoder in parts:\n",
        "\n",
        "1. First you train the model to reproduce the input layer only using one hidden layer.\n",
        "\n",
        "2. You train an autoencoder which tries to reproduce the output of the first hidden layer (which trains the second and third hidden layer).\n",
        "\n",
        "You can then combine the two results for a fully-functional autoencoder. Below is an implementation of training a stacked autoencoder this way using multiple TensorFlow graphs."
      ]
    },
    {
      "cell_type": "code",
      "metadata": {
        "id": "gQH99g7CLYrQ",
        "colab_type": "code",
        "colab": {}
      },
      "source": [
        "# Defining a function for training an autoencoder in the first 2 steps.\n",
        "\n",
        "reset_graph()\n",
        "\n",
        "def train_autoencoder(X_train, n_units, n_epochs, batch_size,\n",
        "                      learning_rate=0.001, l2_reg=0.00005, seed=42,\n",
        "                      hidden_activation=tf.nn.elu,\n",
        "                      output_activation=tf.nn.elu):\n",
        "  graph = tf.Graph()\n",
        "  with graph.as_default():\n",
        "    tf.set_random_seed(seed)\n",
        "\n",
        "    n_inputs = X_train.shape[1]\n",
        "\n",
        "    X = tf.placeholder(tf.float32, shape=(None, n_inputs))\n",
        "\n",
        "    he_init = tf.contrib.layers.variance_scaling_initializer()\n",
        "    regularizer = tf.contrib.layers.l2_regularizer(l2_reg)\n",
        "    dense = partial(tf.layers.dense, kernel_initializer=he_init,\n",
        "                    kernel_regularizer=regularizer)\n",
        "    \n",
        "    hidden = dense(X, n_units, activation=hidden_activation, name='hidden')\n",
        "    outputs = dense(hidden, n_inputs, activation=output_activation,\n",
        "                    name='outputs')\n",
        "\n",
        "    reconstruction_loss = tf.reduce_mean(tf.square(X - outputs))\n",
        "    reg_losses = tf.get_collection(tf.GraphKeys.REGULARIZATION_LOSSES)\n",
        "    loss = tf.add_n([reconstruction_loss] + reg_losses)\n",
        "\n",
        "    opt = tf.train.AdamOptimizer(learning_rate)\n",
        "    training_op = opt.minimize(loss)\n",
        "\n",
        "    init = tf.global_variables_initializer()\n",
        "\n",
        "  with tf.Session(graph=graph) as sess:\n",
        "    init.run()\n",
        "    for epoch in range(n_epochs):\n",
        "      n_batches = len(X_train) // batch_size\n",
        "      for i in range(n_batches):\n",
        "        print('\\r{}%'.format(100 * i // n_batches), end='')\n",
        "        sys.stdout.flush()\n",
        "        indices = rnd.permutation(len(X_train))[:batch_size]\n",
        "        X_batch = X_train[indices]\n",
        "        sess.run(training_op, feed_dict={X: X_batch})\n",
        "      loss_train = reconstruction_loss.eval(feed_dict={X: X_batch})\n",
        "      print('\\r{}'.format(epoch), 'Train MSE:', loss_train)\n",
        "    params = {\n",
        "      var.name: var.eval()\n",
        "      for var in tf.get_collection(tf.GraphKeys.TRAINABLE_VARIABLES)\n",
        "    }\n",
        "    hidden_val = hidden.eval(feed_dict={X: X_train})\n",
        "  return hidden_val, params['hidden/kernel:0'], params['hidden/bias:0'], \\\n",
        "      params['outputs/kernel:0'], params['outputs/bias:0']"
      ],
      "execution_count": 0,
      "outputs": []
    },
    {
      "cell_type": "code",
      "metadata": {
        "id": "4lyzWX_pR8b1",
        "colab_type": "code",
        "outputId": "684207c2-4a9d-45fc-ecf3-39c5c5997f40",
        "colab": {
          "base_uri": "https://localhost:8080/",
          "height": 104
        }
      },
      "source": [
        "# First step of training.\n",
        "\n",
        "hidden_output, W1, b1, W4, b4 = train_autoencoder(mnist.train.images,\n",
        "                                                  n_units=256, n_epochs=5,\n",
        "                                                  batch_size=150,\n",
        "                                                  output_activation=None)"
      ],
      "execution_count": 21,
      "outputs": [
        {
          "output_type": "stream",
          "text": [
            "0 Train MSE: 0.011589399\n",
            "1 Train MSE: 0.0058716172\n",
            "2 Train MSE: 0.0050500864\n",
            "3 Train MSE: 0.0047234143\n",
            "4 Train MSE: 0.0044162828\n"
          ],
          "name": "stdout"
        }
      ]
    },
    {
      "cell_type": "code",
      "metadata": {
        "id": "hxAu22hgTy5m",
        "colab_type": "code",
        "outputId": "9bf0a515-4414-44ed-ca5d-a39af54b1365",
        "colab": {
          "base_uri": "https://localhost:8080/",
          "height": 104
        }
      },
      "source": [
        "# Second step of training.\n",
        "\n",
        "_, W2, b2, W3, b3 = train_autoencoder(hidden_output, n_units=128, n_epochs=5,\n",
        "                                      batch_size=150)"
      ],
      "execution_count": 22,
      "outputs": [
        {
          "output_type": "stream",
          "text": [
            "0 Train MSE: 0.03673815\n",
            "1 Train MSE: 0.013828675\n",
            "2 Train MSE: 0.006784402\n",
            "3 Train MSE: 0.0043381997\n",
            "4 Train MSE: 0.0035973343\n"
          ],
          "name": "stdout"
        }
      ]
    },
    {
      "cell_type": "code",
      "metadata": {
        "id": "16e73kYuUFQ5",
        "colab_type": "code",
        "colab": {}
      },
      "source": [
        "# Putting the results together.\n",
        "\n",
        "reset_graph()\n",
        "\n",
        "n_inputs = 28 ** 2\n",
        "\n",
        "X = tf.placeholder(tf.float32, shape=(None, n_inputs))\n",
        "hidden1 = tf.nn.elu(tf.matmul(X, W1) + b1)\n",
        "hidden2 = tf.nn.elu(tf.matmul(hidden1, W2) + b2)\n",
        "hidden3 = tf.nn.elu(tf.matmul(hidden2, W3) + b3)\n",
        "outputs = tf.matmul(hidden3, W4) + b4"
      ],
      "execution_count": 0,
      "outputs": []
    },
    {
      "cell_type": "code",
      "metadata": {
        "id": "ctjtV9WjXHYZ",
        "colab_type": "code",
        "outputId": "f12d0a71-8d58-4f09-a211-acbe0224c3a8",
        "colab": {
          "base_uri": "https://localhost:8080/",
          "height": 273
        }
      },
      "source": [
        "show_reconstructed_digits(X, outputs)"
      ],
      "execution_count": 24,
      "outputs": [
        {
          "output_type": "display_data",
          "data": {
            "image/png": "[encoded data removed]",
            "text/plain": [
              "<Figure size 432x288 with 4 Axes>"
            ]
          },
          "metadata": {
            "tags": []
          }
        }
      ]
    },
    {
      "cell_type": "markdown",
      "metadata": {
        "id": "rkVsK0w-XdSq",
        "colab_type": "text"
      },
      "source": [
        "### Training One Autoencoder at a Time in a Single Graph\n",
        "\n",
        "Below is another implementation of the same technique, but this time using just a single TensorFlow graph."
      ]
    },
    {
      "cell_type": "code",
      "metadata": {
        "id": "NpmoICWZZyLu",
        "colab_type": "code",
        "colab": {}
      },
      "source": [
        "# Defining the graph.\n",
        "\n",
        "reset_graph()\n",
        "\n",
        "n_inputs = 28 ** 2\n",
        "n_hidden1 = 256\n",
        "n_hidden2 = 128\n",
        "n_hidden3 = n_hidden1\n",
        "n_outputs = n_inputs\n",
        "\n",
        "learning_rate = 0.01\n",
        "l2_reg = 0.0005\n",
        "\n",
        "X = tf.placeholder(tf.float32, shape=(None, n_inputs))\n",
        "\n",
        "he_init = tf.contrib.layers.variance_scaling_initializer()\n",
        "regularizer = tf.contrib.layers.l2_regularizer(l2_reg)\n",
        "\n",
        "init_weights = lambda n1, n2, name: \\\n",
        "    tf.Variable(he_init([n1, n2]), dtype=tf.float32, name=name)\n",
        "W1 = init_weights(n_inputs, n_hidden1, 'weights1')\n",
        "W2 = init_weights(n_hidden1, n_hidden2, 'weights2')\n",
        "W3 = init_weights(n_hidden2, n_hidden3, 'weights3')\n",
        "W4 = init_weights(n_hidden3, n_outputs, 'weights4')\n",
        "\n",
        "init_bias = lambda n, name: \\\n",
        "    tf.Variable(tf.zeros(n), dtype=tf.float32, name=name)\n",
        "b1 = init_bias(n_hidden1, name='bias1')\n",
        "b2 = init_bias(n_hidden2, name='bias2')\n",
        "b3 = init_bias(n_hidden3, name='bias3')\n",
        "b4 = init_bias(n_outputs, name='bias4')\n",
        "\n",
        "hidden1 = tf.nn.elu(tf.matmul(X, W1) + b1)\n",
        "hidden2 = tf.nn.elu(tf.matmul(hidden1, W2) + b2)\n",
        "hidden3 = tf.nn.elu(tf.matmul(hidden2, W3) + b3)\n",
        "outputs = tf.matmul(hidden3, W4) + b4\n",
        "\n",
        "reconstruction_loss = tf.reduce_mean(tf.square(outputs - X))\n",
        "optimizer = tf.train.AdamOptimizer(learning_rate)"
      ],
      "execution_count": 0,
      "outputs": []
    },
    {
      "cell_type": "code",
      "metadata": {
        "id": "La0M7I5yjyBD",
        "colab_type": "code",
        "colab": {}
      },
      "source": [
        "# Defining the training objective for the 1st phase of training.\n",
        "\n",
        "with tf.name_scope('phase1'):\n",
        "  phase1_outputs = tf.matmul(hidden1, W4) + b4\n",
        "  phase1_reconstruction_loss = tf.reduce_mean(tf.square(X - phase1_outputs))\n",
        "  phase1_reg_loss = regularizer(W1) + regularizer(W4)\n",
        "  phase1_loss = phase1_reconstruction_loss + phase1_reg_loss\n",
        "  phase1_training_op = optimizer.minimize(phase1_loss)"
      ],
      "execution_count": 0,
      "outputs": []
    },
    {
      "cell_type": "code",
      "metadata": {
        "id": "dDPd947PluVD",
        "colab_type": "code",
        "colab": {}
      },
      "source": [
        "# Defining the training objective for the 2nd phase of training.\n",
        "\n",
        "with tf.name_scope('phase2'):\n",
        "  phase2_reconstruction_loss = tf.reduce_mean(tf.square(hidden1 - hidden3))\n",
        "  phase2_reg_loss = regularizer(W2) + regularizer(W3)\n",
        "  phase2_loss = phase2_reconstruction_loss + phase2_reg_loss\n",
        "  train_vars = [W2, b2, W3, b3]\n",
        "  phase2_training_op = optimizer.minimize(phase2_loss, var_list=train_vars)"
      ],
      "execution_count": 0,
      "outputs": []
    },
    {
      "cell_type": "code",
      "metadata": {
        "id": "Qd_E6Mdxm04Q",
        "colab_type": "code",
        "colab": {}
      },
      "source": [
        "saver = tf.train.Saver()\n",
        "init = tf.global_variables_initializer()"
      ],
      "execution_count": 0,
      "outputs": []
    },
    {
      "cell_type": "code",
      "metadata": {
        "id": "9BspLbkCm-lV",
        "colab_type": "code",
        "outputId": "ed795aaa-00ac-4ef2-ec27-14eb82db3da5",
        "colab": {
          "base_uri": "https://localhost:8080/",
          "height": 242
        }
      },
      "source": [
        "# Training the model.\n",
        "\n",
        "training_ops = [phase1_training_op, phase2_training_op]\n",
        "reconstruction_losses = \\\n",
        "    [phase1_reconstruction_loss, phase2_reconstruction_loss]\n",
        "n_epochs = 5\n",
        "batch_size = 150\n",
        "\n",
        "with tf.Session() as sess:\n",
        "  init.run()\n",
        "  for phase in range(2):\n",
        "    print('Training phase {}'.format(phase + 1))\n",
        "    for epoch in range(n_epochs):\n",
        "      n_batches = mnist.train.num_examples // batch_size\n",
        "      for i in range(n_batches):\n",
        "        print('\\r{}%'.format(100 * i // n_batches), end='')\n",
        "        sys.stdout.flush()\n",
        "        X_batch, _ = mnist.train.next_batch(batch_size)\n",
        "        sess.run(training_ops[phase], feed_dict={X: X_batch})\n",
        "      loss_train = reconstruction_losses[phase].eval(feed_dict={X: X_batch})\n",
        "      print('\\r{}'.format(epoch), 'Train MSE:', loss_train)\n",
        "      saver.save(sess, './my_model_one_at_a_time.ckpt')\n",
        "  loss_test = reconstruction_loss.eval(feed_dict={X: mnist.test.images})\n",
        "  print('Test MSE:', loss_test)"
      ],
      "execution_count": 29,
      "outputs": [
        {
          "output_type": "stream",
          "text": [
            "Training phase 1\n",
            "0 Train MSE: 0.018336492\n",
            "1 Train MSE: 0.019637663\n",
            "2 Train MSE: 0.019277904\n",
            "3 Train MSE: 0.018733133\n",
            "4 Train MSE: 0.020028505\n",
            "Training phase 2\n",
            "0 Train MSE: 0.0037001013\n",
            "1 Train MSE: 0.0036114932\n",
            "2 Train MSE: 0.0036930295\n",
            "3 Train MSE: 0.0037119866\n",
            "4 Train MSE: 0.004263958\n",
            "Test MSE: 0.022761209\n"
          ],
          "name": "stdout"
        }
      ]
    },
    {
      "cell_type": "markdown",
      "metadata": {
        "id": "7n9zsntvuYWY",
        "colab_type": "text"
      },
      "source": [
        "### Caching the Frozen Layer Outputs\n",
        "\n",
        "One way to speed up training is to cache the outputs of the previous phase of training."
      ]
    },
    {
      "cell_type": "code",
      "metadata": {
        "id": "OoB0iEtlu1CZ",
        "colab_type": "code",
        "outputId": "5f4fbefd-8ad2-42f1-849e-ea826f543f8a",
        "colab": {
          "base_uri": "https://localhost:8080/",
          "height": 242
        }
      },
      "source": [
        "training_ops = [phase1_training_op, phase2_training_op]\n",
        "reconstruction_losses = \\\n",
        "    [phase1_reconstruction_loss, phase2_reconstruction_loss]\n",
        "n_epochs = 5\n",
        "batch_size = 150\n",
        "\n",
        "with tf.Session() as sess:\n",
        "  init.run()\n",
        "  for phase in range(2):\n",
        "    print('Training phase {}'.format(phase + 1))\n",
        "    if phase == 1:\n",
        "      hidden1_cache = hidden1.eval(feed_dict={X: mnist.train.images})\n",
        "    for epoch in range(n_epochs):\n",
        "      n_batches = mnist.train.num_examples // batch_size\n",
        "      for i in range(n_batches):\n",
        "        print('\\r{}%'.format(100 * i // n_batches), end='')\n",
        "        sys.stdout.flush()\n",
        "        if phase == 1:\n",
        "          indices = rnd.permutation(mnist.train.num_examples)\n",
        "          hidden1_batch = hidden1_cache[indices[:batch_size]]\n",
        "          feed_dict = {hidden1: hidden1_batch}\n",
        "        else:\n",
        "          X_batch, _ = mnist.train.next_batch(batch_size)\n",
        "          feed_dict = {X: X_batch}\n",
        "        sess.run(training_ops[phase], feed_dict=feed_dict)\n",
        "      loss_train = reconstruction_losses[phase].eval(feed_dict=feed_dict)\n",
        "      print('\\r{}'.format(epoch), 'Train MSE:', loss_train)\n",
        "      saver.save(sess, './my_model_cache_frozen.ckpt')\n",
        "  loss_test = reconstruction_loss.eval(feed_dict={X: mnist.test.images})\n",
        "  print('Test MSE:', loss_test)"
      ],
      "execution_count": 30,
      "outputs": [
        {
          "output_type": "stream",
          "text": [
            "Training phase 1\n",
            "0 Train MSE: 0.017883915\n",
            "1 Train MSE: 0.018957019\n",
            "2 Train MSE: 0.019209469\n",
            "3 Train MSE: 0.019031227\n",
            "4 Train MSE: 0.019129302\n",
            "Training phase 2\n",
            "0 Train MSE: 0.0036775959\n",
            "1 Train MSE: 0.003967436\n",
            "2 Train MSE: 0.0039204685\n",
            "3 Train MSE: 0.003805287\n",
            "4 Train MSE: 0.0039625303\n",
            "Test MSE: 0.022798782\n"
          ],
          "name": "stdout"
        }
      ]
    },
    {
      "cell_type": "markdown",
      "metadata": {
        "id": "E4emn0YNvZbd",
        "colab_type": "text"
      },
      "source": [
        "### Visualizing the Reconstructions"
      ]
    },
    {
      "cell_type": "code",
      "metadata": {
        "id": "XZ1hpcE4vltu",
        "colab_type": "code",
        "outputId": "8812ee71-4b9b-4e06-a215-a173187cf0e2",
        "colab": {
          "base_uri": "https://localhost:8080/",
          "height": 273
        }
      },
      "source": [
        "n_test_digits = 2\n",
        "X_test = mnist.test.images[:n_test_digits]\n",
        "\n",
        "with tf.Session() as sess:\n",
        "    saver.restore(sess, './my_model_one_at_a_time.ckpt')\n",
        "    outputs_val = outputs.eval(feed_dict={X: X_test})\n",
        "\n",
        "def plot_image(image, shape=[28, 28]):\n",
        "    plt.imshow(image.reshape(shape), cmap='Greys', interpolation='nearest')\n",
        "    plt.axis('off')\n",
        "\n",
        "for digit_index in range(n_test_digits):\n",
        "    plt.subplot(n_test_digits, 2, digit_index * 2 + 1)\n",
        "    plot_image(X_test[digit_index])\n",
        "    plt.subplot(n_test_digits, 2, digit_index * 2 + 2)\n",
        "    plot_image(outputs_val[digit_index])"
      ],
      "execution_count": 31,
      "outputs": [
        {
          "output_type": "display_data",
          "data": {
            "image/png": "[encoded data removed]",
            "text/plain": [
              "<Figure size 432x288 with 4 Axes>"
            ]
          },
          "metadata": {
            "tags": []
          }
        }
      ]
    },
    {
      "cell_type": "markdown",
      "metadata": {
        "id": "p-Ww6-QVwAA3",
        "colab_type": "text"
      },
      "source": [
        "### Visualizing the Extracted Features\n",
        "\n",
        "Below is code which plots the feature weights that the first hidden layer learned during training. You can even see some feature maps that resemble actual digits."
      ]
    },
    {
      "cell_type": "code",
      "metadata": {
        "id": "vJ9TA3o-wHdD",
        "colab_type": "code",
        "outputId": "f5c2eabc-9ed0-4b75-f89e-69d54eb69455",
        "colab": {
          "base_uri": "https://localhost:8080/",
          "height": 122
        }
      },
      "source": [
        "with tf.Session() as sess:\n",
        "  saver.restore(sess, './my_model_one_at_a_time.ckpt')\n",
        "  weights1_val = W1.eval()\n",
        "\n",
        "for i in range(5):\n",
        "  plt.subplot(1, 5, i + 1)\n",
        "  plot_image(weights1_val.T[i])\n",
        "\n",
        "save_fig('extracted_features_plot')\n",
        "plt.show()"
      ],
      "execution_count": 32,
      "outputs": [
        {
          "output_type": "stream",
          "text": [
            "Saving figure extracted_features_plot\n"
          ],
          "name": "stdout"
        },
        {
          "output_type": "display_data",
          "data": {
            "image/png": "[encoded data removed]",
            "text/plain": [
              "<Figure size 432x288 with 5 Axes>"
            ]
          },
          "metadata": {
            "tags": []
          }
        }
      ]
    },
    {
      "cell_type": "markdown",
      "metadata": {
        "id": "XHvM2kYOxr_V",
        "colab_type": "text"
      },
      "source": [
        "## Unsupervised Pretraining\n",
        "\n",
        "In the code below, we create a neural network for MNIST classification. We first train it alone and see how it performs. Next, we train it again using the features that the unsupervised autoencoder learned and see how the performance compares to when we just did the supervised training alone.\n",
        "\n",
        "In 2006 Geoffrey Hinton et al. discovered that DNNs can be pretrained using unsupervised learning. They used restricted Boltzmann machines (RBFs) but Yoshua Bengio et al. showed that autoencoders worked just as well."
      ]
    },
    {
      "cell_type": "code",
      "metadata": {
        "id": "4z5fAH1rxrIv",
        "colab_type": "code",
        "colab": {}
      },
      "source": [
        "# Defining the graph for both training techniques.\n",
        "\n",
        "reset_graph()\n",
        "\n",
        "n_inputs = 28 ** 2\n",
        "n_hidden1 = 256\n",
        "n_hidden2 = 128\n",
        "n_outputs = 10\n",
        "\n",
        "learning_rate = 0.01\n",
        "l2_reg = 0.00005\n",
        "\n",
        "X = tf.placeholder(tf.float32, shape=(None, n_inputs))\n",
        "y = tf.placeholder(tf.int32, shape=(None))\n",
        "\n",
        "he_init = tf.contrib.layers.variance_scaling_initializer()\n",
        "regularizer = tf.contrib.layers.l2_regularizer(l2_reg)\n",
        "\n",
        "init_weights = lambda n1, n2, name: \\\n",
        "    tf.Variable(he_init([n1, n2]), dtype=tf.float32, name=name)\n",
        "W1 = init_weights(n_inputs, n_hidden1, 'weights1')\n",
        "W2 = init_weights(n_hidden1, n_hidden2, 'weights2')\n",
        "W3 = init_weights(n_hidden2, n_hidden2, 'weights3')\n",
        "W4 = init_weights(n_hidden2, n_outputs, 'weights4')\n",
        "\n",
        "# Don't need to redefine init_bias()\n",
        "b1 = init_bias(n_hidden1, name='bias1')\n",
        "b2 = init_bias(n_hidden2, name='bias2')\n",
        "b3 = init_bias(n_hidden2, name='bias3')\n",
        "b4 = init_bias(n_outputs, name='bias4')\n",
        "\n",
        "hidden1 = tf.nn.elu(tf.matmul(X, W1) + b1)\n",
        "hidden2 = tf.nn.elu(tf.matmul(hidden1, W2) + b2)\n",
        "hidden3 = tf.nn.elu(tf.matmul(hidden2, W3) + b3)\n",
        "logits = tf.matmul(hidden3, W4) + b4\n",
        "\n",
        "xentropy = tf.nn.sparse_softmax_cross_entropy_with_logits(labels=y,\n",
        "                                                          logits=logits)\n",
        "reg_loss = regularizer(W1) + regularizer(W2) + regularizer(W3)\n",
        "loss = xentropy + reg_loss\n",
        "\n",
        "opt = tf.train.AdamOptimizer(learning_rate)\n",
        "training_op = opt.minimize(loss)\n",
        "pretrain_training_op = opt.minimize(loss, var_list=[W3, b3])\n",
        "\n",
        "correct = tf.nn.in_top_k(logits, y, 1)\n",
        "accuracy = tf.reduce_mean(tf.cast(correct, tf.float32))\n",
        "\n",
        "init = tf.global_variables_initializer()\n",
        "saver = tf.train.Saver()\n",
        "pretrain_saver = tf.train.Saver([W1, W2, b1, b2])"
      ],
      "execution_count": 0,
      "outputs": []
    },
    {
      "cell_type": "code",
      "metadata": {
        "id": "bFPqlwp11YEH",
        "colab_type": "code",
        "outputId": "2d367720-76ee-415a-cf4a-2fffbe4ae837",
        "colab": {
          "base_uri": "https://localhost:8080/",
          "height": 190
        }
      },
      "source": [
        "# Regular training without pretraining.\n",
        "\n",
        "n_epochs = 10\n",
        "batch_size = 150\n",
        "n_labeled_instances = 20000\n",
        "\n",
        "with tf.Session() as sess:\n",
        "  init.run()\n",
        "  for epoch in range(n_epochs):\n",
        "    n_batches = n_labeled_instances // batch_size\n",
        "    for i in range(n_batches):\n",
        "      print('\\r{}%'.format(100 * i // n_batches), end='')\n",
        "      sys.stdout.flush()\n",
        "      indices = rnd.permutation(n_labeled_instances)[:batch_size]\n",
        "      X_batch, y_batch = \\\n",
        "          mnist.train.images[indices], mnist.train.labels[indices]\n",
        "      sess.run(training_op, feed_dict={X: X_batch, y: y_batch})\n",
        "    acc_val = accuracy.eval(feed_dict={X: X_batch, y: y_batch})\n",
        "    print('\\r{}'.format(epoch), 'Train accuracy:', acc_val, end=' ')\n",
        "    saver.save(sess, './my_model_supervised.ckpt')\n",
        "    acc_val = accuracy.eval(feed_dict={\n",
        "        X: mnist.test.images,\n",
        "        y: mnist.test.labels,\n",
        "    })\n",
        "    print('Test accuracy:', acc_val)"
      ],
      "execution_count": 34,
      "outputs": [
        {
          "output_type": "stream",
          "text": [
            "0 Train accuracy: 0.9266667 Test accuracy: 0.932\n",
            "1 Train accuracy: 0.96 Test accuracy: 0.9355\n",
            "2 Train accuracy: 0.97333336 Test accuracy: 0.9345\n",
            "3 Train accuracy: 0.99333334 Test accuracy: 0.9433\n",
            "4 Train accuracy: 0.97333336 Test accuracy: 0.9491\n",
            "5 Train accuracy: 0.98 Test accuracy: 0.9485\n",
            "6 Train accuracy: 0.9866667 Test accuracy: 0.9525\n",
            "7 Train accuracy: 1.0 Test accuracy: 0.9393\n",
            "8 Train accuracy: 0.9866667 Test accuracy: 0.951\n",
            "9 Train accuracy: 0.99333334 Test accuracy: 0.9479\n"
          ],
          "name": "stdout"
        }
      ]
    },
    {
      "cell_type": "code",
      "metadata": {
        "id": "7vZigpKb3DTT",
        "colab_type": "code",
        "outputId": "cba46eaf-a8e9-4c80-a068-34b3ee1b314d",
        "colab": {
          "base_uri": "https://localhost:8080/",
          "height": 190
        }
      },
      "source": [
        "# Now using the layers that were pre-trained. This technique both sped\n",
        "# up training and made the model perform better!\n",
        "\n",
        "with tf.Session() as sess:\n",
        "  init.run()\n",
        "  pretrain_saver.restore(sess, './my_model_cache_frozen.ckpt')\n",
        "  for epoch in range(n_epochs):\n",
        "    n_batches = n_labeled_instances // batch_size\n",
        "    for i in range(n_batches):\n",
        "      print('\\r{}%'.format(100 * i // n_batches), end='')\n",
        "      sys.stdout.flush()\n",
        "      indices = rnd.permutation(n_labeled_instances)[:batch_size]\n",
        "      X_batch, y_batch = \\\n",
        "          mnist.train.images[indices], mnist.train.labels[indices]\n",
        "      sess.run(pretrain_training_op, feed_dict={X: X_batch, y: y_batch})\n",
        "    acc_val = accuracy.eval(feed_dict={X: X_batch, y: y_batch})\n",
        "    print('\\r{}'.format(epoch), 'Train accuracy:', acc_val, end=' ')\n",
        "    saver.save(sess, './my_model_supervised.ckpt')\n",
        "    acc_val = accuracy.eval(feed_dict={\n",
        "        X: mnist.test.images,\n",
        "        y: mnist.test.labels,\n",
        "    })\n",
        "    print('Test accuracy:', acc_val)"
      ],
      "execution_count": 35,
      "outputs": [
        {
          "output_type": "stream",
          "text": [
            "0 Train accuracy: 0.94666666 Test accuracy: 0.9168\n",
            "1 Train accuracy: 0.94 Test accuracy: 0.9345\n",
            "2 Train accuracy: 0.96 Test accuracy: 0.9429\n",
            "3 Train accuracy: 0.97333336 Test accuracy: 0.9508\n",
            "4 Train accuracy: 0.96666664 Test accuracy: 0.9519\n",
            "5 Train accuracy: 0.9866667 Test accuracy: 0.9558\n",
            "6 Train accuracy: 0.98 Test accuracy: 0.9555\n",
            "7 Train accuracy: 0.99333334 Test accuracy: 0.9584\n",
            "8 Train accuracy: 0.97333336 Test accuracy: 0.9581\n",
            "9 Train accuracy: 0.97333336 Test accuracy: 0.9586\n"
          ],
          "name": "stdout"
        }
      ]
    },
    {
      "cell_type": "markdown",
      "metadata": {
        "id": "AnibmCmwaDZR",
        "colab_type": "text"
      },
      "source": [
        "## Stacked Denoising Autoencoder\n",
        "\n",
        "In a [2008 paper](https://www.iro.umontreal.ca/~vincentp/Publications/denoising_autoencoders_tr1316.pdf) Pascal Vincent et al. showed that autoencoders could be used for feature extraction. A [2010 paper by Vincent et al.](http://jmlr.csail.mit.edu/papers/volume11/vincent10a/vincent10a.pdf) introduced _stacked denoising autoencoders_.\n",
        "\n",
        "You can also add Gaussian noise to the inputs, like in the example below:"
      ]
    },
    {
      "cell_type": "code",
      "metadata": {
        "id": "req1IkPMuHk9",
        "colab_type": "code",
        "colab": {}
      },
      "source": [
        "reset_graph()\n",
        "\n",
        "n_inputs = 28 ** 2\n",
        "n_hidden1 = 256\n",
        "n_hidden2 = 128\n",
        "n_hidden3 = n_hidden1\n",
        "n_outputs = n_inputs\n",
        "\n",
        "learning_rate = 0.001\n",
        "noise_level = 1.0\n",
        "\n",
        "X = tf.placeholder(tf.float32, shape=(None, n_inputs))\n",
        "X_noise = X + (noise_level * tf.random_normal(tf.shape(X)))\n",
        "\n",
        "hidden1 = tf.layers.dense(X_noise, n_hidden1, activation=tf.nn.elu)\n",
        "hidden2 = tf.layers.dense(hidden1, n_hidden2, activation=tf.nn.elu)\n",
        "hidden3 = tf.layers.dense(hidden2, n_hidden3, activation=tf.nn.elu)\n",
        "outputs = tf.layers.dense(hidden3, n_outputs)\n",
        "\n",
        "mse = tf.reduce_mean(tf.square(X - outputs))\n",
        "opt = tf.train.AdamOptimizer(learning_rate)\n",
        "training_op = opt.minimize(mse)\n",
        "\n",
        "init = tf.global_variables_initializer()"
      ],
      "execution_count": 0,
      "outputs": []
    },
    {
      "cell_type": "code",
      "metadata": {
        "id": "59x-Ny54xJub",
        "colab_type": "code",
        "outputId": "b39b08bf-69e2-405a-9bc7-3a00cdb6afd0",
        "colab": {
          "base_uri": "https://localhost:8080/",
          "height": 190
        }
      },
      "source": [
        "n_epochs = 10\n",
        "batch_size = 150\n",
        "\n",
        "with tf.Session() as sess:\n",
        "  init.run()\n",
        "  for epoch in range(n_epochs):\n",
        "    n_batches = mnist.train.num_examples // batch_size\n",
        "    for i in range(n_batches):\n",
        "      print('\\r{}%'.format(100 * i // n_batches), end='')\n",
        "      sys.stdout.flush()\n",
        "      indices = rnd.permutation(n_labeled_instances)[:batch_size]\n",
        "      X_batch, y_batch = \\\n",
        "          mnist.train.images[indices], mnist.train.labels[indices]\n",
        "      sess.run(training_op, feed_dict={X: X_batch})\n",
        "    mse_val = mse.eval(feed_dict={X: X_batch})\n",
        "    print('\\r{}'.format(epoch), 'Train MSE:', mse_val)"
      ],
      "execution_count": 37,
      "outputs": [
        {
          "output_type": "stream",
          "text": [
            "0 Train MSE: 0.03752828\n",
            "1 Train MSE: 0.033405814\n",
            "2 Train MSE: 0.03330349\n",
            "3 Train MSE: 0.033667754\n",
            "4 Train MSE: 0.030195063\n",
            "5 Train MSE: 0.031798024\n",
            "6 Train MSE: 0.029453682\n",
            "7 Train MSE: 0.030101554\n",
            "8 Train MSE: 0.029107567\n",
            "9 Train MSE: 0.028518533\n"
          ],
          "name": "stdout"
        }
      ]
    },
    {
      "cell_type": "markdown",
      "metadata": {
        "id": "vkxlpFw4_RC7",
        "colab_type": "text"
      },
      "source": [
        "Now implementing a denoising stacked autoencoder using dropout:"
      ]
    },
    {
      "cell_type": "code",
      "metadata": {
        "id": "gmLmEWhH_VB9",
        "colab_type": "code",
        "colab": {}
      },
      "source": [
        "reset_graph()\n",
        "\n",
        "n_inputs = 28 ** 2\n",
        "n_hidden1 = 256\n",
        "n_hidden2 = 128\n",
        "n_hidden3 = n_hidden1\n",
        "n_outputs = n_inputs\n",
        "\n",
        "learning_rate = 0.001\n",
        "dropout_rate = 0.3\n",
        "\n",
        "training = tf.placeholder_with_default(False, shape=())\n",
        "\n",
        "X = tf.placeholder(tf.float32, shape=(None, n_inputs))\n",
        "X_drop = tf.layers.dropout(X, rate=dropout_rate, training=training)\n",
        "\n",
        "dense = partial(tf.layers.dense, activation=tf.nn.elu)\n",
        "hidden1 = dense(X_drop, n_hidden1)\n",
        "hidden2 = dense(hidden1, n_hidden2)\n",
        "hidden3 = dense(hidden2, n_hidden3)\n",
        "outputs = dense(hidden3, n_outputs)\n",
        "\n",
        "mse = tf.reduce_mean(tf.square(X - outputs))\n",
        "opt = tf.train.AdamOptimizer(learning_rate)\n",
        "training_op = opt.minimize(mse)\n",
        "\n",
        "init = tf.global_variables_initializer()\n",
        "saver = tf.train.Saver()"
      ],
      "execution_count": 0,
      "outputs": []
    },
    {
      "cell_type": "code",
      "metadata": {
        "id": "RBCRUDv0A5yq",
        "colab_type": "code",
        "outputId": "4fe79cc3-20ba-4ad3-f402-84eab250e1c2",
        "colab": {
          "base_uri": "https://localhost:8080/",
          "height": 190
        }
      },
      "source": [
        "n_epochs = 10\n",
        "batch_size = 150\n",
        "\n",
        "with tf.Session() as sess:\n",
        "  init.run()\n",
        "  for epoch in range(n_epochs):\n",
        "    n_batches = mnist.train.num_examples // batch_size\n",
        "    for i in range(n_batches):\n",
        "      print('\\r{}%'.format(100 * i // n_batches), end='')\n",
        "      sys.stdout.flush()\n",
        "      indices = rnd.permutation(n_labeled_instances)[:batch_size]\n",
        "      X_batch, y_batch = \\\n",
        "          mnist.train.images[indices], mnist.train.labels[indices]\n",
        "      sess.run(training_op, feed_dict={X: X_batch, training: True})\n",
        "    mse_val = mse.eval(feed_dict={X: X_batch})\n",
        "    print('\\r{}'.format(epoch), 'Train MSE:', mse_val)\n",
        "    saver.save(sess, './my_model_stacked_denoising_dropout.ckpt')"
      ],
      "execution_count": 40,
      "outputs": [
        {
          "output_type": "stream",
          "text": [
            "0 Train MSE: 0.0113550145\n",
            "1 Train MSE: 0.009228371\n",
            "2 Train MSE: 0.009007386\n",
            "3 Train MSE: 0.0088317245\n",
            "4 Train MSE: 0.0080927415\n",
            "5 Train MSE: 0.008182391\n",
            "6 Train MSE: 0.008082247\n",
            "7 Train MSE: 0.008050987\n",
            "8 Train MSE: 0.0078280065\n",
            "9 Train MSE: 0.007920059\n"
          ],
          "name": "stdout"
        }
      ]
    },
    {
      "cell_type": "code",
      "metadata": {
        "id": "WbiCLnRWBRFf",
        "colab_type": "code",
        "outputId": "de15485f-aa07-46f3-ce1f-b58aed00e9fc",
        "colab": {
          "base_uri": "https://localhost:8080/",
          "height": 273
        }
      },
      "source": [
        "show_reconstructed_digits(\n",
        "    X, outputs, './my_model_stacked_denoising_dropout.ckpt')"
      ],
      "execution_count": 41,
      "outputs": [
        {
          "output_type": "display_data",
          "data": {
            "image/png": "[encoded data removed]",
            "text/plain": [
              "<Figure size 432x288 with 4 Axes>"
            ]
          },
          "metadata": {
            "tags": []
          }
        }
      ]
    },
    {
      "cell_type": "markdown",
      "metadata": {
        "id": "8jpHLcZHUQTv",
        "colab_type": "text"
      },
      "source": [
        "## Sparse Autoencoders\n",
        "\n",
        "One constraint that helps autoencoders with feature extraction is _sparsity_. During training, we add a sparsity loss to the total loss to have the model learn sparse features when it learns an encoding for the dataset. Sparsity loss can be computed using the [_Kullback-Leibler divergence_](https://en.wikipedia.org/wiki/Kullback%E2%80%93Leibler_divergence), given by\n",
        "\n",
        "$$ D_{KL}(P\\;||\\;Q) = \\sum\\limits_i P(i) \\log \\frac{P(i)}{Q(i)} $$\n",
        "\n",
        "where $P$ and $Q$ are two discrete probability distributions. In our case, we want our neurons to have a target average activation $p$ and the actual sparsity is $q$, then the loss would be\n",
        "\n",
        "$$ D_{KL} (p \\;||\\; q) = p\\,\\log\\frac{p}{q} + (1 - p) \\log\\frac{1 - p}{1 - q} $$\n",
        "\n",
        "Below is an example implementation that trains an autoencoder using the KL divergence for sparsity. Note that the hidden layer uses a sigmoid activation function because the weights need to be between 0 and 1."
      ]
    },
    {
      "cell_type": "code",
      "metadata": {
        "id": "RcplF1imv26m",
        "colab_type": "code",
        "colab": {}
      },
      "source": [
        "reset_graph()\n",
        "\n",
        "n_inputs = 28 ** 2\n",
        "n_hidden1 = 1024\n",
        "n_outputs = n_inputs\n",
        "\n",
        "learning_rate = 0.001\n",
        "sparsity_target = 0.1\n",
        "sparsity_weight = 0.2\n",
        "\n",
        "def kl_divergence(p, q):\n",
        "  return (p * tf.log(p / q)) + ((1 - p) * tf.log((1 - p) / (1 - q)))\n",
        "\n",
        "X = tf.placeholder(tf.float32, shape=(None, n_inputs))\n",
        "\n",
        "hidden1 = tf.layers.dense(X, n_hidden1, activation=tf.nn.sigmoid)\n",
        "outputs = tf.layers.dense(hidden1, n_outputs)\n",
        "\n",
        "hidden1_mean = tf.reduce_mean(hidden1, axis=0)\n",
        "sparsity_loss = tf.reduce_sum(kl_divergence(sparsity_target, hidden1_mean))\n",
        "reconstruction_loss = tf.reduce_mean(tf.square(X - outputs))\n",
        "loss = reconstruction_loss + (sparsity_weight * sparsity_loss)\n",
        "\n",
        "opt = tf.train.AdamOptimizer(learning_rate)\n",
        "training_op = opt.minimize(loss)\n",
        "\n",
        "saver = tf.train.Saver()\n",
        "init = tf.global_variables_initializer()"
      ],
      "execution_count": 0,
      "outputs": []
    },
    {
      "cell_type": "code",
      "metadata": {
        "id": "GxYTXavVzUsR",
        "colab_type": "code",
        "outputId": "501984bd-c4cd-42d1-935d-e2b1f23323cc",
        "colab": {
          "base_uri": "https://localhost:8080/",
          "height": 207
        }
      },
      "source": [
        "# Training the model\n",
        "\n",
        "n_epochs = 100\n",
        "\n",
        "with tf.Session() as sess:\n",
        "  init.run()\n",
        "  for epoch in range(n_epochs):\n",
        "    n_batches = mnist.train.num_examples // batch_size\n",
        "    for i in range(n_batches):\n",
        "      print('\\r{}%'.format(100 * i // n_batches), end='')\n",
        "      sys.stdout.flush()\n",
        "      indices = rnd.permutation(n_labeled_instances)[:batch_size]\n",
        "      X_batch, y_batch = \\\n",
        "          mnist.train.images[indices], mnist.train.labels[indices]\n",
        "      sess.run(training_op, feed_dict={X: X_batch})\n",
        "    if epoch % 10 == 0 or epoch == 99:\n",
        "      mse_val = reconstruction_loss.eval(feed_dict={X: X_batch})\n",
        "      sparsity_loss_val = sparsity_loss.eval(feed_dict={X: X_batch})\n",
        "      print('\\r{}'.format(epoch), 'Train MSE:', mse_val, 'Sparsity Loss:',\n",
        "            sparsity_loss_val, 'Total Loss:', mse_val + sparsity_loss_val)\n",
        "  saver.save(sess, './my_model_sparse.ckpt')"
      ],
      "execution_count": 43,
      "outputs": [
        {
          "output_type": "stream",
          "text": [
            "0 Train MSE: 0.05551385 Sparsity Loss: 0.3706975 Total Loss: 0.42621136\n",
            "10 Train MSE: 0.013511123 Sparsity Loss: 0.5651831 Total Loss: 0.5786942\n",
            "20 Train MSE: 0.008907776 Sparsity Loss: 0.45083237 Total Loss: 0.45974013\n",
            "30 Train MSE: 0.008078241 Sparsity Loss: 0.044378456 Total Loss: 0.052456696\n",
            "40 Train MSE: 0.008721223 Sparsity Loss: 0.041162804 Total Loss: 0.04988403\n",
            "50 Train MSE: 0.007364937 Sparsity Loss: 0.11193071 Total Loss: 0.11929565\n",
            "60 Train MSE: 0.006197764 Sparsity Loss: 0.12705147 Total Loss: 0.13324924\n",
            "70 Train MSE: 0.0068495246 Sparsity Loss: 0.03814127 Total Loss: 0.044990793\n",
            "80 Train MSE: 0.0043284763 Sparsity Loss: 0.023801766 Total Loss: 0.028130243\n",
            "90 Train MSE: 0.0047969846 Sparsity Loss: 0.14279854 Total Loss: 0.14759552\n",
            "99 Train MSE: 0.0045157527 Sparsity Loss: 0.2530343 Total Loss: 0.25755006\n"
          ],
          "name": "stdout"
        }
      ]
    },
    {
      "cell_type": "code",
      "metadata": {
        "id": "WuUiuw0Yzxkw",
        "colab_type": "code",
        "outputId": "8bc64b92-453d-4ed7-b700-94002a3f4d0b",
        "colab": {
          "base_uri": "https://localhost:8080/",
          "height": 273
        }
      },
      "source": [
        "show_reconstructed_digits(X, outputs, './my_model_sparse.ckpt')"
      ],
      "execution_count": 44,
      "outputs": [
        {
          "output_type": "display_data",
          "data": {
            "image/png": "[encoded data removed]",
            "text/plain": [
              "<Figure size 432x288 with 4 Axes>"
            ]
          },
          "metadata": {
            "tags": []
          }
        }
      ]
    },
    {
      "cell_type": "markdown",
      "metadata": {
        "id": "21wSrOYd6OIp",
        "colab_type": "text"
      },
      "source": [
        "You can also speed up training these types of autoencoders by using the sigmoid cross entropy loss function instead of MSE."
      ]
    },
    {
      "cell_type": "code",
      "metadata": {
        "id": "TcBJPNBT5XIY",
        "colab_type": "code",
        "outputId": "bb782cc4-bb1a-438c-f158-e1ec54944b90",
        "colab": {
          "base_uri": "https://localhost:8080/",
          "height": 66
        }
      },
      "source": [
        "logits = tf.layers.dense(hidden1, n_outputs)\n",
        "\n",
        "xentropy = tf.nn.sigmoid_cross_entropy_with_logits(labels=X, logits=logits)\n",
        "reconstruction_loss = tf.reduce_mean(xentropy)"
      ],
      "execution_count": 0,
      "outputs": [
        {
          "output_type": "stream",
          "text": [
            "W0726 19:16:14.275706 139772317730688 deprecation.py:323] From /usr/local/lib/python3.6/dist-packages/tensorflow/python/ops/nn_impl.py:180: add_dispatch_support.<locals>.wrapper (from tensorflow.python.ops.array_ops) is deprecated and will be removed in a future version.\n",
            "Instructions for updating:\n",
            "Use tf.where in 2.0, which has the same broadcast rule as np.where\n"
          ],
          "name": "stderr"
        }
      ]
    },
    {
      "cell_type": "markdown",
      "metadata": {
        "id": "wSmm9Jbz7qic",
        "colab_type": "text"
      },
      "source": [
        "## Variational Autoencoder\n",
        "\n",
        "In [2014 Diedrik Kingma and Max Welling introduced](https://arxiv.org/pdf/1312.6114v10.pdf) a new type of autoencoder called _variational autoencoders_. They are probabilistic autoencoders whose outputs are partially determined by change. They are also _generative autoencoders_, meaning they can generate new instances that look like they were sampled from the training set. Both of these properties make them similar to restricted Boltzmann machines (RBFs) which are covered in the Appendix.\n",
        "\n",
        "Variational autoencoders work like normal autoencoders, except instead oflearning a coding layer, they learn a mean coding $\\mu$ and a standard deviation $\\sigma$. The coding is then sampled randomly using a Gaussian distribution and the coding is decoded to look like the training instance.\n",
        "\n",
        "The cost function consists of two parts: the reconstruction loss and the _latent loss_ which ensures the coding layer looks like it is sampling from a Gaussian distribution. For mathematical details on the latent loss, see [Carl Doersch's tutorial](https://arxiv.org/pdf/1606.05908.pdf). The latent loss in this case is given by\n",
        "\n",
        "$$ J_\\text{latent}(\\mu, \\sigma) = \\frac{1}{2} \\left( \\mu^2 + \\sigma^2 - 1 - \\log\\left(\\epsilon + \\sigma^2\\right) \\right) $$\n",
        "\n",
        "where $\\epsilon$ is a small constant (like $10^{-10}$) because $\\log(0)$ is undefined. Below is an implementation of a variational autoencoder using TensorFlow:"
      ]
    },
    {
      "cell_type": "code",
      "metadata": {
        "id": "07pQ_QEXEPKz",
        "colab_type": "code",
        "colab": {}
      },
      "source": [
        "reset_graph()\n",
        "\n",
        "n_inputs = 28 ** 2\n",
        "n_hidden1 = 500\n",
        "n_hidden2 = 500\n",
        "n_hidden3 = 20\n",
        "n_hidden4 = n_hidden2\n",
        "n_hidden5 = n_hidden1\n",
        "n_outputs = n_inputs\n",
        "\n",
        "learning_rate = 0.001\n",
        "\n",
        "he_init = tf.contrib.layers.variance_scaling_initializer()\n",
        "dense = partial(tf.layers.dense, kernel_initializer=he_init,\n",
        "                activation=tf.nn.elu)\n",
        "\n",
        "X = tf.placeholder(tf.float32, shape=(None, n_inputs))\n",
        "\n",
        "hidden1 = dense(X, n_hidden1)\n",
        "hidden2 = dense(hidden1, n_hidden2)\n",
        "hidden3_mean = dense(hidden2, n_hidden3, activation=None)\n",
        "hidden3_sigma = dense(hidden2, n_hidden3, activation=None)\n",
        "noise = tf.random_normal(tf.shape(hidden3_sigma), dtype=tf.float32)\n",
        "hidden3 = hidden3_mean + (noise * hidden3_sigma)\n",
        "hidden4 = dense(hidden3, n_hidden4)\n",
        "hidden5 = dense(hidden4, n_hidden5)\n",
        "logits = dense(hidden5, n_outputs, activation=None)\n",
        "outputs = tf.nn.sigmoid(logits)\n",
        "\n",
        "xentropy = tf.nn.sigmoid_cross_entropy_with_logits(labels=X, logits=logits)\n",
        "reconstruction_loss = tf.reduce_mean(xentropy)\n",
        "\n",
        "eps = 1e-10\n",
        "latent_loss = 0.5 * tf.reduce_sum(\n",
        "    tf.square(hidden3_sigma) + tf.square(hidden3_mean)\n",
        "        - 1 - tf.log(eps + tf.square(hidden3_sigma)))\n",
        "\n",
        "loss = 1e5 * reconstruction_loss + latent_loss\n",
        "opt = tf.train.AdamOptimizer(learning_rate)\n",
        "training_op = opt.minimize(loss)\n",
        "\n",
        "init = tf.global_variables_initializer()\n",
        "saver = tf.train.Saver()"
      ],
      "execution_count": 0,
      "outputs": []
    },
    {
      "cell_type": "code",
      "metadata": {
        "id": "9Tgl2oVSJ702",
        "colab_type": "code",
        "outputId": "4e74369f-c03d-42f4-b79b-1e3ca3951919",
        "colab": {
          "base_uri": "https://localhost:8080/",
          "height": 207
        }
      },
      "source": [
        "# Training the model.\n",
        "\n",
        "n_epochs = 50\n",
        "batch_size = 150\n",
        "n_digits = 60\n",
        "\n",
        "with tf.Session() as sess:\n",
        "  init.run()\n",
        "  for epoch in range(n_epochs):\n",
        "    n_batches = mnist.train.num_examples // batch_size\n",
        "    for i in range(n_batches):\n",
        "      print('\\r{}%'.format(100 * i // n_batches), end='')\n",
        "      sys.stdout.flush()\n",
        "      X_batch, _ = mnist.train.next_batch(batch_size)\n",
        "      sess.run(training_op, feed_dict={X: X_batch})\n",
        "    if epoch % 5 == 0 or epoch == 49:\n",
        "      loss_val, reconstruction_loss_val, latent_loss_val = \\\n",
        "          sess.run([loss, reconstruction_loss, latent_loss],\n",
        "                   feed_dict={X: X_batch})\n",
        "      print('\\r{}'.format(epoch), 'Train Total Loss:', loss_val,\n",
        "            'Train Reconstruction Loss:', reconstruction_loss_val,\n",
        "            'Train Latent Loss:', latent_loss_val)\n",
        "    saver.save(sess, './my_model_variational.ckpt')"
      ],
      "execution_count": 76,
      "outputs": [
        {
          "output_type": "stream",
          "text": [
            "0 Train Total Loss: 26899.459 Train Reconstruction Loss: 0.20633607 Train Latent Loss: 6265.8516\n",
            "5 Train Total Loss: 20010.215 Train Reconstruction Loss: 0.16711022 Train Latent Loss: 3299.1938\n",
            "10 Train Total Loss: 15374.996 Train Reconstruction Loss: 0.12482272 Train Latent Loss: 2892.7236\n",
            "15 Train Total Loss: 13962.566 Train Reconstruction Loss: 0.10917122 Train Latent Loss: 3045.4443\n",
            "20 Train Total Loss: 14302.314 Train Reconstruction Loss: 0.11216843 Train Latent Loss: 3085.472\n",
            "25 Train Total Loss: 24078.094 Train Reconstruction Loss: 0.19849381 Train Latent Loss: 4228.713\n",
            "30 Train Total Loss: 14406.694 Train Reconstruction Loss: 0.1134908 Train Latent Loss: 3057.6143\n",
            "35 Train Total Loss: 14059.467 Train Reconstruction Loss: 0.11010606 Train Latent Loss: 3048.861\n",
            "40 Train Total Loss: 16701.016 Train Reconstruction Loss: 0.13559416 Train Latent Loss: 3141.5986\n",
            "45 Train Total Loss: 14555.677 Train Reconstruction Loss: 0.11638341 Train Latent Loss: 2917.336\n",
            "49 Train Total Loss: 14166.076 Train Reconstruction Loss: 0.107744314 Train Latent Loss: 3391.644\n"
          ],
          "name": "stdout"
        }
      ]
    },
    {
      "cell_type": "code",
      "metadata": {
        "id": "TpHItYyYfOnF",
        "colab_type": "code",
        "outputId": "4a5fd729-2e77-4b95-b750-ef74f88f63dd",
        "colab": {
          "base_uri": "https://localhost:8080/",
          "height": 320
        }
      },
      "source": [
        "# Generating new digits.\n",
        "\n",
        "with tf.Session() as sess:\n",
        "  init.run()\n",
        "  saver.restore(sess, './my_model_variational.ckpt')\n",
        "  codings_rnd = np.random.normal(size=[n_digits, n_hidden3])\n",
        "  outputs_val = outputs.eval(feed_dict={hidden3: codings_rnd})\n",
        "\n",
        "plt.figure(figsize=(8,50))\n",
        "for i in range(n_digits):\n",
        "    plt.subplot(n_digits, 10, i + 1)\n",
        "    plot_image(outputs_val[i])"
      ],
      "execution_count": 77,
      "outputs": [
        {
          "output_type": "display_data",
          "data": {
            "image/png": "[encoded data removed]",
            "text/plain": [
              "<Figure size 576x3600 with 60 Axes>"
            ]
          },
          "metadata": {
            "tags": []
          }
        }
      ]
    },
    {
      "cell_type": "markdown",
      "metadata": {
        "id": "QTTUc9aOxtTp",
        "colab_type": "text"
      },
      "source": [
        "You can also compute the latent loss by computing the quantity\n",
        "\n",
        "$$ \\gamma = \\log\\left(\\sigma^2\\right) $$\n",
        "\n",
        "solving for $\\sigma$ gives\n",
        "\n",
        "$$ \\sigma = \\exp\\left(\\frac{\\gamma}{2}\\right) $$\n",
        "\n",
        "Using this quantity, we can rewrite the cost function for the latent lost as\n",
        "\n",
        "$$ J_\\text{latent} = \\frac{1}{2}\\left( \\exp\\gamma + \\mu^2 - 1 - \\gamma \\right) $$\n",
        "\n",
        "Below is a TensorFlow implementation of a variational autoencoder which computes latent loss this way."
      ]
    },
    {
      "cell_type": "code",
      "metadata": {
        "id": "uXllaTuV64Ah",
        "colab_type": "code",
        "colab": {}
      },
      "source": [
        "reset_graph()\n",
        "\n",
        "n_inputs = 28 ** 2\n",
        "n_hidden1 = 500\n",
        "n_hidden2 = 500\n",
        "n_hidden3 = 20\n",
        "n_hidden4 = n_hidden2\n",
        "n_hidden5 = n_hidden1\n",
        "n_outputs = n_inputs\n",
        "\n",
        "learning_rate = 0.001\n",
        "\n",
        "he_init = tf.contrib.layers.variance_scaling_initializer()\n",
        "dense = partial(tf.layers.dense, kernel_initializer=he_init,\n",
        "                activation=tf.nn.elu)\n",
        "\n",
        "X = tf.placeholder(tf.float32, shape=(None, n_inputs))\n",
        "\n",
        "hidden1 = dense(X, n_hidden1)\n",
        "hidden2 = dense(hidden1, n_hidden2)\n",
        "hidden3_mean = dense(hidden2, n_hidden3, activation=None)\n",
        "hidden3_gamma = dense(hidden2, n_hidden3, activation=None)\n",
        "noise = tf.random_normal(tf.shape(hidden3_gamma), dtype=tf.float32)\n",
        "hidden3 = hidden3_mean + (noise * tf.exp(hidden3_gamma * 0.5))\n",
        "hidden4 = dense(hidden3, n_hidden4)\n",
        "hidden5 = dense(hidden4, n_hidden5)\n",
        "logits = dense(hidden5, n_outputs, activation=None)\n",
        "outputs = tf.nn.sigmoid(logits)\n",
        "\n",
        "xentropy = tf.nn.sigmoid_cross_entropy_with_logits(labels=X, logits=logits)\n",
        "reconstruction_loss = tf.reduce_mean(xentropy)\n",
        "\n",
        "eps = 1e-10\n",
        "latent_loss = 0.5 * tf.reduce_sum(\n",
        "    tf.exp(hidden3_gamma) + tf.square(hidden3_mean) - 1 - hidden3_gamma)\n",
        "\n",
        "loss = 1e5 * reconstruction_loss + latent_loss\n",
        "opt = tf.train.AdamOptimizer(learning_rate)\n",
        "training_op = opt.minimize(loss)\n",
        "\n",
        "init = tf.global_variables_initializer()\n",
        "saver = tf.train.Saver()"
      ],
      "execution_count": 0,
      "outputs": []
    },
    {
      "cell_type": "code",
      "metadata": {
        "id": "bW1jWq3N7iIi",
        "colab_type": "code",
        "colab": {
          "base_uri": "https://localhost:8080/",
          "height": 207
        },
        "outputId": "6005ab51-06ed-4207-eca6-438d6d12ce2a"
      },
      "source": [
        "# Training the model.\n",
        "\n",
        "n_epochs = 50\n",
        "batch_size = 150\n",
        "n_digits = 60\n",
        "\n",
        "with tf.Session() as sess:\n",
        "  init.run()\n",
        "  for epoch in range(n_epochs):\n",
        "    n_batches = mnist.train.num_examples // batch_size\n",
        "    for i in range(n_batches):\n",
        "      print('\\r{}%'.format(100 * i // n_batches), end='')\n",
        "      sys.stdout.flush()\n",
        "      X_batch, _ = mnist.train.next_batch(batch_size)\n",
        "      sess.run(training_op, feed_dict={X: X_batch})\n",
        "    if epoch % 5 == 0 or epoch == 49:\n",
        "      loss_val, reconstruction_loss_val, latent_loss_val = \\\n",
        "          sess.run([loss, reconstruction_loss, latent_loss],\n",
        "                   feed_dict={X: X_batch})\n",
        "      print('\\r{}'.format(epoch), 'Train Total Loss:', loss_val,\n",
        "            'Train Reconstruction Loss:', reconstruction_loss_val,\n",
        "            'Train Latent Loss:', latent_loss_val)\n",
        "    saver.save(sess, './my_model_variational.ckpt')"
      ],
      "execution_count": 79,
      "outputs": [
        {
          "output_type": "stream",
          "text": [
            "0 Train Total Loss: 15757.964 Train Reconstruction Loss: 0.123470284 Train Latent Loss: 3410.9355\n",
            "5 Train Total Loss: 13647.998 Train Reconstruction Loss: 0.10162979 Train Latent Loss: 3485.0183\n",
            "10 Train Total Loss: 13796.018 Train Reconstruction Loss: 0.1036193 Train Latent Loss: 3434.0881\n",
            "15 Train Total Loss: 14109.785 Train Reconstruction Loss: 0.106428504 Train Latent Loss: 3466.9346\n",
            "20 Train Total Loss: 13879.889 Train Reconstruction Loss: 0.10322199 Train Latent Loss: 3557.6895\n",
            "25 Train Total Loss: 13553.389 Train Reconstruction Loss: 0.101247385 Train Latent Loss: 3428.6501\n",
            "30 Train Total Loss: 13072.607 Train Reconstruction Loss: 0.096376404 Train Latent Loss: 3434.967\n",
            "35 Train Total Loss: 12955.178 Train Reconstruction Loss: 0.096037805 Train Latent Loss: 3351.3975\n",
            "40 Train Total Loss: 13639.829 Train Reconstruction Loss: 0.10169655 Train Latent Loss: 3470.1736\n",
            "45 Train Total Loss: 12964.96 Train Reconstruction Loss: 0.09536875 Train Latent Loss: 3428.085\n",
            "49 Train Total Loss: 13181.289 Train Reconstruction Loss: 0.097714834 Train Latent Loss: 3409.8057\n"
          ],
          "name": "stdout"
        }
      ]
    },
    {
      "cell_type": "code",
      "metadata": {
        "id": "Xdn2AIxwBFfv",
        "colab_type": "code",
        "colab": {
          "base_uri": "https://localhost:8080/",
          "height": 320
        },
        "outputId": "899862b9-77ea-43e3-956d-4a1a53965798"
      },
      "source": [
        "# Generating new digits.\n",
        "\n",
        "with tf.Session() as sess:\n",
        "  init.run()\n",
        "  saver.restore(sess, './my_model_variational.ckpt')\n",
        "  codings_rnd = np.random.normal(size=[n_digits, n_hidden3])\n",
        "  outputs_val = outputs.eval(feed_dict={hidden3: codings_rnd})\n",
        "\n",
        "plt.figure(figsize=(8,50))\n",
        "for i in range(n_digits):\n",
        "    plt.subplot(n_digits, 10, i + 1)\n",
        "    plot_image(outputs_val[i])"
      ],
      "execution_count": 80,
      "outputs": [
        {
          "output_type": "display_data",
          "data": {
            "image/png": "[encoded data removed]",
            "text/plain": [
              "<Figure size 576x3600 with 60 Axes>"
            ]
          },
          "metadata": {
            "tags": []
          }
        }
      ]
    }
  ]
}