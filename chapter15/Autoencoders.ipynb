{
  "nbformat": 4,
  "nbformat_minor": 0,
  "metadata": {
    "colab": {
      "name": "Autoencoders.ipynb",
      "version": "0.3.2",
      "provenance": [],
      "collapsed_sections": []
    },
    "kernelspec": {
      "name": "python3",
      "display_name": "Python 3"
    },
    "accelerator": "GPU"
  },
  "cells": [
    {
      "cell_type": "markdown",
      "metadata": {
        "id": "BD2Yqnh1gXS8",
        "colab_type": "text"
      },
      "source": [
        "# Chapter 15: Autoencoders\n",
        "\n",
        "Autoencoders are an unsupervised neural network architecture who are tasked with reproducing their input. They do so by learning how to encode their inputs using hidden layers that are _smaller_ than the input layer. This forces the model to learn an efficient representation of the data, called _codings_.\n",
        "\n",
        "Below is some setup code which the author uses for the code throughout the chapter.\n",
        "\n"
      ]
    },
    {
      "cell_type": "code",
      "metadata": {
        "id": "jLsyTnsMgU2s",
        "colab_type": "code",
        "colab": {}
      },
      "source": [
        "import numpy as np\n",
        "import os\n",
        "import sys\n",
        "\n",
        "def reset_graph(seed=42):\n",
        "    tf.reset_default_graph()\n",
        "    tf.set_random_seed(seed)\n",
        "    np.random.seed(seed)\n",
        "\n",
        "# Plot styling.\n",
        "%matplotlib inline\n",
        "import matplotlib\n",
        "import matplotlib.pyplot as plt\n",
        "plt.rcParams['axes.labelsize'] = 14\n",
        "plt.rcParams['xtick.labelsize'] = 12\n",
        "plt.rcParams['ytick.labelsize'] = 12\n",
        "\n",
        "# Code for saving figures.\n",
        "PROJECT_ROOT_DIR = \".\"\n",
        "CHAPTER_ID = \"autoencoders\"\n",
        "def save_fig(fig_id, tight_layout=True):\n",
        "    path = os.path.join(PROJECT_ROOT_DIR, 'images', '{}.png'.format(fig_id))\n",
        "    print(\"Saving figure\", fig_id)\n",
        "    if tight_layout:\n",
        "        plt.tight_layout()\n",
        "    plt.savefig(path, format='png', dpi=300)"
      ],
      "execution_count": 0,
      "outputs": []
    },
    {
      "cell_type": "code",
      "metadata": {
        "id": "Rl0abSFRt-yq",
        "colab_type": "code",
        "colab": {}
      },
      "source": [
        "def plot_image(image, shape=[28, 28]):\n",
        "    plt.imshow(image.reshape(shape), cmap='Greys', interpolation='nearest')\n",
        "    plt.axis('off')"
      ],
      "execution_count": 0,
      "outputs": []
    },
    {
      "cell_type": "code",
      "metadata": {
        "id": "olJpqlG4KYMx",
        "colab_type": "code",
        "colab": {}
      },
      "source": [
        "!mkdir images"
      ],
      "execution_count": 0,
      "outputs": []
    },
    {
      "cell_type": "markdown",
      "metadata": {
        "id": "qtkKk8HxGzL5",
        "colab_type": "text"
      },
      "source": [
        "## Performing PCA with an Undercomplete Linear Autoencoder\n",
        "\n",
        "An autoencoder with only linear activation functions that uses MSE as the loss function can be shown to be equivalent to PCA (Chapter 8)."
      ]
    },
    {
      "cell_type": "code",
      "metadata": {
        "id": "XQXLRrN3Gymx",
        "colab_type": "code",
        "colab": {}
      },
      "source": [
        "# Create a 3D dataset.\n",
        "\n",
        "import numpy.random as rnd\n",
        "\n",
        "rnd.seed(42)\n",
        "m = 200\n",
        "w1, w2 = 0.1, 0.3\n",
        "noise = 0.1\n",
        "\n",
        "angles = rnd.rand(m) * 3 * np.pi / 2 - 0.5\n",
        "data = np.empty((m, 3))\n",
        "data[:, 0] = np.cos(angles) + (np.sin(angles) / 2) + (noise * rnd.randn(m) / 2)\n",
        "data[:, 1] = (np.sin(angles) * 0.7) + (noise * rnd.randn(m) / 2)\n",
        "data[:, 2] = (data[:, 0] * w1) + (data[:, 1] * w2) + (noise * rnd.randn(m))"
      ],
      "execution_count": 0,
      "outputs": []
    },
    {
      "cell_type": "code",
      "metadata": {
        "id": "V4N4ceT_H1-t",
        "colab_type": "code",
        "colab": {}
      },
      "source": [
        "# Scale the data with StandardScaler.\n",
        "\n",
        "from sklearn.preprocessing import StandardScaler\n",
        "\n",
        "scaler = StandardScaler()\n",
        "X_train = scaler.fit_transform(data[:100])\n",
        "X_test = scaler.transform(data[100:])"
      ],
      "execution_count": 0,
      "outputs": []
    },
    {
      "cell_type": "code",
      "metadata": {
        "id": "VKrj7NTVIl1f",
        "colab_type": "code",
        "colab": {}
      },
      "source": [
        "# Define the model graph.\n",
        "\n",
        "import tensorflow as tf\n",
        "\n",
        "reset_graph()\n",
        "\n",
        "n_inputs = 3\n",
        "n_hidden = 2\n",
        "n_outputs = n_inputs\n",
        "\n",
        "learning_rate = 0.01\n",
        "\n",
        "X = tf.placeholder(tf.float32, shape=(None, n_inputs))\n",
        "hidden = tf.layers.dense(X, n_hidden)\n",
        "outputs = tf.layers.dense(hidden, n_outputs)\n",
        "\n",
        "reconstruction_loss = tf.reduce_mean(tf.square(outputs - X))\n",
        "\n",
        "opt = tf.train.AdamOptimizer(learning_rate)\n",
        "training_op = opt.minimize(reconstruction_loss)\n",
        "\n",
        "init = tf.global_variables_initializer()"
      ],
      "execution_count": 0,
      "outputs": []
    },
    {
      "cell_type": "code",
      "metadata": {
        "id": "bWZb2YAsJoK6",
        "colab_type": "code",
        "colab": {}
      },
      "source": [
        "# Training the autoencoder.\n",
        "\n",
        "n_iterations = 100\n",
        "codings = hidden\n",
        "\n",
        "with tf.Session() as sess:\n",
        "  init.run()\n",
        "  for i in range(n_iterations):\n",
        "    training_op.run(feed_dict={X: X_train})\n",
        "  codings_val = codings.eval(feed_dict={X: X_test})"
      ],
      "execution_count": 0,
      "outputs": []
    },
    {
      "cell_type": "code",
      "metadata": {
        "id": "uUAIdt0oKDO0",
        "colab_type": "code",
        "outputId": "73066368-53a6-4ad1-8e8d-858714500108",
        "colab": {
          "base_uri": "https://localhost:8080/",
          "height": 243
        }
      },
      "source": [
        "# Plotting the figure.\n",
        "\n",
        "fig = plt.figure(figsize=(4,3))\n",
        "plt.plot(codings_val[:,0], codings_val[:, 1], 'b.')\n",
        "plt.xlabel('$z_1$', fontsize=18)\n",
        "plt.ylabel('$z_2$', fontsize=18, rotation=0)\n",
        "save_fig('linear_autoencoder_pca_plot')\n",
        "plt.show()"
      ],
      "execution_count": 9,
      "outputs": [
        {
          "output_type": "stream",
          "text": [
            "Saving figure linear_autoencoder_pca_plot\n"
          ],
          "name": "stdout"
        },
        {
          "output_type": "display_data",
          "data": {
            "image/png": "[encoded data removed]",
            "text/plain": [
              "<Figure size 288x216 with 1 Axes>"
            ]
          },
          "metadata": {
            "tags": []
          }
        }
      ]
    },
    {
      "cell_type": "markdown",
      "metadata": {
        "id": "yc0YcMeLd8PE",
        "colab_type": "text"
      },
      "source": [
        "## Stacked Autoencoders\n",
        "\n",
        "Autoencoders with multiple hidden layers are called _stacked autoencoders_ (or _deep autoencoders_). You must be wary that if the autoencoder is too deep, it may just learn how to reproduce the training set, leading to overfitting. Below is a TensorFlow implementation of a stacked autoencoder with 3 hidden layers used for generating handwritten digits using the MNIST dataset."
      ]
    },
    {
      "cell_type": "code",
      "metadata": {
        "id": "cGCKRSUzfNG9",
        "colab_type": "code",
        "outputId": "254165be-874d-409a-fd56-95e88cf472f6",
        "colab": {
          "base_uri": "https://localhost:8080/",
          "height": 86
        }
      },
      "source": [
        "# Downloading the data.\n",
        "\n",
        "from tensorflow.examples.tutorials.mnist import input_data\n",
        "mnist = input_data.read_data_sets(\"/tmp/data/\")"
      ],
      "execution_count": 11,
      "outputs": [
        {
          "output_type": "stream",
          "text": [
            "Extracting /tmp/data/train-images-idx3-ubyte.gz\n",
            "Extracting /tmp/data/train-labels-idx1-ubyte.gz\n",
            "Extracting /tmp/data/t10k-images-idx3-ubyte.gz\n",
            "Extracting /tmp/data/t10k-labels-idx1-ubyte.gz\n"
          ],
          "name": "stdout"
        }
      ]
    },
    {
      "cell_type": "markdown",
      "metadata": {
        "id": "KuAyScFRf3Cd",
        "colab_type": "text"
      },
      "source": [
        "### Train all layers at once\n",
        "\n",
        "The example below trains all of the hidden layers of the stacked autoencoder at once."
      ]
    },
    {
      "cell_type": "code",
      "metadata": {
        "id": "E0E4zltAf2iR",
        "colab_type": "code",
        "colab": {}
      },
      "source": [
        "# Define the model graph.\n",
        "\n",
        "from functools import partial\n",
        "\n",
        "reset_graph()\n",
        "\n",
        "n_inputs = 28 ** 2\n",
        "n_hidden1 = 512\n",
        "n_hidden2 = 256\n",
        "n_hidden3 = n_hidden1\n",
        "n_outputs = n_inputs\n",
        "n_outputs = n_inputs\n",
        "\n",
        "learning_rate = 0.001\n",
        "l2_reg = 0.0001\n",
        "\n",
        "X = tf.placeholder(tf.float32, shape=(None, n_inputs))\n",
        "\n",
        "he_init = tf.contrib.layers.variance_scaling_initializer()\n",
        "regularizer = tf.contrib.layers.l2_regularizer(l2_reg)\n",
        "\n",
        "dense = partial(tf.layers.dense, activation=tf.nn.relu,\n",
        "                kernel_initializer=he_init, kernel_regularizer=regularizer)\n",
        "\n",
        "hidden1 = dense(X, n_hidden1)\n",
        "hidden2 = dense(hidden1, n_hidden2)\n",
        "hidden3 = dense(hidden2, n_hidden3)\n",
        "outputs = dense(hidden3, n_outputs, activation=None)\n",
        "\n",
        "loss = tf.reduce_mean(tf.square(outputs - X))\n",
        "opt = tf.train.AdamOptimizer(learning_rate)\n",
        "training_op = opt.minimize(loss)\n",
        "\n",
        "saver = tf.train.Saver()\n",
        "init = tf.global_variables_initializer()"
      ],
      "execution_count": 0,
      "outputs": []
    },
    {
      "cell_type": "code",
      "metadata": {
        "id": "ZWhm_cP7opNl",
        "colab_type": "code",
        "outputId": "00abad60-72a4-48d1-86d4-b26ffc5c72f8",
        "colab": {
          "base_uri": "https://localhost:8080/",
          "height": 104
        }
      },
      "source": [
        "# Train the model.\n",
        "\n",
        "n_epochs = 5\n",
        "batch_size = 150\n",
        "\n",
        "with tf.Session() as sess:\n",
        "  init.run()\n",
        "  for epoch in range(n_epochs):\n",
        "    n_batches = mnist.train.num_examples // batch_size\n",
        "    for i in range(n_batches):\n",
        "      print('\\r{}%'.format((100 * i) // n_batches), end=\"\")\n",
        "      sys.stdout.flush()\n",
        "      X_batch, y_batch = mnist.train.next_batch(batch_size)\n",
        "      sess.run(training_op, feed_dict={X: X_batch})\n",
        "    loss_train = loss.eval(feed_dict={X: X_batch})\n",
        "    print(\"\\r{}\".format(epoch), \"Train MSE:\", loss_train)\n",
        "    saver.save(sess, './my_model_all_layers.ckpt')"
      ],
      "execution_count": 13,
      "outputs": [
        {
          "output_type": "stream",
          "text": [
            "0 Train MSE: 0.015859812\n",
            "1 Train MSE: 0.014265095\n",
            "2 Train MSE: 0.013388703\n",
            "3 Train MSE: 0.012680453\n",
            "4 Train MSE: 0.012523079\n"
          ],
          "name": "stdout"
        }
      ]
    },
    {
      "cell_type": "code",
      "metadata": {
        "id": "l0fb-Hn6tGGi",
        "colab_type": "code",
        "colab": {}
      },
      "source": [
        "# Define a plotting function.\n",
        "\n",
        "def show_reconstructed_digits(X, outputs, model_path=None, n_test_digits=2):\n",
        "  with tf.Session() as sess:\n",
        "    if model_path:\n",
        "      saver.restore(sess, model_path)\n",
        "    X_test = mnist.test.images[:n_test_digits]\n",
        "    outputs_val = outputs.eval(feed_dict={X: X_test})\n",
        "  for digit_idx in range(n_test_digits):\n",
        "    plt.subplot(n_test_digits, 2, (digit_idx * 2) + 1)\n",
        "    plot_image(X_test[digit_idx])\n",
        "    plt.subplot(n_test_digits, 2, (digit_idx * 2) + 2)\n",
        "    plot_image(outputs_val[digit_idx])"
      ],
      "execution_count": 0,
      "outputs": []
    },
    {
      "cell_type": "code",
      "metadata": {
        "id": "-lm4IG21tzA_",
        "colab_type": "code",
        "outputId": "f86bd8cd-8414-4abd-fcbd-96fadb8df041",
        "colab": {
          "base_uri": "https://localhost:8080/",
          "height": 315
        }
      },
      "source": [
        "show_reconstructed_digits(X, outputs, './my_model_all_layers.ckpt')\n",
        "save_fig('reconstruction_plot')"
      ],
      "execution_count": 16,
      "outputs": [
        {
          "output_type": "stream",
          "text": [
            "Saving figure reconstruction_plot\n"
          ],
          "name": "stdout"
        },
        {
          "output_type": "display_data",
          "data": {
            "image/png": "[encoded data removed]",
            "text/plain": [
              "<Figure size 432x288 with 4 Axes>"
            ]
          },
          "metadata": {
            "tags": []
          }
        }
      ]
    },
    {
      "cell_type": "markdown",
      "metadata": {
        "id": "9cPKF-a2vNaL",
        "colab_type": "text"
      },
      "source": [
        "### Tying Weights\n",
        "\n",
        "When you are using a near-symmetric autoencoder (like the one above) then you can _tie the weights_ of the decoder layers to th weights of the encoder layers. Specifically, if the autoencoder has $N$ layers and $\\mathbf{W}_L$ is the weights tensor of the $L$<sup>th</sup> layer, then the decoder layer weights can be defined as\n",
        "\n",
        "$$ \\mathbf{W}_{N-L+1} = \\mathbf{W}^{\\;\\,T}_L $$\n",
        "\n",
        "Below is a TensorFlow implementation of a stacked autoencoder which ties weights."
      ]
    },
    {
      "cell_type": "code",
      "metadata": {
        "id": "YAL4rZnpxeZR",
        "colab_type": "code",
        "colab": {}
      },
      "source": [
        "# Defining the model graph.\n",
        "\n",
        "reset_graph()\n",
        "\n",
        "n_inputs = 28 ** 2\n",
        "n_hidden1 = 512\n",
        "n_hidden2 = 256\n",
        "n_hidden3 = n_hidden1\n",
        "n_outputs = n_inputs\n",
        "n_outputs = n_inputs\n",
        "\n",
        "learning_rate = 0.001\n",
        "l2_reg = 0.00005\n",
        "\n",
        "X = tf.placeholder(tf.float32, shape=(None, n_inputs))\n",
        "\n",
        "he_init = tf.contrib.layers.variance_scaling_initializer()\n",
        "regularizer = tf.contrib.layers.l2_regularizer(l2_reg)\n",
        "\n",
        "weights1_init = he_init([n_inputs, n_hidden1])\n",
        "weights2_init = he_init([n_hidden1, n_hidden2])\n",
        "\n",
        "weights1 = tf.Variable(weights1_init, dtype=tf.float32)\n",
        "weights2 = tf.Variable(weights2_init, dtype=tf.float32)\n",
        "weights3 = tf.transpose(weights2)\n",
        "weights4 = tf.transpose(weights1)\n",
        "\n",
        "bias = lambda n: tf.Variable(tf.zeros(n))\n",
        "bias1 = bias(n_hidden1)\n",
        "bias2 = bias(n_hidden2)\n",
        "bias3 = bias(n_hidden3)\n",
        "bias4 = bias(n_outputs)\n",
        "\n",
        "hidden = lambda X, W, b: tf.nn.elu(tf.matmul(X, W) + b)\n",
        "hidden1 = hidden(X, weights1, bias1)\n",
        "hidden2 = hidden(hidden1, weights2, bias2)\n",
        "hidden3 = hidden(hidden2, weights3, bias3)\n",
        "outputs = tf.matmul(hidden3, weights4) + bias4\n",
        "\n",
        "reconstruction_loss = tf.reduce_mean(tf.square(X - outputs))\n",
        "loss = reconstruction_loss + regularizer(weights1) + regularizer(weights2)\n",
        "opt = tf.train.AdamOptimizer(learning_rate)\n",
        "training_op = opt.minimize(loss)\n",
        "\n",
        "saver = tf.train.Saver()\n",
        "init = tf.global_variables_initializer()"
      ],
      "execution_count": 0,
      "outputs": []
    },
    {
      "cell_type": "code",
      "metadata": {
        "id": "PCMl8t-v0uUI",
        "colab_type": "code",
        "outputId": "4f6a7ed4-aa81-44f4-92e2-992ebd84ae0f",
        "colab": {
          "base_uri": "https://localhost:8080/",
          "height": 104
        }
      },
      "source": [
        "# Train the model.\n",
        "\n",
        "n_epochs = 5\n",
        "batch_size = 150\n",
        "\n",
        "with tf.Session() as sess:\n",
        "  init.run()\n",
        "  for epoch in range(n_epochs):\n",
        "    n_batches = mnist.train.num_examples // batch_size\n",
        "    for i in range(n_batches):\n",
        "      print('\\r{}%'.format((100 * i) // n_batches), end=\"\")\n",
        "      sys.stdout.flush()\n",
        "      X_batch, y_batch = mnist.train.next_batch(batch_size)\n",
        "      sess.run(training_op, feed_dict={X: X_batch})\n",
        "    loss_train = reconstruction_loss.eval(feed_dict={X: X_batch})\n",
        "    print('\\r{}'.format(epoch), 'Train MSE:', loss_train)\n",
        "    saver.save(sess, './my_model_all_layers.ckpt')"
      ],
      "execution_count": 26,
      "outputs": [
        {
          "output_type": "stream",
          "text": [
            "0 Train MSE: 0.0056030927\n",
            "1 Train MSE: 0.004015474\n",
            "2 Train MSE: 0.0043796534\n",
            "3 Train MSE: 0.003961304\n",
            "4 Train MSE: 0.00423302\n"
          ],
          "name": "stdout"
        }
      ]
    },
    {
      "cell_type": "code",
      "metadata": {
        "id": "bPKL-lwC1s--",
        "colab_type": "code",
        "outputId": "2ae27a24-2d6c-45b3-ee25-4740100a1159",
        "colab": {
          "base_uri": "https://localhost:8080/",
          "height": 315
        }
      },
      "source": [
        "show_reconstructed_digits(X, outputs, './my_model_all_layers.ckpt')\n",
        "save_fig('tying_weight_reconstruction_plot')"
      ],
      "execution_count": 27,
      "outputs": [
        {
          "output_type": "stream",
          "text": [
            "Saving figure tying_weight_reconstruction_plot\n"
          ],
          "name": "stdout"
        },
        {
          "output_type": "display_data",
          "data": {
            "image/png": "[encoded data removed]",
            "text/plain": [
              "<Figure size 432x288 with 4 Axes>"
            ]
          },
          "metadata": {
            "tags": []
          }
        }
      ]
    },
    {
      "cell_type": "markdown",
      "metadata": {
        "id": "bgxLRw3KJ5Cy",
        "colab_type": "text"
      },
      "source": [
        "### Train One Autoencoder at a Time in Multiple Graphs\n",
        "\n",
        "You can train a stacked autoencoder in parts:\n",
        "\n",
        "1. First you train the model to reproduce the input layer only using one hidden layer.\n",
        "\n",
        "2. You train an autoencoder which tries to reproduce the output of the first hidden layer (which trains the second and third hidden layer).\n",
        "\n",
        "You can then combine the two results for a fully-functional autoencoder. Below is an implementation of training a stacked autoencoder this way using multiple TensorFlow graphs."
      ]
    },
    {
      "cell_type": "code",
      "metadata": {
        "id": "gQH99g7CLYrQ",
        "colab_type": "code",
        "colab": {}
      },
      "source": [
        "# Defining a function for training an autoencoder in the first 2 steps.\n",
        "\n",
        "reset_graph()\n",
        "\n",
        "def train_autoencoder(X_train, n_units, n_epochs, batch_size,\n",
        "                      learning_rate=0.001, l2_reg=0.00005, seed=42,\n",
        "                      hidden_activation=tf.nn.elu,\n",
        "                      output_activation=tf.nn.elu):\n",
        "  graph = tf.Graph()\n",
        "  with graph.as_default():\n",
        "    tf.set_random_seed(seed)\n",
        "\n",
        "    n_inputs = X_train.shape[1]\n",
        "\n",
        "    X = tf.placeholder(tf.float32, shape=(None, n_inputs))\n",
        "\n",
        "    he_init = tf.contrib.layers.variance_scaling_initializer()\n",
        "    regularizer = tf.contrib.layers.l2_regularizer(l2_reg)\n",
        "    dense = partial(tf.layers.dense, kernel_initializer=he_init,\n",
        "                    kernel_regularizer=regularizer)\n",
        "    \n",
        "    hidden = dense(X, n_units, activation=hidden_activation, name='hidden')\n",
        "    outputs = dense(hidden, n_inputs, activation=output_activation,\n",
        "                    name='outputs')\n",
        "\n",
        "    reconstruction_loss = tf.reduce_mean(tf.square(X - outputs))\n",
        "    reg_losses = tf.get_collection(tf.GraphKeys.REGULARIZATION_LOSSES)\n",
        "    loss = tf.add_n([reconstruction_loss] + reg_losses)\n",
        "\n",
        "    opt = tf.train.AdamOptimizer(learning_rate)\n",
        "    training_op = opt.minimize(loss)\n",
        "\n",
        "    init = tf.global_variables_initializer()\n",
        "\n",
        "  with tf.Session(graph=graph) as sess:\n",
        "    init.run()\n",
        "    for epoch in range(n_epochs):\n",
        "      n_batches = len(X_train) // batch_size\n",
        "      for i in range(n_batches):\n",
        "        print('\\r{}%'.format(100 * i // n_batches), end='')\n",
        "        sys.stdout.flush()\n",
        "        indices = rnd.permutation(len(X_train))[:batch_size]\n",
        "        X_batch = X_train[indices]\n",
        "        sess.run(training_op, feed_dict={X: X_batch})\n",
        "      loss_train = reconstruction_loss.eval(feed_dict={X: X_batch})\n",
        "      print('\\r{}'.format(epoch), 'Train MSE:', loss_train)\n",
        "    params = {\n",
        "      var.name: var.eval()\n",
        "      for var in tf.get_collection(tf.GraphKeys.TRAINABLE_VARIABLES)\n",
        "    }\n",
        "    hidden_val = hidden.eval(feed_dict={X: X_train})\n",
        "  return hidden_val, params['hidden/kernel:0'], params['hidden/bias:0'], \\\n",
        "      params['outputs/kernel:0'], params['outputs/bias:0']"
      ],
      "execution_count": 0,
      "outputs": []
    },
    {
      "cell_type": "code",
      "metadata": {
        "id": "4lyzWX_pR8b1",
        "colab_type": "code",
        "colab": {
          "base_uri": "https://localhost:8080/",
          "height": 104
        },
        "outputId": "6dbf94cd-fe62-401c-d3eb-64d16fdfc8d4"
      },
      "source": [
        "# First step of training.\n",
        "\n",
        "hidden_output, W1, b1, W4, b4 = train_autoencoder(mnist.train.images,\n",
        "                                                  n_units=256, n_epochs=5,\n",
        "                                                  batch_size=150,\n",
        "                                                  output_activation=None)"
      ],
      "execution_count": 42,
      "outputs": [
        {
          "output_type": "stream",
          "text": [
            "0 Train MSE: 0.011765065\n",
            "1 Train MSE: 0.006190534\n",
            "2 Train MSE: 0.005030507\n",
            "3 Train MSE: 0.0047817174\n",
            "4 Train MSE: 0.0047518923\n"
          ],
          "name": "stdout"
        }
      ]
    },
    {
      "cell_type": "code",
      "metadata": {
        "id": "hxAu22hgTy5m",
        "colab_type": "code",
        "colab": {
          "base_uri": "https://localhost:8080/",
          "height": 104
        },
        "outputId": "f1c55dc1-7a71-4c20-cb91-70bfce2328c0"
      },
      "source": [
        "# Second step of training.\n",
        "\n",
        "_, W2, b2, W3, b3 = train_autoencoder(hidden_output, n_units=128, n_epochs=5,\n",
        "                                      batch_size=150)"
      ],
      "execution_count": 43,
      "outputs": [
        {
          "output_type": "stream",
          "text": [
            "0 Train MSE: 0.03374616\n",
            "1 Train MSE: 0.013731597\n",
            "2 Train MSE: 0.0074159987\n",
            "3 Train MSE: 0.0049135415\n",
            "4 Train MSE: 0.0034204917\n"
          ],
          "name": "stdout"
        }
      ]
    },
    {
      "cell_type": "code",
      "metadata": {
        "id": "16e73kYuUFQ5",
        "colab_type": "code",
        "colab": {}
      },
      "source": [
        "# Putting the results together.\n",
        "\n",
        "reset_graph()\n",
        "\n",
        "n_inputs = 28 ** 2\n",
        "\n",
        "X = tf.placeholder(tf.float32, shape=(None, n_inputs))\n",
        "hidden1 = tf.nn.elu(tf.matmul(X, W1) + b1)\n",
        "hidden2 = tf.nn.elu(tf.matmul(hidden1, W2) + b2)\n",
        "hidden3 = tf.nn.elu(tf.matmul(hidden2, W3) + b3)\n",
        "outputs = tf.matmul(hidden3, W4) + b4"
      ],
      "execution_count": 0,
      "outputs": []
    },
    {
      "cell_type": "code",
      "metadata": {
        "id": "ctjtV9WjXHYZ",
        "colab_type": "code",
        "colab": {
          "base_uri": "https://localhost:8080/",
          "height": 273
        },
        "outputId": "23b09330-d080-49ce-cbce-c60ab22489d6"
      },
      "source": [
        "show_reconstructed_digits(X, outputs)"
      ],
      "execution_count": 45,
      "outputs": [
        {
          "output_type": "display_data",
          "data": {
            "image/png": "[encoded data removed]",
            "text/plain": [
              "<Figure size 432x288 with 4 Axes>"
            ]
          },
          "metadata": {
            "tags": []
          }
        }
      ]
    },
    {
      "cell_type": "markdown",
      "metadata": {
        "id": "rkVsK0w-XdSq",
        "colab_type": "text"
      },
      "source": [
        "### Training One Autoencoder at a Time in a Single Graph\n",
        "\n",
        "Below is another implementation of the same technique, but this time using just a single TensorFlow graph."
      ]
    },
    {
      "cell_type": "code",
      "metadata": {
        "id": "NpmoICWZZyLu",
        "colab_type": "code",
        "colab": {}
      },
      "source": [
        "# Defining the graph.\n",
        "\n",
        "reset_graph()\n",
        "\n",
        "n_inputs = 28 ** 2\n",
        "n_hidden1 = 256\n",
        "n_hidden2 = 128\n",
        "n_hidden3 = n_hidden1\n",
        "n_outputs = n_inputs\n",
        "\n",
        "learning_rate = 0.001\n",
        "l2_reg = 0.0005\n",
        "\n",
        "X = tf.placeholder(tf.float32, shape=(None, n_inputs))\n",
        "\n",
        "he_init = tf.contrib.layers.variance_scaling_initializer()\n",
        "regularizer = tf.contrib.layers.l2_regularizer(l2_reg)\n",
        "\n",
        "init_weights = lambda n1, n2: tf.Variable(he_init([n1, n2]), dtype=tf.float32)\n",
        "W1 = init_weights(n_inputs, n_hidden1)\n",
        "W2 = init_weights(n_hidden1, n_hidden2)\n",
        "W3 = init_weights(n_hidden2, n_hidden3)\n",
        "W4 = init_weights(n_hidden3, n_outputs)\n",
        "\n",
        "init_bias = lambda n: tf.Variable(tf.zeros(n), dtype=tf.float32)\n",
        "b1 = init_bias(n_hidden1)\n",
        "b2 = init_bias(n_hidden2)\n",
        "b3 = init_bias(n_hidden3)\n",
        "b4 = init_bias(n_outputs)\n",
        "\n",
        "hidden1 = tf.nn.elu(tf.matmul(X, W1) + b1)\n",
        "hidden2 = tf.nn.elu(tf.matmul(hidden1, W2) + b2)\n",
        "hidden3 = tf.nn.elu(tf.matmul(hidden2, W3) + b3)\n",
        "outputs = tf.matmul(hidden3, W4) + b4\n",
        "\n",
        "reconstruction_loss = tf.reduce_mean(tf.square(outputs - X))\n",
        "optimizer = tf.train.AdamOptimizer(learning_rate)"
      ],
      "execution_count": 0,
      "outputs": []
    },
    {
      "cell_type": "code",
      "metadata": {
        "id": "La0M7I5yjyBD",
        "colab_type": "code",
        "colab": {}
      },
      "source": [
        "# Defining the training objective for the 1st phase of training.\n",
        "\n",
        "with tf.name_scope('phase1'):\n",
        "  phase1_outputs = tf.matmul(hidden1, W4) + b4\n",
        "  phase1_reconstruction_loss = tf.reduce_mean(tf.square(X - phase1_outputs))\n",
        "  phase1_reg_loss = regularizer(W1) + regularizer(W4)\n",
        "  phase1_loss = phase1_reconstruction_loss + phase1_reg_loss\n",
        "  phase1_training_op = optimizer.minimize(phase1_loss)"
      ],
      "execution_count": 0,
      "outputs": []
    },
    {
      "cell_type": "code",
      "metadata": {
        "id": "dDPd947PluVD",
        "colab_type": "code",
        "colab": {}
      },
      "source": [
        "# Defining the training objective for the 2nd phase of training.\n",
        "\n",
        "with tf.name_scope('phase2'):\n",
        "  phase2_reconstruction_loss = tf.reduce_mean(tf.square(hidden1 - hidden3))\n",
        "  phase2_reg_loss = regularizer(W2) + regularizer(W3)\n",
        "  phase2_loss = phase2_reconstruction_loss + phase2_reg_loss\n",
        "  train_vars = [W2, b2, W3, b3]\n",
        "  phase2_training_op = optimizer.minimize(phase2_loss, var_list=train_vars)"
      ],
      "execution_count": 0,
      "outputs": []
    },
    {
      "cell_type": "code",
      "metadata": {
        "id": "Qd_E6Mdxm04Q",
        "colab_type": "code",
        "colab": {}
      },
      "source": [
        "saver = tf.train.Saver()\n",
        "init = tf.global_variables_initializer()"
      ],
      "execution_count": 0,
      "outputs": []
    },
    {
      "cell_type": "code",
      "metadata": {
        "id": "9BspLbkCm-lV",
        "colab_type": "code",
        "colab": {
          "base_uri": "https://localhost:8080/",
          "height": 242
        },
        "outputId": "d08bf7a3-7b15-4695-fa23-967e2e33c2b7"
      },
      "source": [
        "# Training the model.\n",
        "\n",
        "training_ops = [phase1_training_op, phase2_training_op]\n",
        "reconstruction_losses = \\\n",
        "    [phase1_reconstruction_loss, phase2_reconstruction_loss]\n",
        "n_epochs = 5\n",
        "batch_size = 150\n",
        "\n",
        "with tf.Session() as sess:\n",
        "  init.run()\n",
        "  for phase in range(2):\n",
        "    print('Training phase {}'.format(phase + 1))\n",
        "    for epoch in range(n_epochs):\n",
        "      n_batches = mnist.train.num_examples // batch_size\n",
        "      for i in range(n_batches):\n",
        "        print('\\r{}%'.format(100 * i // n_batches), end='')\n",
        "        sys.stdout.flush()\n",
        "        X_batch, _ = mnist.train.next_batch(batch_size)\n",
        "        sess.run(training_ops[phase], feed_dict={X: X_batch})\n",
        "      loss_train = reconstruction_losses[phase].eval(feed_dict={X: X_batch})\n",
        "      print('\\r{}'.format(epoch), 'Train MSE:', loss_train)\n",
        "      saver.save(sess, './my_model_one_at_a_time.ckpt')\n",
        "  loss_test = reconstruction_loss.eval(feed_dict={X: mnist.test.images})\n",
        "  print('Test MSE:', loss_test)"
      ],
      "execution_count": 107,
      "outputs": [
        {
          "output_type": "stream",
          "text": [
            "Training phase 1\n",
            "0 Train MSE: 0.017501539\n",
            "1 Train MSE: 0.0182057\n",
            "2 Train MSE: 0.018151395\n",
            "3 Train MSE: 0.018360477\n",
            "4 Train MSE: 0.01812754\n",
            "Training phase 2\n",
            "0 Train MSE: 0.0034679\n",
            "1 Train MSE: 0.0033041218\n",
            "2 Train MSE: 0.0033808684\n",
            "3 Train MSE: 0.003458103\n",
            "4 Train MSE: 0.0033613483\n",
            "Test MSE: 0.021169571\n"
          ],
          "name": "stdout"
        }
      ]
    },
    {
      "cell_type": "markdown",
      "metadata": {
        "id": "7n9zsntvuYWY",
        "colab_type": "text"
      },
      "source": [
        "### Caching the Frozen Layer Outputs\n",
        "\n",
        "One way to speed up training is to cache the outputs of the previous phase of training."
      ]
    },
    {
      "cell_type": "code",
      "metadata": {
        "id": "OoB0iEtlu1CZ",
        "colab_type": "code",
        "colab": {
          "base_uri": "https://localhost:8080/",
          "height": 242
        },
        "outputId": "30bb386d-3aa3-4e3c-db81-3d4f89bccd2e"
      },
      "source": [
        "training_ops = [phase1_training_op, phase2_training_op]\n",
        "reconstruction_losses = \\\n",
        "    [phase1_reconstruction_loss, phase2_reconstruction_loss]\n",
        "n_epochs = 5\n",
        "batch_size = 150\n",
        "\n",
        "with tf.Session() as sess:\n",
        "  init.run()\n",
        "  for phase in range(2):\n",
        "    print('Training phase {}'.format(phase + 1))\n",
        "    if phase == 1:\n",
        "      hidden1_cache = hidden1.eval(feed_dict={X: mnist.train.images})\n",
        "    for epoch in range(n_epochs):\n",
        "      n_batches = mnist.train.num_examples // batch_size\n",
        "      for i in range(n_batches):\n",
        "        print('\\r{}%'.format(100 * i // n_batches), end='')\n",
        "        sys.stdout.flush()\n",
        "        if phase == 1:\n",
        "          indices = rnd.permutation(mnist.train.num_examples)\n",
        "          hidden1_batch = hidden1_cache[indices[:batch_size]]\n",
        "          feed_dict = {hidden1: hidden1_batch}\n",
        "        else:\n",
        "          X_batch, _ = mnist.train.next_batch(batch_size)\n",
        "          feed_dict = {X: X_batch}\n",
        "        sess.run(training_ops[phase], feed_dict=feed_dict)\n",
        "      loss_train = reconstruction_losses[phase].eval(feed_dict=feed_dict)\n",
        "      print('\\r{}'.format(epoch), 'Train MSE:', loss_train)\n",
        "      saver.save(sess, './my_model_cache_frozen.ckpt')\n",
        "  loss_test = reconstruction_loss.eval(feed_dict={X: mnist.test.images})\n",
        "  print('Test MSE:', loss_test)"
      ],
      "execution_count": 108,
      "outputs": [
        {
          "output_type": "stream",
          "text": [
            "Training phase 1\n",
            "0 Train MSE: 0.018148554\n",
            "1 Train MSE: 0.018245481\n",
            "2 Train MSE: 0.017851792\n",
            "3 Train MSE: 0.01792747\n",
            "4 Train MSE: 0.018353654\n",
            "Training phase 2\n",
            "0 Train MSE: 0.0034180086\n",
            "1 Train MSE: 0.0033926931\n",
            "2 Train MSE: 0.0034894291\n",
            "3 Train MSE: 0.0032823698\n",
            "4 Train MSE: 0.003308158\n",
            "Test MSE: 0.021020621\n"
          ],
          "name": "stdout"
        }
      ]
    }
  ]
}