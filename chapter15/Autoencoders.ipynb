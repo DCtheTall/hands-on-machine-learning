{
  "nbformat": 4,
  "nbformat_minor": 0,
  "metadata": {
    "colab": {
      "name": "Autoencoders.ipynb",
      "version": "0.3.2",
      "provenance": [],
      "collapsed_sections": []
    },
    "kernelspec": {
      "name": "python3",
      "display_name": "Python 3"
    },
    "accelerator": "GPU"
  },
  "cells": [
    {
      "cell_type": "markdown",
      "metadata": {
        "id": "BD2Yqnh1gXS8",
        "colab_type": "text"
      },
      "source": [
        "# Chapter 15: Autoencoders\n",
        "\n",
        "Autoencoders are an unsupervised neural network architecture who are tasked with reproducing their input. They do so by learning how to encode their inputs using hidden layers that are _smaller_ than the input layer. This forces the model to learn an efficient representation of the data, called _codings_.\n",
        "\n",
        "Below is some setup code which the author uses for the code throughout the chapter.\n",
        "\n"
      ]
    },
    {
      "cell_type": "code",
      "metadata": {
        "id": "jLsyTnsMgU2s",
        "colab_type": "code",
        "colab": {}
      },
      "source": [
        "import numpy as np\n",
        "import os\n",
        "import sys\n",
        "\n",
        "def reset_graph(seed=42):\n",
        "    tf.reset_default_graph()\n",
        "    tf.set_random_seed(seed)\n",
        "    np.random.seed(seed)\n",
        "\n",
        "# Plot styling.\n",
        "%matplotlib inline\n",
        "import matplotlib\n",
        "import matplotlib.pyplot as plt\n",
        "plt.rcParams['axes.labelsize'] = 14\n",
        "plt.rcParams['xtick.labelsize'] = 12\n",
        "plt.rcParams['ytick.labelsize'] = 12\n",
        "\n",
        "# Code for saving figures.\n",
        "PROJECT_ROOT_DIR = \".\"\n",
        "CHAPTER_ID = \"autoencoders\"\n",
        "def save_fig(fig_id, tight_layout=True):\n",
        "    path = os.path.join(PROJECT_ROOT_DIR, 'images', '{}.png'.format(fig_id))\n",
        "    print(\"Saving figure\", fig_id)\n",
        "    if tight_layout:\n",
        "        plt.tight_layout()\n",
        "    plt.savefig(path, format='png', dpi=300)"
      ],
      "execution_count": 0,
      "outputs": []
    },
    {
      "cell_type": "code",
      "metadata": {
        "id": "Rl0abSFRt-yq",
        "colab_type": "code",
        "colab": {}
      },
      "source": [
        "def plot_image(image, shape=[28, 28]):\n",
        "    plt.imshow(image.reshape(shape), cmap='Greys', interpolation='nearest')\n",
        "    plt.axis('off')"
      ],
      "execution_count": 0,
      "outputs": []
    },
    {
      "cell_type": "code",
      "metadata": {
        "id": "olJpqlG4KYMx",
        "colab_type": "code",
        "colab": {}
      },
      "source": [
        "!mkdir images"
      ],
      "execution_count": 0,
      "outputs": []
    },
    {
      "cell_type": "markdown",
      "metadata": {
        "id": "qtkKk8HxGzL5",
        "colab_type": "text"
      },
      "source": [
        "## Performing PCA with an Undercomplete Linear Autoencoder\n",
        "\n",
        "An autoencoder with only linear activation functions that uses MSE as the loss function can be shown to be equivalent to PCA (Chapter 8)."
      ]
    },
    {
      "cell_type": "code",
      "metadata": {
        "id": "XQXLRrN3Gymx",
        "colab_type": "code",
        "colab": {}
      },
      "source": [
        "# Create a 3D dataset.\n",
        "\n",
        "import numpy.random as rnd\n",
        "\n",
        "rnd.seed(42)\n",
        "m = 200\n",
        "w1, w2 = 0.1, 0.3\n",
        "noise = 0.1\n",
        "\n",
        "angles = rnd.rand(m) * 3 * np.pi / 2 - 0.5\n",
        "data = np.empty((m, 3))\n",
        "data[:, 0] = np.cos(angles) + (np.sin(angles) / 2) + (noise * rnd.randn(m) / 2)\n",
        "data[:, 1] = (np.sin(angles) * 0.7) + (noise * rnd.randn(m) / 2)\n",
        "data[:, 2] = (data[:, 0] * w1) + (data[:, 1] * w2) + (noise * rnd.randn(m))"
      ],
      "execution_count": 0,
      "outputs": []
    },
    {
      "cell_type": "code",
      "metadata": {
        "id": "V4N4ceT_H1-t",
        "colab_type": "code",
        "colab": {}
      },
      "source": [
        "# Scale the data with StandardScaler.\n",
        "\n",
        "from sklearn.preprocessing import StandardScaler\n",
        "\n",
        "scaler = StandardScaler()\n",
        "X_train = scaler.fit_transform(data[:100])\n",
        "X_test = scaler.transform(data[100:])"
      ],
      "execution_count": 0,
      "outputs": []
    },
    {
      "cell_type": "code",
      "metadata": {
        "id": "VKrj7NTVIl1f",
        "colab_type": "code",
        "colab": {}
      },
      "source": [
        "# Define the model graph.\n",
        "\n",
        "import tensorflow as tf\n",
        "\n",
        "reset_graph()\n",
        "\n",
        "n_inputs = 3\n",
        "n_hidden = 2\n",
        "n_outputs = n_inputs\n",
        "\n",
        "learning_rate = 0.01\n",
        "\n",
        "X = tf.placeholder(tf.float32, shape=(None, n_inputs))\n",
        "hidden = tf.layers.dense(X, n_hidden)\n",
        "outputs = tf.layers.dense(hidden, n_outputs)\n",
        "\n",
        "reconstruction_loss = tf.reduce_mean(tf.square(outputs - X))\n",
        "\n",
        "opt = tf.train.AdamOptimizer(learning_rate)\n",
        "training_op = opt.minimize(reconstruction_loss)\n",
        "\n",
        "init = tf.global_variables_initializer()"
      ],
      "execution_count": 0,
      "outputs": []
    },
    {
      "cell_type": "code",
      "metadata": {
        "id": "bWZb2YAsJoK6",
        "colab_type": "code",
        "colab": {}
      },
      "source": [
        "# Training the autoencoder.\n",
        "\n",
        "n_iterations = 100\n",
        "codings = hidden\n",
        "\n",
        "with tf.Session() as sess:\n",
        "  init.run()\n",
        "  for i in range(n_iterations):\n",
        "    training_op.run(feed_dict={X: X_train})\n",
        "  codings_val = codings.eval(feed_dict={X: X_test})"
      ],
      "execution_count": 0,
      "outputs": []
    },
    {
      "cell_type": "code",
      "metadata": {
        "id": "uUAIdt0oKDO0",
        "colab_type": "code",
        "outputId": "47301284-1c36-49bb-f301-a52c43de3982",
        "colab": {
          "base_uri": "https://localhost:8080/",
          "height": 243
        }
      },
      "source": [
        "# Plotting the figure.\n",
        "\n",
        "fig = plt.figure(figsize=(4,3))\n",
        "plt.plot(codings_val[:,0], codings_val[:, 1], 'b.')\n",
        "plt.xlabel('$z_1$', fontsize=18)\n",
        "plt.ylabel('$z_2$', fontsize=18, rotation=0)\n",
        "save_fig('linear_autoencoder_pca_plot')\n",
        "plt.show()"
      ],
      "execution_count": 8,
      "outputs": [
        {
          "output_type": "stream",
          "text": [
            "Saving figure linear_autoencoder_pca_plot\n"
          ],
          "name": "stdout"
        },
        {
          "output_type": "display_data",
          "data": {
            "image/png": "[encoded data removed]",
            "text/plain": [
              "<Figure size 288x216 with 1 Axes>"
            ]
          },
          "metadata": {
            "tags": []
          }
        }
      ]
    },
    {
      "cell_type": "markdown",
      "metadata": {
        "id": "yc0YcMeLd8PE",
        "colab_type": "text"
      },
      "source": [
        "## Stacked Autoencoders\n",
        "\n",
        "Autoencoders with multiple hidden layers are called _stacked autoencoders_ (or _deep autoencoders_). You must be wary that if the autoencoder is too deep, it may just learn how to reproduce the training set, leading to overfitting. Below is a TensorFlow implementation of a stacked autoencoder with 3 hidden layers used for generating handwritten digits using the MNIST dataset."
      ]
    },
    {
      "cell_type": "code",
      "metadata": {
        "id": "cGCKRSUzfNG9",
        "colab_type": "code",
        "colab": {
          "base_uri": "https://localhost:8080/",
          "height": 86
        },
        "outputId": "d2d176be-7a7b-4d13-db70-3caada95d1f8"
      },
      "source": [
        "# Downloading the data.\n",
        "\n",
        "from tensorflow.examples.tutorials.mnist import input_data\n",
        "mnist = input_data.read_data_sets(\"/tmp/data/\")"
      ],
      "execution_count": 10,
      "outputs": [
        {
          "output_type": "stream",
          "text": [
            "Extracting /tmp/data/train-images-idx3-ubyte.gz\n",
            "Extracting /tmp/data/train-labels-idx1-ubyte.gz\n",
            "Extracting /tmp/data/t10k-images-idx3-ubyte.gz\n",
            "Extracting /tmp/data/t10k-labels-idx1-ubyte.gz\n"
          ],
          "name": "stdout"
        }
      ]
    },
    {
      "cell_type": "markdown",
      "metadata": {
        "id": "KuAyScFRf3Cd",
        "colab_type": "text"
      },
      "source": [
        "### Train all layers at once\n",
        "\n",
        "The example below trains all of the hidden layers of the stacked autoencoder at once."
      ]
    },
    {
      "cell_type": "code",
      "metadata": {
        "id": "E0E4zltAf2iR",
        "colab_type": "code",
        "colab": {}
      },
      "source": [
        "# Define the model graph.\n",
        "\n",
        "from functools import partial\n",
        "\n",
        "reset_graph()\n",
        "\n",
        "n_inputs = 28 ** 2\n",
        "n_hidden1 = 512\n",
        "n_hidden2 = 256\n",
        "n_hidden3 = n_hidden1\n",
        "n_outputs = n_inputs\n",
        "n_outputs = n_inputs\n",
        "\n",
        "learning_rate = 0.001\n",
        "l2_reg = 0.0001\n",
        "\n",
        "X = tf.placeholder(tf.float32, shape=(None, n_inputs))\n",
        "\n",
        "he_init = tf.contrib.layers.variance_scaling_initializer()\n",
        "regularizer = tf.contrib.layers.l2_regularizer(l2_reg)\n",
        "\n",
        "dense = partial(tf.layers.dense, activation=tf.nn.relu,\n",
        "                kernel_initializer=he_init, kernel_regularizer=regularizer)\n",
        "\n",
        "hidden1 = dense(X, n_hidden1)\n",
        "hidden2 = dense(hidden1, n_hidden2)\n",
        "hidden3 = dense(hidden2, n_hidden3)\n",
        "outputs = dense(hidden3, n_outputs, activation=None)\n",
        "\n",
        "loss = tf.reduce_mean(tf.square(outputs - X))\n",
        "opt = tf.train.AdamOptimizer(learning_rate)\n",
        "training_op = opt.minimize(loss)\n",
        "\n",
        "saver = tf.train.Saver()\n",
        "init = tf.global_variables_initializer()"
      ],
      "execution_count": 0,
      "outputs": []
    },
    {
      "cell_type": "code",
      "metadata": {
        "id": "ZWhm_cP7opNl",
        "colab_type": "code",
        "colab": {
          "base_uri": "https://localhost:8080/",
          "height": 104
        },
        "outputId": "8badfb3b-214b-40da-c78f-adef0e35f332"
      },
      "source": [
        "# Train the model.\n",
        "\n",
        "n_epochs = 5\n",
        "batch_size = 150\n",
        "\n",
        "with tf.Session() as sess:\n",
        "  init.run()\n",
        "  for epoch in range(n_epochs):\n",
        "    n_batches = mnist.train.num_examples // batch_size\n",
        "    for i in range(n_batches):\n",
        "      print('\\r{}%'.format((100 * i) // n_batches), end=\"\")\n",
        "      sys.stdout.flush()\n",
        "      X_batch, y_batch = mnist.train.next_batch(batch_size)\n",
        "      sess.run(training_op, feed_dict={X: X_batch})\n",
        "    loss_train = loss.eval(feed_dict={X: X_batch})\n",
        "    print(\"\\r{}\".format(epoch), \"Train MSE:\", loss_train)\n",
        "    saver.save(sess, './my_model_all_layers.ckpt')"
      ],
      "execution_count": 40,
      "outputs": [
        {
          "output_type": "stream",
          "text": [
            "0 Train MSE: 0.016639253\n",
            "1 Train MSE: 0.01400309\n",
            "2 Train MSE: 0.012794236\n",
            "3 Train MSE: 0.012299093\n",
            "4 Train MSE: 0.01093886\n"
          ],
          "name": "stdout"
        }
      ]
    },
    {
      "cell_type": "code",
      "metadata": {
        "id": "l0fb-Hn6tGGi",
        "colab_type": "code",
        "colab": {}
      },
      "source": [
        "# Define a plotting function.\n",
        "\n",
        "def show_reconstructed_digits(X, outputs, model_path=None, n_test_digits=2):\n",
        "  with tf.Session() as sess:\n",
        "    if model_path:\n",
        "      saver.restore(sess, model_path)\n",
        "    X_test = mnist.test.images[:n_test_digits]\n",
        "    outputs_val = outputs.eval(feed_dict={X: X_test})\n",
        "  for digit_idx in range(n_test_digits):\n",
        "    plt.subplot(n_test_digits, 2, (digit_idx * 2) + 1)\n",
        "    plot_image(X_test[digit_idx])\n",
        "    plt.subplot(n_test_digits, 2, (digit_idx * 2) + 2)\n",
        "    plot_image(outputs_val[digit_idx])"
      ],
      "execution_count": 0,
      "outputs": []
    },
    {
      "cell_type": "code",
      "metadata": {
        "id": "-lm4IG21tzA_",
        "colab_type": "code",
        "colab": {
          "base_uri": "https://localhost:8080/",
          "height": 315
        },
        "outputId": "411fce74-5a21-43ff-de46-f4dfd32b05b0"
      },
      "source": [
        "show_reconstructed_digits(X, outputs, './my_model_all_layers.ckpt')\n",
        "save_fig('reconstruction_plot')"
      ],
      "execution_count": 50,
      "outputs": [
        {
          "output_type": "stream",
          "text": [
            "Saving figure reconstruction_plot\n"
          ],
          "name": "stdout"
        },
        {
          "output_type": "display_data",
          "data": {
            "image/png": "[encoded data removed]",
            "text/plain": [
              "<Figure size 432x288 with 4 Axes>"
            ]
          },
          "metadata": {
            "tags": []
          }
        }
      ]
    }
  ]
}