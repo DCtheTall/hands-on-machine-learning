{
  "nbformat": 4,
  "nbformat_minor": 0,
  "metadata": {
    "colab": {
      "name": "UpAndRunningWithTensorflow.ipynb",
      "version": "0.3.2",
      "provenance": [],
      "collapsed_sections": []
    },
    "kernelspec": {
      "name": "python3",
      "display_name": "Python 3"
    }
  },
  "cells": [
    {
      "cell_type": "markdown",
      "metadata": {
        "id": "lzNVJ-wo7T7U",
        "colab_type": "text"
      },
      "source": [
        "# Chapter 9: Up and Running with Tensorflow\n",
        "\n",
        "## Creating Your First Graph and Running It in a Session"
      ]
    },
    {
      "cell_type": "code",
      "metadata": {
        "id": "nD1u3EUF0Xgj",
        "colab_type": "code",
        "outputId": "5b9bd265-497f-47d6-e95e-6720cabb20d2",
        "colab": {
          "base_uri": "https://localhost:8080/",
          "height": 88
        }
      },
      "source": [
        "# A computational graph with Tensorflow. Despite the code's appearance,\n",
        "# this does not perform any computation.\n",
        "\n",
        "import tensorflow as tf\n",
        "\n",
        "x = tf.Variable(3, name='x')\n",
        "y = tf.Variable(4, name='y')\n",
        "f = (x * x * y) + y + 2"
      ],
      "execution_count": 0,
      "outputs": [
        {
          "output_type": "stream",
          "text": [
            "WARNING:tensorflow:From /usr/local/lib/python3.6/dist-packages/tensorflow/python/framework/op_def_library.py:263: colocate_with (from tensorflow.python.framework.ops) is deprecated and will be removed in a future version.\n",
            "Instructions for updating:\n",
            "Colocations handled automatically by placer.\n"
          ],
          "name": "stdout"
        }
      ]
    },
    {
      "cell_type": "code",
      "metadata": {
        "id": "uW4yJGFK7-nj",
        "colab_type": "code",
        "outputId": "5aac4229-5e43-492a-d975-fab5eefd2dd4",
        "colab": {
          "base_uri": "https://localhost:8080/",
          "height": 34
        }
      },
      "source": [
        "# Running the computational graph in a Tensorflow Session.\n",
        "\n",
        "sess = tf.Session()\n",
        "sess.run(x.initializer)\n",
        "sess.run(y.initializer)\n",
        "result = sess.run(f)\n",
        "print(result)\n",
        "sess.close()"
      ],
      "execution_count": 0,
      "outputs": [
        {
          "output_type": "stream",
          "text": [
            "42\n"
          ],
          "name": "stdout"
        }
      ]
    },
    {
      "cell_type": "code",
      "metadata": {
        "id": "6_tfdkb586lT",
        "colab_type": "code",
        "outputId": "a59ed18c-044f-41e4-95c9-5d54bf440efe",
        "colab": {
          "base_uri": "https://localhost:8080/",
          "height": 34
        }
      },
      "source": [
        "# Another way to execute the code above. It automatically closes the Session.\n",
        "\n",
        "with tf.Session() as sess:\n",
        "  x.initializer.run() # Same as tf.get_default_session().run(x.initializer)\n",
        "  y.initializer.run()\n",
        "  result = f.eval()\n",
        "  print(result)"
      ],
      "execution_count": 0,
      "outputs": [
        {
          "output_type": "stream",
          "text": [
            "42\n"
          ],
          "name": "stdout"
        }
      ]
    },
    {
      "cell_type": "code",
      "metadata": {
        "id": "GRbV6a7l9_yC",
        "colab_type": "code",
        "outputId": "3603ee58-4655-42e9-eb56-b26eded9bcb1",
        "colab": {
          "base_uri": "https://localhost:8080/",
          "height": 34
        }
      },
      "source": [
        "# It is possible to initialize all variables automatically.\n",
        "\n",
        "init = tf.global_variables_initializer()\n",
        "\n",
        "with tf.Session() as sess:\n",
        "  init.run()\n",
        "  result = f.eval()\n",
        "  print(result)"
      ],
      "execution_count": 0,
      "outputs": [
        {
          "output_type": "stream",
          "text": [
            "42\n"
          ],
          "name": "stdout"
        }
      ]
    },
    {
      "cell_type": "code",
      "metadata": {
        "id": "unmVd0HR_Ngu",
        "colab_type": "code",
        "outputId": "d27c4d21-e5a2-4e01-9140-7836de9556ad",
        "colab": {
          "base_uri": "https://localhost:8080/",
          "height": 34
        }
      },
      "source": [
        "# InteractiveSession is useful for Jupyter notebooks because it sets itself\n",
        "# as the default session automatically.\n",
        "\n",
        "sess = tf.InteractiveSession()\n",
        "init.run()\n",
        "result = f.eval()\n",
        "print(result)\n",
        "sess.close()"
      ],
      "execution_count": 0,
      "outputs": [
        {
          "output_type": "stream",
          "text": [
            "42\n"
          ],
          "name": "stdout"
        }
      ]
    },
    {
      "cell_type": "markdown",
      "metadata": {
        "id": "khaAWN84H_d5",
        "colab_type": "text"
      },
      "source": [
        "## Managing Graphs"
      ]
    },
    {
      "cell_type": "code",
      "metadata": {
        "id": "saK6KqPQIA0X",
        "colab_type": "code",
        "outputId": "97710142-6876-4a06-8f21-c7bd517444a2",
        "colab": {
          "base_uri": "https://localhost:8080/",
          "height": 34
        }
      },
      "source": [
        "# New Variables are always added to the default graph automatically.\n",
        "\n",
        "x1 = tf.Variable(1)\n",
        "x1.graph is tf.get_default_graph()"
      ],
      "execution_count": 0,
      "outputs": [
        {
          "output_type": "execute_result",
          "data": {
            "text/plain": [
              "True"
            ]
          },
          "metadata": {
            "tags": []
          },
          "execution_count": 6
        }
      ]
    },
    {
      "cell_type": "code",
      "metadata": {
        "id": "49iBtMnFIbTV",
        "colab_type": "code",
        "outputId": "9798d2bf-3698-4987-fc07-1594ee655009",
        "colab": {
          "base_uri": "https://localhost:8080/",
          "height": 34
        }
      },
      "source": [
        "# Below is the syntax for adding a variable to a graph that is not\n",
        "# the default graph.\n",
        "\n",
        "graph = tf.Graph()\n",
        "with graph.as_default():\n",
        "  x2 = tf.Variable(2)\n",
        "x2.graph is graph"
      ],
      "execution_count": 0,
      "outputs": [
        {
          "output_type": "execute_result",
          "data": {
            "text/plain": [
              "True"
            ]
          },
          "metadata": {
            "tags": []
          },
          "execution_count": 7
        }
      ]
    },
    {
      "cell_type": "code",
      "metadata": {
        "id": "cq12H7zJIqM8",
        "colab_type": "code",
        "outputId": "ad9cc96e-5923-44fc-d4e1-b8f6e2c35a99",
        "colab": {
          "base_uri": "https://localhost:8080/",
          "height": 34
        }
      },
      "source": [
        "x2.graph is tf.get_default_graph()"
      ],
      "execution_count": 0,
      "outputs": [
        {
          "output_type": "execute_result",
          "data": {
            "text/plain": [
              "False"
            ]
          },
          "metadata": {
            "tags": []
          },
          "execution_count": 8
        }
      ]
    },
    {
      "cell_type": "markdown",
      "metadata": {
        "id": "928KvF6FI1Wj",
        "colab_type": "text"
      },
      "source": [
        "## Lifecycle of a Node Value"
      ]
    },
    {
      "cell_type": "code",
      "metadata": {
        "id": "08C7UiPtJDXi",
        "colab_type": "code",
        "outputId": "01854b5d-128c-46ce-c995-e16e8866ea70",
        "colab": {
          "base_uri": "https://localhost:8080/",
          "height": 51
        }
      },
      "source": [
        "# Tensorflow automatically detects the dependency chain between nodes of\n",
        "# the computation graph.\n",
        "\n",
        "w = tf.constant(3)\n",
        "x = w + 2\n",
        "y = x + 5\n",
        "z = x * 3\n",
        "\n",
        "with tf.Session() as sess:\n",
        "  # detects that y dependes on x, which depends on w. So it evaluates\n",
        "  # w, then x, then y.\n",
        "  print(y.eval())\n",
        "  print(z.eval())"
      ],
      "execution_count": 0,
      "outputs": [
        {
          "output_type": "stream",
          "text": [
            "10\n",
            "15\n"
          ],
          "name": "stdout"
        }
      ]
    },
    {
      "cell_type": "markdown",
      "metadata": {
        "id": "cm28n4klJ1qx",
        "colab_type": "text"
      },
      "source": [
        "## Linear Regression with Tensorflow\n",
        "\n",
        "Tensorflow operates with multidimensional arrays called <i>tensors</i>. The Python API uses NumPy's `ndarray` class to represent tensors. The previous examples used a single scalar value for a tensor. Below is an example of a Tensorflow graph which operates on a 2D array performing linear regression. Recall that the optimal parameters for Linear Regression, $\\hat{\\theta}$ is given by\n",
        "\n",
        "$$ \\hat{\\theta} = \\left( \\mathbf{X}^{\\,T} \\cdot \\mathbf{X} \\right)^{-1} \\cdot \\mathbf{X}^{\\,T} \\cdot \\mathbf{y} $$\n",
        "\n",
        "where $\\mathbf{X}$, $\\mathbf{y}$ is the training set."
      ]
    },
    {
      "cell_type": "code",
      "metadata": {
        "id": "gMiutHPJMRJO",
        "colab_type": "code",
        "outputId": "1ba427fb-0481-46ba-aba0-830a9db203b9",
        "colab": {
          "base_uri": "https://localhost:8080/",
          "height": 187
        }
      },
      "source": [
        "import numpy as np\n",
        "from sklearn.datasets import fetch_california_housing\n",
        "\n",
        "housing = fetch_california_housing()\n",
        "m, n = housing.data.shape\n",
        "housing_data_plus_bias = np.c_[np.ones((m, 1)), housing.data]\n",
        "\n",
        "X = tf.constant(housing_data_plus_bias, dtype=tf.float32, name='X')\n",
        "y = tf.constant(housing.target.reshape(-1, 1), dtype=tf.float32, name='y')\n",
        "XT = tf.transpose(X)\n",
        "theta = tf.matmul(tf.matmul(tf.matrix_inverse(tf.matmul(XT, X)), XT), y)\n",
        "\n",
        "with tf.Session() as sess:\n",
        "  theta_value = theta.eval()\n",
        "  print(theta_value)"
      ],
      "execution_count": 0,
      "outputs": [
        {
          "output_type": "stream",
          "text": [
            "Downloading Cal. housing from https://ndownloader.figshare.com/files/5976036 to /root/scikit_learn_data\n"
          ],
          "name": "stderr"
        },
        {
          "output_type": "stream",
          "text": [
            "[[-3.71037292e+01]\n",
            " [ 4.36282694e-01]\n",
            " [ 9.40542948e-03]\n",
            " [-1.06901854e-01]\n",
            " [ 6.43611908e-01]\n",
            " [-4.06625077e-06]\n",
            " [-3.78273334e-03]\n",
            " [-4.23094332e-01]\n",
            " [-4.36462164e-01]]\n"
          ],
          "name": "stdout"
        }
      ]
    },
    {
      "cell_type": "markdown",
      "metadata": {
        "id": "yksJvFBrOudI",
        "colab_type": "text"
      },
      "source": [
        "## Implementing Gradient Descent\n",
        "\n",
        "### Manually Computing the Gradients\n",
        "\n",
        "Below is an implementation of Batch Gradient Descent where we manually compute the gradients using symbolic differentiation."
      ]
    },
    {
      "cell_type": "code",
      "metadata": {
        "id": "CJFyn0sbPDw_",
        "colab_type": "code",
        "outputId": "1b89f519-1012-4a6e-d235-4b365bad9bbc",
        "colab": {
          "base_uri": "https://localhost:8080/",
          "height": 340
        }
      },
      "source": [
        "from sklearn.preprocessing import StandardScaler\n",
        "\n",
        "def reset_graph(seed=42):\n",
        "  tf.reset_default_graph()\n",
        "  tf.set_random_seed(seed)\n",
        "  np.random.seed(seed)\n",
        "\n",
        "n_epochs = 1000\n",
        "learning_rate = 0.01\n",
        "\n",
        "scaled_housing_data = StandardScaler().fit_transform(housing.data)\n",
        "scaled_housing_data_plus_bias = np.c_[np.ones((m, 1)), scaled_housing_data]\n",
        "\n",
        "X = tf.constant(scaled_housing_data_plus_bias, dtype=tf.float32, name='X')\n",
        "y = tf.constant(housing.target.reshape(-1, 1), dtype=tf.float32, name='y')\n",
        "theta = tf.Variable(tf.random_uniform([n+1, 1], -1., 1.), name='theta')\n",
        "y_pred = tf.matmul(X, theta, name='predictions')\n",
        "error = y_pred - y\n",
        "mse = tf.reduce_mean(tf.square(error), name='mse')\n",
        "gradients = (2 / m) * tf.matmul(tf.transpose(X), error)\n",
        "training_op = tf.assign(theta, theta - (learning_rate * gradients))\n",
        "\n",
        "init = tf.global_variables_initializer()\n",
        "\n",
        "with tf.Session() as sess:\n",
        "  sess.run(init)\n",
        "  for epoch in range(n_epochs):\n",
        "    if epoch % 100 == 0:\n",
        "      print('Epoch: {} MSE: {}'.format(epoch, mse.eval()))\n",
        "    sess.run(training_op)\n",
        "\n",
        "  best_theta = theta.eval()\n",
        "  print(best_theta)"
      ],
      "execution_count": 0,
      "outputs": [
        {
          "output_type": "stream",
          "text": [
            "Epoch: 0 MSE: 4.886683940887451\n",
            "Epoch: 100 MSE: 0.7432243227958679\n",
            "Epoch: 200 MSE: 0.6249350905418396\n",
            "Epoch: 300 MSE: 0.5958799123764038\n",
            "Epoch: 400 MSE: 0.5770407915115356\n",
            "Epoch: 500 MSE: 0.5633828043937683\n",
            "Epoch: 600 MSE: 0.5533661842346191\n",
            "Epoch: 700 MSE: 0.5459967851638794\n",
            "Epoch: 800 MSE: 0.5405601859092712\n",
            "Epoch: 900 MSE: 0.5365379452705383\n",
            "[[ 2.0685523e+00]\n",
            " [ 7.1990943e-01]\n",
            " [ 1.2918781e-01]\n",
            " [-2.5240867e-04]\n",
            " [ 6.0832255e-02]\n",
            " [ 7.1688474e-04]\n",
            " [-3.7869673e-02]\n",
            " [-9.2682320e-01]\n",
            " [-8.8190389e-01]]\n"
          ],
          "name": "stdout"
        }
      ]
    },
    {
      "cell_type": "markdown",
      "metadata": {
        "id": "vDDqd0vDVEQy",
        "colab_type": "text"
      },
      "source": [
        "### Using autodiff\n",
        "\n",
        "Below is an implementation of the same Batch Gradient Descent which uses Tensorflow's `gradients()` function to automatically compute the gradient of the cost function, MSE. This is useful for approximating the gradient of non-analytic functions."
      ]
    },
    {
      "cell_type": "code",
      "metadata": {
        "id": "9xgtl7ksWpDB",
        "colab_type": "code",
        "outputId": "d83aa24b-1e77-464a-ea28-97611da0dc73",
        "colab": {
          "base_uri": "https://localhost:8080/",
          "height": 340
        }
      },
      "source": [
        "reset_graph()\n",
        "X = tf.constant(scaled_housing_data_plus_bias, dtype=tf.float32, name='X')\n",
        "y = tf.constant(housing.target.reshape(-1, 1), dtype=tf.float32, name='y')\n",
        "theta = tf.Variable(tf.random_uniform([n+1, 1], -1., 1.), name='theta')\n",
        "y_pred = tf.matmul(X, theta, name='predictions')\n",
        "error = y_pred - y\n",
        "mse = tf.reduce_mean(tf.square(error), name='mse')\n",
        "gradients = tf.gradients(mse, [theta])[0]\n",
        "training_op = tf.assign(theta, theta - (learning_rate * gradients))\n",
        "\n",
        "init = tf.global_variables_initializer()\n",
        "\n",
        "with tf.Session() as sess:\n",
        "  sess.run(init)\n",
        "  for epoch in range(n_epochs):\n",
        "    if epoch % 100 == 0:\n",
        "      print('Epoch: {} MSE: {}'.format(epoch, mse.eval()))\n",
        "    sess.run(training_op)\n",
        "\n",
        "  best_theta = theta.eval()\n",
        "  print(best_theta)"
      ],
      "execution_count": 0,
      "outputs": [
        {
          "output_type": "stream",
          "text": [
            "Epoch: 0 MSE: 12.408014297485352\n",
            "Epoch: 100 MSE: 0.7551968693733215\n",
            "Epoch: 200 MSE: 0.5420873761177063\n",
            "Epoch: 300 MSE: 0.5331699848175049\n",
            "Epoch: 400 MSE: 0.5305381417274475\n",
            "Epoch: 500 MSE: 0.5287963151931763\n",
            "Epoch: 600 MSE: 0.5275490283966064\n",
            "Epoch: 700 MSE: 0.5266497135162354\n",
            "Epoch: 800 MSE: 0.5260010957717896\n",
            "Epoch: 900 MSE: 0.5255332589149475\n",
            "[[ 2.0685525e+00]\n",
            " [ 8.1063598e-01]\n",
            " [ 1.2685776e-01]\n",
            " [-2.0784079e-01]\n",
            " [ 2.4839844e-01]\n",
            " [-1.3083885e-03]\n",
            " [-3.9607048e-02]\n",
            " [-8.5861272e-01]\n",
            " [-8.2600278e-01]]\n"
          ],
          "name": "stdout"
        }
      ]
    },
    {
      "cell_type": "markdown",
      "metadata": {
        "id": "brWx_N6NXPYy",
        "colab_type": "text"
      },
      "source": [
        "Tensorflow computes the gradients using <i>reverse-mode autodiff</i>, which is good for when there are a large number of inputs and a small number of outputs, which is generally the case for neural networks.\n",
        "\n",
        "### Using an Optimizer\n",
        "\n",
        "Below is an example of using an out-of-the-box Gradient Descent optimizer for the same Linear Regression task."
      ]
    },
    {
      "cell_type": "code",
      "metadata": {
        "id": "cTTvAhTnX83n",
        "colab_type": "code",
        "outputId": "30627a48-3c3b-4d91-a578-f667ec39b65e",
        "colab": {
          "base_uri": "https://localhost:8080/",
          "height": 340
        }
      },
      "source": [
        "reset_graph()\n",
        "X = tf.constant(scaled_housing_data_plus_bias, dtype=tf.float32, name='X')\n",
        "y = tf.constant(housing.target.reshape(-1, 1), dtype=tf.float32, name='y')\n",
        "theta = tf.Variable(tf.random_uniform([n+1, 1], -1., 1.), name='theta')\n",
        "y_pred = tf.matmul(X, theta, name='predictions')\n",
        "error = y_pred - y\n",
        "mse = tf.reduce_mean(tf.square(error), name='mse')\n",
        "optimizer = tf.train.GradientDescentOptimizer(learning_rate=learning_rate)\n",
        "training_op = optimizer.minimize(mse)\n",
        "\n",
        "init = tf.global_variables_initializer()\n",
        "\n",
        "with tf.Session() as sess:\n",
        "  sess.run(init)\n",
        "  for epoch in range(n_epochs):\n",
        "    if epoch % 100 == 0:\n",
        "      print('Epoch: {} MSE: {}'.format(epoch, mse.eval()))\n",
        "    sess.run(training_op)\n",
        "\n",
        "  best_theta = theta.eval()\n",
        "  print(best_theta)"
      ],
      "execution_count": 0,
      "outputs": [
        {
          "output_type": "stream",
          "text": [
            "Epoch: 0 MSE: 12.408014297485352\n",
            "Epoch: 100 MSE: 0.7551969289779663\n",
            "Epoch: 200 MSE: 0.5420873761177063\n",
            "Epoch: 300 MSE: 0.5331699848175049\n",
            "Epoch: 400 MSE: 0.5305381417274475\n",
            "Epoch: 500 MSE: 0.528796374797821\n",
            "Epoch: 600 MSE: 0.5275490283966064\n",
            "Epoch: 700 MSE: 0.5266497135162354\n",
            "Epoch: 800 MSE: 0.5260010957717896\n",
            "Epoch: 900 MSE: 0.5255332589149475\n",
            "[[ 2.0685525e+00]\n",
            " [ 8.1063598e-01]\n",
            " [ 1.2685776e-01]\n",
            " [-2.0784082e-01]\n",
            " [ 2.4839845e-01]\n",
            " [-1.3083923e-03]\n",
            " [-3.9607048e-02]\n",
            " [-8.5861272e-01]\n",
            " [-8.2600278e-01]]\n"
          ],
          "name": "stdout"
        }
      ]
    },
    {
      "cell_type": "markdown",
      "metadata": {
        "id": "F63XUjQNYMib",
        "colab_type": "text"
      },
      "source": [
        "You can also use the `tf.train.MomentumOptimizer` which converges much faster than the Gradient Descent optimizer. It takes an extra hyperparameter, `momentum`. An example implementation using this optimizer is below."
      ]
    },
    {
      "cell_type": "code",
      "metadata": {
        "id": "OnEVwOLoCQnf",
        "colab_type": "code",
        "outputId": "18c12314-d9be-4336-b3bc-3cb67db173f3",
        "colab": {
          "base_uri": "https://localhost:8080/",
          "height": 340
        }
      },
      "source": [
        "reset_graph()\n",
        "X = tf.constant(scaled_housing_data_plus_bias, dtype=tf.float32, name='X')\n",
        "y = tf.constant(housing.target.reshape(-1, 1), dtype=tf.float32, name='y')\n",
        "theta = tf.Variable(tf.random_uniform([n+1, 1], -1., 1.), name='theta')\n",
        "y_pred = tf.matmul(X, theta, name='predictions')\n",
        "error = y_pred - y\n",
        "mse = tf.reduce_mean(tf.square(error), name='mse')\n",
        "optimizer = \\\n",
        "  tf.train.MomentumOptimizer(learning_rate=learning_rate, momentum=0.9)\n",
        "training_op = optimizer.minimize(mse)\n",
        "\n",
        "init = tf.global_variables_initializer()\n",
        "\n",
        "with tf.Session() as sess:\n",
        "  sess.run(init)\n",
        "  for epoch in range(n_epochs):\n",
        "    if epoch % 100 == 0:\n",
        "      print('Epoch: {} MSE: {}'.format(epoch, mse.eval()))\n",
        "    sess.run(training_op)\n",
        "\n",
        "  best_theta = theta.eval()\n",
        "  print(best_theta)"
      ],
      "execution_count": 0,
      "outputs": [
        {
          "output_type": "stream",
          "text": [
            "Epoch: 0 MSE: 12.408014297485352\n",
            "Epoch: 100 MSE: 0.5252007246017456\n",
            "Epoch: 200 MSE: 0.5243331789970398\n",
            "Epoch: 300 MSE: 0.5243212580680847\n",
            "Epoch: 400 MSE: 0.5243210196495056\n",
            "Epoch: 500 MSE: 0.5243210196495056\n",
            "Epoch: 600 MSE: 0.5243210196495056\n",
            "Epoch: 700 MSE: 0.5243210196495056\n",
            "Epoch: 800 MSE: 0.5243210196495056\n",
            "Epoch: 900 MSE: 0.5243210196495056\n",
            "[[ 2.068558  ]\n",
            " [ 0.8296182 ]\n",
            " [ 0.11875145]\n",
            " [-0.265525  ]\n",
            " [ 0.3056947 ]\n",
            " [-0.00450307]\n",
            " [-0.03932622]\n",
            " [-0.8998881 ]\n",
            " [-0.87054336]]\n"
          ],
          "name": "stdout"
        }
      ]
    },
    {
      "cell_type": "markdown",
      "metadata": {
        "id": "2cGMovbSCR-N",
        "colab_type": "text"
      },
      "source": [
        "## Feeding Data to the Training Algorithm"
      ]
    },
    {
      "cell_type": "code",
      "metadata": {
        "id": "nAsAiGVfAd9d",
        "colab_type": "code",
        "outputId": "11a6a5c1-f72d-430b-fe92-d5647c8adf71",
        "colab": {
          "base_uri": "https://localhost:8080/",
          "height": 68
        }
      },
      "source": [
        "# An example of a placeholder node. Using None for a dimension means it can be\n",
        "# any size.\n",
        "\n",
        "reset_graph()\n",
        "\n",
        "A = tf.placeholder(tf.float32, shape=(None, 3))\n",
        "B = A + 5\n",
        "with tf.Session() as sess:\n",
        "  # Calling eval with the feed_dict parameter to provide a value for the\n",
        "  # placeholder node, A.\n",
        "  B_val_1 = B.eval(feed_dict={A: [[1, 2, 3]]})\n",
        "  B_val_2 = B.eval(feed_dict={A: [[4, 5, 6], [7, 8, 9]]})\n",
        "  print(B_val_1)\n",
        "  print(B_val_2)"
      ],
      "execution_count": 0,
      "outputs": [
        {
          "output_type": "stream",
          "text": [
            "[[6. 7. 8.]]\n",
            "[[ 9. 10. 11.]\n",
            " [12. 13. 14.]]\n"
          ],
          "name": "stdout"
        }
      ]
    },
    {
      "cell_type": "markdown",
      "metadata": {
        "id": "RvM_6eIrDZN4",
        "colab_type": "text"
      },
      "source": [
        "### Mini-Batch Gradient Descent"
      ]
    },
    {
      "cell_type": "code",
      "metadata": {
        "id": "5lKEf7KGDbHO",
        "colab_type": "code",
        "outputId": "aff1fd12-41a5-4207-b19b-4c5ea46b72b7",
        "colab": {
          "base_uri": "https://localhost:8080/",
          "height": 170
        }
      },
      "source": [
        "n_epochs = 100\n",
        "learning_rate = 0.01\n",
        "\n",
        "# Setting up computation graph.\n",
        "reset_graph()\n",
        "X = tf.placeholder(tf.float32, shape=(None, n + 1), name='X')\n",
        "y = tf.placeholder(tf.float32, shape=(None, 1), name='y')\n",
        "theta = tf.Variable(tf.random_uniform([n+1, 1], -1., 1.), name='theta')\n",
        "y_pred = tf.matmul(X, theta, name='predictions')\n",
        "error = y_pred - y\n",
        "mse = tf.reduce_mean(tf.square(error), name='mse')\n",
        "optimizer = \\\n",
        "  tf.train.MomentumOptimizer(learning_rate=learning_rate, momentum=0.9)\n",
        "training_op = optimizer.minimize(mse)\n",
        "init = tf.global_variables_initializer()\n",
        "\n",
        "# Mini-batch Gradient Descent.\n",
        "batch_size = 1000\n",
        "n_batches = int(np.ceil(m / batch_size))\n",
        "\n",
        "def fetch_batch(epoch, batch_idx, batch_size):\n",
        "  np.random.seed((epoch * batch_size) + batch_idx)\n",
        "  indices = np.random.randint(m, size=batch_size)\n",
        "  X_batch = scaled_housing_data_plus_bias[indices]\n",
        "  y_batch = housing.target.reshape(-1, 1)[indices]\n",
        "  return X_batch, y_batch\n",
        "\n",
        "with tf.Session() as sess:\n",
        "  sess.run(init)\n",
        "  for epoch in range(n_epochs):\n",
        "    for batch_idx in range(n_batches):\n",
        "      X_batch, y_batch = fetch_batch(epoch, batch_idx, batch_size)\n",
        "      sess.run(training_op, feed_dict={X: X_batch, y: y_batch})\n",
        "  best_theta = theta.eval()\n",
        "  print(best_theta)"
      ],
      "execution_count": 0,
      "outputs": [
        {
          "output_type": "stream",
          "text": [
            "[[ 2.0561285 ]\n",
            " [ 0.8382819 ]\n",
            " [ 0.11016789]\n",
            " [-0.25945365]\n",
            " [ 0.35881576]\n",
            " [-0.00353022]\n",
            " [-0.04197577]\n",
            " [-0.8903134 ]\n",
            " [-0.87608033]]\n"
          ],
          "name": "stdout"
        }
      ]
    },
    {
      "cell_type": "markdown",
      "metadata": {
        "id": "EqyxbuVCdRVb",
        "colab_type": "text"
      },
      "source": [
        "## Saving and Restoring Models\n",
        "\n",
        "You can save your model parameters to disk to reuse later and you can even save your model during intervals while training in case your machine fails. Below is an example of code which does this using Tensorflow's `Saver` class."
      ]
    },
    {
      "cell_type": "code",
      "metadata": {
        "id": "8ZX4QL3Cf5QU",
        "colab_type": "code",
        "outputId": "58f70bc9-08b6-4c91-abcd-f812eab3501a",
        "colab": {
          "base_uri": "https://localhost:8080/",
          "height": 170
        }
      },
      "source": [
        "# This code trains a Linear Regression and saves the model after every\n",
        "# 100 epochs of training.\n",
        "\n",
        "n_epochs = 1000\n",
        "\n",
        "reset_graph()\n",
        "X = tf.constant(scaled_housing_data_plus_bias, dtype=tf.float32, name='X')\n",
        "y = tf.constant(housing.target.reshape(-1, 1), dtype=tf.float32, name='y')\n",
        "theta = tf.Variable(tf.random_uniform([n+1, 1], -1., 1.), name='theta')\n",
        "y_pred = tf.matmul(X, theta, name='predictions')\n",
        "error = y_pred - y\n",
        "mse = tf.reduce_mean(tf.square(error), name='mse')\n",
        "optimizer = \\\n",
        "  tf.train.MomentumOptimizer(learning_rate=learning_rate, momentum=0.9)\n",
        "training_op = optimizer.minimize(mse)\n",
        "init = tf.global_variables_initializer()\n",
        "saver = tf.train.Saver()\n",
        "\n",
        "with tf.Session() as sess:\n",
        "  sess.run(init)\n",
        "  for epoch in range(n_epochs):\n",
        "    if epoch % 100 == 0:\n",
        "      save_path = saver.save(sess, '/tmp/my_model.ckpt')\n",
        "    sess.run(training_op)\n",
        "  best_theta = theta.eval()\n",
        "  print(best_theta)"
      ],
      "execution_count": 0,
      "outputs": [
        {
          "output_type": "stream",
          "text": [
            "[[ 2.068558  ]\n",
            " [ 0.8296182 ]\n",
            " [ 0.11875145]\n",
            " [-0.265525  ]\n",
            " [ 0.3056947 ]\n",
            " [-0.00450307]\n",
            " [-0.03932622]\n",
            " [-0.8998881 ]\n",
            " [-0.87054336]]\n"
          ],
          "name": "stdout"
        }
      ]
    },
    {
      "cell_type": "code",
      "metadata": {
        "id": "P91cF8-QguLP",
        "colab_type": "code",
        "outputId": "e88cdc70-1188-4014-fcf0-aeae8765c469",
        "colab": {
          "base_uri": "https://localhost:8080/",
          "height": 187
        }
      },
      "source": [
        "# This code restores the model and remembers optimal weight vector.\n",
        "\n",
        "with tf.Session() as sess:\n",
        "  saver.restore(sess, '/tmp/my_model.ckpt')\n",
        "  best_theta = theta.eval()\n",
        "  print(best_theta)"
      ],
      "execution_count": 0,
      "outputs": [
        {
          "output_type": "stream",
          "text": [
            "INFO:tensorflow:Restoring parameters from /tmp/my_model.ckpt\n",
            "[[ 2.068558  ]\n",
            " [ 0.8296182 ]\n",
            " [ 0.11875145]\n",
            " [-0.265525  ]\n",
            " [ 0.3056947 ]\n",
            " [-0.00450307]\n",
            " [-0.03932622]\n",
            " [-0.8998881 ]\n",
            " [-0.87054336]]\n"
          ],
          "name": "stdout"
        }
      ]
    },
    {
      "cell_type": "code",
      "metadata": {
        "id": "CRfkz4EhhvAv",
        "colab_type": "code",
        "colab": {}
      },
      "source": [
        "# This code creates a Saver instance which will only save the parameters for\n",
        "# one variable under a new name.\n",
        "\n",
        "saver = tf.train.Saver({'weights': theta})"
      ],
      "execution_count": 0,
      "outputs": []
    },
    {
      "cell_type": "code",
      "metadata": {
        "id": "t-Qz1aRYiMuR",
        "colab_type": "code",
        "outputId": "8c5d8e57-263d-4293-ff19-32dede15ae1c",
        "colab": {
          "base_uri": "https://localhost:8080/",
          "height": 187
        }
      },
      "source": [
        "# You can save and restore the computation graph as well.\n",
        "\n",
        "reset_graph()\n",
        "\n",
        "saver = tf.train.import_meta_graph('/tmp/my_model.ckpt.meta')\n",
        "theta = tf.get_default_graph().get_tensor_by_name('theta:0')\n",
        "\n",
        "with tf.Session() as sess:\n",
        "  saver.restore(sess, '/tmp/my_model.ckpt')\n",
        "  best_theta = theta.eval(session=sess)\n",
        "  print(best_theta)"
      ],
      "execution_count": 0,
      "outputs": [
        {
          "output_type": "stream",
          "text": [
            "INFO:tensorflow:Restoring parameters from /tmp/my_model.ckpt\n",
            "[[ 2.068558  ]\n",
            " [ 0.8296182 ]\n",
            " [ 0.11875145]\n",
            " [-0.265525  ]\n",
            " [ 0.3056947 ]\n",
            " [-0.00450307]\n",
            " [-0.03932622]\n",
            " [-0.8998881 ]\n",
            " [-0.87054336]]\n"
          ],
          "name": "stdout"
        }
      ]
    },
    {
      "cell_type": "markdown",
      "metadata": {
        "id": "ZaQTQYbnkNEf",
        "colab_type": "text"
      },
      "source": [
        "## Visualizing the Graph and Training Curves Using Tensorboard"
      ]
    },
    {
      "cell_type": "code",
      "metadata": {
        "id": "H0CfJK6BkYqg",
        "colab_type": "code",
        "colab": {}
      },
      "source": [
        "# This code creates a log directory for Tensorflow to output the graph definition\n",
        "# and stats during training, such as the value of the MSE.\n",
        "\n",
        "from datetime import datetime\n",
        "\n",
        "now = datetime.utcnow().strftime('%Y%m%d%H%M%S')\n",
        "root_logdir = 'tf_logs'\n",
        "logdir = '{}/run-{}/'.format(root_logdir, now)"
      ],
      "execution_count": 0,
      "outputs": []
    },
    {
      "cell_type": "code",
      "metadata": {
        "id": "VLVV7DgvlGlB",
        "colab_type": "code",
        "colab": {}
      },
      "source": [
        "# Defining the graph for Mini-batch Gradient Descent.\n",
        "\n",
        "n_epochs = 100\n",
        "\n",
        "reset_graph()\n",
        "X = tf.placeholder(tf.float32, shape=(None, n + 1), name='X')\n",
        "y = tf.placeholder(tf.float32, shape=(None, 1), name='y')\n",
        "theta = tf.Variable(tf.random_uniform([n+1, 1], -1., 1.), name='theta')\n",
        "y_pred = tf.matmul(X, theta, name='predictions')\n",
        "error = y_pred - y\n",
        "mse = tf.reduce_mean(tf.square(error), name='mse')\n",
        "optimizer = \\\n",
        "  tf.train.MomentumOptimizer(learning_rate=learning_rate, momentum=0.9)\n",
        "training_op = optimizer.minimize(mse)\n",
        "init = tf.global_variables_initializer()\n",
        "\n",
        "# Mini-batch Gradient Descent.\n",
        "batch_size = 1000\n",
        "n_batches = int(np.ceil(m / batch_size))"
      ],
      "execution_count": 0,
      "outputs": []
    },
    {
      "cell_type": "code",
      "metadata": {
        "id": "-cXRBjxvljYV",
        "colab_type": "code",
        "colab": {}
      },
      "source": [
        "# Adds a node to log the MSE.\n",
        "mse_summary = tf.summary.scalar('MSE', mse)\n",
        "\n",
        "# Writes the graph definition to a file.\n",
        "file_writer = tf.summary.FileWriter(logdir, tf.get_default_graph())"
      ],
      "execution_count": 0,
      "outputs": []
    },
    {
      "cell_type": "code",
      "metadata": {
        "id": "QTqBQFVjmhAb",
        "colab_type": "code",
        "colab": {}
      },
      "source": [
        "# Running the training job and outputting the summary results to log files.\n",
        "\n",
        "with tf.Session() as sess:\n",
        "  sess.run(init)\n",
        "  for epoch in range(n_epochs):\n",
        "    for batch_idx in range(n_batches):\n",
        "      X_batch, y_batch = fetch_batch(epoch, batch_idx, batch_size)\n",
        "      if batch_idx % 10 == 0:\n",
        "        summary_str = mse_summary.eval(feed_dict={X: X_batch, y: y_batch})\n",
        "        step = (epoch * n_batches) + batch_idx\n",
        "        file_writer.add_summary(summary_str, step)\n",
        "      sess.run(training_op, feed_dict={X: X_batch, y: y_batch})"
      ],
      "execution_count": 0,
      "outputs": []
    },
    {
      "cell_type": "code",
      "metadata": {
        "id": "e2Nx-o5dnVTF",
        "colab_type": "code",
        "colab": {}
      },
      "source": [
        "file_writer.close()"
      ],
      "execution_count": 0,
      "outputs": []
    },
    {
      "cell_type": "markdown",
      "metadata": {
        "id": "r_nlCY_JncXo",
        "colab_type": "text"
      },
      "source": [
        "The following code allows you to run Tensorboard from Google colab using the tutorial found [here]()."
      ]
    },
    {
      "cell_type": "code",
      "metadata": {
        "id": "f0OITw_CnaQG",
        "colab_type": "code",
        "colab": {}
      },
      "source": [
        "!wget https://bin.equinox.io/c/4VmDzA7iaHb/ngrok-stable-linux-amd64.zip\n",
        "!unzip ngrok-stable-linux-amd64.zip"
      ],
      "execution_count": 0,
      "outputs": []
    },
    {
      "cell_type": "code",
      "metadata": {
        "id": "FzowUknXnxt9",
        "colab_type": "code",
        "colab": {}
      },
      "source": [
        "get_ipython().system_raw(\n",
        "  'tensorboard --logdir {} --host 0.0.0.0 --port 6006 &'.format(root_logdir))"
      ],
      "execution_count": 0,
      "outputs": []
    },
    {
      "cell_type": "code",
      "metadata": {
        "id": "PX9YqTJen9sS",
        "colab_type": "code",
        "colab": {}
      },
      "source": [
        "get_ipython().system_raw('./ngrok http 6006 &')"
      ],
      "execution_count": 0,
      "outputs": []
    },
    {
      "cell_type": "code",
      "metadata": {
        "id": "jgk3S2l7oCPg",
        "colab_type": "code",
        "outputId": "e2fa5f74-d4f2-473e-d115-d3a698c0b3b2",
        "colab": {
          "base_uri": "https://localhost:8080/",
          "height": 34
        }
      },
      "source": [
        "! curl -s http://localhost:4040/api/tunnels | python3 -c \\\n",
        "    \"import sys, json; print(json.load(sys.stdin)['tunnels'][0]['public_url'])\""
      ],
      "execution_count": 0,
      "outputs": [
        {
          "output_type": "stream",
          "text": [
            "https://755554ff.ngrok.io\n"
          ],
          "name": "stdout"
        }
      ]
    },
    {
      "cell_type": "markdown",
      "metadata": {
        "id": "RRv-vzIYXWoE",
        "colab_type": "text"
      },
      "source": [
        "## Name Scopes\n",
        "\n",
        "It is possible to scope the names of graph nodes, which is useful for more complex graphs."
      ]
    },
    {
      "cell_type": "code",
      "metadata": {
        "id": "773u1yrsX8Ig",
        "colab_type": "code",
        "colab": {}
      },
      "source": [
        "# Running the same graph above where the error and MSE nodes are\n",
        "# in a Tensorflow name scope.\n",
        "\n",
        "reset_graph()\n",
        "X = tf.placeholder(tf.float32, shape=(None, n + 1), name='X')\n",
        "y = tf.placeholder(tf.float32, shape=(None, 1), name='y')\n",
        "theta = tf.Variable(tf.random_uniform([n+1, 1], -1., 1.), name='theta')\n",
        "y_pred = tf.matmul(X, theta, name='predictions')\n",
        "with tf.name_scope('loss') as scope:\n",
        "  error = y_pred - y\n",
        "  mse = tf.reduce_mean(tf.square(error), name='mse')\n",
        "optimizer = \\\n",
        "  tf.train.MomentumOptimizer(learning_rate=learning_rate, momentum=0.9)\n",
        "training_op = optimizer.minimize(mse)\n",
        "init = tf.global_variables_initializer()"
      ],
      "execution_count": 0,
      "outputs": []
    },
    {
      "cell_type": "code",
      "metadata": {
        "id": "Vp-RVoiadmT9",
        "colab_type": "code",
        "outputId": "5e6f8e76-f07d-49ff-db93-58b8eaf9b7d5",
        "colab": {
          "base_uri": "https://localhost:8080/",
          "height": 51
        }
      },
      "source": [
        "print(error.op.name)\n",
        "print(mse.op.name)"
      ],
      "execution_count": 0,
      "outputs": [
        {
          "output_type": "stream",
          "text": [
            "loss/sub\n",
            "loss/mse\n"
          ],
          "name": "stdout"
        }
      ]
    },
    {
      "cell_type": "code",
      "metadata": {
        "id": "pI49qf5eeZ7o",
        "colab_type": "code",
        "colab": {}
      },
      "source": [
        "logdir = '{}/run-{}/'.format(root_logdir, now)\n",
        "mse_summary = tf.summary.scalar('MSE', mse)\n",
        "file_writer = tf.summary.FileWriter(logdir, tf.get_default_graph())"
      ],
      "execution_count": 0,
      "outputs": []
    },
    {
      "cell_type": "code",
      "metadata": {
        "id": "0PSGvKOfdzJ1",
        "colab_type": "code",
        "colab": {}
      },
      "source": [
        "n_epochs = 100\n",
        "batch_size = 1000\n",
        "n_batches = int(np.ceil(m / batch_size))\n",
        "\n",
        "with tf.Session() as sess:\n",
        "  sess.run(init)\n",
        "  for epoch in range(n_epochs):\n",
        "    for batch_idx in range(batch_size):\n",
        "      X_batch, y_batch = fetch_batch(epoch, batch_idx, batch_size)\n",
        "      if batch_idx % 10 == 0:\n",
        "        summary_str = mse_summary.eval(feed_dict={X: X_batch, y: y_batch})\n",
        "        step = (batch_size * epoch) + batch_idx\n",
        "        file_writer.add_summary(summary_str, step)"
      ],
      "execution_count": 0,
      "outputs": []
    },
    {
      "cell_type": "code",
      "metadata": {
        "id": "lXNVL9hUfvFY",
        "colab_type": "code",
        "colab": {}
      },
      "source": [
        "get_ipython().system_raw(\n",
        "  'tensorboard --logdir {} --host 0.0.0.0 --port 6007 &'.format(root_logdir))"
      ],
      "execution_count": 0,
      "outputs": []
    },
    {
      "cell_type": "code",
      "metadata": {
        "id": "oJ6iyMrhfxNJ",
        "colab_type": "code",
        "colab": {}
      },
      "source": [
        "get_ipython().system_raw('./ngrok http 6007 &')"
      ],
      "execution_count": 0,
      "outputs": []
    },
    {
      "cell_type": "code",
      "metadata": {
        "id": "AhweuXZvfzg-",
        "colab_type": "code",
        "outputId": "cce3bf7b-fa10-4786-9179-bc268cb71a1c",
        "colab": {
          "base_uri": "https://localhost:8080/",
          "height": 34
        }
      },
      "source": [
        "! curl -s http://localhost:4040/api/tunnels | python3 -c \\\n",
        "    \"import sys, json; print(json.load(sys.stdin)['tunnels'][0]['public_url'])\""
      ],
      "execution_count": 0,
      "outputs": [
        {
          "output_type": "stream",
          "text": [
            "https://ca199611.ngrok.io\n"
          ],
          "name": "stdout"
        }
      ]
    },
    {
      "cell_type": "code",
      "metadata": {
        "id": "4Gknu5nqilCa",
        "colab_type": "code",
        "outputId": "32d91df9-2a15-4239-935c-3df5a1bb7d25",
        "colab": {
          "base_uri": "https://localhost:8080/",
          "height": 51
        }
      },
      "source": [
        "reset_graph()\n",
        "\n",
        "a1 = tf.Variable(0, name='a')\n",
        "a2 = tf.Variable(1, name='a')\n",
        "\n",
        "print(a1.op.name)\n",
        "print(a2.op.name)"
      ],
      "execution_count": 0,
      "outputs": [
        {
          "output_type": "stream",
          "text": [
            "a\n",
            "a_1\n"
          ],
          "name": "stdout"
        }
      ]
    },
    {
      "cell_type": "code",
      "metadata": {
        "id": "u1zPupIWi3Q9",
        "colab_type": "code",
        "outputId": "9f143c33-f305-460b-8246-f45891c13af7",
        "colab": {
          "base_uri": "https://localhost:8080/",
          "height": 51
        }
      },
      "source": [
        "with tf.name_scope('param') as scope:\n",
        "  a3 = tf.Variable(0, name='a')\n",
        "\n",
        "with tf.name_scope('param') as scope:\n",
        "  a4 = tf.Variable(0, name='a')\n",
        "\n",
        "print(a3.op.name)\n",
        "print(a4.op.name)"
      ],
      "execution_count": 0,
      "outputs": [
        {
          "output_type": "stream",
          "text": [
            "param/a\n",
            "param_1/a\n"
          ],
          "name": "stdout"
        }
      ]
    },
    {
      "cell_type": "markdown",
      "metadata": {
        "id": "3_SMjWuUgdw4",
        "colab_type": "text"
      },
      "source": [
        "## Modularity\n",
        "\n",
        "Suppose you want to create a graph that adds the output of two <i>rectified linear units</i> (ReLU). A ReLU evaluates a linear function then returns the return value if it is positive, zero otherwise.\n",
        "\n",
        "$$ h_{\\mathbf{w},\\,b}(\\mathbf{X}) = \\max(\\mathbf{X} \\cdot \\mathbf{w} + b, 0) $$"
      ]
    },
    {
      "cell_type": "code",
      "metadata": {
        "id": "SNyIb4bijRA3",
        "colab_type": "code",
        "colab": {}
      },
      "source": [
        "reset_graph()\n",
        "\n",
        "n_features = 3\n",
        "X = tf.placeholder(tf.float32, shape=(None, n_features), name='X')\n",
        "\n",
        "w1 = tf.Variable(tf.random_normal((n_features, 1)), name='weights1')\n",
        "w2 = tf.Variable(tf.random_normal((n_features, 1)), name='weights2')\n",
        "b1 = tf.Variable(0., name='bias1')\n",
        "b2 = tf.Variable(0., name='bias2')\n",
        "\n",
        "z1 = tf.add(tf.matmul(X, w1), b1, name='z1')\n",
        "z2 = tf.add(tf.matmul(X, w2), b2, name='z2')\n",
        "\n",
        "relu1 = tf.maximum(z1, 0., name='relu1')\n",
        "relu2 = tf.maximum(z2, 0., name='relu2')\n",
        "\n",
        "output = tf.add(relu1, relu2, name='output')"
      ],
      "execution_count": 0,
      "outputs": []
    },
    {
      "cell_type": "code",
      "metadata": {
        "id": "V1y13l96mX56",
        "colab_type": "code",
        "colab": {}
      },
      "source": [
        "# Tensorflow lets you modularize the repetitive process of computing ReLU\n",
        "# terms.\n",
        "\n",
        "reset_graph()\n",
        "\n",
        "def relu(X):\n",
        "  w_shape = (int(X.get_shape()[1]), 1)\n",
        "  w = tf.Variable(tf.random_normal(w_shape), name='weights')\n",
        "  b = tf.Variable(0., name='bias')\n",
        "  z = tf.add(tf.matmul(X, w), b, name='z')\n",
        "  return tf.maximum(z, 0., name='relu')\n",
        "\n",
        "n_features = 3\n",
        "X = tf.placeholder(tf.float32, shape=(None, n_features), name='X')\n",
        "relus = [relu(X) for _ in range(5)]\n",
        "output = tf.add_n(relus, name='output')"
      ],
      "execution_count": 0,
      "outputs": []
    },
    {
      "cell_type": "code",
      "metadata": {
        "id": "HRVXtBtqodYR",
        "colab_type": "code",
        "colab": {}
      },
      "source": [
        "file_writer = tf.summary.FileWriter('logs/relu', tf.get_default_graph())"
      ],
      "execution_count": 0,
      "outputs": []
    },
    {
      "cell_type": "code",
      "metadata": {
        "id": "svBCnxvzonc0",
        "colab_type": "code",
        "colab": {}
      },
      "source": [
        "file_writer.close()"
      ],
      "execution_count": 0,
      "outputs": []
    },
    {
      "cell_type": "code",
      "metadata": {
        "id": "DnkIFHrSoriq",
        "colab_type": "code",
        "colab": {}
      },
      "source": [
        "get_ipython().system_raw(\n",
        "  'tensorboard --logdir {} --host 0.0.0.0 --port 6008 &'.format('logs/relu'))"
      ],
      "execution_count": 0,
      "outputs": []
    },
    {
      "cell_type": "code",
      "metadata": {
        "id": "c-8_hhT5ouUM",
        "colab_type": "code",
        "colab": {}
      },
      "source": [
        "get_ipython().system_raw('./ngrok http 6008 &')"
      ],
      "execution_count": 0,
      "outputs": []
    },
    {
      "cell_type": "code",
      "metadata": {
        "id": "cLCIf2vbowgo",
        "colab_type": "code",
        "outputId": "65f5fa3d-43d3-4ede-96a4-44f29e79de06",
        "colab": {
          "base_uri": "https://localhost:8080/",
          "height": 34
        }
      },
      "source": [
        "! curl -s http://localhost:4040/api/tunnels | python3 -c \\\n",
        "    \"import sys, json; print(json.load(sys.stdin)['tunnels'][0]['public_url'])\""
      ],
      "execution_count": 0,
      "outputs": [
        {
          "output_type": "stream",
          "text": [
            "https://5427d72a.ngrok.io\n"
          ],
          "name": "stdout"
        }
      ]
    },
    {
      "cell_type": "code",
      "metadata": {
        "id": "yEqTYtOQsCje",
        "colab_type": "code",
        "colab": {}
      },
      "source": [
        "# Having the repeated nodes be defined in their own namespace helps simplify\n",
        "# the Tensorboard graph.\n",
        "\n",
        "reset_graph()\n",
        "\n",
        "def relu(X):\n",
        "  with tf.name_scope('relu'):\n",
        "    w_shape = (int(X.get_shape()[1]), 1)\n",
        "    w = tf.Variable(tf.random_normal(w_shape), name='weights')\n",
        "    b = tf.Variable(0., name='bias')\n",
        "    z = tf.add(tf.matmul(X, w), b, name='z')\n",
        "    return tf.maximum(z, 0., name='relu')\n",
        "\n",
        "n_features = 3\n",
        "X = tf.placeholder(tf.float32, shape=(None, n_features), name='X')\n",
        "relus = [relu(X) for _ in range(5)]\n",
        "output = tf.add_n(relus, name='output')"
      ],
      "execution_count": 0,
      "outputs": []
    },
    {
      "cell_type": "code",
      "metadata": {
        "id": "8ZIIfCits1JV",
        "colab_type": "code",
        "colab": {}
      },
      "source": [
        "file_writer = tf.summary.FileWriter('logs/relu', tf.get_default_graph())"
      ],
      "execution_count": 0,
      "outputs": []
    },
    {
      "cell_type": "code",
      "metadata": {
        "id": "rDeZenrAt6qm",
        "colab_type": "code",
        "colab": {}
      },
      "source": [
        "file_writer.close()"
      ],
      "execution_count": 0,
      "outputs": []
    },
    {
      "cell_type": "code",
      "metadata": {
        "id": "lBZ5HUXUtyem",
        "colab_type": "code",
        "colab": {}
      },
      "source": [
        "get_ipython().system_raw(\n",
        "  'tensorboard --logdir {} --host 0.0.0.0 --port 6006 &'.format('logs/relu'))\n",
        "get_ipython().system_raw('./ngrok http 6006 &')"
      ],
      "execution_count": 0,
      "outputs": []
    },
    {
      "cell_type": "code",
      "metadata": {
        "id": "92JE5SvRt0sN",
        "colab_type": "code",
        "outputId": "af93a149-caa2-4d91-d880-f3eb4e5afbc8",
        "colab": {
          "base_uri": "https://localhost:8080/",
          "height": 34
        }
      },
      "source": [
        "! curl -s http://localhost:4040/api/tunnels | python3 -c \\\n",
        "    \"import sys, json; print(json.load(sys.stdin)['tunnels'][0]['public_url'])\""
      ],
      "execution_count": 0,
      "outputs": [
        {
          "output_type": "stream",
          "text": [
            "https://a13a7e81.ngrok.io\n"
          ],
          "name": "stdout"
        }
      ]
    },
    {
      "cell_type": "markdown",
      "metadata": {
        "id": "C5nAH0zhrllz",
        "colab_type": "text"
      },
      "source": [
        "## Sharing Variables\n",
        "\n"
      ]
    },
    {
      "cell_type": "code",
      "metadata": {
        "id": "jczvXESIzOze",
        "colab_type": "code",
        "colab": {}
      },
      "source": [
        "# You can share variables by passing them as parameters to the function\n",
        "# making the relu node.\n",
        "\n",
        "reset_graph()\n",
        "\n",
        "def relu(X, threshold):\n",
        "  with tf.name_scope('relu'):\n",
        "    w_shape = (int(X.get_shape()[1]), 1)\n",
        "    w = tf.Variable(tf.random_normal(w_shape), name='weights')\n",
        "    b = tf.Variable(0., name='bias')\n",
        "    z = tf.add(tf.matmul(X, w), b, name='z')\n",
        "    return tf.maximum(z, threshold, name='relu')\n",
        "\n",
        "n_features = 3\n",
        "X = tf.placeholder(tf.float32, shape=(None, n_features), name='X')\n",
        "threshold = tf.Variable(0., name='threshold')\n",
        "relus = [relu(X, threshold) for _ in range(5)]\n",
        "output = tf.add_n(relus, name='output')"
      ],
      "execution_count": 0,
      "outputs": []
    },
    {
      "cell_type": "code",
      "metadata": {
        "id": "1UNA1Y_v0sVF",
        "colab_type": "code",
        "colab": {}
      },
      "source": [
        "# One option is to add the shared variable as a property of the relu()\n",
        "# function.\n",
        "\n",
        "reset_graph()\n",
        "\n",
        "def relu(X):\n",
        "  with tf.name_scope('relu'):\n",
        "    if not hasattr(relu, 'threshold'):\n",
        "      relu.threshold = tf.Variable(0., name='threshold')\n",
        "    w_shape = (int(X.get_shape()[1]), 1)\n",
        "    w = tf.Variable(tf.random_normal(w_shape), name='weights')\n",
        "    b = tf.Variable(0., name='bias')\n",
        "    z = tf.add(tf.matmul(X, w), b, name='z')\n",
        "    return tf.maximum(z, relu.threshold, name='relu')\n",
        "\n",
        "n_features = 3\n",
        "X = tf.placeholder(tf.float32, shape=(None, n_features), name='X')\n",
        "relus = [relu(X) for _ in range(5)]\n",
        "output = tf.add_n(relus, name='output')"
      ],
      "execution_count": 0,
      "outputs": []
    },
    {
      "cell_type": "code",
      "metadata": {
        "id": "bi38WdFt20LZ",
        "colab_type": "code",
        "colab": {}
      },
      "source": [
        "# This function defines the threshold variable using syntax which will throw\n",
        "# an Exception if the variable has been already created. This can be used\n",
        "# to prevent reusing variables.\n",
        "\n",
        "with tf.variable_scope('relu'):\n",
        "  threshold = \\\n",
        "    tf.get_variable('threshold', shape=(),\n",
        "                    initializer=tf.constant_initializer(0.0))"
      ],
      "execution_count": 0,
      "outputs": []
    },
    {
      "cell_type": "code",
      "metadata": {
        "id": "tLKbyOo64HXl",
        "colab_type": "code",
        "colab": {}
      },
      "source": [
        "# This function will throw an exception if the threshold variable has not yet\n",
        "# been created or if it was not created with the get_variable() function.\n",
        "\n",
        "with tf.variable_scope('relu', reuse=True) as scope:\n",
        "  threshold = tf.get_variable('threshold')"
      ],
      "execution_count": 0,
      "outputs": []
    },
    {
      "cell_type": "code",
      "metadata": {
        "id": "rR1clsJc6DJK",
        "colab_type": "code",
        "colab": {}
      },
      "source": [
        "# This code is equivalent to the cell above.\n",
        "\n",
        "with tf.variable_scope('relu') as scope:\n",
        "  scope.reuse_variables()\n",
        "  threshold = tf.get_variable('threshold')"
      ],
      "execution_count": 0,
      "outputs": []
    },
    {
      "cell_type": "code",
      "metadata": {
        "id": "flG1i4dd7Gxi",
        "colab_type": "code",
        "colab": {}
      },
      "source": [
        "# The following code is for the ReLU graph and reuses the threshold variable.\n",
        "\n",
        "reset_graph()\n",
        "n_features = 3\n",
        "\n",
        "def relu(X):\n",
        "  with tf.variable_scope('relu', reuse=True):\n",
        "    threshold = tf.get_variable('threshold')\n",
        "    w_shape = (int(X.get_shape()[1]), 1)\n",
        "    w = tf.Variable(tf.random_normal(w_shape), name='weights')\n",
        "    b = tf.Variable(0., name='bias')\n",
        "    z = tf.add(tf.matmul(X, w), b, name='z')\n",
        "    return tf.maximum(z, threshold, name='relu')\n",
        "\n",
        "X = tf.placeholder(tf.float32, shape=(None, n_features), name='X')\n",
        "with tf.variable_scope('relu'):\n",
        "  threshold = tf.get_variable('threshold', shape=(),\n",
        "                              initializer=tf.constant_initializer(0.))\n",
        "relus = [relu(X) for _ in range(5)]\n",
        "output = tf.add_n(relus, name='output')"
      ],
      "execution_count": 0,
      "outputs": []
    },
    {
      "cell_type": "code",
      "metadata": {
        "id": "0V7uxyJR-Ogr",
        "colab_type": "code",
        "colab": {}
      },
      "source": [
        "# Viewing the graph in Tensorboard.\n",
        "\n",
        "file_writer = tf.summary.FileWriter('logs/relu', tf.get_default_graph())\n",
        "file_writer.close()\n",
        "get_ipython().system_raw(\n",
        "  'tensorboard --logdir {} --host 0.0.0.0 --port 6007 &'.format('logs/relu'))\n",
        "get_ipython().system_raw('./ngrok http 6007 &')"
      ],
      "execution_count": 0,
      "outputs": []
    },
    {
      "cell_type": "code",
      "metadata": {
        "id": "jpAhcUON-Vvv",
        "colab_type": "code",
        "outputId": "9284daba-3972-4837-f7d2-e2a7c97b3b59",
        "colab": {
          "base_uri": "https://localhost:8080/",
          "height": 34
        }
      },
      "source": [
        "! curl -s http://localhost:4040/api/tunnels | python3 -c \\\n",
        "    \"import sys, json; print(json.load(sys.stdin)['tunnels'][0]['public_url'])\""
      ],
      "execution_count": 0,
      "outputs": [
        {
          "output_type": "stream",
          "text": [
            "https://fe37ee78.ngrok.io\n"
          ],
          "name": "stdout"
        }
      ]
    },
    {
      "cell_type": "code",
      "metadata": {
        "id": "kCLITumN_YP3",
        "colab_type": "code",
        "colab": {}
      },
      "source": [
        "# The following code creates a graph indentical to the one that the previous\n",
        "# cell created, using a different syntax which allows threshold to be\n",
        "# initialized on the first call of relu().\n",
        "\n",
        "reset_graph()\n",
        "n_features = 3\n",
        "\n",
        "def relu(X):\n",
        "  threshold = tf.get_variable('threshold', shape=(),\n",
        "                              initializer=tf.constant_initializer(0.))\n",
        "  w_shape = (int(X.get_shape()[1]), 1)\n",
        "  w = tf.Variable(tf.random_normal(w_shape), name='weights')\n",
        "  b = tf.Variable(0., name='bias')\n",
        "  z = tf.add(tf.matmul(X, w), b, name='z')\n",
        "  return tf.maximum(z, threshold, name='relu')\n",
        "\n",
        "X = tf.placeholder(tf.float32, shape=(None, n_features), name='X')\n",
        "relus = []\n",
        "for idx in range(5):\n",
        "  with tf.variable_scope('relu', reuse=(idx >= 1 or None)):\n",
        "    relus.append(relu(X))\n",
        "output = tf.add_n(relus, name='output')"
      ],
      "execution_count": 0,
      "outputs": []
    },
    {
      "cell_type": "markdown",
      "metadata": {
        "id": "TZskUetVHuoD",
        "colab_type": "text"
      },
      "source": [
        "## Exercises\n",
        "\n",
        "### 1. What are the main advantages of creating a computation graph rather than directly executing the computations? What are the main drawbacks?\n",
        "\n",
        "The main advantage of creating a computation graph is that you get to create an abstract model of your computation before you execute it. This allows you to analyze the algorithm and model without necessarily running it. It also allows TensorFlow to handle execution of the graph for you, which lets you easily run the model in different threads or on multiple machines.\n",
        "\n",
        "The main drawback is that you have to maintain code which defines your computation as well as the code for actually executing the computation. It also makes the learning curve for TensorFlow steeper.\n",
        "\n",
        "### 2. Is the statement `a_val = e.eval(session=sess)` equivalent to `a_val = sess.run(a)`?"
      ]
    },
    {
      "cell_type": "code",
      "metadata": {
        "id": "nFHOzNZzJqNl",
        "colab_type": "code",
        "outputId": "8628e1fb-20da-43d9-a118-627d65c66a9e",
        "colab": {
          "base_uri": "https://localhost:8080/",
          "height": 34
        }
      },
      "source": [
        "reset_graph()\n",
        "e = tf.constant(1., name='e')\n",
        "sess = tf.Session()\n",
        "print(e.eval(session=sess) == sess.run(e))\n",
        "sess.close()"
      ],
      "execution_count": 0,
      "outputs": [
        {
          "output_type": "stream",
          "text": [
            "True\n"
          ],
          "name": "stdout"
        }
      ]
    },
    {
      "cell_type": "markdown",
      "metadata": {
        "id": "QHnGmmsvJ7EM",
        "colab_type": "text"
      },
      "source": [
        "Yes, the two statements are equivalent to one another.\n",
        "\n",
        "### 3. Is the statement `a_val, b_val = a.eval(session=sess), b.eval(session=sess)` equivalent to `a_val, b_val = sess.run([a, b])`?"
      ]
    },
    {
      "cell_type": "markdown",
      "metadata": {
        "id": "uNFXS0-8K0BF",
        "colab_type": "text"
      },
      "source": [
        "No, the statements are <i>not</i> equivalent. Although they have the same output, `a_val, b_val = a.eval(session=sess), b.eval(session=sess)` runs the graph twice. So if these nodes depended on nodes which change state, it can alter the output.\n",
        "\n",
        "### 4. Can you run two graphs in the same session?"
      ]
    },
    {
      "cell_type": "code",
      "metadata": {
        "id": "y40AUFlOK0w_",
        "colab_type": "code",
        "outputId": "e402616b-1051-47f0-fdc0-0103d49ca477",
        "colab": {
          "base_uri": "https://localhost:8080/",
          "height": 34
        }
      },
      "source": [
        "reset_graph()\n",
        "graph = tf.Graph()\n",
        "with graph.as_default():\n",
        "  a = tf.constant(1., name='a')\n",
        "b = tf.constant(2., name='b')\n",
        "\n",
        "sess = tf.Session()\n",
        "try:\n",
        "  sess.run(a)\n",
        "  sess.run(b)\n",
        "  print('Possible.')\n",
        "except:\n",
        "  print('Not possible.')\n",
        "sess.close()"
      ],
      "execution_count": 0,
      "outputs": [
        {
          "output_type": "stream",
          "text": [
            "Not possible.\n"
          ],
          "name": "stdout"
        }
      ]
    },
    {
      "cell_type": "code",
      "metadata": {
        "id": "FVVEY4LtLgxW",
        "colab_type": "code",
        "outputId": "af76b54a-ba09-4ec6-df49-486f153abef5",
        "colab": {
          "base_uri": "https://localhost:8080/",
          "height": 34
        }
      },
      "source": [
        "reset_graph()\n",
        "graph = tf.Graph()\n",
        "with graph.as_default():\n",
        "  a = tf.constant(1., name='a')\n",
        "b = tf.constant(2., name='b')\n",
        "\n",
        "with graph.as_default():\n",
        "  sess = tf.Session()\n",
        "  try:\n",
        "    sess.run(a)\n",
        "    sess.run(b)\n",
        "    print('Possible.')\n",
        "  except:\n",
        "    print('Not possible.')\n",
        "  sess.close()"
      ],
      "execution_count": 0,
      "outputs": [
        {
          "output_type": "stream",
          "text": [
            "Not possible.\n"
          ],
          "name": "stdout"
        }
      ]
    },
    {
      "cell_type": "markdown",
      "metadata": {
        "id": "MovWRFwNLmxl",
        "colab_type": "text"
      },
      "source": [
        "No, it is not possible to run multiple graphs in the same session.\n",
        "\n",
        "### 5. If you create a graph, `g`, containing a variable, `w`, then start two threads and open a session in each thread, both using the same graph `g`, will each session have its own copy of the variable `w` or will it be shared?"
      ]
    },
    {
      "cell_type": "code",
      "metadata": {
        "id": "Ng6s6C4dMFog",
        "colab_type": "code",
        "outputId": "d420ea34-b1ee-4709-b086-b608ca1363fa",
        "colab": {
          "base_uri": "https://localhost:8080/",
          "height": 68
        }
      },
      "source": [
        "# In this code, g is simply the default graph.\n",
        "\n",
        "from threading import Thread\n",
        "import time\n",
        "\n",
        "reset_graph()\n",
        "\n",
        "g = tf.Graph()\n",
        "with g.as_default():\n",
        "  w = tf.Variable(1., name='w')\n",
        "\n",
        "def first_session():\n",
        "  with g.as_default():\n",
        "    with tf.Session() as sess:\n",
        "      w.initializer.run(session=sess)\n",
        "      tf.assign(w, 2.)\n",
        "      print('reassigned w')\n",
        "      time.sleep(10) # keep alive until after thread 2 is finished.\n",
        "    \n",
        "def second_session():\n",
        "  with g.as_default():\n",
        "    with tf.Session() as sess:\n",
        "      w.initializer.run(session=sess)\n",
        "      time.sleep(5) # Wait for the 1st thread to execute the code before sleeping\n",
        "      print('evaluating w')\n",
        "      print(w.eval())\n",
        "    \n",
        "t1 = Thread(target=first_session, args=())\n",
        "t2 = Thread(target=second_session, args=())\n",
        "t1.start()\n",
        "t2.start()\n",
        "t1.join()\n",
        "t2.join()"
      ],
      "execution_count": 0,
      "outputs": [
        {
          "output_type": "stream",
          "text": [
            "reassigned w\n",
            "evaluating w\n",
            "1.0\n"
          ],
          "name": "stdout"
        }
      ]
    },
    {
      "cell_type": "markdown",
      "metadata": {
        "id": "_jT-Nj_WPotM",
        "colab_type": "text"
      },
      "source": [
        "In local Tensorflow, the variable `w` will have its own value in each session, as the code above sows. In distributed Tensorflow, however, it is possible to share variables across sessions.\n",
        "\n",
        "### 6. When is a variable initialized? When is it destroyed?\n",
        "\n",
        "A variable is initialized when its or its initializer's `run()` method is invoked. It is destroyed when the session is closed. In distributed TensorFlow, variables persist in their containers even after a session ends, in order to destroy the variable you must delete the container.\n",
        "\n",
        "### 7. What is the difference between a placeholder and a variable?\n",
        "\n",
        "A placeholder is a node which has its value provided during the evaluation of other nodes which depend on the placeholder. In order to evaluate the nodes which depend on the placeholder, you <i>must</i> feed a value into it.\n",
        "\n",
        "Variables on the other hand store a default value in state. Although you <i>can</i> feed values to variable nodes during evaluation, it is not required.\n",
        "\n",
        "### 8. What happens when you run the graph to evaluate an operation that depends on a placeholder but you don't feed its value? What happens if the operation does not depend on the placeholder?"
      ]
    },
    {
      "cell_type": "code",
      "metadata": {
        "id": "fVOpNKwNQgWP",
        "colab_type": "code",
        "outputId": "9ebac944-6824-486e-d238-eeae713afc2f",
        "colab": {
          "base_uri": "https://localhost:8080/",
          "height": 34
        }
      },
      "source": [
        "# Evaluating a node which depends on a placeholder without feeding the\n",
        "# placeholder a value.\n",
        "\n",
        "reset_graph()\n",
        "\n",
        "a = tf.placeholder(tf.float32, shape=())\n",
        "b = 2 * a\n",
        "\n",
        "with tf.Session() as sess:\n",
        "  try:\n",
        "    b.eval()\n",
        "    print('Possible.')\n",
        "  except:\n",
        "    print('Not possible.')"
      ],
      "execution_count": 0,
      "outputs": [
        {
          "output_type": "stream",
          "text": [
            "Not possible.\n"
          ],
          "name": "stdout"
        }
      ]
    },
    {
      "cell_type": "code",
      "metadata": {
        "id": "Zuf8OimtR4DP",
        "colab_type": "code",
        "outputId": "6fee21ac-c30c-444f-df18-d469c4467eb7",
        "colab": {
          "base_uri": "https://localhost:8080/",
          "height": 34
        }
      },
      "source": [
        "# Evaluating a node which does not depend on the placeholder.\n",
        "\n",
        "reset_graph()\n",
        "\n",
        "a = tf.placeholder(tf.float32, shape=())\n",
        "b = tf.constant(2.)\n",
        "c = 2 * b\n",
        "\n",
        "with tf.Session() as sess:\n",
        "  try:\n",
        "    c.eval()\n",
        "    print('Possible.')\n",
        "  except:\n",
        "    print('Not possible.')"
      ],
      "execution_count": 0,
      "outputs": [
        {
          "output_type": "stream",
          "text": [
            "Possible.\n"
          ],
          "name": "stdout"
        }
      ]
    },
    {
      "cell_type": "markdown",
      "metadata": {
        "id": "13wxNVHjSMgI",
        "colab_type": "text"
      },
      "source": [
        "### 9. When you run a graph, can you feed the output value of any operation, or just the value of placeholders?"
      ]
    },
    {
      "cell_type": "code",
      "metadata": {
        "id": "ojPkQdbPSbKh",
        "colab_type": "code",
        "outputId": "46f684d1-6af2-4a25-ef35-4c473ba8b133",
        "colab": {
          "base_uri": "https://localhost:8080/",
          "height": 34
        }
      },
      "source": [
        "# The following code shows it is possible to feed the value for variables.\n",
        "\n",
        "reset_graph()\n",
        "\n",
        "a = tf.Variable(2., name='a')\n",
        "b = 2 * a\n",
        "\n",
        "with tf.Session() as sess:\n",
        "  print(b.eval(feed_dict={a: 3.}))"
      ],
      "execution_count": 0,
      "outputs": [
        {
          "output_type": "stream",
          "text": [
            "6.0\n"
          ],
          "name": "stdout"
        }
      ]
    },
    {
      "cell_type": "code",
      "metadata": {
        "id": "WSW4PDQtS8tl",
        "colab_type": "code",
        "outputId": "71d4f882-a60f-4a66-84b1-c1d7e19dbe12",
        "colab": {
          "base_uri": "https://localhost:8080/",
          "height": 34
        }
      },
      "source": [
        "# The following code shows it is also possible to feed values to\n",
        "# nodes defined by operations on other nodes.\n",
        "\n",
        "reset_graph()\n",
        "\n",
        "a = tf.Variable(2., name='a')\n",
        "b = 2 * a\n",
        "c = 3 + b\n",
        "\n",
        "with tf.Session() as sess:\n",
        "  print(c.eval(feed_dict={b: 1.}))"
      ],
      "execution_count": 0,
      "outputs": [
        {
          "output_type": "stream",
          "text": [
            "4.0\n"
          ],
          "name": "stdout"
        }
      ]
    },
    {
      "cell_type": "markdown",
      "metadata": {
        "id": "A-Eyawj3TW-4",
        "colab_type": "text"
      },
      "source": [
        "### 10. How can you set a variable to any value you want during the execution phase?\n",
        "\n",
        "You can either use `tf.assign()` to change the value of the variable, see the code for exercise 5 for an example.\n",
        "\n",
        "You can also feed the variable a value while evaluating a dependent node, see the code for exercise 9 for an example.\n",
        "\n",
        "### 11. How many times does reverse-mode autodiff need to traverse the graph to compute the gradients of the cost function with regards to 10 variables? What about forward-mode autodiff? And symbolic differentiation?\n",
        "\n",
        "Reverse-mode autodiff needs to travese the graph $n_\\text{outputs}+1$ times, which in this case is twice, since we are computing the gradient of a function which returns a scalar.\n",
        "\n",
        "Forward-mode autodiff requires $n_\\text{inputs}$ graph traversals, which in this case is 10, since we are differentiating the cost function with respect to 10 variables.\n",
        "\n",
        "Symbolic differentiation does not traverse the original graph, instead it requires us to define a new graph representing the gradient of the original cost function.\n",
        "\n",
        "### 12. Implement Logistic Regression with Mini-batch Gradient Descent using TensorFlow. Train it and evaluate it on the moons dataset."
      ]
    },
    {
      "cell_type": "code",
      "metadata": {
        "id": "vEJZuY20v_fl",
        "colab_type": "code",
        "outputId": "34a3aab4-abf2-4f7b-dafb-4978a01c1e84",
        "colab": {
          "base_uri": "https://localhost:8080/",
          "height": 269
        }
      },
      "source": [
        "# Importing the data and plotting it.\n",
        "\n",
        "from sklearn.datasets import make_moons\n",
        "import matplotlib.pyplot as plt\n",
        "\n",
        "X_moons, y_moons = make_moons(n_samples=1000, random_state=42, noise=0.1)\n",
        "plt.scatter(X_moons[:,0], X_moons[:,1], c=y_moons)\n",
        "plt.show()"
      ],
      "execution_count": 0,
      "outputs": [
        {
          "output_type": "display_data",
          "data": {
            "image/png": "[encoded data removed]",
            "text/plain": [
              "<Figure size 432x288 with 1 Axes>"
            ]
          },
          "metadata": {
            "tags": []
          }
        }
      ]
    },
    {
      "cell_type": "code",
      "metadata": {
        "id": "9nyFM4qqxH3c",
        "colab_type": "code",
        "colab": {}
      },
      "source": [
        "# Adding a bias term term to the inputs\n",
        "\n",
        "X_moons_plus_bias = np.c_[np.ones((X_moons.shape[0], 1)), X_moons]\n",
        "y_moons_reshaped = y_moons.reshape(-1, 1)"
      ],
      "execution_count": 0,
      "outputs": []
    },
    {
      "cell_type": "code",
      "metadata": {
        "id": "SEQvgD0SkYCH",
        "colab_type": "code",
        "colab": {}
      },
      "source": [
        "# Defining the computational graph for Logistic Regression.\n",
        "\n",
        "root_logdir = 'log_reg'\n",
        "\n",
        "def logistic_regression(X, y, n_features, learning_rate=0.01, momentum=0.9):\n",
        "  with tf.name_scope('model'):\n",
        "    theta = tf.Variable(tf.random_uniform([n_features, 1], -1., 1.), name='theta')\n",
        "    y_proba = tf.math.sigmoid(tf.matmul(X, theta))\n",
        "  with tf.name_scope('train'):\n",
        "    loss = tf.losses.log_loss(y, y_proba)\n",
        "    optimizer = \\\n",
        "      tf.train.MomentumOptimizer(learning_rate=learning_rate, momentum=momentum)\n",
        "    training_op = optimizer.minimize(loss)\n",
        "  with tf.name_scope('init'):\n",
        "    init = tf.global_variables_initializer()\n",
        "  now = datetime.utcnow().strftime('%Y%m%d%H%M%S')\n",
        "  logdir = '{}/run-{}/'.format(root_logdir, now)\n",
        "  with tf.name_scope('saver'):\n",
        "    loss_summary = tf.summary.scalar('Loss', loss)\n",
        "    file_writer = tf.summary.FileWriter(logdir, tf.get_default_graph())\n",
        "    saver = tf.train.Saver()\n",
        "  return y_proba, loss, training_op, init, loss_summary, file_writer, saver"
      ],
      "execution_count": 0,
      "outputs": []
    },
    {
      "cell_type": "code",
      "metadata": {
        "id": "ubkqFST1t1EG",
        "colab_type": "code",
        "colab": {}
      },
      "source": [
        "# Define procedure for training the data\n",
        "\n",
        "import os\n",
        "\n",
        "def fetch_batch(X_source, epoch, batch_size, batch_idx):\n",
        "  np.random.seed((epoch * batch_size) + batch_idx)\n",
        "  rand_idx = np.random.randint(X_moons_plus_bias.shape[0], size=batch_size)\n",
        "  return X_source[rand_idx], y_moons_reshaped[rand_idx]\n",
        "\n",
        "def save_model(saver, sess, model_path, epoch):\n",
        "  saver.save(sess, model_path)\n",
        "  with open('{}.epoch'.format(model_path), 'w') as f:\n",
        "    f.write(str(epoch))\n",
        "    f.close()\n",
        "\n",
        "def train_logistic_regression(X_source, initializer, n_epochs, n_batches,\n",
        "                              batch_size, training_op, X, y, model_path, saver,\n",
        "                              loss_summary, file_writer, y_proba):\n",
        "  with tf.Session() as sess:\n",
        "    if os.path.isfile(model_path):\n",
        "      saver.restore(sess, model_path)\n",
        "      with open('{}.epoch'.format(model_path)) as f:\n",
        "        start_epoch = int(f.read())\n",
        "    else:\n",
        "      sess.run(initializer)\n",
        "      start_epoch = 0\n",
        "    for epoch in range(start_epoch, n_epochs):\n",
        "      if epoch % 10 == 0:\n",
        "        save_model(saver, sess, model_path, epoch)\n",
        "      for batch_idx in range(n_batches):\n",
        "        X_batch, y_batch = fetch_batch(X_source, epoch, batch_size, batch_idx)\n",
        "        if batch_idx % 10 == 0:\n",
        "          summary_str = loss_summary.eval(feed_dict={X: X_batch, y: y_batch})\n",
        "          file_writer.add_summary(summary_str,\n",
        "                                  (epoch * batch_size) + batch_idx)\n",
        "        sess.run(training_op, feed_dict={X: X_batch, y: y_batch})\n",
        "    save_model(saver, sess, model_path, n_epochs)\n",
        "    file_writer.close()\n",
        "    return y_proba.eval(feed_dict={X: X_source, y: y_moons_reshaped})"
      ],
      "execution_count": 0,
      "outputs": []
    },
    {
      "cell_type": "code",
      "metadata": {
        "id": "zGgVBUj_28P6",
        "colab_type": "code",
        "colab": {}
      },
      "source": [
        "# Training a model and looking at the results\n",
        "\n",
        "n_features = X_moons_plus_bias.shape[1]\n",
        "\n",
        "reset_graph()\n",
        "X = tf.placeholder(tf.float32, shape=(None, n_features), name='X')\n",
        "y = tf.placeholder(tf.float32, shape=(None, 1), name='y')\n",
        "\n",
        "y_proba, loss, training_op, init, loss_summary, file_writer, saver = \\\n",
        "  logistic_regression(X, y, n_features)\n",
        "\n",
        "n_epochs = 100\n",
        "batch_size = 50\n",
        "n_batches = int(np.ceil(X_moons_plus_bias.shape[0] / batch_size))\n",
        "\n",
        "y_proba_val = \\\n",
        "  train_logistic_regression(X_moons_plus_bias, init, n_epochs, n_batches,\n",
        "                            batch_size, training_op, X, y, 'tmp/log_reg.ckpt',\n",
        "                            saver, loss_summary, file_writer, y_proba)"
      ],
      "execution_count": 0,
      "outputs": []
    },
    {
      "cell_type": "code",
      "metadata": {
        "id": "Li_l1uBNW3al",
        "colab_type": "code",
        "outputId": "8078c18f-bc61-42e9-f1b2-201262fc1b6f",
        "colab": {
          "base_uri": "https://localhost:8080/",
          "height": 68
        }
      },
      "source": [
        "# Testing the accracy, precision, and recall on the training set.\n",
        "\n",
        "from sklearn.metrics import accuracy_score, precision_score, recall_score\n",
        "\n",
        "y_pred = (y_proba_val >= 0.5).flatten()\n",
        "print('Accuracy: {}'.format(accuracy_score(y_moons, y_pred)))\n",
        "print('Precision: {}'.format(precision_score(y_moons, y_pred)))\n",
        "print('Recall: {}'.format(recall_score(y_moons, y_pred)))"
      ],
      "execution_count": 0,
      "outputs": [
        {
          "output_type": "stream",
          "text": [
            "Accuracy: 0.877\n",
            "Precision: 0.8777555110220441\n",
            "Recall: 0.876\n"
          ],
          "name": "stdout"
        }
      ]
    },
    {
      "cell_type": "code",
      "metadata": {
        "id": "Jv87ewgLYu4K",
        "colab_type": "code",
        "colab": {}
      },
      "source": [
        "# Taking a look in Tensorboard\n",
        "\n",
        "get_ipython().system_raw(\n",
        "  'tensorboard --logdir {} --host 0.0.0.0 --port 6007 &'.format(root_logdir))\n",
        "get_ipython().system_raw('./ngrok http 6007 &')"
      ],
      "execution_count": 0,
      "outputs": []
    },
    {
      "cell_type": "code",
      "metadata": {
        "id": "0T9V8KGFZYU4",
        "colab_type": "code",
        "outputId": "6edc435f-e75c-49a3-b182-5fe6e77ea13c",
        "colab": {
          "base_uri": "https://localhost:8080/",
          "height": 34
        }
      },
      "source": [
        "! curl -s http://localhost:4040/api/tunnels | python3 -c \\\n",
        "    \"import sys, json; print(json.load(sys.stdin)['tunnels'][0]['public_url'])\""
      ],
      "execution_count": 0,
      "outputs": [
        {
          "output_type": "stream",
          "text": [
            "https://a4072b01.ngrok.io\n"
          ],
          "name": "stdout"
        }
      ]
    },
    {
      "cell_type": "code",
      "metadata": {
        "id": "MUEVdELFYPb4",
        "colab_type": "code",
        "colab": {}
      },
      "source": [
        "# Trying to add polynomial features, since Logistic Regression is a linear\n",
        "# model and the moons dataset is very clearly nonlinear.\n",
        "\n",
        "from sklearn.preprocessing import PolynomialFeatures\n",
        "\n",
        "X_moons_poly = PolynomialFeatures(degree=4).fit_transform(X_moons)\n",
        "X_moons_poly_plus_bias = np.c_[np.ones((X_moons_poly.shape[0], 1)),\n",
        "                               X_moons_poly]"
      ],
      "execution_count": 0,
      "outputs": []
    },
    {
      "cell_type": "code",
      "metadata": {
        "id": "x7NqqsMgaKgw",
        "colab_type": "code",
        "colab": {}
      },
      "source": [
        "# Retraining the model with the new feature set.\n",
        "\n",
        "n_features = X_moons_poly_plus_bias.shape[1]\n",
        "\n",
        "reset_graph()\n",
        "X = tf.placeholder(tf.float32, shape=(None, n_features), name='X')\n",
        "y = tf.placeholder(tf.float32, shape=(None, 1), name='y')\n",
        "\n",
        "y_proba, loss, training_op, init, loss_summary, file_writer, saver = \\\n",
        "  logistic_regression(X, y, n_features)\n",
        "\n",
        "n_epochs = 100\n",
        "batch_size = 50\n",
        "n_batches = int(np.ceil(X_moons_poly_plus_bias.shape[0] / batch_size))\n",
        "\n",
        "y_proba_val = \\\n",
        "  train_logistic_regression(X_moons_poly_plus_bias, init, n_epochs, n_batches,\n",
        "                            batch_size, training_op, X, y, 'tmp/log_reg2.ckpt',\n",
        "                            saver, loss_summary, file_writer, y_proba)"
      ],
      "execution_count": 0,
      "outputs": []
    },
    {
      "cell_type": "code",
      "metadata": {
        "id": "oMOWCx0nbsnP",
        "colab_type": "code",
        "outputId": "34c7f9c2-b0ef-4cba-9886-7f84a7ab3b12",
        "colab": {
          "base_uri": "https://localhost:8080/",
          "height": 68
        }
      },
      "source": [
        "# Adding polynomial features improved the model greatly.\n",
        "\n",
        "y_pred = (y_proba_val >= 0.5).flatten()\n",
        "print('Accuracy: {}'.format(accuracy_score(y_moons, y_pred)))\n",
        "print('Precision: {}'.format(precision_score(y_moons, y_pred)))\n",
        "print('Recall: {}'.format(recall_score(y_moons, y_pred)))"
      ],
      "execution_count": 0,
      "outputs": [
        {
          "output_type": "stream",
          "text": [
            "Accuracy: 0.982\n",
            "Precision: 0.9781746031746031\n",
            "Recall: 0.986\n"
          ],
          "name": "stdout"
        }
      ]
    },
    {
      "cell_type": "code",
      "metadata": {
        "id": "iSM8sKmRcvr9",
        "colab_type": "code",
        "colab": {}
      },
      "source": [
        "# Experimenting with different batch sizes and learning rates.\n",
        "\n",
        "from scipy.stats import uniform, reciprocal\n",
        "\n",
        "def search_parameters(n_iterations):\n",
        "  rand_batch_sizes = [int(r) for r in uniform.rvs(40, 60, size=n_iterations)]\n",
        "  rand_learning_rates = reciprocal.rvs(0.01, 0.1, size=n_iterations)\n",
        "  for it in range(n_iterations):\n",
        "    batch_size = rand_batch_sizes[it]\n",
        "    learning_rate = rand_learning_rates[it]\n",
        "    \n",
        "    print('Iteration: {}'.format(it))\n",
        "    print('Batch Size:', batch_size)\n",
        "    print('Learning Rate:', learning_rate)\n",
        "    print('-------')\n",
        "    \n",
        "    n_features = X_moons_poly_plus_bias.shape[1]\n",
        "\n",
        "    reset_graph()\n",
        "    X = tf.placeholder(tf.float32, shape=(None, n_features), name='X')\n",
        "    y = tf.placeholder(tf.float32, shape=(None, 1), name='y')\n",
        "\n",
        "    y_proba, loss, training_op, init, loss_summary, file_writer, saver = \\\n",
        "      logistic_regression(X, y, n_features, learning_rate)\n",
        "    \n",
        "    n_epochs = 100\n",
        "    n_batches = int(np.ceil(X_moons_poly_plus_bias.shape[0] / batch_size))\n",
        "\n",
        "    y_proba_val = \\\n",
        "      train_logistic_regression(X_moons_poly_plus_bias, init, n_epochs,\n",
        "                                n_batches, batch_size, training_op, X, y,\n",
        "                                'tmp/log_reg_search_{}.ckpt'.format(it), saver,\n",
        "                                loss_summary, file_writer, y_proba)\n",
        "    \n",
        "    y_pred = (y_proba_val >= 0.5).flatten()\n",
        "    print('Accuracy: {}'.format(accuracy_score(y_moons, y_pred)))\n",
        "    print('Precision: {}'.format(precision_score(y_moons, y_pred)))\n",
        "    print('Recall: {}'.format(recall_score(y_moons, y_pred)))\n",
        "    print('======')"
      ],
      "execution_count": 0,
      "outputs": []
    },
    {
      "cell_type": "code",
      "metadata": {
        "id": "jRSMY8SkfZeY",
        "colab_type": "code",
        "outputId": "8fcd7385-8216-44fc-a400-c7b809a35b4f",
        "colab": {
          "base_uri": "https://localhost:8080/",
          "height": 1377
        }
      },
      "source": [
        "search_parameters(10)"
      ],
      "execution_count": 0,
      "outputs": [
        {
          "output_type": "stream",
          "text": [
            "Iteration: 0\n",
            "Batch Size: 61\n",
            "Learning Rate: 0.07072597620496644\n",
            "-------\n",
            "Accuracy: 0.998\n",
            "Precision: 0.9960159362549801\n",
            "Recall: 1.0\n",
            "======\n",
            "Iteration: 1\n",
            "Batch Size: 74\n",
            "Learning Rate: 0.06647624407312398\n",
            "-------\n",
            "Accuracy: 0.998\n",
            "Precision: 0.9960159362549801\n",
            "Recall: 1.0\n",
            "======\n",
            "Iteration: 2\n",
            "Batch Size: 44\n",
            "Learning Rate: 0.04493194233490411\n",
            "-------\n",
            "Accuracy: 0.998\n",
            "Precision: 0.9960159362549801\n",
            "Recall: 1.0\n",
            "======\n",
            "Iteration: 3\n",
            "Batch Size: 77\n",
            "Learning Rate: 0.028212149592946142\n",
            "-------\n",
            "Accuracy: 0.989\n",
            "Precision: 0.9860834990059643\n",
            "Recall: 0.992\n",
            "======\n",
            "Iteration: 4\n",
            "Batch Size: 70\n",
            "Learning Rate: 0.016721593511578182\n",
            "-------\n",
            "Accuracy: 0.985\n",
            "Precision: 0.9840319361277445\n",
            "Recall: 0.986\n",
            "======\n",
            "Iteration: 5\n",
            "Batch Size: 43\n",
            "Learning Rate: 0.07933213656615368\n",
            "-------\n",
            "Accuracy: 0.998\n",
            "Precision: 0.9960159362549801\n",
            "Recall: 1.0\n",
            "======\n",
            "Iteration: 6\n",
            "Batch Size: 84\n",
            "Learning Rate: 0.0331489463665092\n",
            "-------\n",
            "Accuracy: 0.99\n",
            "Precision: 0.99\n",
            "Recall: 0.99\n",
            "======\n",
            "Iteration: 7\n",
            "Batch Size: 98\n",
            "Learning Rate: 0.015446215925526047\n",
            "-------\n",
            "Accuracy: 0.978\n",
            "Precision: 0.9760956175298805\n",
            "Recall: 0.98\n",
            "======\n",
            "Iteration: 8\n",
            "Batch Size: 95\n",
            "Learning Rate: 0.09793523281245232\n",
            "-------\n",
            "Accuracy: 0.998\n",
            "Precision: 0.9960159362549801\n",
            "Recall: 1.0\n",
            "======\n",
            "Iteration: 9\n",
            "Batch Size: 44\n",
            "Learning Rate: 0.02239920197092227\n",
            "-------\n",
            "Accuracy: 0.997\n",
            "Precision: 0.9940357852882704\n",
            "Recall: 1.0\n",
            "======\n"
          ],
          "name": "stdout"
        }
      ]
    }
  ]
}