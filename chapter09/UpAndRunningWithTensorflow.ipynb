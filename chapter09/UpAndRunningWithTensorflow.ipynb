{
  "nbformat": 4,
  "nbformat_minor": 0,
  "metadata": {
    "colab": {
      "name": "UpAndRunningWithTensorflow.ipynb",
      "version": "0.3.2",
      "provenance": [],
      "collapsed_sections": []
    },
    "kernelspec": {
      "name": "python3",
      "display_name": "Python 3"
    }
  },
  "cells": [
    {
      "cell_type": "markdown",
      "metadata": {
        "id": "lzNVJ-wo7T7U",
        "colab_type": "text"
      },
      "source": [
        "# Chapter 9: Up and Running with Tensorflow\n",
        "\n",
        "## Creating Your First Graph and Running It in a Session"
      ]
    },
    {
      "cell_type": "code",
      "metadata": {
        "id": "nD1u3EUF0Xgj",
        "colab_type": "code",
        "colab": {}
      },
      "source": [
        "# A computational graph with Tensorflow. Despite the code's appearance,\n",
        "# this does not perform any computation.\n",
        "\n",
        "import tensorflow as tf\n",
        "\n",
        "x = tf.Variable(3, name='x')\n",
        "y = tf.Variable(4, name='y')\n",
        "f = (x * x * y) + y + 2"
      ],
      "execution_count": 0,
      "outputs": []
    },
    {
      "cell_type": "code",
      "metadata": {
        "id": "uW4yJGFK7-nj",
        "colab_type": "code",
        "outputId": "447473f7-6c91-43ec-e706-8b9b07252c7f",
        "colab": {
          "base_uri": "https://localhost:8080/",
          "height": 34
        }
      },
      "source": [
        "# Running the computational graph in a Tensorflow Session.\n",
        "\n",
        "sess = tf.Session()\n",
        "sess.run(x.initializer)\n",
        "sess.run(y.initializer)\n",
        "result = sess.run(f)\n",
        "print(result)\n",
        "sess.close()"
      ],
      "execution_count": 2,
      "outputs": [
        {
          "output_type": "stream",
          "text": [
            "42\n"
          ],
          "name": "stdout"
        }
      ]
    },
    {
      "cell_type": "code",
      "metadata": {
        "id": "6_tfdkb586lT",
        "colab_type": "code",
        "outputId": "5d7a9ec6-a540-4bd1-fd0a-4e6fb5d70c2f",
        "colab": {
          "base_uri": "https://localhost:8080/",
          "height": 34
        }
      },
      "source": [
        "# Another way to execute the code above. It automatically closes the Session.\n",
        "\n",
        "with tf.Session() as sess:\n",
        "  x.initializer.run() # Equivalent to tf.get_default_session().run(x.initial)\n",
        "  y.initializer.run()\n",
        "  result = f.eval()\n",
        "  print(result)"
      ],
      "execution_count": 3,
      "outputs": [
        {
          "output_type": "stream",
          "text": [
            "42\n"
          ],
          "name": "stdout"
        }
      ]
    },
    {
      "cell_type": "code",
      "metadata": {
        "id": "GRbV6a7l9_yC",
        "colab_type": "code",
        "outputId": "0d0a1812-48a8-47be-e2be-c6d923337d58",
        "colab": {
          "base_uri": "https://localhost:8080/",
          "height": 34
        }
      },
      "source": [
        "# It is possible to initialize all variables automatically.\n",
        "\n",
        "init = tf.global_variables_initializer()\n",
        "\n",
        "with tf.Session() as sess:\n",
        "  init.run()\n",
        "  result = f.eval()\n",
        "  print(result)"
      ],
      "execution_count": 4,
      "outputs": [
        {
          "output_type": "stream",
          "text": [
            "42\n"
          ],
          "name": "stdout"
        }
      ]
    },
    {
      "cell_type": "code",
      "metadata": {
        "id": "unmVd0HR_Ngu",
        "colab_type": "code",
        "outputId": "c046e98a-6b63-4c93-a6ed-4600ba81acca",
        "colab": {
          "base_uri": "https://localhost:8080/",
          "height": 34
        }
      },
      "source": [
        "# InteractiveSession is useful for Jupyter notebooks because it sets itself\n",
        "# as the default session automatically.\n",
        "\n",
        "sess = tf.InteractiveSession()\n",
        "init.run()\n",
        "result = f.eval()\n",
        "print(result)\n",
        "sess.close()"
      ],
      "execution_count": 5,
      "outputs": [
        {
          "output_type": "stream",
          "text": [
            "42\n"
          ],
          "name": "stdout"
        }
      ]
    },
    {
      "cell_type": "markdown",
      "metadata": {
        "id": "khaAWN84H_d5",
        "colab_type": "text"
      },
      "source": [
        "## Managing Graphs"
      ]
    },
    {
      "cell_type": "code",
      "metadata": {
        "id": "saK6KqPQIA0X",
        "colab_type": "code",
        "outputId": "9dc8556c-6bbc-4be7-a040-e939ddf1b9b6",
        "colab": {
          "base_uri": "https://localhost:8080/",
          "height": 34
        }
      },
      "source": [
        "# New Variables are always added to the default graph automatically.\n",
        "\n",
        "x1 = tf.Variable(1)\n",
        "x1.graph is tf.get_default_graph()"
      ],
      "execution_count": 6,
      "outputs": [
        {
          "output_type": "execute_result",
          "data": {
            "text/plain": [
              "True"
            ]
          },
          "metadata": {
            "tags": []
          },
          "execution_count": 6
        }
      ]
    },
    {
      "cell_type": "code",
      "metadata": {
        "id": "49iBtMnFIbTV",
        "colab_type": "code",
        "outputId": "192798be-e61c-4182-b0a7-295dc6f236a9",
        "colab": {
          "base_uri": "https://localhost:8080/",
          "height": 34
        }
      },
      "source": [
        "# Below is the syntax for adding a variable to a graph that is not\n",
        "# the default graph.\n",
        "\n",
        "graph = tf.Graph()\n",
        "with graph.as_default():\n",
        "  x2 = tf.Variable(2)\n",
        "x2.graph is graph"
      ],
      "execution_count": 7,
      "outputs": [
        {
          "output_type": "execute_result",
          "data": {
            "text/plain": [
              "True"
            ]
          },
          "metadata": {
            "tags": []
          },
          "execution_count": 7
        }
      ]
    },
    {
      "cell_type": "code",
      "metadata": {
        "id": "cq12H7zJIqM8",
        "colab_type": "code",
        "outputId": "432fdb11-7951-4330-ffa1-23dfb025a640",
        "colab": {
          "base_uri": "https://localhost:8080/",
          "height": 34
        }
      },
      "source": [
        "x2.graph is tf.get_default_graph()"
      ],
      "execution_count": 8,
      "outputs": [
        {
          "output_type": "execute_result",
          "data": {
            "text/plain": [
              "False"
            ]
          },
          "metadata": {
            "tags": []
          },
          "execution_count": 8
        }
      ]
    },
    {
      "cell_type": "markdown",
      "metadata": {
        "id": "928KvF6FI1Wj",
        "colab_type": "text"
      },
      "source": [
        "## Lifecycle of a Node Value"
      ]
    },
    {
      "cell_type": "code",
      "metadata": {
        "id": "08C7UiPtJDXi",
        "colab_type": "code",
        "outputId": "c3791991-71d1-42ed-cb70-436ddefdd763",
        "colab": {
          "base_uri": "https://localhost:8080/",
          "height": 51
        }
      },
      "source": [
        "# Tensorflow automatically detects the dependency chain between nodes of\n",
        "# the computation graph.\n",
        "\n",
        "w = tf.constant(3)\n",
        "x = w + 2\n",
        "y = x + 5\n",
        "z = x * 3\n",
        "\n",
        "with tf.Session() as sess:\n",
        "  # detects that y dependes on x, which depends on w. So it evaluates\n",
        "  # w, then x, then y.\n",
        "  print(y.eval())\n",
        "  print(z.eval())"
      ],
      "execution_count": 9,
      "outputs": [
        {
          "output_type": "stream",
          "text": [
            "10\n",
            "15\n"
          ],
          "name": "stdout"
        }
      ]
    },
    {
      "cell_type": "markdown",
      "metadata": {
        "id": "cm28n4klJ1qx",
        "colab_type": "text"
      },
      "source": [
        "## Linear Regression with Tensorflow\n",
        "\n",
        "Tensorflow operates with multidimensional arrays called <i>tensors</i>. The Python API uses NumPy's `ndarray` class to represent tensors. The previous examples used a single scalar value for a tensor. Below is an example of a Tensorflow graph which operates on a 2D array performing linear regression. Recall that the optimal parameters for Linear Regression, $\\hat{\\theta}$ is given by\n",
        "\n",
        "$$ \\hat{\\theta} = \\left( \\mathbf{X}^T \\cdot \\mathbf{X} \\right)^{-1} \\cdot \\mathbf{X}^T \\cdot \\mathbf{y} $$\n",
        "\n",
        "where $\\mathbf{X}$, $\\mathbf{y}$ is the training set."
      ]
    },
    {
      "cell_type": "code",
      "metadata": {
        "id": "gMiutHPJMRJO",
        "colab_type": "code",
        "outputId": "3b64a0fe-f034-4ff6-cb96-d9d192fb7e94",
        "colab": {
          "base_uri": "https://localhost:8080/",
          "height": 170
        }
      },
      "source": [
        "import numpy as np\n",
        "from sklearn.datasets import fetch_california_housing\n",
        "\n",
        "housing = fetch_california_housing()\n",
        "m, n = housing.data.shape\n",
        "housing_data_plus_bias = np.c_[np.ones((m, 1)), housing.data]\n",
        "\n",
        "X = tf.constant(housing_data_plus_bias, dtype=tf.float32, name='X')\n",
        "y = tf.constant(housing.target.reshape(-1, 1), dtype=tf.float32, name='y')\n",
        "XT = tf.transpose(X)\n",
        "theta = tf.matmul(tf.matmul(tf.matrix_inverse(tf.matmul(XT, X)), XT), y)\n",
        "\n",
        "with tf.Session() as sess:\n",
        "  theta_value = theta.eval()\n",
        "  print(theta_value)"
      ],
      "execution_count": 10,
      "outputs": [
        {
          "output_type": "stream",
          "text": [
            "[[-3.71037292e+01]\n",
            " [ 4.36282694e-01]\n",
            " [ 9.40542948e-03]\n",
            " [-1.06901854e-01]\n",
            " [ 6.43611908e-01]\n",
            " [-4.06625077e-06]\n",
            " [-3.78273334e-03]\n",
            " [-4.23094332e-01]\n",
            " [-4.36462164e-01]]\n"
          ],
          "name": "stdout"
        }
      ]
    },
    {
      "cell_type": "markdown",
      "metadata": {
        "id": "yksJvFBrOudI",
        "colab_type": "text"
      },
      "source": [
        "## Implementing Gradient Descent\n",
        "\n",
        "### Manually Computing the Gradients\n",
        "\n",
        "Below is an implementation of Batch Gradient Descent where we manually compute the gradients."
      ]
    },
    {
      "cell_type": "code",
      "metadata": {
        "id": "CJFyn0sbPDw_",
        "colab_type": "code",
        "outputId": "9c9a6ddd-8087-48a4-9598-26f0f0b19d2d",
        "colab": {
          "base_uri": "https://localhost:8080/",
          "height": 340
        }
      },
      "source": [
        "from sklearn.preprocessing import StandardScaler\n",
        "\n",
        "def reset_graph(seed=42):\n",
        "  tf.reset_default_graph()\n",
        "  tf.set_random_seed(seed)\n",
        "  np.random.seed(seed)\n",
        "\n",
        "n_epochs = 1000\n",
        "learning_rate = 0.01\n",
        "\n",
        "scaled_housing_data = StandardScaler().fit_transform(housing.data)\n",
        "scaled_housing_data_plus_bias = np.c_[np.ones((m, 1)), scaled_housing_data]\n",
        "\n",
        "X = tf.constant(scaled_housing_data_plus_bias, dtype=tf.float32, name='X')\n",
        "y = tf.constant(housing.target.reshape(-1, 1), dtype=tf.float32, name='y')\n",
        "theta = tf.Variable(tf.random_uniform([n+1, 1], -1., 1.), name='theta')\n",
        "y_pred = tf.matmul(X, theta, name='predictions')\n",
        "error = y_pred - y\n",
        "mse = tf.reduce_mean(tf.square(error), name='mse')\n",
        "gradients = (2 / m) * tf.matmul(tf.transpose(X), error)\n",
        "training_op = tf.assign(theta, theta - (learning_rate * gradients))\n",
        "\n",
        "init = tf.global_variables_initializer()\n",
        "\n",
        "with tf.Session() as sess:\n",
        "  sess.run(init)\n",
        "  for epoch in range(n_epochs):\n",
        "    if epoch % 100 == 0:\n",
        "      print('Epoch: {} MSE: {}'.format(epoch, mse.eval()))\n",
        "    sess.run(training_op)\n",
        "\n",
        "  best_theta = theta.eval()\n",
        "  print(best_theta)"
      ],
      "execution_count": 12,
      "outputs": [
        {
          "output_type": "stream",
          "text": [
            "Epoch: 0 MSE: 11.590211868286133\n",
            "Epoch: 100 MSE: 0.8676803112030029\n",
            "Epoch: 200 MSE: 0.6426043510437012\n",
            "Epoch: 300 MSE: 0.6107862591743469\n",
            "Epoch: 400 MSE: 0.589863657951355\n",
            "Epoch: 500 MSE: 0.5743044018745422\n",
            "Epoch: 600 MSE: 0.56263267993927\n",
            "Epoch: 700 MSE: 0.5538372993469238\n",
            "Epoch: 800 MSE: 0.5471794009208679\n",
            "Epoch: 900 MSE: 0.5421155095100403\n",
            "[[ 2.0685523 ]\n",
            " [ 0.8865615 ]\n",
            " [ 0.15930279]\n",
            " [-0.31723398]\n",
            " [ 0.32388073]\n",
            " [ 0.00951019]\n",
            " [-0.04397081]\n",
            " [-0.55081326]\n",
            " [-0.5253929 ]]\n"
          ],
          "name": "stdout"
        }
      ]
    },
    {
      "cell_type": "markdown",
      "metadata": {
        "id": "vDDqd0vDVEQy",
        "colab_type": "text"
      },
      "source": [
        "### Using autodiff\n",
        "\n",
        "Below is an implementation of the same Batch Gradient Descent which uses Tensorflow's `gradients()` function to automatically compute the gradient of the cost function, MSE. This is useful when the function you are computing the gradient of is not a nice, analytic function like Linear Regression."
      ]
    },
    {
      "cell_type": "code",
      "metadata": {
        "id": "9xgtl7ksWpDB",
        "colab_type": "code",
        "outputId": "46e6c729-1179-488b-dfba-15007d09f569",
        "colab": {
          "base_uri": "https://localhost:8080/",
          "height": 340
        }
      },
      "source": [
        "reset_graph()\n",
        "X = tf.constant(scaled_housing_data_plus_bias, dtype=tf.float32, name='X')\n",
        "y = tf.constant(housing.target.reshape(-1, 1), dtype=tf.float32, name='y')\n",
        "theta = tf.Variable(tf.random_uniform([n+1, 1], -1., 1.), name='theta')\n",
        "y_pred = tf.matmul(X, theta, name='predictions')\n",
        "error = y_pred - y\n",
        "mse = tf.reduce_mean(tf.square(error), name='mse')\n",
        "gradients = tf.gradients(mse, [theta])[0]\n",
        "training_op = tf.assign(theta, theta - (learning_rate * gradients))\n",
        "\n",
        "init = tf.global_variables_initializer()\n",
        "\n",
        "with tf.Session() as sess:\n",
        "  sess.run(init)\n",
        "  for epoch in range(n_epochs):\n",
        "    if epoch % 100 == 0:\n",
        "      print('Epoch: {} MSE: {}'.format(epoch, mse.eval()))\n",
        "    sess.run(training_op)\n",
        "\n",
        "  best_theta = theta.eval()\n",
        "  print(best_theta)"
      ],
      "execution_count": 13,
      "outputs": [
        {
          "output_type": "stream",
          "text": [
            "Epoch: 0 MSE: 12.408014297485352\n",
            "Epoch: 100 MSE: 0.7551968693733215\n",
            "Epoch: 200 MSE: 0.5420873761177063\n",
            "Epoch: 300 MSE: 0.5331699848175049\n",
            "Epoch: 400 MSE: 0.5305381417274475\n",
            "Epoch: 500 MSE: 0.5287963151931763\n",
            "Epoch: 600 MSE: 0.5275490283966064\n",
            "Epoch: 700 MSE: 0.5266497135162354\n",
            "Epoch: 800 MSE: 0.5260010957717896\n",
            "Epoch: 900 MSE: 0.5255332589149475\n",
            "[[ 2.0685525e+00]\n",
            " [ 8.1063598e-01]\n",
            " [ 1.2685776e-01]\n",
            " [-2.0784079e-01]\n",
            " [ 2.4839844e-01]\n",
            " [-1.3083885e-03]\n",
            " [-3.9607048e-02]\n",
            " [-8.5861272e-01]\n",
            " [-8.2600278e-01]]\n"
          ],
          "name": "stdout"
        }
      ]
    },
    {
      "cell_type": "markdown",
      "metadata": {
        "id": "brWx_N6NXPYy",
        "colab_type": "text"
      },
      "source": [
        "Tensorflow computes the gradients using <i>reverse-mode autodiff</i>, which is good for when there are a large number of inputs and a small number of outputs, which is generally the case for neural networks.\n",
        "\n",
        "### Using an Optimizer\n",
        "\n",
        "Below is an example of using an out-of-the-box Gradient Descent optimizer for the same Linear Regression task."
      ]
    },
    {
      "cell_type": "code",
      "metadata": {
        "id": "cTTvAhTnX83n",
        "colab_type": "code",
        "outputId": "a4f36941-3bec-4d79-cc04-a8925ab69aeb",
        "colab": {
          "base_uri": "https://localhost:8080/",
          "height": 340
        }
      },
      "source": [
        "reset_graph()\n",
        "X = tf.constant(scaled_housing_data_plus_bias, dtype=tf.float32, name='X')\n",
        "y = tf.constant(housing.target.reshape(-1, 1), dtype=tf.float32, name='y')\n",
        "theta = tf.Variable(tf.random_uniform([n+1, 1], -1., 1.), name='theta')\n",
        "y_pred = tf.matmul(X, theta, name='predictions')\n",
        "error = y_pred - y\n",
        "mse = tf.reduce_mean(tf.square(error), name='mse')\n",
        "optimizer = tf.train.GradientDescentOptimizer(learning_rate=learning_rate)\n",
        "training_op = optimizer.minimize(mse)\n",
        "\n",
        "init = tf.global_variables_initializer()\n",
        "\n",
        "with tf.Session() as sess:\n",
        "  sess.run(init)\n",
        "  for epoch in range(n_epochs):\n",
        "    if epoch % 100 == 0:\n",
        "      print('Epoch: {} MSE: {}'.format(epoch, mse.eval()))\n",
        "    sess.run(training_op)\n",
        "\n",
        "  best_theta = theta.eval()\n",
        "  print(best_theta)"
      ],
      "execution_count": 14,
      "outputs": [
        {
          "output_type": "stream",
          "text": [
            "Epoch: 0 MSE: 12.408014297485352\n",
            "Epoch: 100 MSE: 0.7551969289779663\n",
            "Epoch: 200 MSE: 0.5420873761177063\n",
            "Epoch: 300 MSE: 0.5331699848175049\n",
            "Epoch: 400 MSE: 0.5305381417274475\n",
            "Epoch: 500 MSE: 0.528796374797821\n",
            "Epoch: 600 MSE: 0.5275490283966064\n",
            "Epoch: 700 MSE: 0.5266497135162354\n",
            "Epoch: 800 MSE: 0.5260010957717896\n",
            "Epoch: 900 MSE: 0.5255332589149475\n",
            "[[ 2.0685525e+00]\n",
            " [ 8.1063598e-01]\n",
            " [ 1.2685776e-01]\n",
            " [-2.0784082e-01]\n",
            " [ 2.4839845e-01]\n",
            " [-1.3083923e-03]\n",
            " [-3.9607048e-02]\n",
            " [-8.5861272e-01]\n",
            " [-8.2600278e-01]]\n"
          ],
          "name": "stdout"
        }
      ]
    },
    {
      "cell_type": "markdown",
      "metadata": {
        "id": "F63XUjQNYMib",
        "colab_type": "text"
      },
      "source": [
        "You can also use the `tf.train.MomentumOptimizer` which converges much faster than the Gradient Descent optimizer. It takes an extra hyperparameter, `momentum`. An example implementation using this optimizer is below."
      ]
    },
    {
      "cell_type": "code",
      "metadata": {
        "id": "OnEVwOLoCQnf",
        "colab_type": "code",
        "outputId": "90247a5f-43ed-487c-ec97-59c4ed96f609",
        "colab": {
          "base_uri": "https://localhost:8080/",
          "height": 340
        }
      },
      "source": [
        "reset_graph()\n",
        "X = tf.constant(scaled_housing_data_plus_bias, dtype=tf.float32, name='X')\n",
        "y = tf.constant(housing.target.reshape(-1, 1), dtype=tf.float32, name='y')\n",
        "theta = tf.Variable(tf.random_uniform([n+1, 1], -1., 1.), name='theta')\n",
        "y_pred = tf.matmul(X, theta, name='predictions')\n",
        "error = y_pred - y\n",
        "mse = tf.reduce_mean(tf.square(error), name='mse')\n",
        "optimizer = \\\n",
        "  tf.train.MomentumOptimizer(learning_rate=learning_rate, momentum=0.9)\n",
        "training_op = optimizer.minimize(mse)\n",
        "\n",
        "init = tf.global_variables_initializer()\n",
        "\n",
        "with tf.Session() as sess:\n",
        "  sess.run(init)\n",
        "  for epoch in range(n_epochs):\n",
        "    if epoch % 100 == 0:\n",
        "      print('Epoch: {} MSE: {}'.format(epoch, mse.eval()))\n",
        "    sess.run(training_op)\n",
        "\n",
        "  best_theta = theta.eval()\n",
        "  print(best_theta)"
      ],
      "execution_count": 15,
      "outputs": [
        {
          "output_type": "stream",
          "text": [
            "Epoch: 0 MSE: 12.408014297485352\n",
            "Epoch: 100 MSE: 0.5252007246017456\n",
            "Epoch: 200 MSE: 0.5243331789970398\n",
            "Epoch: 300 MSE: 0.5243212580680847\n",
            "Epoch: 400 MSE: 0.5243210196495056\n",
            "Epoch: 500 MSE: 0.5243210196495056\n",
            "Epoch: 600 MSE: 0.5243210196495056\n",
            "Epoch: 700 MSE: 0.5243210196495056\n",
            "Epoch: 800 MSE: 0.5243210196495056\n",
            "Epoch: 900 MSE: 0.5243210196495056\n",
            "[[ 2.068558  ]\n",
            " [ 0.8296182 ]\n",
            " [ 0.11875145]\n",
            " [-0.265525  ]\n",
            " [ 0.3056947 ]\n",
            " [-0.00450307]\n",
            " [-0.03932622]\n",
            " [-0.8998881 ]\n",
            " [-0.87054336]]\n"
          ],
          "name": "stdout"
        }
      ]
    },
    {
      "cell_type": "markdown",
      "metadata": {
        "id": "2cGMovbSCR-N",
        "colab_type": "text"
      },
      "source": [
        "## Feeding Data to the Training Algorithm"
      ]
    },
    {
      "cell_type": "code",
      "metadata": {
        "id": "nAsAiGVfAd9d",
        "colab_type": "code",
        "outputId": "a771bda6-342c-4d11-fa8f-624a05b5c4b0",
        "colab": {
          "base_uri": "https://localhost:8080/",
          "height": 68
        }
      },
      "source": [
        "# An example of a placeholder node. Using None for a dimension means it can be\n",
        "# any size.\n",
        "\n",
        "reset_graph()\n",
        "\n",
        "A = tf.placeholder(tf.float32, shape=(None, 3))\n",
        "B = A + 5\n",
        "with tf.Session() as sess:\n",
        "  # Calling eval with the feed_dict parameter to provide a value for the\n",
        "  # placeholder node, A.\n",
        "  B_val_1 = B.eval(feed_dict={A: [[1, 2, 3]]})\n",
        "  B_val_2 = B.eval(feed_dict={A: [[4, 5, 6], [7, 8, 9]]})\n",
        "  print(B_val_1)\n",
        "  print(B_val_2)"
      ],
      "execution_count": 16,
      "outputs": [
        {
          "output_type": "stream",
          "text": [
            "[[6. 7. 8.]]\n",
            "[[ 9. 10. 11.]\n",
            " [12. 13. 14.]]\n"
          ],
          "name": "stdout"
        }
      ]
    },
    {
      "cell_type": "markdown",
      "metadata": {
        "id": "RvM_6eIrDZN4",
        "colab_type": "text"
      },
      "source": [
        "### Mini-Batch Gradient Descent"
      ]
    },
    {
      "cell_type": "code",
      "metadata": {
        "id": "5lKEf7KGDbHO",
        "colab_type": "code",
        "outputId": "2be3b879-938c-4018-94c3-fc18c2b57ad1",
        "colab": {
          "base_uri": "https://localhost:8080/",
          "height": 170
        }
      },
      "source": [
        "n_epochs = 100\n",
        "learning_rate = 0.01\n",
        "\n",
        "# Setting up computation graph.\n",
        "reset_graph()\n",
        "X = tf.placeholder(tf.float32, shape=(None, n + 1), name='X')\n",
        "y = tf.placeholder(tf.float32, shape=(None, 1), name='y')\n",
        "theta = tf.Variable(tf.random_uniform([n+1, 1], -1., 1.), name='theta')\n",
        "y_pred = tf.matmul(X, theta, name='predictions')\n",
        "error = y_pred - y\n",
        "mse = tf.reduce_mean(tf.square(error), name='mse')\n",
        "optimizer = \\\n",
        "  tf.train.MomentumOptimizer(learning_rate=learning_rate, momentum=0.9)\n",
        "training_op = optimizer.minimize(mse)\n",
        "init = tf.global_variables_initializer()\n",
        "\n",
        "# Mini-batch Gradient Descent.\n",
        "batch_size = 1000\n",
        "n_batches = int(np.ceil(m / batch_size))\n",
        "\n",
        "def fetch_batch(epoch, batch_idx, batch_size):\n",
        "  np.random.seed((epoch * batch_size) + batch_idx)\n",
        "  indices = np.random.randint(m, size=batch_size)\n",
        "  X_batch = scaled_housing_data_plus_bias[indices]\n",
        "  y_batch = housing.target.reshape(-1, 1)[indices]\n",
        "  return X_batch, y_batch\n",
        "\n",
        "with tf.Session() as sess:\n",
        "  sess.run(init)\n",
        "  for epoch in range(n_epochs):\n",
        "    for batch_idx in range(n_batches):\n",
        "      X_batch, y_batch = fetch_batch(epoch, batch_idx, batch_size)\n",
        "      sess.run(training_op, feed_dict={X: X_batch, y: y_batch})\n",
        "  best_theta = theta.eval()\n",
        "  print(best_theta)"
      ],
      "execution_count": 32,
      "outputs": [
        {
          "output_type": "stream",
          "text": [
            "[[ 2.0561285 ]\n",
            " [ 0.8382819 ]\n",
            " [ 0.11016789]\n",
            " [-0.25945365]\n",
            " [ 0.35881576]\n",
            " [-0.00353022]\n",
            " [-0.04197577]\n",
            " [-0.8903134 ]\n",
            " [-0.87608033]]\n"
          ],
          "name": "stdout"
        }
      ]
    },
    {
      "cell_type": "markdown",
      "metadata": {
        "id": "EqyxbuVCdRVb",
        "colab_type": "text"
      },
      "source": [
        "## Saving and Restoring Models\n",
        "\n",
        "You can save your model parameters to disk to reuse later and you can even save your model during intervals while training in case your machine fails. Below is an example of code which does this using Tensorflow's `Saver` class."
      ]
    },
    {
      "cell_type": "code",
      "metadata": {
        "id": "8ZX4QL3Cf5QU",
        "colab_type": "code",
        "outputId": "b729ea58-1f02-4491-d80a-1395f7f9edba",
        "colab": {
          "base_uri": "https://localhost:8080/",
          "height": 170
        }
      },
      "source": [
        "# This code trains a Linear Regression and saves the model after every\n",
        "# 100 epochs of training.\n",
        "\n",
        "n_epochs = 1000\n",
        "\n",
        "reset_graph()\n",
        "X = tf.constant(scaled_housing_data_plus_bias, dtype=tf.float32, name='X')\n",
        "y = tf.constant(housing.target.reshape(-1, 1), dtype=tf.float32, name='y')\n",
        "theta = tf.Variable(tf.random_uniform([n+1, 1], -1., 1.), name='theta')\n",
        "y_pred = tf.matmul(X, theta, name='predictions')\n",
        "error = y_pred - y\n",
        "mse = tf.reduce_mean(tf.square(error), name='mse')\n",
        "optimizer = \\\n",
        "  tf.train.MomentumOptimizer(learning_rate=learning_rate, momentum=0.9)\n",
        "training_op = optimizer.minimize(mse)\n",
        "init = tf.global_variables_initializer()\n",
        "saver = tf.train.Saver()\n",
        "\n",
        "with tf.Session() as sess:\n",
        "  sess.run(init)\n",
        "  for epoch in range(n_epochs):\n",
        "    if epoch % 100 == 0:\n",
        "      save_path = saver.save(sess, '/tmp/my_model.ckpt')\n",
        "    sess.run(training_op)\n",
        "  best_theta = theta.eval()\n",
        "  print(best_theta)"
      ],
      "execution_count": 33,
      "outputs": [
        {
          "output_type": "stream",
          "text": [
            "[[ 2.068558  ]\n",
            " [ 0.8296182 ]\n",
            " [ 0.11875145]\n",
            " [-0.265525  ]\n",
            " [ 0.3056947 ]\n",
            " [-0.00450307]\n",
            " [-0.03932622]\n",
            " [-0.8998881 ]\n",
            " [-0.87054336]]\n"
          ],
          "name": "stdout"
        }
      ]
    },
    {
      "cell_type": "code",
      "metadata": {
        "id": "P91cF8-QguLP",
        "colab_type": "code",
        "outputId": "a8e5f4dd-2199-4b73-98cf-efbe4e6ce341",
        "colab": {
          "base_uri": "https://localhost:8080/",
          "height": 187
        }
      },
      "source": [
        "# This code restores the model and remembers optimal weight vector.\n",
        "\n",
        "with tf.Session() as sess:\n",
        "  saver.restore(sess, '/tmp/my_model.ckpt')\n",
        "  best_theta = theta.eval()\n",
        "  print(best_theta)"
      ],
      "execution_count": 34,
      "outputs": [
        {
          "output_type": "stream",
          "text": [
            "INFO:tensorflow:Restoring parameters from /tmp/my_model.ckpt\n",
            "[[ 2.068558  ]\n",
            " [ 0.8296182 ]\n",
            " [ 0.11875145]\n",
            " [-0.265525  ]\n",
            " [ 0.3056947 ]\n",
            " [-0.00450307]\n",
            " [-0.03932622]\n",
            " [-0.8998881 ]\n",
            " [-0.87054336]]\n"
          ],
          "name": "stdout"
        }
      ]
    },
    {
      "cell_type": "code",
      "metadata": {
        "id": "CRfkz4EhhvAv",
        "colab_type": "code",
        "colab": {}
      },
      "source": [
        "# This code creates a Saver instance which will only save the parameters for\n",
        "# one variable under a new name.\n",
        "\n",
        "saver = tf.train.Saver({'weights': theta})"
      ],
      "execution_count": 0,
      "outputs": []
    },
    {
      "cell_type": "code",
      "metadata": {
        "id": "t-Qz1aRYiMuR",
        "colab_type": "code",
        "outputId": "ecd92e89-64e5-4fc3-be47-4e43bd3de511",
        "colab": {
          "base_uri": "https://localhost:8080/",
          "height": 187
        }
      },
      "source": [
        "# You can save and restore the computation graph as well.\n",
        "\n",
        "reset_graph()\n",
        "\n",
        "saver = tf.train.import_meta_graph('/tmp/my_model.ckpt.meta')\n",
        "theta = tf.get_default_graph().get_tensor_by_name('theta:0')\n",
        "\n",
        "with tf.Session() as sess:\n",
        "  saver.restore(sess, '/tmp/my_model.ckpt')\n",
        "  best_theta = theta.eval(session=sess)\n",
        "  print(best_theta)"
      ],
      "execution_count": 36,
      "outputs": [
        {
          "output_type": "stream",
          "text": [
            "INFO:tensorflow:Restoring parameters from /tmp/my_model.ckpt\n",
            "[[ 2.068558  ]\n",
            " [ 0.8296182 ]\n",
            " [ 0.11875145]\n",
            " [-0.265525  ]\n",
            " [ 0.3056947 ]\n",
            " [-0.00450307]\n",
            " [-0.03932622]\n",
            " [-0.8998881 ]\n",
            " [-0.87054336]]\n"
          ],
          "name": "stdout"
        }
      ]
    },
    {
      "cell_type": "markdown",
      "metadata": {
        "id": "ZaQTQYbnkNEf",
        "colab_type": "text"
      },
      "source": [
        "## Visualizing the Graph and Training Curves Using Tensorboard"
      ]
    },
    {
      "cell_type": "code",
      "metadata": {
        "id": "H0CfJK6BkYqg",
        "colab_type": "code",
        "colab": {}
      },
      "source": [
        "# This code creates a log directory for Tensorflow to output the graph definition\n",
        "# and stats during training, such as the value of the MSE.\n",
        "\n",
        "from datetime import datetime\n",
        "\n",
        "now = datetime.utcnow().strftime('%Y%m%d%H%M%S')\n",
        "root_logdir = 'tf_logs'\n",
        "logdir = '{}/run-{}/'.format(root_logdir, now)"
      ],
      "execution_count": 0,
      "outputs": []
    },
    {
      "cell_type": "code",
      "metadata": {
        "id": "VLVV7DgvlGlB",
        "colab_type": "code",
        "colab": {}
      },
      "source": [
        "# Defining the graph for Mini-batch Gradient Descent.\n",
        "\n",
        "n_epochs = 100\n",
        "\n",
        "reset_graph()\n",
        "X = tf.placeholder(tf.float32, shape=(None, n + 1), name='X')\n",
        "y = tf.placeholder(tf.float32, shape=(None, 1), name='y')\n",
        "theta = tf.Variable(tf.random_uniform([n+1, 1], -1., 1.), name='theta')\n",
        "y_pred = tf.matmul(X, theta, name='predictions')\n",
        "error = y_pred - y\n",
        "mse = tf.reduce_mean(tf.square(error), name='mse')\n",
        "optimizer = \\\n",
        "  tf.train.MomentumOptimizer(learning_rate=learning_rate, momentum=0.9)\n",
        "training_op = optimizer.minimize(mse)\n",
        "init = tf.global_variables_initializer()\n",
        "\n",
        "# Mini-batch Gradient Descent.\n",
        "batch_size = 1000\n",
        "n_batches = int(np.ceil(m / batch_size))"
      ],
      "execution_count": 0,
      "outputs": []
    },
    {
      "cell_type": "code",
      "metadata": {
        "id": "-cXRBjxvljYV",
        "colab_type": "code",
        "colab": {}
      },
      "source": [
        "# Adds a node to log the MSE.\n",
        "mse_summary = tf.summary.scalar('MSE', mse)\n",
        "\n",
        "# Writes the graph definition to a file.\n",
        "file_writer = tf.summary.FileWriter(logdir, tf.get_default_graph())"
      ],
      "execution_count": 0,
      "outputs": []
    },
    {
      "cell_type": "code",
      "metadata": {
        "id": "QTqBQFVjmhAb",
        "colab_type": "code",
        "colab": {}
      },
      "source": [
        "# Running the training job and outputting the summary results to log files.\n",
        "\n",
        "with tf.Session() as sess:\n",
        "  sess.run(init)\n",
        "  for epoch in range(n_epochs):\n",
        "    for batch_idx in range(n_batches):\n",
        "      X_batch, y_batch = fetch_batch(epoch, batch_idx, batch_size)\n",
        "      if batch_idx % 10 == 0:\n",
        "        summary_str = mse_summary.eval(feed_dict={X: X_batch, y: y_batch})\n",
        "        step = (epoch * n_batches) + batch_idx\n",
        "        file_writer.add_summary(summary_str, step)\n",
        "      sess.run(training_op, feed_dict={X: X_batch, y: y_batch})"
      ],
      "execution_count": 0,
      "outputs": []
    },
    {
      "cell_type": "code",
      "metadata": {
        "id": "e2Nx-o5dnVTF",
        "colab_type": "code",
        "colab": {}
      },
      "source": [
        "file_writer.close()"
      ],
      "execution_count": 0,
      "outputs": []
    },
    {
      "cell_type": "markdown",
      "metadata": {
        "id": "r_nlCY_JncXo",
        "colab_type": "text"
      },
      "source": [
        "The following code allows you to run Tensorboard from Google colab using the tutorial found [here]()."
      ]
    },
    {
      "cell_type": "code",
      "metadata": {
        "id": "f0OITw_CnaQG",
        "colab_type": "code",
        "colab": {}
      },
      "source": [
        "!wget https://bin.equinox.io/c/4VmDzA7iaHb/ngrok-stable-linux-amd64.zip\n",
        "!unzip ngrok-stable-linux-amd64.zip"
      ],
      "execution_count": 0,
      "outputs": []
    },
    {
      "cell_type": "code",
      "metadata": {
        "id": "FzowUknXnxt9",
        "colab_type": "code",
        "colab": {}
      },
      "source": [
        "get_ipython().system_raw(\n",
        "  'tensorboard --logdir {} --host 0.0.0.0 --port 6006 &'.format(root_logdir))"
      ],
      "execution_count": 0,
      "outputs": []
    },
    {
      "cell_type": "code",
      "metadata": {
        "id": "PX9YqTJen9sS",
        "colab_type": "code",
        "colab": {}
      },
      "source": [
        "get_ipython().system_raw('./ngrok http 6006 &')"
      ],
      "execution_count": 0,
      "outputs": []
    },
    {
      "cell_type": "code",
      "metadata": {
        "id": "jgk3S2l7oCPg",
        "colab_type": "code",
        "colab": {
          "base_uri": "https://localhost:8080/",
          "height": 34
        },
        "outputId": "3400a811-5cbf-470b-a233-0ee33c8d2e8d"
      },
      "source": [
        "! curl -s http://localhost:4040/api/tunnels | python3 -c \\\n",
        "    \"import sys, json; print(json.load(sys.stdin)['tunnels'][0]['public_url'])\""
      ],
      "execution_count": 54,
      "outputs": [
        {
          "output_type": "stream",
          "text": [
            "https://c28cbaa4.ngrok.io\n"
          ],
          "name": "stdout"
        }
      ]
    },
    {
      "cell_type": "markdown",
      "metadata": {
        "id": "RRv-vzIYXWoE",
        "colab_type": "text"
      },
      "source": [
        "## Name Scopes\n",
        "\n",
        "It is possible to scope the names of graph nodes, which is useful for more complex graphs."
      ]
    },
    {
      "cell_type": "code",
      "metadata": {
        "id": "773u1yrsX8Ig",
        "colab_type": "code",
        "colab": {}
      },
      "source": [
        "# Running the same graph above where the error and MSE nodes are\n",
        "# in a Tensorflow name scope.\n",
        "\n",
        "reset_graph()\n",
        "X = tf.placeholder(tf.float32, shape=(None, n + 1), name='X')\n",
        "y = tf.placeholder(tf.float32, shape=(None, 1), name='y')\n",
        "theta = tf.Variable(tf.random_uniform([n+1, 1], -1., 1.), name='theta')\n",
        "y_pred = tf.matmul(X, theta, name='predictions')\n",
        "with tf.name_scope('loss') as scope:\n",
        "  error = y_pred - y\n",
        "  mse = tf.reduce_mean(tf.square(error), name='mse')\n",
        "optimizer = \\\n",
        "  tf.train.MomentumOptimizer(learning_rate=learning_rate, momentum=0.9)\n",
        "training_op = optimizer.minimize(mse)\n",
        "init = tf.global_variables_initializer()"
      ],
      "execution_count": 0,
      "outputs": []
    },
    {
      "cell_type": "code",
      "metadata": {
        "id": "Vp-RVoiadmT9",
        "colab_type": "code",
        "colab": {
          "base_uri": "https://localhost:8080/",
          "height": 51
        },
        "outputId": "d15ca2d2-b7a9-4056-b190-58f1bed99266"
      },
      "source": [
        "print(error.op.name)\n",
        "print(mse.op.name)"
      ],
      "execution_count": 65,
      "outputs": [
        {
          "output_type": "stream",
          "text": [
            "loss/sub\n",
            "loss/mse\n"
          ],
          "name": "stdout"
        }
      ]
    },
    {
      "cell_type": "code",
      "metadata": {
        "id": "pI49qf5eeZ7o",
        "colab_type": "code",
        "colab": {}
      },
      "source": [
        "logdir = '{}/run-{}/'.format(root_logdir, now)\n",
        "mse_summary = tf.summary.scalar('MSE', mse)\n",
        "file_writer = tf.summary.FileWriter(logdir, tf.get_default_graph())"
      ],
      "execution_count": 0,
      "outputs": []
    },
    {
      "cell_type": "code",
      "metadata": {
        "id": "0PSGvKOfdzJ1",
        "colab_type": "code",
        "colab": {}
      },
      "source": [
        "n_epochs = 100\n",
        "batch_size = 1000\n",
        "n_batches = int(np.ceil(m / batch_size))\n",
        "\n",
        "with tf.Session() as sess:\n",
        "  sess.run(init)\n",
        "  for epoch in range(n_epochs):\n",
        "    for batch_idx in range(batch_size):\n",
        "      X_batch, y_batch = fetch_batch(epoch, batch_idx, batch_size)\n",
        "      if batch_idx % 10 == 0:\n",
        "        summary_str = mse_summary.eval(feed_dict={X: X_batch, y: y_batch})\n",
        "        step = (batch_size * epoch) + batch_idx\n",
        "        file_writer.add_summary(summary_str, step)"
      ],
      "execution_count": 0,
      "outputs": []
    },
    {
      "cell_type": "code",
      "metadata": {
        "id": "lXNVL9hUfvFY",
        "colab_type": "code",
        "colab": {}
      },
      "source": [
        "get_ipython().system_raw(\n",
        "  'tensorboard --logdir {} --host 0.0.0.0 --port 6006 &'.format(root_logdir))"
      ],
      "execution_count": 0,
      "outputs": []
    },
    {
      "cell_type": "code",
      "metadata": {
        "id": "oJ6iyMrhfxNJ",
        "colab_type": "code",
        "colab": {}
      },
      "source": [
        "get_ipython().system_raw('./ngrok http 6006 &')"
      ],
      "execution_count": 0,
      "outputs": []
    },
    {
      "cell_type": "code",
      "metadata": {
        "id": "AhweuXZvfzg-",
        "colab_type": "code",
        "colab": {
          "base_uri": "https://localhost:8080/",
          "height": 34
        },
        "outputId": "bebefd05-6bfc-4800-c4a6-9a635b5bd6b7"
      },
      "source": [
        "! curl -s http://localhost:4040/api/tunnels | python3 -c \\\n",
        "    \"import sys, json; print(json.load(sys.stdin)['tunnels'][0]['public_url'])\""
      ],
      "execution_count": 70,
      "outputs": [
        {
          "output_type": "stream",
          "text": [
            "https://c28cbaa4.ngrok.io\n"
          ],
          "name": "stdout"
        }
      ]
    },
    {
      "cell_type": "code",
      "metadata": {
        "id": "4Gknu5nqilCa",
        "colab_type": "code",
        "colab": {
          "base_uri": "https://localhost:8080/",
          "height": 51
        },
        "outputId": "53e88899-4393-4e38-a60e-ba6675bb327b"
      },
      "source": [
        "reset_graph()\n",
        "\n",
        "a1 = tf.Variable(0, name='a')\n",
        "a2 = tf.Variable(1, name='a')\n",
        "\n",
        "print(a1.op.name)\n",
        "print(a2.op.name)"
      ],
      "execution_count": 75,
      "outputs": [
        {
          "output_type": "stream",
          "text": [
            "a\n",
            "a_1\n"
          ],
          "name": "stdout"
        }
      ]
    },
    {
      "cell_type": "code",
      "metadata": {
        "id": "u1zPupIWi3Q9",
        "colab_type": "code",
        "colab": {
          "base_uri": "https://localhost:8080/",
          "height": 51
        },
        "outputId": "6d09d2d9-d29a-4658-8e60-55899ef4a320"
      },
      "source": [
        "with tf.name_scope('param') as scope:\n",
        "  a3 = tf.Variable(0, name='a')\n",
        "\n",
        "with tf.name_scope('param') as scope:\n",
        "  a4 = tf.Variable(0, name='a')\n",
        "\n",
        "print(a3.op.name)\n",
        "print(a4.op.name)"
      ],
      "execution_count": 76,
      "outputs": [
        {
          "output_type": "stream",
          "text": [
            "param/a\n",
            "param_1/a\n"
          ],
          "name": "stdout"
        }
      ]
    },
    {
      "cell_type": "markdown",
      "metadata": {
        "id": "3_SMjWuUgdw4",
        "colab_type": "text"
      },
      "source": [
        "## Modularity\n",
        "\n",
        "Suppose you want to create a graph that adds the output of two <i>rectified linear units</i> (ReLU). A ReLU evaluates a linear function then returns the return value if it is positive, zero otherwise.\n",
        "\n",
        "$$ h_{\\mathbf{w},\\,b}(\\mathbf{X}) = \\max(\\mathbf{X} \\cdot \\mathbf{w} + b, 0) $$"
      ]
    },
    {
      "cell_type": "code",
      "metadata": {
        "id": "SNyIb4bijRA3",
        "colab_type": "code",
        "colab": {}
      },
      "source": [
        "reset_graph()\n",
        "\n",
        "n_features = 3\n",
        "X = tf.placeholder(tf.float32, shape=(None, n_features), name='X')\n",
        "\n",
        "w1 = tf.Variable(tf.random_normal((n_features, 1)), name='weights1')\n",
        "w2 = tf.Variable(tf.random_normal((n_features, 1)), name='weights2')\n",
        "b1 = tf.Variable(0., name='bias1')\n",
        "b2 = tf.Variable(0., name='bias2')\n",
        "\n",
        "z1 = tf.add(tf.matmul(X, w1), b1, name='z1')\n",
        "z2 = tf.add(tf.matmul(X, w2), b2, name='z2')\n",
        "\n",
        "relu1 = tf.maximum(z1, 0., name='relu1')\n",
        "relu2 = tf.maximum(z2, 0., name='relu2')\n",
        "\n",
        "output = tf.add(relu1, relu2, name='output')"
      ],
      "execution_count": 0,
      "outputs": []
    },
    {
      "cell_type": "code",
      "metadata": {
        "id": "V1y13l96mX56",
        "colab_type": "code",
        "colab": {}
      },
      "source": [
        "# Tensorflow lets you modularize the repetitive process of computing ReLU\n",
        "# terms.\n",
        "\n",
        "reset_graph()\n",
        "\n",
        "def relu(X):\n",
        "  w_shape = (int(X.get_shape()[1]), 1)\n",
        "  w = tf.Variable(tf.random_normal(w_shape), name='weights')\n",
        "  b = tf.Variable(0., name='bias')\n",
        "  z = tf.add(tf.matmul(X, w), b, name='z')\n",
        "  return tf.maximum(z, 0., name='relu')\n",
        "\n",
        "n_features = 3\n",
        "X = tf.placeholder(tf.float32, shape=(None, n_features), name='X')\n",
        "relus = [relu(X) for _ in range(5)]\n",
        "output = tf.add_n(relus, name='output')"
      ],
      "execution_count": 0,
      "outputs": []
    },
    {
      "cell_type": "code",
      "metadata": {
        "id": "HRVXtBtqodYR",
        "colab_type": "code",
        "colab": {}
      },
      "source": [
        "file_writer = tf.summary.FileWriter('logs/relu', tf.get_default_graph())"
      ],
      "execution_count": 0,
      "outputs": []
    },
    {
      "cell_type": "code",
      "metadata": {
        "id": "svBCnxvzonc0",
        "colab_type": "code",
        "colab": {}
      },
      "source": [
        "file_writer.close()"
      ],
      "execution_count": 0,
      "outputs": []
    },
    {
      "cell_type": "code",
      "metadata": {
        "id": "DnkIFHrSoriq",
        "colab_type": "code",
        "colab": {}
      },
      "source": [
        "get_ipython().system_raw(\n",
        "  'tensorboard --logdir {} --host 0.0.0.0 --port 6006 &'.format('logs/relu'))"
      ],
      "execution_count": 0,
      "outputs": []
    },
    {
      "cell_type": "code",
      "metadata": {
        "id": "c-8_hhT5ouUM",
        "colab_type": "code",
        "colab": {}
      },
      "source": [
        "get_ipython().system_raw('./ngrok http 6006 &')"
      ],
      "execution_count": 0,
      "outputs": []
    },
    {
      "cell_type": "code",
      "metadata": {
        "id": "cLCIf2vbowgo",
        "colab_type": "code",
        "colab": {
          "base_uri": "https://localhost:8080/",
          "height": 34
        },
        "outputId": "74035255-4dae-4b27-9423-00cba511d253"
      },
      "source": [
        "! curl -s http://localhost:4040/api/tunnels | python3 -c \\\n",
        "    \"import sys, json; print(json.load(sys.stdin)['tunnels'][0]['public_url'])\""
      ],
      "execution_count": 107,
      "outputs": [
        {
          "output_type": "stream",
          "text": [
            "http://84714407.ngrok.io\n"
          ],
          "name": "stdout"
        }
      ]
    },
    {
      "cell_type": "code",
      "metadata": {
        "id": "yEqTYtOQsCje",
        "colab_type": "code",
        "colab": {}
      },
      "source": [
        "# Having the repeated nodes be defined in their own namespace helps simplify\n",
        "# the Tensorboard graph.\n",
        "\n",
        "reset_graph()\n",
        "\n",
        "def relu(X):\n",
        "  with tf.name_scope('relu'):\n",
        "    w_shape = (int(X.get_shape()[1]), 1)\n",
        "    w = tf.Variable(tf.random_normal(w_shape), name='weights')\n",
        "    b = tf.Variable(0., name='bias')\n",
        "    z = tf.add(tf.matmul(X, w), b, name='z')\n",
        "    return tf.maximum(z, 0., name='relu')\n",
        "\n",
        "n_features = 3\n",
        "X = tf.placeholder(tf.float32, shape=(None, n_features), name='X')\n",
        "relus = [relu(X) for _ in range(5)]\n",
        "output = tf.add_n(relus, name='output')"
      ],
      "execution_count": 0,
      "outputs": []
    },
    {
      "cell_type": "code",
      "metadata": {
        "id": "8ZIIfCits1JV",
        "colab_type": "code",
        "colab": {}
      },
      "source": [
        "file_writer = tf.summary.FileWriter('logs/relu', tf.get_default_graph())"
      ],
      "execution_count": 0,
      "outputs": []
    },
    {
      "cell_type": "code",
      "metadata": {
        "id": "rDeZenrAt6qm",
        "colab_type": "code",
        "colab": {}
      },
      "source": [
        "file_writer.close()"
      ],
      "execution_count": 0,
      "outputs": []
    },
    {
      "cell_type": "code",
      "metadata": {
        "id": "lBZ5HUXUtyem",
        "colab_type": "code",
        "colab": {}
      },
      "source": [
        "get_ipython().system_raw(\n",
        "  'tensorboard --logdir {} --host 0.0.0.0 --port 6006 &'.format('logs/relu'))\n",
        "get_ipython().system_raw('./ngrok http 6006 &')"
      ],
      "execution_count": 0,
      "outputs": []
    },
    {
      "cell_type": "code",
      "metadata": {
        "id": "92JE5SvRt0sN",
        "colab_type": "code",
        "colab": {
          "base_uri": "https://localhost:8080/",
          "height": 34
        },
        "outputId": "8d066664-50f5-45f3-b22f-daf7450cef6c"
      },
      "source": [
        "! curl -s http://localhost:4040/api/tunnels | python3 -c \\\n",
        "    \"import sys, json; print(json.load(sys.stdin)['tunnels'][0]['public_url'])\""
      ],
      "execution_count": 122,
      "outputs": [
        {
          "output_type": "stream",
          "text": [
            "https://d287e55d.ngrok.io\n"
          ],
          "name": "stdout"
        }
      ]
    },
    {
      "cell_type": "markdown",
      "metadata": {
        "id": "C5nAH0zhrllz",
        "colab_type": "text"
      },
      "source": [
        "## Sharing Variables\n",
        "\n"
      ]
    },
    {
      "cell_type": "code",
      "metadata": {
        "id": "jczvXESIzOze",
        "colab_type": "code",
        "colab": {}
      },
      "source": [
        "# You can share variables by passing them as parameters to the function\n",
        "# making the relu node.\n",
        "\n",
        "reset_graph()\n",
        "\n",
        "def relu(X, threshold):\n",
        "  with tf.name_scope('relu'):\n",
        "    w_shape = (int(X.get_shape()[1]), 1)\n",
        "    w = tf.Variable(tf.random_normal(w_shape), name='weights')\n",
        "    b = tf.Variable(0., name='bias')\n",
        "    z = tf.add(tf.matmul(X, w), b, name='z')\n",
        "    return tf.maximum(z, threshold, name='relu')\n",
        "\n",
        "n_features = 3\n",
        "X = tf.placeholder(tf.float32, shape=(None, n_features), name='X')\n",
        "threshold = tf.Variable(0., name='threshold')\n",
        "relus = [relu(X, threshold) for _ in range(5)]\n",
        "output = tf.add_n(relus, name='output')"
      ],
      "execution_count": 0,
      "outputs": []
    },
    {
      "cell_type": "code",
      "metadata": {
        "id": "1UNA1Y_v0sVF",
        "colab_type": "code",
        "colab": {}
      },
      "source": [
        "# One option is to add the shared variable as a property of the relu()\n",
        "# function.\n",
        "\n",
        "reset_graph()\n",
        "\n",
        "def relu(X):\n",
        "  with tf.name_scope('relu'):\n",
        "    if not hasattr(relu, 'threshold'):\n",
        "      relu.threshold = tf.Variable(0., name='threshold')\n",
        "    w_shape = (int(X.get_shape()[1]), 1)\n",
        "    w = tf.Variable(tf.random_normal(w_shape), name='weights')\n",
        "    b = tf.Variable(0., name='bias')\n",
        "    z = tf.add(tf.matmul(X, w), b, name='z')\n",
        "    return tf.maximum(z, relu.threshold, name='relu')\n",
        "\n",
        "n_features = 3\n",
        "X = tf.placeholder(tf.float32, shape=(None, n_features), name='X')\n",
        "relus = [relu(X) for _ in range(5)]\n",
        "output = tf.add_n(relus, name='output')"
      ],
      "execution_count": 0,
      "outputs": []
    },
    {
      "cell_type": "code",
      "metadata": {
        "id": "bi38WdFt20LZ",
        "colab_type": "code",
        "colab": {}
      },
      "source": [
        "# This function defines the threshold variable using syntax which will throw\n",
        "# an Exception if the variable has been already created. This can be used\n",
        "# to prevent reusing variables.\n",
        "\n",
        "with tf.variable_scope('relu'):\n",
        "  threshold = \\\n",
        "    tf.get_variable('threshold', shape=(),\n",
        "                    initializer=tf.constant_initializer(0.0))"
      ],
      "execution_count": 0,
      "outputs": []
    },
    {
      "cell_type": "code",
      "metadata": {
        "id": "tLKbyOo64HXl",
        "colab_type": "code",
        "colab": {}
      },
      "source": [
        "# This function will throw an exception if the threshold variable has not yet\n",
        "# been created or if it was not created with the get_variable() function.\n",
        "\n",
        "with tf.variable_scope('relu', reuse=True) as scope:\n",
        "  threshold = tf.get_variable('threshold')"
      ],
      "execution_count": 0,
      "outputs": []
    },
    {
      "cell_type": "code",
      "metadata": {
        "id": "rR1clsJc6DJK",
        "colab_type": "code",
        "colab": {}
      },
      "source": [
        "# This code is equivalent to the cell above.\n",
        "\n",
        "with tf.variable_scope('relu') as scope:\n",
        "  scope.reuse_variables()\n",
        "  threshold = tf.get_variable('threshold')"
      ],
      "execution_count": 0,
      "outputs": []
    },
    {
      "cell_type": "code",
      "metadata": {
        "id": "flG1i4dd7Gxi",
        "colab_type": "code",
        "colab": {}
      },
      "source": [
        "# The following code is for the ReLU graph and reuses the threshold variable.\n",
        "\n",
        "reset_graph()\n",
        "n_features = 3\n",
        "\n",
        "def relu(X):\n",
        "  with tf.variable_scope('relu', reuse=True):\n",
        "    threshold = tf.get_variable('threshold')\n",
        "    w_shape = (int(X.get_shape()[1]), 1)\n",
        "    w = tf.Variable(tf.random_normal(w_shape), name='weights')\n",
        "    b = tf.Variable(0., name='bias')\n",
        "    z = tf.add(tf.matmul(X, w), b, name='z')\n",
        "    return tf.maximum(z, threshold, name='relu')\n",
        "\n",
        "X = tf.placeholder(tf.float32, shape=(None, n_features), name='X')\n",
        "with tf.variable_scope('relu'):\n",
        "  threshold = tf.get_variable('threshold', shape=(),\n",
        "                              initializer=tf.constant_initializer(0.))\n",
        "relus = [relu(X) for _ in range(5)]\n",
        "output = tf.add_n(relus, name='output')"
      ],
      "execution_count": 0,
      "outputs": []
    },
    {
      "cell_type": "code",
      "metadata": {
        "id": "0V7uxyJR-Ogr",
        "colab_type": "code",
        "colab": {}
      },
      "source": [
        "# Viewing the graph in Tensorboard.\n",
        "\n",
        "file_writer = tf.summary.FileWriter('logs/relu', tf.get_default_graph())\n",
        "file_writer.close()\n",
        "get_ipython().system_raw(\n",
        "  'tensorboard --logdir {} --host 0.0.0.0 --port 6007 &'.format('logs/relu'))\n",
        "get_ipython().system_raw('./ngrok http 6007 &')"
      ],
      "execution_count": 0,
      "outputs": []
    },
    {
      "cell_type": "code",
      "metadata": {
        "id": "jpAhcUON-Vvv",
        "colab_type": "code",
        "colab": {
          "base_uri": "https://localhost:8080/",
          "height": 34
        },
        "outputId": "ea458eb6-6450-4c67-972a-b4c2d3f7562e"
      },
      "source": [
        "! curl -s http://localhost:4040/api/tunnels | python3 -c \\\n",
        "    \"import sys, json; print(json.load(sys.stdin)['tunnels'][0]['public_url'])\""
      ],
      "execution_count": 139,
      "outputs": [
        {
          "output_type": "stream",
          "text": [
            "https://d287e55d.ngrok.io\n"
          ],
          "name": "stdout"
        }
      ]
    },
    {
      "cell_type": "code",
      "metadata": {
        "id": "kCLITumN_YP3",
        "colab_type": "code",
        "colab": {}
      },
      "source": [
        "# The following code creates a graph indentical to the one that the previous\n",
        "# cell created, using a different syntax which allows threshold to be\n",
        "# initialized on the first call of relu().\n",
        "\n",
        "reset_graph()\n",
        "n_features = 3\n",
        "\n",
        "def relu(X):\n",
        "  threshold = tf.get_variable('threshold', shape=(),\n",
        "                              initializer=tf.constant_initializer(0.))\n",
        "  w_shape = (int(X.get_shape()[1]), 1)\n",
        "  w = tf.Variable(tf.random_normal(w_shape), name='weights')\n",
        "  b = tf.Variable(0., name='bias')\n",
        "  z = tf.add(tf.matmul(X, w), b, name='z')\n",
        "  return tf.maximum(z, threshold, name='relu')\n",
        "\n",
        "X = tf.placeholder(tf.float32, shape=(None, n_features), name='X')\n",
        "relus = []\n",
        "for idx in range(5):\n",
        "  with tf.variable_scope('relu', reuse=(idx >= 1 or None)):\n",
        "    relus.append(relu(X))\n",
        "output = tf.add_n(relus, name='output')"
      ],
      "execution_count": 0,
      "outputs": []
    }
  ]
}