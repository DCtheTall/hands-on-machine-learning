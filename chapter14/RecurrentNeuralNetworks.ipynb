{
  "nbformat": 4,
  "nbformat_minor": 0,
  "metadata": {
    "colab": {
      "name": "RecurrentNeuralNetworks.ipynb",
      "version": "0.3.2",
      "provenance": [],
      "collapsed_sections": []
    },
    "kernelspec": {
      "name": "python3",
      "display_name": "Python 3"
    }
  },
  "cells": [
    {
      "cell_type": "markdown",
      "metadata": {
        "id": "8P4TWJD0fErH",
        "colab_type": "text"
      },
      "source": [
        "# Chapter 14: Recurrent Neural Networks\n",
        "\n",
        "Recurrent neural networks (RNNs) are a particular type of artificial neural network which are able to accurately make predictions about sequences of data. They are useful for _natural language processing_ (NLP), automatic translation, speech-to-text, or _sentiment analysis_.\n",
        "\n",
        "Some RNNs such as [Google's Magenta project](https://cdn2.vox-cdn.com/uploads/chorus_asset/file/6577761/Google_-_Magenta_music_sample.0.mp3) are capable of writing their own melodies. RNNs can [generate sentences](https://karpathy.github.io/2015/05/21/rnn-effectiveness/), [image captions](https://arxiv.org/pdf/1411.4555v2.pdf), and more.\n",
        "\n",
        "## Recurrent Neurons\n",
        "\n",
        "Up until now, we have looked mainly at feed-forward neural networks where data only flows in one direction. Neurons in an RNN depend not only on the input data, but also the outputs of the neurons at previous iterations of the sequence of data. At each _time step_ (or _frame_), the _recurrent neuron_ receives the input, $\\mathbf{x}_{(t)}$, as well as its output in the previous frame, $y_{(t-1)}$. The output of a layer of recurrent neurons is given by\n",
        "\n",
        "$$ \\mathbf{y}_{(t)} = \\phi\\left( \\mathbf{W}_x^{\\,T} \\cdot \\mathbf{x}_{(t)} + \\mathbf{W}_y^{\\,T} \\cdot \\mathbf{y}_{(t-1)} + \\mathbf{b} \\right) $$\n",
        "\n",
        "where\n",
        "\n",
        "- $\\mathbf{W}_x$ and $\\mathbf{W}_y$ are the weight matrices of the recurrent neuron layer.\n",
        "\n",
        "- $\\mathbf{y}_{(t-1)}$ is the output of the layer at the previous frame.\n",
        "\n",
        "- $\\mathbf{b}$ is the bias vector.\n",
        "\n",
        "- $\\phi$ is the layer's activation function.\n",
        "\n",
        "While training the RNN, you can compute the output of a whole mini-batch in one computation given by\n",
        "\n",
        "$$ \\mathbf{Y}_{(t)} = \\phi\\left( \\mathbf{X}_{(t)} \\cdot \\mathbf{W}_x + \\mathbf{Y}_{(t-1)} \\cdot \\mathbf{W}_y + \\mathbf{b} \\right)$$\n",
        "$$ = \\phi\\left( \\left[ \\mathbf{X}_{(t)} \\; \\mathbf{Y}_{(t-1)} \\right] \\cdot \\mathbf{W} + \\mathbf{b} \\right) \\;\\; \\text{with} \\;\\; \\mathbf{W} = \\left[ \\begin{matrix} \\mathbf{W}_x \\\\ \\mathbf{W}_y \\end{matrix} \\right] $$\n",
        "\n",
        "where\n",
        "\n",
        "- $\\mathbf{Y}_{(t)}$ is an $m \\times n_\\text{neurons}$ matrix containing the layer's outputs at frame $t$.\n",
        "\n",
        "- $\\mathbf{X}_{(t)}$ is an $m \\times n_\\text{inputs}$ matrix containing the inputs of all instances in the mini-batch at frame $t$.\n",
        "\n",
        "- $\\mathbf{W}_x$ is an $n_\\text{inputs} \\times n_\\text{neurons}$ matrix containing the connection weights for the inputs at the current frame.\n",
        "\n",
        "- $\\mathbf{W}_y$ is an $n_\\text{neurons} \\times n_\\text{neurons}$ matrix containing the connection weights for the outputs of the previous frame.\n",
        "\n",
        "- $\\mathbf{b}$ is the bias vector of size $n_\\text{neurons}$.\n",
        "\n",
        "- The weights matrices are often concatenated vertically into a single $\\left( n_\\text{inputs} + n_\\text{neurons} \\right) \\times n_\\text{neurons}$ matrix, $\\mathbf{W}$.\n",
        "\n",
        "- The notation $\\left[ \\mathbf{X}_{(t)} \\; \\mathbf{Y}_{(t-1)} \\right]$ represents the horizontal concatenation of the matrices $\\mathbf{X}_{(t)}$ and $\\mathbf{Y}_{(t-1)}$.\n",
        "\n",
        "### Memory Cells\n",
        "\n",
        "Since the output of a recurrent neuron depends on its previous outputs, one can say it develops a form of _memory_. A part of a neural network which retains state across time steps is called a _memory cell_. A single recurrent neuron or a layer of recurrent neurons is a very _basic cell_.\n",
        "\n",
        "In general, a cell's state at frame $t$, i.e. $\\mathbf{h}_{(t)}$, is a function of the inputs at the frame $t$ as well as the state at the previous time step. In other words,\n",
        "\n",
        "$$ \\mathbf{h}_{(t)} = f \\kern-0.15em \\left(\\mathbf{h}_{(t-1)}, \\mathbf{x}_{(t)}\\right). $$\n",
        "\n",
        "The output of the recurrent neuron is also a function of the previous state and the current inputs. In the case of the basic cell, the output is equal to the state at frame $t$, but for other types of memory cells this is not the case.\n",
        "\n",
        "### Input and Output Sequences\n",
        "\n",
        "An output of an RNN can be its prediction of the next terms in the input sequence, such as predicting the future stock prices based on their previous prices. For example you can feed it the prices for the last $N$ days and have it predict the prices for $N-1$ days ago up to tomorrow.\n",
        "\n",
        "You can also have the network ignore all outputs except the last one, this is called a sequence-to-vector RNN. For example, the input could be a movie review and the output could be a measure of the sentiment of the review (positive or negative).\n",
        "\n",
        "You can also have vector-to-sequence network which takes a single input and outputs a new sequence, e.g. a model which generates captions for images.\n",
        "\n",
        "Finally, you can have a sequence-to-vector network called an _encoder_, and a vector-to-sequence network called a _decoder_. This two step model, called an Encoder-Decoder, works well for tasks like translating languages. In fact they outperform sequence-to-sequence RNNs for that particular task."
      ]
    },
    {
      "cell_type": "markdown",
      "metadata": {
        "id": "5TSlu8rdud19",
        "colab_type": "text"
      },
      "source": [
        "## Basic RNNs in TensorFlow\n",
        "\n",
        "Below is an example of an RNN composed of a single layer of 5 recurrent neurons over only two time steps:"
      ]
    },
    {
      "cell_type": "code",
      "metadata": {
        "id": "TfMUJKYRumfW",
        "colab_type": "code",
        "colab": {}
      },
      "source": [
        "import tensorflow as tf\n",
        "\n",
        "n_inputs = 3\n",
        "n_neurons = 5\n",
        "\n",
        "graph = tf.Graph()\n",
        "\n",
        "with graph.as_default():\n",
        "  X0 = tf.placeholder(tf.float32, [None, n_inputs])\n",
        "  X1 = tf.placeholder(tf.float32, [None, n_inputs])\n",
        "\n",
        "  Wx = tf.Variable(tf.random_normal(shape=[n_inputs, n_neurons],\n",
        "                                    dtype=tf.float32))\n",
        "  Wy = tf.Variable(tf.random_normal(shape=[n_neurons, n_neurons],\n",
        "                                    dtype=tf.float32))\n",
        "  b = tf.Variable(tf.zeros([1, n_neurons], dtype=tf.float32))\n",
        "\n",
        "  Y0 = tf.tanh(tf.matmul(X0, Wx) + b)\n",
        "  Y1 = tf.tanh(tf.matmul(Y0, Wy) + tf.matmul(X1, Wx) + b)\n",
        "\n",
        "  init = tf.global_variables_initializer()"
      ],
      "execution_count": 0,
      "outputs": []
    },
    {
      "cell_type": "code",
      "metadata": {
        "id": "u5fl75EIvZUd",
        "colab_type": "code",
        "colab": {}
      },
      "source": [
        "# Creating input for the model and evaluating the output.\n",
        "\n",
        "import numpy as np\n",
        "\n",
        "X0_batch = np.array([[0, 1, 2], [3, 4, 5], [6, 7, 8], [9, 0, 1]])\n",
        "X1_batch = np.array([[9, 8, 7], [0, 0, 0], [6, 5, 4], [3, 2, 1]])\n",
        "\n",
        "with graph.as_default():\n",
        "  with tf.Session() as sess:\n",
        "    init.run()\n",
        "    Y0_val, Y1_val = sess.run([Y0, Y1], feed_dict={X0: X0_batch, X1: X1_batch})"
      ],
      "execution_count": 0,
      "outputs": []
    },
    {
      "cell_type": "code",
      "metadata": {
        "id": "19SQm3pjv4dn",
        "colab_type": "code",
        "outputId": "2167799c-91c2-4fb7-d02a-455ef101468a",
        "colab": {
          "base_uri": "https://localhost:8080/",
          "height": 104
        }
      },
      "source": [
        "Y0_val  # output at t = 0"
      ],
      "execution_count": 3,
      "outputs": [
        {
          "output_type": "execute_result",
          "data": {
            "text/plain": [
              "array([[ 0.9834298 , -0.9950613 ,  0.81300235,  0.9367092 , -0.9272306 ],\n",
              "       [ 0.9671495 , -0.99999976,  0.9997395 ,  0.9113673 , -0.9993264 ],\n",
              "       [ 0.935395  , -1.        ,  0.9999997 ,  0.8765254 , -0.9999939 ],\n",
              "       [-1.        ,  0.99955785,  0.9999934 , -0.9999937 ,  0.98964983]],\n",
              "      dtype=float32)"
            ]
          },
          "metadata": {
            "tags": []
          },
          "execution_count": 3
        }
      ]
    },
    {
      "cell_type": "code",
      "metadata": {
        "id": "MtN0jAMTv9jd",
        "colab_type": "code",
        "outputId": "e30b8f46-c9cf-42ae-c607-c2369207232c",
        "colab": {
          "base_uri": "https://localhost:8080/",
          "height": 104
        }
      },
      "source": [
        "Y1_val  # output at t = 1"
      ],
      "execution_count": 4,
      "outputs": [
        {
          "output_type": "execute_result",
          "data": {
            "text/plain": [
              "array([[-0.99032956, -1.        ,  0.99999917, -0.99999714, -0.9999999 ],\n",
              "       [ 0.6346872 , -0.9884779 , -0.94479597, -0.9996923 , -0.9981447 ],\n",
              "       [-0.9829022 , -1.        ,  0.9989397 , -0.9999945 , -0.999996  ],\n",
              "       [-0.9968052 , -0.24302416,  0.983999  ,  0.99925935, -0.98118323]],\n",
              "      dtype=float32)"
            ]
          },
          "metadata": {
            "tags": []
          },
          "execution_count": 4
        }
      ]
    },
    {
      "cell_type": "markdown",
      "metadata": {
        "id": "nSu-n0bEyJOl",
        "colab_type": "text"
      },
      "source": [
        "### Static Unrolling Through Time"
      ]
    },
    {
      "cell_type": "code",
      "metadata": {
        "id": "ClT5JPuHyHkg",
        "colab_type": "code",
        "outputId": "0a5a36d7-b601-47da-c2fa-0271203bb651",
        "colab": {
          "base_uri": "https://localhost:8080/",
          "height": 155
        }
      },
      "source": [
        "# The following code creates the same exact RNN, but without the need to repeat\n",
        "# code for every time step.\n",
        "\n",
        "graph = tf.Graph()\n",
        "\n",
        "with graph.as_default():\n",
        "  X0 = tf.placeholder(tf.float32, [None, n_inputs])\n",
        "  X1 = tf.placeholder(tf.float32, [None, n_inputs])\n",
        "\n",
        "  basic_cell = tf.contrib.rnn.BasicRNNCell(num_units=n_neurons)\n",
        "  output_seqs, states = tf.contrib.rnn.static_rnn(basic_cell, [X0, X1],\n",
        "                                                  dtype=tf.float32)\n",
        "  Y0, Y1 = output_seqs\n",
        "\n",
        "  init = tf.global_variables_initializer()\n",
        "\n",
        "with graph.as_default():\n",
        "  with tf.Session() as sess:\n",
        "    init.run()\n",
        "    Y0_val, Y1_val = sess.run([Y0, Y1], feed_dict={X0: X0_batch, X1: X1_batch})\n",
        "\n",
        "print(Y0_val)\n",
        "print(Y1_val)"
      ],
      "execution_count": 6,
      "outputs": [
        {
          "output_type": "stream",
          "text": [
            "[[-0.56465685  0.7726155   0.6464381   0.6898657   0.2079131 ]\n",
            " [-0.9570511   0.9778706   0.99812806  0.99381816  0.28276926]\n",
            " [-0.996544    0.9980501   0.99999195  0.9998953   0.35433275]\n",
            " [-0.7598727   0.34146777  0.9999943   0.9989586  -0.998472  ]]\n",
            "[[-0.9983283   0.99639106  0.9999999   0.9998473   0.5507407 ]\n",
            " [-0.5829546   0.6298226   0.92501825 -0.67715055  0.6853758 ]\n",
            " [-0.9888976   0.97438437  0.99999344  0.98423547  0.6937495 ]\n",
            " [-0.83895236  0.5099309   0.9973836   0.1412082  -0.3224336 ]]\n"
          ],
          "name": "stdout"
        }
      ]
    },
    {
      "cell_type": "markdown",
      "metadata": {
        "id": "eRNHfD3xy0zC",
        "colab_type": "text"
      },
      "source": [
        "Since it is not convenient to write a new input placeholder for each frame of the sequence, TensorFlow provides the `static_rnn()` function to let you be able to train RNNs with a variable number of frames. It returns two objects, a Python list of the output sequences and the final states of the network. For basic cells, the final state is the final output of the network."
      ]
    },
    {
      "cell_type": "code",
      "metadata": {
        "id": "8OqIoJZvf30C",
        "colab_type": "code",
        "colab": {}
      },
      "source": [
        "n_steps = 2\n",
        "\n",
        "graph = tf.Graph()\n",
        "\n",
        "with graph.as_default():\n",
        "  X = tf.placeholder(tf.float32, shape=(None, n_steps, n_inputs))\n",
        "  # Unstack separates a tensor or rank r into a List of tensors of rank r - 1.\n",
        "  X_seqs = tf.unstack(tf.transpose(X, perm=(1, 0, 2)))\n",
        "  basic_cell = tf.contrib.rnn.BasicRNNCell(num_units=n_neurons)\n",
        "  output_seqs, states = tf.contrib.rnn.static_rnn(basic_cell, X_seqs,\n",
        "                                                  dtype=tf.float32)\n",
        "  outputs = tf.transpose(tf.stack(output_seqs), perm=(1, 0, 2))\n",
        "  init = tf.global_variables_initializer()"
      ],
      "execution_count": 0,
      "outputs": []
    },
    {
      "cell_type": "code",
      "metadata": {
        "id": "wKdj0z6hhEy2",
        "colab_type": "code",
        "colab": {}
      },
      "source": [
        "X_batch = np.array([\n",
        "  [[0, 1, 2], [9, 8, 7]],\n",
        "  [[3, 4, 5], [0, 0, 0]],\n",
        "  [[6, 7, 8], [6, 5, 4]],\n",
        "  [[9, 0, 1], [3, 2, 1]],\n",
        "])\n",
        "\n",
        "with graph.as_default():\n",
        "  with tf.Session() as sess:\n",
        "    init.run()\n",
        "    outputs_val = outputs.eval(feed_dict={X: X_batch})"
      ],
      "execution_count": 0,
      "outputs": []
    },
    {
      "cell_type": "code",
      "metadata": {
        "id": "KuGzUdRpqjFj",
        "colab_type": "code",
        "outputId": "26c3c852-6a38-45b6-9287-5eccf27fa6a3",
        "colab": {
          "base_uri": "https://localhost:8080/",
          "height": 207
        }
      },
      "source": [
        "print(outputs_val)"
      ],
      "execution_count": 9,
      "outputs": [
        {
          "output_type": "stream",
          "text": [
            "[[[-0.5450363  -0.19677536 -0.69643223 -0.51478654  0.8079703 ]\n",
            "  [-0.9920196   0.9952052   0.1205921   0.9995122   1.        ]]\n",
            "\n",
            " [[-0.9365034   0.5930897  -0.77913636  0.5733019   0.9999492 ]\n",
            "  [-0.8218537   0.6386266   0.58871126  0.31494588  0.31038925]]\n",
            "\n",
            " [[-0.99272436  0.9161004  -0.84141487  0.95396215  1.        ]\n",
            "  [-0.996382    0.9946776   0.8955173   0.99803364  0.9999995 ]]\n",
            "\n",
            " [[ 0.85002196  0.2819989   0.9992663   0.99997     0.99983877]\n",
            "  [-0.06719761  0.96340877  0.9777923   0.9121383   0.99319476]]]\n"
          ],
          "name": "stdout"
        }
      ]
    },
    {
      "cell_type": "markdown",
      "metadata": {
        "id": "lnpPhU9A1fxl",
        "colab_type": "text"
      },
      "source": [
        "The `static_rnn()` function creates a new graph node for each cell for each frame. This means that for sequences with a large number of frames, you risk the graph causing an out of memory (OOM) error. Thankfully there is the `dynamic_rnn()` function.\n",
        "\n",
        "### Dynamic Unrolling Through Time\n",
        "\n",
        "The `dynamic_rnn()` function uses a `while_loop()` operation to run over the cell the appropriate number of times and can swap memory between the GPU and CPU using the `swap_memory=True` parameter. The `dynamic_rnn()` function also accepts a single Tensor for all inputs, meaning you do not need to do any stacking like in the last example."
      ]
    },
    {
      "cell_type": "code",
      "metadata": {
        "id": "V1W0d0t74g8Z",
        "colab_type": "code",
        "colab": {}
      },
      "source": [
        "graph = tf.Graph()\n",
        "\n",
        "with graph.as_default():\n",
        "  X = tf.placeholder(tf.float32, shape=(None, n_steps, n_inputs))\n",
        "  basic_cell = tf.contrib.rnn.BasicRNNCell(num_units=n_neurons)\n",
        "  outputs, states = tf.nn.dynamic_rnn(basic_cell, X, dtype=tf.float32)"
      ],
      "execution_count": 0,
      "outputs": []
    },
    {
      "cell_type": "markdown",
      "metadata": {
        "id": "L8fol62n5JUD",
        "colab_type": "text"
      },
      "source": [
        "### Handling Variable Length Input Sequences\n",
        "\n",
        "In order to handle inputs of variable length, such as sentences, you can use set the `sequence_length` parameter of the `dynamic_rnn()` as a 1D tensor which indicates the length of the each input sequence. Below is an example:"
      ]
    },
    {
      "cell_type": "code",
      "metadata": {
        "id": "NuqtkERV7VdL",
        "colab_type": "code",
        "colab": {}
      },
      "source": [
        "graph = tf.Graph()\n",
        "\n",
        "with graph.as_default():\n",
        "  X = tf.placeholder(tf.float32, shape=(None, n_steps, n_inputs))\n",
        "  seq_length = tf.placeholder(tf.int32, shape=(None))\n",
        "  basic_cell = tf.contrib.rnn.BasicRNNCell(num_units=n_neurons)\n",
        "  outputs, states = tf.nn.dynamic_rnn(basic_cell, X, dtype=tf.float32,\n",
        "                                      sequence_length=seq_length)\n",
        "  init = tf.global_variables_initializer()"
      ],
      "execution_count": 0,
      "outputs": []
    },
    {
      "cell_type": "markdown",
      "metadata": {
        "id": "D8WcTLL67l2t",
        "colab_type": "text"
      },
      "source": [
        "Each input sequence which is shorter than the maximum length sequence, it must be padded with zeros at the end. Below is an example where the second sequence has only 1 frame whereas the others have two."
      ]
    },
    {
      "cell_type": "code",
      "metadata": {
        "id": "2ZtCfvKt8rh9",
        "colab_type": "code",
        "colab": {}
      },
      "source": [
        "X_batch = np.array([\n",
        "  [[0, 1, 2], [9, 8, 7]],\n",
        "  [[3, 4, 5], [0, 0, 0]],\n",
        "  [[6, 7, 9], [6, 5, 4]],\n",
        "  [[9, 0, 1], [3, 2, 1]],\n",
        "])\n",
        "seq_length_batch = np.array([2, 1, 2, 2])\n",
        "\n",
        "with graph.as_default():\n",
        "  with tf.Session() as sess:\n",
        "    init.run()\n",
        "    outputs_val = outputs.eval(feed_dict={X: X_batch,\n",
        "                                          seq_length: seq_length_batch})"
      ],
      "execution_count": 0,
      "outputs": []
    },
    {
      "cell_type": "code",
      "metadata": {
        "id": "sUQYH33lBE6F",
        "colab_type": "code",
        "outputId": "76db55bf-118e-480c-cc3d-cdad79e41ab4",
        "colab": {
          "base_uri": "https://localhost:8080/",
          "height": 207
        }
      },
      "source": [
        "print(outputs_val)"
      ],
      "execution_count": 15,
      "outputs": [
        {
          "output_type": "stream",
          "text": [
            "[[[ 0.39076197  0.05958096  0.4086122  -0.92413366  0.0900095 ]\n",
            "  [-0.09409263  0.99999964  0.9998155  -0.9963912   0.99998176]]\n",
            "\n",
            " [[ 0.5158535   0.9892193   0.98368573 -0.9965462   0.95364594]\n",
            "  [ 0.          0.          0.          0.          0.        ]]\n",
            "\n",
            " [[ 0.80726194  0.99990934  0.9996575  -0.99995476  0.9987795 ]\n",
            "  [-0.8553089   0.99899536  0.96943855 -0.955811    0.99911904]]\n",
            "\n",
            " [[ 0.58124167  0.9999691   0.9340429   0.9990546   0.99991375]\n",
            "  [-0.8944918   0.6084823   0.9018325  -0.15128036  0.7051749 ]]]\n"
          ],
          "name": "stdout"
        }
      ]
    },
    {
      "cell_type": "markdown",
      "metadata": {
        "id": "giYVzthyCDXM",
        "colab_type": "text"
      },
      "source": [
        "### Handling Variable-Length Output Sequences\n",
        "\n",
        "If the output sequence has a variable length, such as when you are translating sentences into another language, in general it is not possible to set a `sequence_length` during training. The most common solution is to define an _end-of-sequence_ (EOS) character, so that any output beyond that character is ignored."
      ]
    },
    {
      "cell_type": "markdown",
      "metadata": {
        "id": "RYOrLf3vDCfc",
        "colab_type": "text"
      },
      "source": [
        "## Training RNNs\n",
        "\n",
        "The trick for training RNNs is to unroll them through time and then use backpropagation on the unrolled graph. This strategy is called _backpropagation through time_ (BPTT). The RNN first computes the output using forward propagation, then the output is evaluated using a cost function\n",
        "\n",
        "$$ C \\left( \\mathbf{Y}_{t_\\text{min}}, \\mathbf{Y}_{t_\\text{min}+1}, ..., \\mathbf{Y}_{t_\\text{max}} \\right) $$\n",
        "\n",
        "where $t_\\text{min}$ and $t_\\text{max}$ are the minimum and maximum output time steps (not including ignored outputs earlier in the sequence). The model then uses backpropagation to compute the error gradients and uses this to update the model parameters. If the outputs from some time steps are ignored, they do not contribute to the error gradient during training. However, since all time steps share the same parameters ($\\mathbf{W}$ and $\\mathbf{b}$), backpropagation will still sum over all time steps.\n",
        "\n",
        "### Training a Sequence Classifier\n",
        "\n",
        "Below is an example of training a RNN to classify images in the MNIST dataset. Even though convolutional neural networks (see Chapter 13) are better for image classification, this familiar example is useful for demonstrative purposes."
      ]
    },
    {
      "cell_type": "code",
      "metadata": {
        "id": "lFKVXV4PM4RX",
        "colab_type": "code",
        "colab": {}
      },
      "source": [
        "n_steps = 28\n",
        "n_inputs = 28\n",
        "n_neurons = 150\n",
        "n_outputs = 10\n",
        "\n",
        "learning_rate = 0.01\n",
        "\n",
        "graph = tf.Graph()\n",
        "\n",
        "with graph.as_default():\n",
        "  X = tf.placeholder(tf.float32, (None, n_steps, n_inputs))\n",
        "  y = tf.placeholder(tf.int32, (None))\n",
        "\n",
        "  basic_cell = tf.contrib.rnn.BasicRNNCell(num_units=n_neurons)\n",
        "  outputs, states = tf.nn.dynamic_rnn(basic_cell, X, dtype=tf.float32)\n",
        "\n",
        "  logits = tf.layers.dense(states, n_outputs)\n",
        "  xentropy = tf.nn.sparse_softmax_cross_entropy_with_logits(labels=y,\n",
        "                                                            logits=logits)\n",
        "  loss = tf.reduce_mean(xentropy)\n",
        "  optimizer = tf.train.AdadeltaOptimizer(learning_rate=learning_rate)\n",
        "  training_op = optimizer.minimize(loss)\n",
        "  correct = tf.nn.in_top_k(logits, y, 1)\n",
        "  accuracy = tf.reduce_mean(tf.cast(correct, tf.float32))\n",
        "\n",
        "  init = tf.global_variables_initializer()"
      ],
      "execution_count": 0,
      "outputs": []
    },
    {
      "cell_type": "code",
      "metadata": {
        "id": "1t7Ga0kjOs4e",
        "colab_type": "code",
        "colab": {
          "base_uri": "https://localhost:8080/",
          "height": 52
        },
        "outputId": "358d48b0-8d98-4570-9e3a-858b463a5f5c"
      },
      "source": [
        "(X_train, y_train), (X_test, y_test) = tf.keras.datasets.mnist.load_data()\n",
        "X_train = X_train.astype(np.float32).reshape(-1, 28*28) / 255.0\n",
        "X_test = X_test.astype(np.float32).reshape(-1, 28*28) / 255.0\n",
        "y_train = y_train.astype(np.int32)\n",
        "y_test = y_test.astype(np.int32)\n",
        "X_valid, X_train = X_train[:5000], X_train[5000:]\n",
        "y_valid, y_train = y_train[:5000], y_train[5000:]"
      ],
      "execution_count": 18,
      "outputs": [
        {
          "output_type": "stream",
          "text": [
            "Downloading data from https://storage.googleapis.com/tensorflow/tf-keras-datasets/mnist.npz\n",
            "11493376/11490434 [==============================] - 0s 0us/step\n"
          ],
          "name": "stdout"
        }
      ]
    },
    {
      "cell_type": "code",
      "metadata": {
        "id": "esVd0RNUO7Oa",
        "colab_type": "code",
        "colab": {}
      },
      "source": [
        "def shuffle_batch(X, y, batch_size):\n",
        "  rnd_idx = np.random.permutation(len(X))\n",
        "  n_batches = len(X) // batch_size\n",
        "  for batch_idx in np.array_split(rnd_idx, n_batches):\n",
        "    X_batch, y_batch = X[batch_idx], y[batch_idx]\n",
        "    yield X_batch, y_batch"
      ],
      "execution_count": 0,
      "outputs": []
    },
    {
      "cell_type": "code",
      "metadata": {
        "id": "pn9d3VvcO8Uz",
        "colab_type": "code",
        "colab": {}
      },
      "source": [
        "X_test = X_test.reshape((-1, n_steps, n_inputs))"
      ],
      "execution_count": 0,
      "outputs": []
    },
    {
      "cell_type": "code",
      "metadata": {
        "id": "fi7hg1KLPTOy",
        "colab_type": "code",
        "outputId": "05a8c82d-57ec-4992-85c9-01ef33ec768f",
        "colab": {
          "base_uri": "https://localhost:8080/",
          "height": 366
        }
      },
      "source": [
        "n_epochs = 100\n",
        "batch_size = 150\n",
        "\n",
        "with graph.as_default():\n",
        "  with tf.Session() as sess:\n",
        "    init.run()\n",
        "    for epoch in range(n_epochs):\n",
        "      for X_batch, y_batch in shuffle_batch(X_train, y_train, batch_size):\n",
        "          X_batch = X_batch.reshape((-1, n_steps, n_inputs))\n",
        "          sess.run(training_op, feed_dict={X: X_batch, y: y_batch})\n",
        "      if epoch % 5 == 0:\n",
        "        acc_train = accuracy.eval(feed_dict={X: X_batch, y: y_batch})\n",
        "        acc_test = accuracy.eval(feed_dict={X: X_test, y: y_test})\n",
        "        print(epoch, 'Train accuracy:', acc_train, 'Test accuracy:', acc_test)\n",
        "    acc_train = accuracy.eval(feed_dict={X: X_batch, y: y_batch})\n",
        "    acc_test = accuracy.eval(feed_dict={X: X_test, y: y_test})\n",
        "    print('Train accuracy:', acc_train, 'Test accuracy:', acc_test)"
      ],
      "execution_count": 0,
      "outputs": [
        {
          "output_type": "stream",
          "text": [
            "0 Train accuracy: 0.30666667 Test accuracy: 0.2735\n",
            "5 Train accuracy: 0.6666667 Test accuracy: 0.7017\n",
            "10 Train accuracy: 0.8 Test accuracy: 0.7769\n",
            "15 Train accuracy: 0.7733333 Test accuracy: 0.815\n",
            "20 Train accuracy: 0.76666665 Test accuracy: 0.8374\n",
            "25 Train accuracy: 0.85333335 Test accuracy: 0.8512\n",
            "30 Train accuracy: 0.8666667 Test accuracy: 0.8635\n",
            "35 Train accuracy: 0.86 Test accuracy: 0.8717\n",
            "40 Train accuracy: 0.87333333 Test accuracy: 0.8794\n",
            "45 Train accuracy: 0.9066667 Test accuracy: 0.8875\n",
            "50 Train accuracy: 0.9066667 Test accuracy: 0.8943\n",
            "55 Train accuracy: 0.93333334 Test accuracy: 0.8988\n",
            "60 Train accuracy: 0.9066667 Test accuracy: 0.9046\n",
            "65 Train accuracy: 0.93333334 Test accuracy: 0.9088\n",
            "70 Train accuracy: 0.9 Test accuracy: 0.9129\n",
            "75 Train accuracy: 0.9066667 Test accuracy: 0.9151\n",
            "80 Train accuracy: 0.88666666 Test accuracy: 0.9182\n",
            "85 Train accuracy: 0.87333333 Test accuracy: 0.9205\n",
            "90 Train accuracy: 0.9533333 Test accuracy: 0.9237\n",
            "95 Train accuracy: 0.92 Test accuracy: 0.9255\n",
            "Train accuracy: 0.92 Test accuracy: 0.9274\n"
          ],
          "name": "stdout"
        }
      ]
    },
    {
      "cell_type": "markdown",
      "metadata": {
        "id": "2FArnl_2Gow5",
        "colab_type": "text"
      },
      "source": [
        "The model achieves 92% accuracy, which is not too great compared to CNNs."
      ]
    },
    {
      "cell_type": "markdown",
      "metadata": {
        "id": "YWf43Kz5sC9a",
        "colab_type": "text"
      },
      "source": [
        "### Training to Predict Time Series\n",
        "\n",
        "Training an RNN with a single layer of 100 neurons. We will unroll it over 20 time steps where each input is a single feature. The target set is also sequences of 20 single features. It uses an `OutputProjectionWrapper` which adds a set of fully connected layer of linear neurons (with no activation function) on top of each output, separate from the cell state. They each have shared weights and biases that the model learns during training. "
      ]
    },
    {
      "cell_type": "code",
      "metadata": {
        "id": "pBHLicst62gy",
        "colab_type": "code",
        "colab": {}
      },
      "source": [
        "# This code generates the time series we will be predicting.\n",
        "\n",
        "t_min, t_max = 0, 30\n",
        "resolution = 0.1\n",
        "\n",
        "def time_series(t):\n",
        "  return t * np.sin(t) / 3 + 2 * np.sin(t*5)\n",
        "\n",
        "def next_batch(batch_size, n_steps):\n",
        "  t0 = np.random.rand(batch_size, 1) * (t_max - t_min - n_steps * resolution)\n",
        "  ts = t0 + np.arange(0., n_steps + 1) * resolution\n",
        "  ys = time_series(ts)\n",
        "  return ys[:, :-1].reshape(-1, n_steps, 1), ys[:, 1:].reshape(-1, n_steps, 1)"
      ],
      "execution_count": 0,
      "outputs": []
    },
    {
      "cell_type": "code",
      "metadata": {
        "id": "qm4VwQ-77iO4",
        "colab_type": "code",
        "colab": {
          "base_uri": "https://localhost:8080/",
          "height": 281
        },
        "outputId": "561bc0d1-896e-42fd-f96d-fdaa1826a87c"
      },
      "source": [
        "# Displaying the generated time series.\n",
        "\n",
        "import matplotlib.pyplot as plt\n",
        "\n",
        "t = np.linspace(t_min, t_max, int((t_max - t_min) / resolution))\n",
        "n_steps = 20\n",
        "t_instance = np.linspace(12.2, 12.2 + resolution * (n_steps + 1), n_steps + 1)\n",
        "\n",
        "plt.title('Generated Time Series')\n",
        "plt.plot(t, time_series(t), label='$t \\cdot \\sin(t) + 2 \\cdot \\sin(5t) $')\n",
        "plt.plot(t_instance[:-1], time_series(t_instance[:-1]), 'b-', linewidth=3,\n",
        "         label='A single training instance')\n",
        "plt.legend(loc='lower left', fontsize=14)\n",
        "plt.axis([0, 30, -17, 13])\n",
        "plt.show()"
      ],
      "execution_count": 24,
      "outputs": [
        {
          "output_type": "display_data",
          "data": {
            "image/png": "[encoded data removed]",
            "text/plain": [
              "<Figure size 432x288 with 1 Axes>"
            ]
          },
          "metadata": {
            "tags": []
          }
        }
      ]
    },
    {
      "cell_type": "code",
      "metadata": {
        "id": "iKcsLz0r9TqF",
        "colab_type": "code",
        "colab": {
          "base_uri": "https://localhost:8080/",
          "height": 281
        },
        "outputId": "ed3ce7f9-7cb6-40f4-f991-e1aff3ff60d9"
      },
      "source": [
        "# Plotting a training instance and target instance.\n",
        "\n",
        "plt.title('Training and Target Instance')\n",
        "plt.plot(t_instance[:-1], time_series(t_instance[:-1]), 'yo', markersize=10,\n",
        "         label='A training instance', mfc='none')\n",
        "plt.plot(t_instance[1:], time_series(t_instance[1:]), 'b*',\n",
        "         label='A target instance')\n",
        "plt.legend(loc='upper left')\n",
        "plt.show()"
      ],
      "execution_count": 44,
      "outputs": [
        {
          "output_type": "display_data",
          "data": {
            "image/png": "[encoded data removed]",
            "text/plain": [
              "<Figure size 432x288 with 1 Axes>"
            ]
          },
          "metadata": {
            "tags": []
          }
        }
      ]
    },
    {
      "cell_type": "code",
      "metadata": {
        "id": "O7oh46LJuNW7",
        "colab_type": "code",
        "colab": {}
      },
      "source": [
        "# Defining the model graph.\n",
        "\n",
        "n_steps = 20\n",
        "n_inputs = 1\n",
        "n_neurons = 100\n",
        "n_outputs = 1\n",
        "\n",
        "learning_rate = 0.01\n",
        "\n",
        "graph = tf.Graph()\n",
        "\n",
        "with graph.as_default():\n",
        "  X = tf.placeholder(tf.float32, (None, n_steps, n_inputs))\n",
        "  y = tf.placeholder(tf.float32, (None, n_steps, n_inputs))\n",
        "  cell = tf.contrib.rnn.OutputProjectionWrapper(\n",
        "      tf.contrib.rnn.BasicRNNCell(n_neurons, dtype=tf.float32),\n",
        "      output_size=n_outputs)\n",
        "  outputs, states = tf.nn.dynamic_rnn(cell, X, dtype=tf.float32)\n",
        "  loss = tf.reduce_mean(tf.square(outputs - y))\n",
        "  optimizer = tf.train.AdamOptimizer(learning_rate=learning_rate)\n",
        "  training_op = optimizer.minimize(loss)\n",
        "  saver = tf.train.Saver()\n",
        "  init = tf.global_variables_initializer()"
      ],
      "execution_count": 0,
      "outputs": []
    },
    {
      "cell_type": "code",
      "metadata": {
        "id": "ZbEhY4mr-Sd2",
        "colab_type": "code",
        "colab": {
          "base_uri": "https://localhost:8080/",
          "height": 276
        },
        "outputId": "f2c4522b-8c8c-40bf-acc8-64791c275953"
      },
      "source": [
        "# Training the model.\n",
        "\n",
        "n_iterations = 1500\n",
        "batch_size = 50\n",
        "\n",
        "with graph.as_default():\n",
        "  with tf.Session() as sess:\n",
        "    init.run()\n",
        "    for iteration in range(n_iterations):\n",
        "      X_batch, y_batch = next_batch(batch_size, n_steps)\n",
        "      sess.run(training_op, feed_dict={X: X_batch, y: y_batch})\n",
        "      if iteration % 100 == 0:\n",
        "        mse = loss.eval(feed_dict={X: X_batch, y: y_batch})\n",
        "        print(iteration, '\\tMSE:', mse)\n",
        "    saver.save(sess, './time_series_model.ckpt')"
      ],
      "execution_count": 42,
      "outputs": [
        {
          "output_type": "stream",
          "text": [
            "0 \tMSE: 4.66175\n",
            "100 \tMSE: 0.16126975\n",
            "200 \tMSE: 0.09532945\n",
            "300 \tMSE: 0.082004\n",
            "400 \tMSE: 0.069737375\n",
            "500 \tMSE: 0.06309689\n",
            "600 \tMSE: 0.058964457\n",
            "700 \tMSE: 0.050969504\n",
            "800 \tMSE: 0.044268537\n",
            "900 \tMSE: 0.045503315\n",
            "1000 \tMSE: 0.050827987\n",
            "1100 \tMSE: 0.04213542\n",
            "1200 \tMSE: 0.046863467\n",
            "1300 \tMSE: 0.039936036\n",
            "1400 \tMSE: 0.033970512\n"
          ],
          "name": "stdout"
        }
      ]
    },
    {
      "cell_type": "code",
      "metadata": {
        "id": "rQ_8jwaL_kje",
        "colab_type": "code",
        "colab": {
          "base_uri": "https://localhost:8080/",
          "height": 281
        },
        "outputId": "98f638d7-4be3-47fa-9da2-686fc2064c8c"
      },
      "source": [
        "# Plotting the prediction of the model.\n",
        "\n",
        "plt.title('Training and Target Instance')\n",
        "plt.plot(t_instance[:-1], time_series(t_instance[:-1]), 'yo', markersize=10,\n",
        "         label='A training instance', mfc='none')\n",
        "plt.plot(t_instance[1:], time_series(t_instance[1:]), 'bo', mfc='none',\n",
        "         label='A target instance')\n",
        "\n",
        "with graph.as_default():\n",
        "  with tf.Session() as sess:\n",
        "    saver.restore(sess, './time_series_model.ckpt')\n",
        "    X_new = time_series(\n",
        "        np.array(t_instance[:-1].reshape(-1, n_steps, n_inputs)))\n",
        "    y_pred = sess.run(outputs, feed_dict={X: X_new})\n",
        "\n",
        "plt.plot(t_instance[1:], y_pred[0,:,0], 'r*', label='The model prediction')\n",
        "plt.legend(loc='upper left')\n",
        "plt.show()"
      ],
      "execution_count": 58,
      "outputs": [
        {
          "output_type": "display_data",
          "data": {
            "image/png": "[encoded data removed]",
            "text/plain": [
              "<Figure size 432x288 with 1 Axes>"
            ]
          },
          "metadata": {
            "tags": []
          }
        }
      ]
    },
    {
      "cell_type": "markdown",
      "metadata": {
        "id": "3gUoZhZqDnbi",
        "colab_type": "text"
      },
      "source": [
        "It is possible to predict a time series without the `OutputProjectionMapper` in a more complex, but more efficient way. You can stack the RNN outputs at each time step (whos shape is originally `[batch_size, n_steps, n_neurons]`) into the shape `[batch_size * n_steps, n_neurons]`, then it applies a single, fully connected layer with the right output size. The result will have the shape `[batch_size * n_steps, n_outputs]` so we will reshape it to `[batch_size, n_steps, n_outputs]`. Below is a code example which uses this method on the same task as above: "
      ]
    },
    {
      "cell_type": "code",
      "metadata": {
        "id": "vCrdZNdPDipO",
        "colab_type": "code",
        "colab": {}
      },
      "source": [
        "graph = tf.Graph()\n",
        "\n",
        "with graph.as_default():\n",
        "  X = tf.placeholder(tf.float32, (None, n_steps, n_inputs))\n",
        "  y = tf.placeholder(tf.float32, (None, n_steps, n_outputs))\n",
        "\n",
        "  cell = tf.contrib.rnn.BasicRNNCell(n_neurons, dtype=tf.float32)\n",
        "  rnn_outputs, states = tf.nn.dynamic_rnn(cell, X, dtype=tf.float32)\n",
        "\n",
        "  stacked_rnn_outputs = tf.reshape(rnn_outputs, (-1, n_neurons))\n",
        "  stacked_outputs = tf.layers.dense(stacked_rnn_outputs, n_outputs)\n",
        "  outputs = tf.reshape(stacked_outputs, (-1, n_steps, n_outputs))\n",
        "\n",
        "  loss = tf.reduce_mean(tf.square(outputs - y))\n",
        "  optimizer = tf.train.AdamOptimizer(learning_rate=learning_rate)\n",
        "  training_op = optimizer.minimize(loss)\n",
        "\n",
        "  saver = tf.train.Saver()\n",
        "  init = tf.global_variables_initializer()"
      ],
      "execution_count": 0,
      "outputs": []
    },
    {
      "cell_type": "code",
      "metadata": {
        "id": "9WOOpJ2tFxVZ",
        "colab_type": "code",
        "colab": {
          "base_uri": "https://localhost:8080/",
          "height": 276
        },
        "outputId": "4e154963-ebd5-4307-b3da-bec95dc27e59"
      },
      "source": [
        "n_iterations = 1500\n",
        "batch_size = 50\n",
        "\n",
        "with graph.as_default():\n",
        "  with tf.Session() as sess:\n",
        "    init.run()\n",
        "    for iteration in range(n_iterations):\n",
        "      X_batch, y_batch = next_batch(batch_size, n_steps)\n",
        "      sess.run(training_op, feed_dict={X: X_batch, y: y_batch})\n",
        "      if iteration % 100 == 0:\n",
        "        mse = loss.eval(feed_dict={X: X_batch, y: y_batch})\n",
        "        print(iteration, '\\tMSE:', mse)\n",
        "    saver.save(sess, './time_series_model.ckpt')"
      ],
      "execution_count": 66,
      "outputs": [
        {
          "output_type": "stream",
          "text": [
            "0 \tMSE: 6.2858095\n",
            "100 \tMSE: 0.15273757\n",
            "200 \tMSE: 0.099299\n",
            "300 \tMSE: 0.09494527\n",
            "400 \tMSE: 0.071992084\n",
            "500 \tMSE: 0.06048573\n",
            "600 \tMSE: 0.05358586\n",
            "700 \tMSE: 0.037519827\n",
            "800 \tMSE: 0.052616816\n",
            "900 \tMSE: 0.04677847\n",
            "1000 \tMSE: 0.0414243\n",
            "1100 \tMSE: 0.048052598\n",
            "1200 \tMSE: 0.037101965\n",
            "1300 \tMSE: 0.044686966\n",
            "1400 \tMSE: 0.038650557\n"
          ],
          "name": "stdout"
        }
      ]
    },
    {
      "cell_type": "markdown",
      "metadata": {
        "id": "cnqQzlpuGC1u",
        "colab_type": "text"
      },
      "source": [
        "### Creative RNN\n",
        "\n",
        "We can have the model generate an entirely new series. We first train the model (or used the trained model above). Then we provide it a seed sequence, it could be a training instance or a sequence of zeros. We have the model predict the last step in the sequence, then you feed it the next `n_steps` and then the model predicts the next term in the sequence. You can repeat this process to generate an entirely new sequence."
      ]
    },
    {
      "cell_type": "code",
      "metadata": {
        "id": "FApcnJE6ICi6",
        "colab_type": "code",
        "colab": {}
      },
      "source": [
        "# Seeding it with a sequence of zeros.\n",
        "\n",
        "sequence = [0.0] * n_steps\n",
        "with graph.as_default():\n",
        "  with tf.Session() as sess:\n",
        "    saver.restore(sess, './time_series_model.ckpt')\n",
        "    for iteration in range(300):\n",
        "      X_batch = np.array(sequence[-n_steps:]).reshape(1, n_steps, 1)\n",
        "      y_pred = sess.run(outputs, feed_dict={X: X_batch})\n",
        "      sequence.append(y_pred[0,-1,0])"
      ],
      "execution_count": 0,
      "outputs": []
    },
    {
      "cell_type": "code",
      "metadata": {
        "id": "dZSgZ60mJwwW",
        "colab_type": "code",
        "colab": {
          "base_uri": "https://localhost:8080/",
          "height": 281
        },
        "outputId": "dd070203-9f5a-43dd-8a42-179e914d4fab"
      },
      "source": [
        "# Plotting the result.\n",
        "\n",
        "plt.plot(np.arange(len(sequence)), sequence)\n",
        "plt.title('Generated Sequence')\n",
        "plt.show()"
      ],
      "execution_count": 70,
      "outputs": [
        {
          "output_type": "display_data",
          "data": {
            "image/png": "[encoded data removed]",
            "text/plain": [
              "<Figure size 432x288 with 1 Axes>"
            ]
          },
          "metadata": {
            "tags": []
          }
        }
      ]
    },
    {
      "cell_type": "code",
      "metadata": {
        "id": "k8bAbAF4L-n6",
        "colab_type": "code",
        "colab": {}
      },
      "source": [
        "# Repeating the same task, but using a training instance as the seed.\n",
        "\n",
        "sequence = [time_series((i * resolution) + t_min + t_max - (t_min / 3))\n",
        "            for i in range(n_steps)]\n",
        "with graph.as_default():\n",
        "  with tf.Session() as sess:\n",
        "    saver.restore(sess, './time_series_model.ckpt')\n",
        "    for iteration in range(300):\n",
        "      X_batch = np.array(sequence[-n_steps:]).reshape(1, n_steps, 1)\n",
        "      y_pred = sess.run(outputs, feed_dict={X: X_batch})\n",
        "      sequence.append(y_pred[0,-1,0])"
      ],
      "execution_count": 0,
      "outputs": []
    },
    {
      "cell_type": "code",
      "metadata": {
        "id": "ad_Yl56XMfO3",
        "colab_type": "code",
        "colab": {
          "base_uri": "https://localhost:8080/",
          "height": 281
        },
        "outputId": "30498592-27d8-4065-d57a-0ea30964837b"
      },
      "source": [
        "# Plotting the result.\n",
        "\n",
        "plt.plot(np.arange(len(sequence)), sequence)\n",
        "plt.plot(np.arange(n_steps), sequence[:n_steps], linewidth=3)\n",
        "plt.title('Generated Sequence')\n",
        "plt.show()"
      ],
      "execution_count": 73,
      "outputs": [
        {
          "output_type": "display_data",
          "data": {
            "image/png": "[encoded data removed]",
            "text/plain": [
              "<Figure size 432x288 with 1 Axes>"
            ]
          },
          "metadata": {
            "tags": []
          }
        }
      ]
    },
    {
      "cell_type": "markdown",
      "metadata": {
        "id": "KDNQttvtMwrU",
        "colab_type": "text"
      },
      "source": [
        "## Deep RNNs\n",
        "\n",
        "A _deep RNN_ is one that stacks multiple layers of cells. Below is an example of a deep RNN which uses the `MultiRNNCell`."
      ]
    },
    {
      "cell_type": "code",
      "metadata": {
        "id": "o5W3eP4fNT0v",
        "colab_type": "code",
        "colab": {}
      },
      "source": [
        "n_steps = 28\n",
        "n_inputs = 28\n",
        "n_outputs = 10\n",
        "n_neurons = 100\n",
        "n_layers = 3\n",
        "learning_rate = 0.01\n",
        "\n",
        "graph = tf.Graph()\n",
        "\n",
        "with graph.as_default():\n",
        "  X = tf.placeholder(tf.float32, (None, n_steps, n_inputs))\n",
        "  y = tf.placeholder(tf.int32, (None))\n",
        "  layers = [tf.nn.rnn_cell.BasicRNNCell(num_units=n_neurons,\n",
        "                                        activation=tf.nn.relu)\n",
        "            for layer in range(n_layers)]\n",
        "  multi_layer_cell = tf.nn.rnn_cell.MultiRNNCell(layers)\n",
        "  outputs, states = tf.nn.dynamic_rnn(multi_layer_cell, X, dtype=tf.float32)\n",
        "  flattened_states = tf.concat(axis=1, values=states)\n",
        "  logits = tf.layers.dense(flattened_states, n_outputs)\n",
        "  xentropy = tf.nn.sparse_softmax_cross_entropy_with_logits(labels=y,\n",
        "                                                            logits=logits)\n",
        "  loss = tf.reduce_mean(xentropy)\n",
        "  optimizer = tf.train.AdadeltaOptimizer(learning_rate=learning_rate)\n",
        "  training_op = optimizer.minimize(loss)\n",
        "  correct = tf.nn.in_top_k(logits, y, 1)\n",
        "  accuracy = tf.reduce_mean(tf.cast(correct, tf.float32))\n",
        "\n",
        "  init = tf.global_variables_initializer()"
      ],
      "execution_count": 0,
      "outputs": []
    },
    {
      "cell_type": "code",
      "metadata": {
        "id": "kzkWcxMTNi0y",
        "colab_type": "code",
        "colab": {
          "base_uri": "https://localhost:8080/",
          "height": 449
        },
        "outputId": "bbf44454-fbca-432a-ba9b-463eaca896ed"
      },
      "source": [
        "n_epochs = 25\n",
        "batch_size = 150\n",
        "\n",
        "with graph.as_default():\n",
        "  with tf.Session() as sess:\n",
        "    init.run()\n",
        "    for epoch in range(n_epochs):\n",
        "      for X_batch, y_batch in shuffle_batch(X_train, y_train, batch_size):\n",
        "          X_batch = X_batch.reshape((-1, n_steps, n_inputs))\n",
        "          sess.run(training_op, feed_dict={X: X_batch, y: y_batch})\n",
        "      acc_train = accuracy.eval(feed_dict={X: X_batch, y: y_batch})\n",
        "      acc_test = accuracy.eval(feed_dict={X: X_test, y: y_test})\n",
        "      print(epoch, 'Train accuracy:', acc_train, 'Test accuracy:', acc_test)"
      ],
      "execution_count": 76,
      "outputs": [
        {
          "output_type": "stream",
          "text": [
            "0 Train accuracy: 0.14 Test accuracy: 0.1568\n",
            "1 Train accuracy: 0.16 Test accuracy: 0.1796\n",
            "2 Train accuracy: 0.35333332 Test accuracy: 0.3128\n",
            "3 Train accuracy: 0.64666665 Test accuracy: 0.5418\n",
            "4 Train accuracy: 0.6666667 Test accuracy: 0.6485\n",
            "5 Train accuracy: 0.7 Test accuracy: 0.6787\n",
            "6 Train accuracy: 0.64666665 Test accuracy: 0.6976\n",
            "7 Train accuracy: 0.68666667 Test accuracy: 0.7063\n",
            "8 Train accuracy: 0.6933333 Test accuracy: 0.7151\n",
            "9 Train accuracy: 0.70666665 Test accuracy: 0.7251\n",
            "10 Train accuracy: 0.74 Test accuracy: 0.7325\n",
            "11 Train accuracy: 0.75333333 Test accuracy: 0.7391\n",
            "12 Train accuracy: 0.76 Test accuracy: 0.7463\n",
            "13 Train accuracy: 0.7 Test accuracy: 0.7528\n",
            "14 Train accuracy: 0.74666667 Test accuracy: 0.7614\n",
            "15 Train accuracy: 0.79333335 Test accuracy: 0.7673\n",
            "16 Train accuracy: 0.79333335 Test accuracy: 0.7716\n",
            "17 Train accuracy: 0.81333333 Test accuracy: 0.7783\n",
            "18 Train accuracy: 0.86 Test accuracy: 0.7826\n",
            "19 Train accuracy: 0.79333335 Test accuracy: 0.7831\n",
            "20 Train accuracy: 0.82666665 Test accuracy: 0.7948\n",
            "21 Train accuracy: 0.8 Test accuracy: 0.7978\n",
            "22 Train accuracy: 0.82 Test accuracy: 0.7998\n",
            "23 Train accuracy: 0.7866667 Test accuracy: 0.8075\n",
            "24 Train accuracy: 0.8 Test accuracy: 0.8068\n"
          ],
          "name": "stdout"
        }
      ]
    },
    {
      "cell_type": "markdown",
      "metadata": {
        "id": "NJ_ZLDIRimec",
        "colab_type": "text"
      },
      "source": [
        "### Distributing a Deep RNN Across Multiple Devices"
      ]
    },
    {
      "cell_type": "code",
      "metadata": {
        "id": "RpyB6Nl_ix7m",
        "colab_type": "code",
        "colab": {}
      },
      "source": [
        "# The following code will not work since BasicRNNCell is not an actual cell\n",
        "# itself, rather it is a cell factory, it does not produce any cells by itself.\n",
        "\n",
        "with tf.device('/gpu:0'):\n",
        "  layer1 = tf.contrib.rnn.BasicRNNCell(num_units=n_neurons)\n",
        "\n",
        "with tf.device('/gpu:1'):\n",
        "  layer2 = tf.contrib.rnn.BasicRNNCell(num_units=n_neurons)"
      ],
      "execution_count": 0,
      "outputs": []
    },
    {
      "cell_type": "code",
      "metadata": {
        "id": "faEwnJPDjVFq",
        "colab_type": "code",
        "colab": {}
      },
      "source": [
        "# The proper way to distribute an RNN.\n",
        "\n",
        "class DeviceCellWrapper(tf.contrib.rnn.RNNCell):\n",
        "  def __init__(self, device, cell):\n",
        "    self._cell = cell\n",
        "    self._device = device\n",
        "  \n",
        "  @property\n",
        "  def state_size(self):\n",
        "    return self._cell.state_size\n",
        "  \n",
        "  @property\n",
        "  def output_size(self):\n",
        "    return self._cell.output_size\n",
        "  \n",
        "  def __call__(self, inputs, state, scope=None):\n",
        "    with tf.device(self._device):\n",
        "      return self._cell(inputs, state, scope)"
      ],
      "execution_count": 0,
      "outputs": []
    },
    {
      "cell_type": "code",
      "metadata": {
        "id": "-mUQ5tMtjos3",
        "colab_type": "code",
        "colab": {}
      },
      "source": [
        "# Using the new factory in a graph.\n",
        "\n",
        "graph = tf.Graph()\n",
        "\n",
        "with graph.as_default():\n",
        "  X = tf.placeholder(tf.float32, shape=(None, n_steps, n_inputs))\n",
        "  devices = ['/gpu:0', '/gpu:1', '/gpu:2']\n",
        "  cells = [\n",
        "    DeviceCellWrapper(dev, tf.contrib.rnn.BasicRNNCell(num_units=n_neurons))\n",
        "    for dev in devices\n",
        "  ]\n",
        "  multi_layer_cell = tf.contrib.rnn.MultiRNNCell(cells)\n",
        "  outputs, states = tf.nn.dynamic_rnn(multi_layer_cell, X, dtype=tf.float32)"
      ],
      "execution_count": 0,
      "outputs": []
    },
    {
      "cell_type": "markdown",
      "metadata": {
        "id": "I5a4D4PikV1C",
        "colab_type": "text"
      },
      "source": [
        "### Applying Dropout\n",
        "\n",
        "In order to prevent a deep RNN from overfitting, we are going to add dropout."
      ]
    },
    {
      "cell_type": "code",
      "metadata": {
        "id": "i0F-pBygkx30",
        "colab_type": "code",
        "colab": {}
      },
      "source": [
        "n_steps = 20\n",
        "n_inputs = 1\n",
        "n_neurons = 100\n",
        "n_outputs = 1\n",
        "\n",
        "learning_rate = 0.01\n",
        "\n",
        "graph = tf.Graph()\n",
        "\n",
        "with graph.as_default():\n",
        "  X = tf.placeholder(tf.float32, shape=(None, n_steps, n_inputs))\n",
        "  y = tf.placeholder(tf.float32, (None, n_steps, n_outputs))\n",
        "  keep_prob = tf.placeholder_with_default(1.0, shape=())\n",
        "  cells = [tf.contrib.rnn.BasicRNNCell(num_units=n_neurons)\n",
        "          for _ in range(n_layers)]\n",
        "  cells_drop = [tf.contrib.rnn.DropoutWrapper(cell, input_keep_prob=keep_prob)\n",
        "                for cell in cells]\n",
        "  multi_layer_cell = tf.contrib.rnn.MultiRNNCell(cells_drop)\n",
        "  rnn_outputs, states = tf.nn.dynamic_rnn(multi_layer_cell, X, dtype=tf.float32)\n",
        "\n",
        "  # Same code as before...\n",
        "  stacked_rnn_outputs = tf.reshape(rnn_outputs, (-1, n_neurons))\n",
        "  stacked_outputs = tf.layers.dense(stacked_rnn_outputs, n_outputs)\n",
        "  outputs = tf.reshape(stacked_outputs, (-1, n_steps, n_outputs))\n",
        "\n",
        "  loss = tf.reduce_mean(tf.square(outputs - y))\n",
        "  optimizer = tf.train.AdamOptimizer(learning_rate=learning_rate)\n",
        "  training_op = optimizer.minimize(loss)\n",
        "\n",
        "  saver = tf.train.Saver()\n",
        "  init = tf.global_variables_initializer()"
      ],
      "execution_count": 0,
      "outputs": []
    },
    {
      "cell_type": "code",
      "metadata": {
        "id": "9mZSmLH7lr3H",
        "colab_type": "code",
        "colab": {
          "base_uri": "https://localhost:8080/",
          "height": 276
        },
        "outputId": "6fa3c91d-976b-407c-f42c-3b685c2eb1a5"
      },
      "source": [
        "n_iterations = 1500\n",
        "batch_size = 50\n",
        "\n",
        "with graph.as_default():\n",
        "  with tf.Session() as sess:\n",
        "    init.run()\n",
        "    for iteration in range(n_iterations):\n",
        "      X_batch, y_batch = next_batch(batch_size, n_steps)\n",
        "      sess.run(training_op, feed_dict={X: X_batch, y: y_batch, keep_prob: 0.5})\n",
        "      if iteration % 100 == 0:\n",
        "        mse = loss.eval(feed_dict={X: X_batch, y: y_batch})\n",
        "        print(iteration, '\\tMSE:', mse)\n",
        "    saver.save(sess, './time_series_model.ckpt')"
      ],
      "execution_count": 87,
      "outputs": [
        {
          "output_type": "stream",
          "text": [
            "0 \tMSE: 11.652617\n",
            "100 \tMSE: 5.6378713\n",
            "200 \tMSE: 5.6762824\n",
            "300 \tMSE: 2.6852584\n",
            "400 \tMSE: 4.659208\n",
            "500 \tMSE: 4.0943856\n",
            "600 \tMSE: 3.8520205\n",
            "700 \tMSE: 3.9903667\n",
            "800 \tMSE: 4.800538\n",
            "900 \tMSE: 5.6944103\n",
            "1000 \tMSE: 4.888236\n",
            "1100 \tMSE: 4.843078\n",
            "1200 \tMSE: 3.624496\n",
            "1300 \tMSE: 5.2199135\n",
            "1400 \tMSE: 5.9356036\n"
          ],
          "name": "stdout"
        }
      ]
    },
    {
      "cell_type": "code",
      "metadata": {
        "id": "fsSO1StAonLI",
        "colab_type": "code",
        "colab": {
          "base_uri": "https://localhost:8080/",
          "height": 281
        },
        "outputId": "e2eb163d-2d1f-464f-9974-c69cf526325c"
      },
      "source": [
        "# Plotting the prediction of the model with dropout.\n",
        "# For this example, dropout made the model perform worse.\n",
        "\n",
        "plt.title('Training and Target Instance')\n",
        "plt.plot(t_instance[:-1], time_series(t_instance[:-1]), 'yo', markersize=10,\n",
        "         label='A training instance', mfc='none')\n",
        "plt.plot(t_instance[1:], time_series(t_instance[1:]), 'bo', mfc='none',\n",
        "         label='A target instance')\n",
        "\n",
        "with graph.as_default():\n",
        "  with tf.Session() as sess:\n",
        "    saver.restore(sess, './time_series_model.ckpt')\n",
        "    X_new = time_series(\n",
        "        np.array(t_instance[:-1].reshape(-1, n_steps, n_inputs)))\n",
        "    y_pred = sess.run(outputs, feed_dict={X: X_new})\n",
        "\n",
        "plt.plot(t_instance[1:], y_pred[0,:,0], 'r*', label='The model prediction')\n",
        "plt.legend(loc='upper left')\n",
        "plt.show()"
      ],
      "execution_count": 89,
      "outputs": [
        {
          "output_type": "display_data",
          "data": {
            "image/png": "[encoded data removed]",
            "text/plain": [
              "<Figure size 432x288 with 1 Axes>"
            ]
          },
          "metadata": {
            "tags": []
          }
        }
      ]
    },
    {
      "cell_type": "markdown",
      "metadata": {
        "id": "TPzLO-TUpDkV",
        "colab_type": "text"
      },
      "source": [
        "### The Difficulty of Training over Many Times\n",
        "\n",
        "Training RNNs to predict long sequences can be difficult because the unrolled network is very deep and can suffer from the vanishing/exploding gradients problem. Many tricks can that were discussed in Chapter 11 can be used (e.g. nonsaturating activation functions, Batch Normalization, Gradient Clipping, and better optimizers). However, training RNNs with sequences that have even 100 time steps can be very slow.\n",
        "\n",
        "One method is to unroll the RNN for only a few time steps, this is called _truncated backpropagation through time_. In TensorFlow, this would be equivalent to reducing the `n_steps` parameter. However, if you do this, the model will have a hard time learning patterns over longer spans of time steps.\n",
        "\n",
        "Another problem faced by basic RNN cells is that they forget the patterns they learned from the earliest input. This can be a problem, so different cells have been developed to store patterns over long spans of time steps. The most common is the LSTM cell, discussed below."
      ]
    }
  ]
}