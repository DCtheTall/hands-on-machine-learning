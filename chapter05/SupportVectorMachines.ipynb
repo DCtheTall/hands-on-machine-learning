{
  "nbformat": 4,
  "nbformat_minor": 0,
  "metadata": {
    "colab": {
      "name": "SupportVectorMachines.ipynb",
      "version": "0.3.2",
      "provenance": [],
      "collapsed_sections": []
    },
    "kernelspec": {
      "name": "python3",
      "display_name": "Python 3"
    }
  },
  "cells": [
    {
      "metadata": {
        "id": "XNntXFPp09Dk",
        "colab_type": "text"
      },
      "cell_type": "markdown",
      "source": [
        "# Chapter 5: Support Vector Machines\n",
        "\n",
        "<i>Support Vector Machines</i> are a machine learning algorithm capable of both\n",
        "linear and nonlinear classification. They are best for small- to medium-sized\n",
        "datasets.\n",
        "\n",
        "## Linear SVM Classification\n",
        "\n",
        "One useful property of SVMs is that unlike other linear classifiers, SVMs'\n",
        "decision boundary will be as far from the training instances as possible. This\n",
        "is called <i>large margin classification.</i> SVMs try to find the largest possible margin (or \"street\") that can be used as a decision boundary between classes.\n",
        "\n",
        "Adding training instances far off the street will not affect the outcome\n",
        "of training the model. Instances on the edge of the street are referred to as <i>support vectors.</i>\n",
        "\n",
        "SVMs are also sensitive to the scale of the data being used to train the model.\n",
        "\n",
        "### Soft Margin Classification\n",
        "\n",
        "<i>Hard margin classification</i> is when a model requires each instance of each class be on the same side of the street. Training models this way is only possible when the data is linearly separable and is sensitive to outliers.\n",
        "\n",
        "Another way to train the model is to aim for the widest street possible while limiting the number of <i>margin violations</i> (instances that end up on the street or on the wrong side). This method is called <i>soft margin classification</i>. In Scikit-Learn, you can tune how lenient the model is with margin violations using the $C$ hyperparameter. Large values of $C$ allow for fewer margin violations and a thinner street, whereas smaller values of $C$ allow for more margin violations and a larger street."
      ]
    },
    {
      "metadata": {
        "id": "WvgqyADo06e9",
        "colab_type": "code",
        "outputId": "5d26a629-2608-4cb0-eb14-fb238ad0b781",
        "colab": {
          "base_uri": "https://localhost:8080/",
          "height": 89
        }
      },
      "cell_type": "code",
      "source": [
        "# The following code uses Scikit-Learn to classify the iris dataset using\n",
        "# an SVM\n",
        "\n",
        "import warnings\n",
        "import numpy as np\n",
        "from sklearn import datasets\n",
        "from sklearn.pipeline import Pipeline\n",
        "from sklearn.preprocessing import StandardScaler\n",
        "from sklearn.svm import LinearSVC\n",
        "\n",
        "warnings.filterwarnings(\"ignore\")\n",
        "\n",
        "iris = datasets.load_iris()\n",
        "X = iris['data'][:, (2, 3)]  # petal length, width\n",
        "y = (iris['target'] == 2).astype(np.float64)\n",
        "\n",
        "svm_clf = Pipeline([\n",
        "  ('scaler', StandardScaler()),\n",
        "  ('linear_svc', LinearSVC(C=1, loss='hinge'))\n",
        "])\n",
        "\n",
        "svm_clf.fit(X, y)"
      ],
      "execution_count": 2,
      "outputs": [
        {
          "output_type": "execute_result",
          "data": {
            "text/plain": [
              "Pipeline(memory=None,\n",
              "     steps=[('scaler', StandardScaler(copy=True, with_mean=True, with_std=True)), ('linear_svc', LinearSVC(C=1, class_weight=None, dual=True, fit_intercept=True,\n",
              "     intercept_scaling=1, loss='hinge', max_iter=1000, multi_class='ovr',\n",
              "     penalty='l2', random_state=None, tol=0.0001, verbose=0))])"
            ]
          },
          "metadata": {
            "tags": []
          },
          "execution_count": 2
        }
      ]
    },
    {
      "metadata": {
        "id": "E7UOR1Sm-ULf",
        "colab_type": "code",
        "outputId": "1a67878e-b4b7-4271-b420-5d02841ee876",
        "colab": {
          "base_uri": "https://localhost:8080/",
          "height": 35
        }
      },
      "cell_type": "code",
      "source": [
        "svm_clf.predict([[5.5, 1.7]])"
      ],
      "execution_count": 3,
      "outputs": [
        {
          "output_type": "execute_result",
          "data": {
            "text/plain": [
              "array([1.])"
            ]
          },
          "metadata": {
            "tags": []
          },
          "execution_count": 3
        }
      ]
    },
    {
      "metadata": {
        "id": "CsIebKSp-mgG",
        "colab_type": "text"
      },
      "cell_type": "markdown",
      "source": [
        "You can also uses the `SVC` class using `SVC(kernel='linear', C='1')`, but it is much slower than `LinearSVC`. You can also use the `SGDClassifier` class using `SGDClassifier(loss='hinge', alpha=1/(m*C))` which would apply Stochastic Gradient Descent to train a linear SVM classifier.\n",
        "\n",
        "## Nonlinear SVM Classification\n",
        "\n",
        "Often datasets are not linearly separable. One thing you can do is add polynomial features to the dataset to make it linearly separable. An example of this is shown below."
      ]
    },
    {
      "metadata": {
        "id": "h4rbJ8Py_9tc",
        "colab_type": "code",
        "outputId": "a62cebf4-ec09-462e-e7b8-a1734d6bdaa6",
        "colab": {
          "base_uri": "https://localhost:8080/",
          "height": 89
        }
      },
      "cell_type": "code",
      "source": [
        "from sklearn.datasets import make_moons\n",
        "from sklearn.preprocessing import PolynomialFeatures\n",
        "\n",
        "X, y = make_moons()\n",
        "\n",
        "poly_svm_clf = Pipeline([\n",
        "  ('poly_features', PolynomialFeatures(degree=3)),\n",
        "  ('scaler', StandardScaler()),\n",
        "  ('svm_clf', LinearSVC(C=10, loss='hinge')),\n",
        "])\n",
        "\n",
        "poly_svm_clf.fit(X, y)"
      ],
      "execution_count": 4,
      "outputs": [
        {
          "output_type": "execute_result",
          "data": {
            "text/plain": [
              "Pipeline(memory=None,\n",
              "     steps=[('poly_features', PolynomialFeatures(degree=3, include_bias=True, interaction_only=False)), ('scaler', StandardScaler(copy=True, with_mean=True, with_std=True)), ('svm_clf', LinearSVC(C=10, class_weight=None, dual=True, fit_intercept=True,\n",
              "     intercept_scaling=1, loss='hinge', max_iter=1000, multi_class='ovr',\n",
              "     penalty='l2', random_state=None, tol=0.0001, verbose=0))])"
            ]
          },
          "metadata": {
            "tags": []
          },
          "execution_count": 4
        }
      ]
    },
    {
      "metadata": {
        "id": "7-KtLLe0BfZA",
        "colab_type": "text"
      },
      "cell_type": "markdown",
      "source": [
        "### Polynomial Kernel\n",
        "\n",
        "It can be difficult to choose the right degree of polynomial to use for transforming the data before fitting. SVMs are able train themselves to use\n",
        "polynomials without you having to add them using the <i>kernel trick</i>. An example of doing this with Scikit-Learn is below using polynomial features up to degree 3."
      ]
    },
    {
      "metadata": {
        "id": "IVPsQ21FCEwY",
        "colab_type": "code",
        "outputId": "4afcb115-9e93-41ad-97b1-2d02e0d61799",
        "colab": {
          "base_uri": "https://localhost:8080/",
          "height": 107
        }
      },
      "cell_type": "code",
      "source": [
        "from sklearn.svm import SVC\n",
        "\n",
        "poly_kernel_svm_clf = Pipeline([\n",
        "  ('scaler', StandardScaler()),\n",
        "  ('svm_clf', SVC(kernel='poly', degree=3, coef0=0.1, C=5))\n",
        "])\n",
        "\n",
        "poly_kernel_svm_clf.fit(X, y)"
      ],
      "execution_count": 5,
      "outputs": [
        {
          "output_type": "execute_result",
          "data": {
            "text/plain": [
              "Pipeline(memory=None,\n",
              "     steps=[('scaler', StandardScaler(copy=True, with_mean=True, with_std=True)), ('svm_clf', SVC(C=5, cache_size=200, class_weight=None, coef0=0.1,\n",
              "  decision_function_shape='ovr', degree=3, gamma='auto_deprecated',\n",
              "  kernel='poly', max_iter=-1, probability=False, random_state=None,\n",
              "  shrinking=True, tol=0.001, verbose=False))])"
            ]
          },
          "metadata": {
            "tags": []
          },
          "execution_count": 5
        }
      ]
    },
    {
      "metadata": {
        "id": "WPpCstxlDgYl",
        "colab_type": "text"
      },
      "cell_type": "markdown",
      "source": [
        "If the model is underfitting, you can increase the degree (or lower the degree if it is overfitting). You can also tune the `coef0` hyperparameter which controls how sensitive the model is to high degree polynomials versus low degree polynomials.\n",
        "\n",
        "### Adding Similarity Features\n",
        "\n",
        "Another way to solve nonlinear problems is to add features computed using a <i>similarity function</i> that measures how much each instance resembles a <i>landmark</i>. One example of a similarity function is called the Gaussian <i>Radial Basis Function</i> (RBF),\n",
        "\n",
        "$$ \\phi_\\gamma(\\mathbf{x}, \\mathbf{\\ell}) =\n",
        "\\exp\\left(-\\gamma\\,||\\mathbf{x} - \\mathbf{\\ell} ||^2\\right) $$\n",
        "\n",
        "which has a range of 0 (very far from the landmark) to 1 (at the landmark). Often one uses each instance in the training set as a landmark, then drops the original features. However, for large datasets this can greatly increase the time it takes to train a model.\n",
        "\n",
        "### Guassian RBF Kernel\n",
        "\n",
        "Scikit-Learn's `SVC` class can use a kernel trick to train a model as if it had computed all of the similarity features without the combinatorial overhead. An example implementation is below."
      ]
    },
    {
      "metadata": {
        "id": "t3pdW-5Z85PM",
        "colab_type": "code",
        "outputId": "95f7b7a6-e2b4-42a4-f432-9309c47ae29a",
        "colab": {
          "base_uri": "https://localhost:8080/",
          "height": 107
        }
      },
      "cell_type": "code",
      "source": [
        "rbf_kernel_clf = Pipeline([\n",
        "  ('scaler', StandardScaler()),\n",
        "  ('', SVC(kernel='rbf', C=.001, gamma=5)),\n",
        "])\n",
        "\n",
        "rbf_kernel_clf.fit(X, y)"
      ],
      "execution_count": 6,
      "outputs": [
        {
          "output_type": "execute_result",
          "data": {
            "text/plain": [
              "Pipeline(memory=None,\n",
              "     steps=[('scaler', StandardScaler(copy=True, with_mean=True, with_std=True)), ('', SVC(C=0.001, cache_size=200, class_weight=None, coef0=0.0,\n",
              "  decision_function_shape='ovr', degree=3, gamma=5, kernel='rbf',\n",
              "  max_iter=-1, probability=False, random_state=None, shrinking=True,\n",
              "  tol=0.001, verbose=False))])"
            ]
          },
          "metadata": {
            "tags": []
          },
          "execution_count": 6
        }
      ]
    },
    {
      "metadata": {
        "id": "c_HQTMU99Oay",
        "colab_type": "text"
      },
      "cell_type": "markdown",
      "source": [
        "the hyerperameter parameter `gamma` influences the shape of the bell curve. See the mathematical definition for the Gaussian RBF above.\n",
        "\n",
        "### Computational Complexity\n",
        "\n",
        "The `LinearSVC` class uses a library called [`liblinear`](https://www.csie.ntu.edu.tw/~cjlin/liblinear/), which uses an [optimized algorithm](https://www.csie.ntu.edu.tw/~cjlin/papers/cddual.pdf) for training linear kernels. It does not support the kernel trick. The computational complexity is $O(n \\times m)$ where $n$ is the dimension of the vectors in the training set and $m$ is the size of the training set.\n",
        "\n",
        "The `SVC` class uses the [`libsvm`](https://www.csie.ntu.edu.tw/~cjlin/libsvm/) which implements an [algorithm](https://www.microsoft.com/en-us/research/publication/sequential-minimal-optimization-a-fast-algorithm-for-training-support-vector-machines/?from=http%3A%2F%2Fresearch.microsoft.com%2Fpubs%2F69644%2Ftr-98-14.pdf) which supports the kernel trick. The training time complexity of training an algorithm is generally in the range of $O(m^2 \\times n)$ to $O(m^3 \\times n)$, making it very slow when the training set has a large size. This makes nonlinear SVM classifiers best for small to medium size, complex training sets.\n",
        "\n",
        "## SVM Regression\n",
        "\n",
        "SVMs also support regression by reversing the objective. It tries to create streets which intersects the most training instances. Scikit-Learn's `LinearSVR` class implements this regression, and uses the hyperparameter $\\epsilon$ to determine the width of the margin, the larger $\\epsilon$, the larger the margin used when determining the optimal \"street\" to train the model. Below is an example of using Scikit-Learn's `LinearSVR` class."
      ]
    },
    {
      "metadata": {
        "id": "RFO8e5Ko_Et8",
        "colab_type": "code",
        "outputId": "8d065473-f602-4b40-bb69-03b96cc37af8",
        "colab": {
          "base_uri": "https://localhost:8080/",
          "height": 89
        }
      },
      "cell_type": "code",
      "source": [
        "from sklearn.svm import LinearSVR\n",
        "\n",
        "svm_reg = Pipeline([\n",
        "  ('scaler', StandardScaler()),\n",
        "  ('svr', LinearSVR(epsilon=1.5)),\n",
        "])\n",
        "svm_reg.fit(X, y)"
      ],
      "execution_count": 7,
      "outputs": [
        {
          "output_type": "execute_result",
          "data": {
            "text/plain": [
              "Pipeline(memory=None,\n",
              "     steps=[('scaler', StandardScaler(copy=True, with_mean=True, with_std=True)), ('svr', LinearSVR(C=1.0, dual=True, epsilon=1.5, fit_intercept=True,\n",
              "     intercept_scaling=1.0, loss='epsilon_insensitive', max_iter=1000,\n",
              "     random_state=None, tol=0.0001, verbose=0))])"
            ]
          },
          "metadata": {
            "tags": []
          },
          "execution_count": 7
        }
      ]
    },
    {
      "metadata": {
        "id": "QQTzkyu6T7a-",
        "colab_type": "text"
      },
      "cell_type": "markdown",
      "source": [
        "For nonlinear regression, the `SVR` class can fit the data with a polynomial function. It can be tuned with the $\\epsilon$ hyperparameter, also a regularization parameter $C$, and you can set the maximum degree the algorithm will use. Below is an example of Scikit-Learn's SVR Class."
      ]
    },
    {
      "metadata": {
        "id": "LPsnmEH9VI8x",
        "colab_type": "code",
        "outputId": "0283165c-1f1b-4215-a226-465b4eabbbbb",
        "colab": {
          "base_uri": "https://localhost:8080/",
          "height": 89
        }
      },
      "cell_type": "code",
      "source": [
        "from sklearn.svm import SVR\n",
        "\n",
        "svm_poly_reg = Pipeline([\n",
        "  ('scaler', StandardScaler()),\n",
        "  ('svr', SVR(kernel='poly', degree=2, C=100, epsilon=0.1)),\n",
        "])\n",
        "svm_poly_reg.fit(X, y)"
      ],
      "execution_count": 8,
      "outputs": [
        {
          "output_type": "execute_result",
          "data": {
            "text/plain": [
              "Pipeline(memory=None,\n",
              "     steps=[('scaler', StandardScaler(copy=True, with_mean=True, with_std=True)), ('svr', SVR(C=100, cache_size=200, coef0=0.0, degree=2, epsilon=0.1,\n",
              "  gamma='auto_deprecated', kernel='poly', max_iter=-1, shrinking=True,\n",
              "  tol=0.001, verbose=False))])"
            ]
          },
          "metadata": {
            "tags": []
          },
          "execution_count": 8
        }
      ]
    },
    {
      "metadata": {
        "id": "BI3s0xf3Zv6G",
        "colab_type": "text"
      },
      "cell_type": "markdown",
      "source": [
        "## Under the Hood\n",
        "\n",
        "Below is notes on the mathematics behind the implementation of SVMs. Unlike chapter 4, which used the vector $\\theta$ as the values being computed by the training algorithm, in this section we will use $b$ to denote the bias term and $\\mathbf{w}$ as the weights vector.\n",
        "\n",
        "### Decision Function and Predictions\n",
        "\n",
        "The linear SVM classifier predicts the class of an instance by first computing the decision function\n",
        "\n",
        "$$ \\mathbf{w}^T \\cdot \\mathbf{x} + b\n",
        "= \\left( \\sum\\limits_{i = 1}^n w_nx_n \\right) + b. $$\n",
        "\n",
        "The classifier then makes the decision based on the following criteria\n",
        "\n",
        "$$ \\hat{y} = \\left\\{ \\begin{matrix}\n",
        "0 && \\text{if} \\;\\; \\mathbf{w}^T \\cdot \\mathbf{x} + b < 0 \\\\\n",
        "1 && \\text{if} \\;\\; \\mathbf{w}^T \\cdot \\mathbf{x} + b \\geq 0\n",
        "\\end{matrix} \\right. $$\n",
        "\n",
        "The decision boundary is the set of all points in the training set space where the decision function is equal to 0. The edges of the margin are where the decision function is equal to $\\pm1$.\n",
        "\n",
        "### Training Objective\n",
        "\n",
        "The slope of the decision function is equal to the norm of the weight vector, $||\\mathbf{w}||$. This means that the width of the margin is inversely proportional to the norm of $\\mathbf{w}$. If we want to avoid any margin violations, the decision function must be greater than 1 for positive instances and less than -1 for negative instances. This constraint can be expressed as\n",
        "\n",
        "$$ t^{(i)}\\left( \\mathbf{w}^T \\cdot \\mathbf{x}^{(i)} + b \\right) \\geq 1 $$\n",
        "\n",
        "where $t^{(i)}$ is -1 for all negative instances and 1 for all positive instances. Thus the hard margin linear SVM classifier objective is the <i>constrainted optimization</i> below\n",
        "\n",
        "$$ \\underset{\\mathbf{w},\\;b}{\\text{minimize}} \\;\\; \\frac{1}{2}\n",
        "\\mathbf{w}^T \\cdot \\mathbf{w} $$\n",
        "\n",
        "subject to the constraint that\n",
        "\n",
        "$$ t^{(i)} \\left( \\mathbf{w}^T \\cdot \\mathbf{x}^{(i)} + b \\right) \\geq 1. $$\n",
        "\n",
        "To get the soft margin objective, wee need to introduce a <i>slack variable</i>, $\\zeta^{(i)} \\geq 0$ for each training instance. Each $\\zeta^{(i)}$ measures how much the $i^\\text{th}$ instance is allowed to violate the margin. Therefore for soft margin classification, we have two problems: minimize the slack variables as well as $\\frac{1}{2}\\mathbf{w}^T\\cdot\\mathbf{x}$. The $C$ hyperparameter allows us to define the trade-off between the two objectives. The constrained optimization problem for soft margin classification is given by\n",
        "\n",
        "$$ \\underset{\\mathbf{w},\\;b,\\;\\zeta}{\\text{minimize}} \\;\\;\n",
        "\\frac{1}{2}\\mathbf{w}^T\\cdot\\mathbf{w} \\, + \\,\n",
        "C\\sum\\limits_{i=1}^m \\zeta^{(i)} $$\n",
        "\n",
        "subject to the constraint that\n",
        "\n",
        "$$ t^{(i)} \\left( \\mathbf{w}^T \\cdot \\mathbf{x}^{(i)} + b \\right)\n",
        "\\geq 1 - \\zeta^{(i)} \\;\\; \\text{and} \\;\\; \\zeta^{(i)} \\geq 0 \\;\\; \n",
        "\\text{for} \\;\\; i = 1, 2, ..., m. $$\n",
        "\n",
        "### Quadratic Programming\n",
        "\n",
        "The hard and soft margin classification problems belong to a class of problems known as [<i>Quadratic Programming</i>](https://web.stanford.edu/~boyd/cvxbook/bv_cvxbook.pdf) (QP) problems. The general problem formulation for QP problems is given by\n",
        "\n",
        "$$ \\underset{\\mathbf{p}}{\\text{minimize}} \\;\\;\n",
        "\\frac{1}{2} \\mathbf{p}^T \\cdot \\mathbf{H} \\cdot \\mathbf{p} +\n",
        "\\mathbf{f}^T \\cdot \\mathbf{p} $$\n",
        "\n",
        "subject to\n",
        "\n",
        "$$ \\mathbf{A} \\cdot \\mathbf{p} \\leq \\mathbf{b} $$\n",
        "\n",
        "where\n",
        "\n",
        "- $\\mathbf{p}$ is an $n_p$-dimensional vector ($n_p$ is the number of parameters)\n",
        "- $\\mathbf{H}$ is an $n_p \\times n_p$ matrix\n",
        "- $\\mathbf{f}$ is an $n_p$-dimensional vector\n",
        "- $\\mathbf{A}$ is an $n_c \\times n_p$ matrix ($n_c$ is the number of constraints)\n",
        "- $\\mathbf{b}$ is an $n_c$-dimensional vector\n",
        "\n",
        "QP problems can be solved using off-the-shelf solvers which are available in different code libraries.\n",
        "\n",
        "### The Dual Problem\n",
        "\n",
        "Given a constrained optimization problem, i.e. the <i>primal problem</i>, there is a different but related problem known as its <i>dual problem</i>. In the special case that the objective function is convex, and the inequality constraint is both convex and continuously differentiable (such as SVMs), the solution to the dual problem is also a solution to the primal problem. The dual form of the SVM problem is given by\n",
        "\n",
        "$$ \\underset{\\alpha}{\\text{minimize}} \\;\\;\n",
        "\\frac{1}{2} \\sum\\limits_{i=1}^m \\sum\\limits_{j=1}^m\n",
        "\\alpha^{(i)} \\alpha^{(j)} t^{(i)} t^{(j)} \\mathbf{x}^{(i)\\,T}\n",
        "\\cdot \\mathbf{x}^{(j)} \\; - \\; \\sum\\limits_{i=1}^m \\alpha^{(i)} $$\n",
        "\n",
        "subject to the constraint that\n",
        "\n",
        "$$ \\alpha^{(i)} \\geq 0 \\;\\; \\text{for} \\;\\; i=1,2,...,m. $$\n",
        "\n",
        "Once you find the $\\hat{\\alpha}$ which minimizes the objective function, you can compute $\\hat{\\mathbf{w}}$ and $\\hat{b}$ that minimize the primal problem using\n",
        "\n",
        "$$ \\hat{\\mathbf{w}} = \\sum\\limits_{i=1}^m \\hat{\\alpha}^{(i)} t^{(i)}\n",
        "\\mathbf{x}^{(i)} \\\\\n",
        "\\hat{b} = \\frac{1}{n_s} \\underset{\\hat{\\alpha}^{(i)} > 0}{\\sum\\limits_{i=1}^m}\n",
        "\\left( t^{(i)} - \\hat{\\mathbf{w}}^T \\cdot \\mathbf{x}^{(i)} \\right). $$\n",
        "\n",
        "The dual problem is generally faster to solve than the primal one, and it also it is possible to use the kernel trick on the dual problem.\n",
        "\n",
        "### Kernelized SVM\n",
        "\n",
        "Suppose you want to apply a $2^\\text{nd}$-degree polynomial transformation to a two-dimensional dataset using a function, $\\phi$, the transformation would be given by\n",
        "\n",
        "$$ \\phi(\\mathbf{x}) = \\phi\\left(\\left[ \\begin{matrix}\n",
        "x_1 \\\\ x_2\n",
        "\\end{matrix} \\right]\\right) =\n",
        "\\left[ \\begin{matrix}\n",
        "x_1^{\\;2} \\\\ \\sqrt{2} \\, x_1x_2 \\\\ x_2^{\\;2}\n",
        "\\end{matrix} \\right]. $$\n",
        "\n",
        "If you were to take the dot product after transforming two vectors, $\\mathbf{a}$ and $\\mathbf{b}$, you will find that\n",
        "\n",
        "$$ \\phi(\\mathbf{a})^T \\cdot \\phi(\\mathbf{b}) =\n",
        "\\left[ \\begin{matrix} a_1^{\\;2} \\\\ \\sqrt{2}\\,a_1a_2 \\\\ a_2^{\\;2} \\end{matrix}\n",
        "\\right]^{\\;T}\n",
        "\\cdot \\left[ \\begin{matrix}\n",
        "b_1^{\\;2} \\\\ \\sqrt{2}\\,b_1b_2 \\\\ b_2^{\\;2}\n",
        "\\end{matrix} \\right] = a_1^{\\;2}b_1^{\\;2} + 2 \\, a_1b_1a_2b_2 +\n",
        "a_2^{\\;2}b_2^{\\;2} = \\left( \\mathbf{a}^T \\cdot \\mathbf{b} \\right)^2. $$\n",
        "\n",
        "This means that we can apply the $2^\\text{nd}$ degree polynomial transformation of the dot product in the dual SVM problem by simply squaring the quantity $\\mathbf{x}^T \\cdot \\mathbf{x}$. This is how the polynomial SVM kernel is able to apply the polynomial transformation during training with much more computational efficiency.\n",
        "\n",
        "The function $K(\\mathbf{a}, \\mathbf{b}) = \\left( \\mathbf{a}^T \\cdot \\mathbf{b} \\right)^2$ is called the $2^\\text{nd}$-degree <i>polynomial kernel</i> where a <i>kernel</i> is a function capable of computing the quantity\n",
        "\n",
        "$$ \\phi(\\mathbf{a})^T \\cdot \\phi(\\mathbf{b}) $$\n",
        "\n",
        "without needing to compute either $\\phi(\\mathbf{a})$ or $\\phi(\\mathbf{b})$. Some of the most commonly used kernels are\n",
        "\n",
        "$$ \\begin{matrix}\n",
        "\\text{Linear:} && K(\\mathbf{a},\\mathbf{b}) = \\mathbf{a}^T \\cdot \\mathbf{b} \\\\\n",
        "\\text{Polynomial:} && K(\\mathbf{a},\\mathbf{b}) =\n",
        "\\left( \\gamma\\,\\mathbf{a}^T \\cdot \\mathbf{b} + r \\right)^d \\\\\n",
        "\\text{Gaussian RBF:} && K(\\mathbf{a},\\mathbf{b}) =\n",
        "\\exp\\left( -\\gamma || \\mathbf{a} - \\mathbf{b} ||^2 \\right) \\\\\n",
        "\\text{Sigmoid:} && K(\\mathbf{a},\\mathbf{b}) =\n",
        "\\tanh\\left( \\gamma\\,\\mathbf{a}^T \\cdot \\mathbf{b} + r \\right)\n",
        "\\end{matrix} $$\n",
        "\n",
        "According to <i>Mercer's theorem</i>, if a function $K(\\mathbf{a},\\mathbf{b})$ meets a set of conditions called <i>Mercer's conditions</i>, then there exists a function $\\phi$ that maps $\\mathbf{a}$ and $\\mathbf{b}$ into another space (possibly with a higher dimension) such that $K(\\mathbf{a},\\mathbf{b}) = \\phi(\\mathbf{a})^T \\cdot \\phi(\\mathbf{b})$, so you can use $K$ as a kernel even if you do not know what $\\phi$ is. Some kernels (e.g. the Sigmoid kernel) do not follow all of Mercer's condition but still work in practice.\n",
        "\n",
        "The caveat is that the formula which determines the weights vector and bias term from the solution to the dual problem require that you compute $\\phi\\left(\\mathbf{x}^{(i)}\\right)$ and that $\\hat{\\mathbf{w}}$ has the same dimension as $\\phi\\left(\\mathbf{x}^{(i)}\\right)$ which can be very large or even infinite. However, it is possible to express the decision function using the kernel:\n",
        "\n",
        "$$ h_{\\hat{\\mathbf{w}},\\,\\hat{b}} \\left( \\phi\\left( \\mathbf{x}^{(n)} \\right) \\right) = \\hat{\\mathbf{w}}^T \\cdot \\phi\\left( \\mathbf{x}^{(n)} \\right) + \\hat{b} = \\left( \\sum\\limits_{i=1}^m \\hat{\\alpha}^{(i)} t^{(i)} \\phi\\left( \\mathbf{x}^{(i)} \\right) \\right)^T \\cdot \\phi\\left( \\mathbf{x}^{(n)} \\right) + \\hat{b} \\\\\n",
        "= \\sum\\limits_{i=1}^m \\hat{\\alpha}^{(i)} t^{(i)} \\left( \\phi\\left( \\mathbf{x}^{(i)} \\right)^T \\cdot \\phi\\left( \\mathbf{x}^{(n)} \\right) \\right) + \\hat{b} \\\\\n",
        "= \\underset{\\hat{\\alpha}^{(i)} > 0}{\\sum\\limits_{i=1}^m} \\hat{\\alpha}^{(i)} t^{(i)} K\\left( \\mathbf{x}^{(i)}, \\mathbf{x}^{(n)} \\right) + \\hat{b}. $$\n",
        "\n",
        "The terms where $\\hat{\\alpha}^{(i)}$ are greater than 0 are the <i>support vectors</i>, influencing their position can influence the decision boundary. This formula shows that in order to get a prediction, we need only compute the kernel for the training instances which are support vectors. The bias term $\\hat{b}$ is given by the formula below\n",
        "\n",
        "$$ \\hat{b} = \\frac{1}{n_s} \\sum\\limits_{i=1}^m \\left( 1 - t^{(i)}\\hat{\\mathbf{w}}^T \\cdot \\phi\\left( \\mathbf{x}^{(i)} \\right) \\right) =\n",
        "\\frac{1}{n_s} \\sum\\limits_{i=1}^m \\left(\n",
        "1 - t^{(i)} \\left( \\sum\\limits_{j=1}^m \\hat{\\alpha}^{(j)} t^{(j)} \\phi\\left( \\mathbf{x}^{(j)} \\right) \\right)^T \\cdot \\phi\\left( \\mathbf{x}^{(i)} \\right)\n",
        "\\right) \\\\\n",
        "= \\frac{1}{n_s} \\underset{\\hat{\\alpha}^{(i)} > 0}{\\sum\\limits_{i=1}^m}\n",
        "\\left( 1 - t^{(i)} \\underset{\\hat{\\alpha}^{(j)} > 0}{\\sum\\limits_{j=1}^m}\n",
        "\\hat{\\alpha}^{(j)}t^{(j)}K\\left( \\mathbf{x}^{(i)}, \\mathbf{x}^{(j)} \\right)\n",
        "\\right) $$\n",
        "\n",
        "again, the model needs only to compute the kernel for the support vectors, and not every training instance, saving a lot of computational effort.\n",
        "\n",
        "### Online SVMs\n",
        "\n",
        "One way to have an online linear SVM is to have it use gradient descent with the following cost function\n",
        "\n",
        "$$ J(\\mathbf{w}, b) = \\frac{1}{2} \\, \\mathbf{w}^T \\cdot \\mathbf{w} \\; + \\;\n",
        "C \\sum\\limits_{i=1}^n max\\left(0, 1 - t^{(i)} \\left( \\mathbf{w}^T \\cdot \\mathbf{x}^{(i)} + b \\right) \\right)\n",
        "$$\n",
        "\n",
        "the first term in the sum keeps the norm of $\\mathbf{w}$ minimized, the second term computes the total number of margin violations. The downside is that this method of training converges much more slowly than use a QP solver to find the solution to the dual problem.\n",
        "\n",
        "There exists online kernelized SVMs, for example using [\"Incremental and Decremental SVM Learning\"](http://isn.ucsd.edu/papers/nips00_inc.pdf) or [\"Fast Kernel Classifiers with Online and Active Learning,\"](http://www.jmlr.org/papers/volume6/bordes05a/bordes05a.pdf) but it is probably better to use neural networks for online nonlinear problems.\n",
        "\n",
        "### Hinge Loss\n",
        "\n",
        "The function $max(0, 1 - t)$ is called the <i>hinge loss</i> function. The derivative is equal to -1 when $t$ is in $(-\\infty,1)$, the function is not differentiable when $t=1$ and is 0 elsewhere. Even though it is not differentiable at $t=1$, you can use the [<i>subderivative</i>](https://en.wikipedia.org/wiki/Subderivative) to use this function in Gradient Descent (like using the subgradient for Lasso regression).\n",
        "\n",
        "## Exercises\n",
        "\n",
        "### 1. What is the fundamental idea behind Support Vector Machines?\n",
        "\n",
        "SVM classifiers try to find a decision boundary with a margin where there are as few training instances in the margin around the decision boundary. SVM regressors, on the other hand, try to find margins around the decision function which has as many training instances contained in them.\n",
        "\n",
        "### 2. What is a support vector?\n",
        "\n",
        "A support vector is a vector that is close to the decision boundary. Changing the features of these vectors slightly is likely to change the resulting decision boundary.\n",
        "\n",
        "### 3. Why is it important to scale the inputs when using SVMs?\n",
        "\n",
        "Scaling the feature set prevents one particular feature's value overpowering and information that may also be in features with a smaller value.\n",
        "\n",
        "### 4. Could an SVM output a confidence score when it classifies an instance? What about a probability?\n",
        "\n",
        "You could use the distance from the function's decision boundary as a measure of confidence in the model's decision. It will be less confident when a new instance is close to the decision boundary, so the function should be monotonically increasing as a function of the sample's distance from the decision boundary.\n",
        "\n",
        "You could also use a logistic curve which is a function of the new instance's distance from the deicision boundary which asymptotically approaches 0 on one side and 1 on the other. This function would give you the probability that the model belongs to a particular class.\n",
        "\n",
        "### 5. Should you use the primal or dual form of the SVM problem to train a model on a training set with millions of instances with hundreds of features?\n",
        "\n",
        "You should use the primal problem and train the model with a QP solver. You will need to transform nonlinear data since the primal problem is not capable of the kernel trick. The primal problem is faster when the number of training instances is largely greater than the number of features.\n",
        "\n",
        "### 6. Say you trained an SVM classifier with an RBF kernel. It seems to underfit the training set: should you increase or decrease $\\gamma$?\n",
        "\n",
        "You should decrease the $\\gamma$ hyperparameter. Doing so will increase the influence the instances in the training set has over the decision boundary.\n",
        "\n",
        "### 7. How should you set the QP parameters, $( \\mathbf{H}, \\mathbf{f}, \\mathbf{A},$ and $\\mathbf{b})$ to solve the soft margin linear SVM classifier problem using an off-the-shelf QP solver?\n",
        "\n",
        "It was stated above that the general formula for a QP problem is given by\n",
        "\n",
        "$$ \\underset{\\mathbf{p}}{\\text{minimize}} \\;\\;\n",
        "\\frac{1}{2} \\mathbf{p}^T \\cdot \\mathbf{H} \\cdot \\mathbf{p} +\n",
        "\\mathbf{f}^T \\cdot \\mathbf{p} $$\n",
        "\n",
        "and is subjected to the constraint that\n",
        "\n",
        "$$ \\mathbf{A} \\cdot \\mathbf{p} \\leq \\mathbf{b} $$\n",
        "\n",
        "Also, it was stated that dual form of the linear soft margin SVM problem is given by\n",
        "\n",
        "$$ \\underset{\\alpha}{\\text{minimize}} \\;\\;\n",
        "\\frac{1}{2} \\sum\\limits_{i=1}^m \\sum\\limits_{j=1}^m\n",
        "\\alpha^{(i)} \\alpha^{(j)} t^{(i)} t^{(j)} \\mathbf{x}^{(i)\\,T}\n",
        "\\cdot \\mathbf{x}^{(j)} \\; - \\; \\sum\\limits_{i=1}^m \\alpha^{(i)} $$\n",
        "\n",
        "and is subject to the constraint that\n",
        "\n",
        "$$ \\alpha^{(i)} \\geq 0 \\;\\; \\text{for} \\;\\; i=1,2,...,m. $$\n",
        "\n",
        "It follows that the paramters that should be used for an off-the-shelf QP solver, substitutiong $\\alpha$ for the term $\\mathbf{p}$, the should be:\n",
        "\n",
        "$$ \\mathbf{H} = ||h_{ij}|| \\;\\;\n",
        "\\text{for} \\;\\; i,j = 1, 2, ..., m $$\n",
        "\n",
        "where each term in the matrix $h_{ij}$ is given by\n",
        "\n",
        "$$ h_{ij} = t^{(i)}t^{(j)} (\\mathbf{x}^{(i)\\,T} \\cdot \\mathbf{x}^{(j)}). $$\n",
        "\n",
        "The term $\\mathbf{f}$ should just be an $m$-dimensional vector where each component is -1. Finally, the term $\\mathbf{A}$ should simply be the $m\\times m$ identity matrix and the term $\\mathbf{b}$ should just be the $m$-dimensional zero vector.\n",
        "\n",
        "### 8. Train a `LinearSVC` classifier on a linearly separable dataset. Then train an `SGDClassifier` on the same dataset. See if you can get them to produce roughly the same model.\n",
        "\n",
        "For this exercise I will use the Iris dataset tot try to find the species of the flower using petal width and petal length. First, we download the data."
      ]
    },
    {
      "metadata": {
        "id": "L5CgPiPmRPL2",
        "colab_type": "code",
        "colab": {}
      },
      "cell_type": "code",
      "source": [
        "from sklearn.datasets import load_iris\n",
        "\n",
        "iris = load_iris()\n",
        "X = iris.data[:, (2,3)]\n",
        "y = iris.target"
      ],
      "execution_count": 0,
      "outputs": []
    },
    {
      "metadata": {
        "id": "fkQfU48-VO0q",
        "colab_type": "text"
      },
      "cell_type": "markdown",
      "source": [
        "Next we see that using the `LinearSVC` with the default settings and we see it is able to predict the species of the flower fairly well."
      ]
    },
    {
      "metadata": {
        "id": "VKf72QaLwro0",
        "colab_type": "code",
        "outputId": "a09bf406-ed82-41a9-bfb9-6190d63d3aff",
        "colab": {
          "base_uri": "https://localhost:8080/",
          "height": 35
        }
      },
      "cell_type": "code",
      "source": [
        "from sklearn.model_selection import train_test_split, cross_val_score\n",
        "\n",
        "X_train, X_test, y_train, y_test = train_test_split(X, y)\n",
        "\n",
        "svm_clf = Pipeline([\n",
        "  ('scaler', StandardScaler()),\n",
        "  ('svm', LinearSVC())\n",
        "])\n",
        "cross_val_score(svm_clf, X_train, y_train, cv=5)"
      ],
      "execution_count": 10,
      "outputs": [
        {
          "output_type": "execute_result",
          "data": {
            "text/plain": [
              "array([1.        , 0.95652174, 0.90909091, 0.95454545, 0.95238095])"
            ]
          },
          "metadata": {
            "tags": []
          },
          "execution_count": 10
        }
      ]
    },
    {
      "metadata": {
        "id": "PKc1t0GpyikR",
        "colab_type": "code",
        "outputId": "f45c4d4c-3dcc-4ff2-d45d-f5844f106114",
        "colab": {
          "base_uri": "https://localhost:8080/",
          "height": 35
        }
      },
      "cell_type": "code",
      "source": [
        "svm_clf.fit(X_train, y_train)\n",
        "svm_clf.score(X_test, y_test)"
      ],
      "execution_count": 0,
      "outputs": [
        {
          "output_type": "execute_result",
          "data": {
            "text/plain": [
              "0.9736842105263158"
            ]
          },
          "metadata": {
            "tags": []
          },
          "execution_count": 40
        }
      ]
    },
    {
      "metadata": {
        "id": "DQdeTLpr0RgH",
        "colab_type": "text"
      },
      "cell_type": "markdown",
      "source": [
        "Now, we train an `SGDClassifier` on the same dataset."
      ]
    },
    {
      "metadata": {
        "id": "4FHfJYpTyr-W",
        "colab_type": "code",
        "outputId": "0d71d4a5-0f32-41ea-979e-a57650fea62b",
        "colab": {
          "base_uri": "https://localhost:8080/",
          "height": 35
        }
      },
      "cell_type": "code",
      "source": [
        "from sklearn.linear_model import SGDClassifier\n",
        "\n",
        "sgd_clf = Pipeline([\n",
        "  ('scaler', StandardScaler()),\n",
        "  ('sgd', SGDClassifier(alpha=0.01)),\n",
        "])\n",
        "cross_val_score(sgd_clf, X_train, y_train, cv=5)"
      ],
      "execution_count": 0,
      "outputs": [
        {
          "output_type": "execute_result",
          "data": {
            "text/plain": [
              "array([0.79166667, 1.        , 0.95652174, 0.9047619 , 0.9047619 ])"
            ]
          },
          "metadata": {
            "tags": []
          },
          "execution_count": 54
        }
      ]
    },
    {
      "metadata": {
        "id": "p7P_w9b30XBZ",
        "colab_type": "code",
        "outputId": "2d418e4b-6cff-44de-e8ea-a75ac0620a7c",
        "colab": {
          "base_uri": "https://localhost:8080/",
          "height": 35
        }
      },
      "cell_type": "code",
      "source": [
        "sgd_clf.fit(X_train, y_train)\n",
        "sgd_clf.score(X_test, y_test)"
      ],
      "execution_count": 0,
      "outputs": [
        {
          "output_type": "execute_result",
          "data": {
            "text/plain": [
              "0.9736842105263158"
            ]
          },
          "metadata": {
            "tags": []
          },
          "execution_count": 49
        }
      ]
    },
    {
      "metadata": {
        "id": "fPcbPyyf04tL",
        "colab_type": "text"
      },
      "cell_type": "markdown",
      "source": [
        "Now we compare how each model would make predictions on the test set and we see that the models coincide exactly."
      ]
    },
    {
      "metadata": {
        "id": "9brs2tJb0_46",
        "colab_type": "code",
        "outputId": "64de2c57-f6e9-4133-f65b-39618f45c856",
        "colab": {
          "base_uri": "https://localhost:8080/",
          "height": 35
        }
      },
      "cell_type": "code",
      "source": [
        "sgd_clf.score(X_test, svm_clf.predict(X_test))"
      ],
      "execution_count": 0,
      "outputs": [
        {
          "output_type": "execute_result",
          "data": {
            "text/plain": [
              "1.0"
            ]
          },
          "metadata": {
            "tags": []
          },
          "execution_count": 50
        }
      ]
    },
    {
      "metadata": {
        "id": "C0Og-NxLjn7X",
        "colab_type": "text"
      },
      "cell_type": "markdown",
      "source": [
        "### 9. Train an SVM classifier on the MNIST dataset. Since SVM classifiers are binary classifiers, you will need to use one-versus-all to classify all 10 digits. You may want to tune the hyperparameters using small validation sets to speed up the process. What accuracy can you reach?"
      ]
    },
    {
      "metadata": {
        "id": "LPJ_LwZjwbDs",
        "colab_type": "code",
        "colab": {}
      },
      "cell_type": "code",
      "source": [
        "# Fetching the dataset.\n",
        "\n",
        "from sklearn.datasets import fetch_openml\n",
        "\n",
        "mnist = fetch_openml('mnist_784', version=1, cache=True)\n",
        "mnist.target = mnist.target.astype(np.int8)\n",
        "sorted_indices = np.argsort(mnist.target)\n",
        "X = mnist.data[sorted_indices]\n",
        "y = mnist.target[sorted_indices]\n",
        "rand_idx = np.random.permutation(len(X))\n",
        "X, y = X[rand_idx], y[rand_idx]"
      ],
      "execution_count": 0,
      "outputs": []
    },
    {
      "metadata": {
        "id": "iWBVKp4fHLAs",
        "colab_type": "code",
        "outputId": "4ed46085-3787-4e73-dc2f-489c54b10b6b",
        "colab": {
          "base_uri": "https://localhost:8080/",
          "height": 35
        }
      },
      "cell_type": "code",
      "source": [
        "# Trying out LinearSVC and we see it does not perform well.\n",
        "\n",
        "from sklearn.metrics import accuracy_score\n",
        "\n",
        "X_train, X_test, y_train, y_test = train_test_split(X, y)\n",
        "\n",
        "lin_svm = Pipeline([\n",
        "    ('scaler', StandardScaler()),\n",
        "    ('svm', LinearSVC()),\n",
        "]).fit(X_train[:10000], y_train[:10000])\n",
        "\n",
        "y_pred = lin_svm.predict(X_train)\n",
        "accuracy_score(y_pred, y_train)"
      ],
      "execution_count": 0,
      "outputs": [
        {
          "output_type": "execute_result",
          "data": {
            "text/plain": [
              "0.8789714285714286"
            ]
          },
          "metadata": {
            "tags": []
          },
          "execution_count": 14
        }
      ]
    },
    {
      "metadata": {
        "id": "Al90lCZ7HtY9",
        "colab_type": "code",
        "outputId": "bbe4dafe-4613-43cf-c556-7aa71a94c538",
        "colab": {
          "base_uri": "https://localhost:8080/",
          "height": 35
        }
      },
      "cell_type": "code",
      "source": [
        "# Next we try a SVC with a Guassian RBF kernel, and we see it already performs\n",
        "# better.\n",
        "\n",
        "rbf_svm = Pipeline([\n",
        "    ('scaler', StandardScaler()),\n",
        "    ('svm', SVC()),\n",
        "]).fit(X_train[:10000], y_train[:10000])\n",
        "\n",
        "y_pred = rbf_svm.predict(X_train)\n",
        "accuracy_score(y_pred, y_train)"
      ],
      "execution_count": 0,
      "outputs": [
        {
          "output_type": "execute_result",
          "data": {
            "text/plain": [
              "0.9467619047619048"
            ]
          },
          "metadata": {
            "tags": []
          },
          "execution_count": 16
        }
      ]
    },
    {
      "metadata": {
        "id": "E_PIDLTjsRo-",
        "colab_type": "code",
        "outputId": "b9bfdff9-eb64-47ab-9751-6b20a1e5e529",
        "colab": {
          "base_uri": "https://localhost:8080/",
          "height": 34
        }
      },
      "cell_type": "code",
      "source": [
        "# Training a model using RandomizedSearchCV\n",
        "\n",
        "from sklearn.model_selection import RandomizedSearchCV\n",
        "from scipy.stats import uniform, reciprocal\n",
        "\n",
        "param_dist = {\n",
        "    'svm__C': uniform(1., 10.),\n",
        "    'svm__gamma': reciprocal(0.001, 0.1)\n",
        "}\n",
        "pipeline = Pipeline([\n",
        "  ('scaler', StandardScaler()),\n",
        "  ('svm', SVC()),\n",
        "])\n",
        "rnd_search = RandomizedSearchCV(pipeline, param_dist, cv=3, n_iter=10)\n",
        "rnd_search.fit(X_train[:1000], y_train[:1000])\n",
        "\n",
        "y_pred = rnd_search.best_estimator_.predict(X_train)\n",
        "accuracy_score(y_pred, y_train)"
      ],
      "execution_count": 0,
      "outputs": [
        {
          "output_type": "execute_result",
          "data": {
            "text/plain": [
              "0.8546095238095238"
            ]
          },
          "metadata": {
            "tags": []
          },
          "execution_count": 87
        }
      ]
    },
    {
      "metadata": {
        "id": "w4GTeZ1ejxCG",
        "colab_type": "code",
        "outputId": "1824e484-c6db-451f-b9cd-7203803631a7",
        "colab": {
          "base_uri": "https://localhost:8080/",
          "height": 35
        }
      },
      "cell_type": "code",
      "source": [
        "rnd_search.best_params_"
      ],
      "execution_count": 0,
      "outputs": [
        {
          "output_type": "execute_result",
          "data": {
            "text/plain": [
              "{'svm__C': 8.43923386369637, 'svm__gamma': 0.002606261161097229}"
            ]
          },
          "metadata": {
            "tags": []
          },
          "execution_count": 21
        }
      ]
    },
    {
      "metadata": {
        "id": "KtINyxSPTlof",
        "colab_type": "code",
        "outputId": "4f290039-0071-4e6a-c2fe-8e84fdf7cdd4",
        "colab": {
          "base_uri": "https://localhost:8080/",
          "height": 35
        }
      },
      "cell_type": "code",
      "source": [
        "rnd_search.best_estimator_.fit(X_train, y_train)\n",
        "y_pred = rnd_search.best_estimator_.predict(X_test)\n",
        "accuracy_score(y_pred, y_test)"
      ],
      "execution_count": 0,
      "outputs": [
        {
          "output_type": "execute_result",
          "data": {
            "text/plain": [
              "0.9657142857142857"
            ]
          },
          "metadata": {
            "tags": []
          },
          "execution_count": 20
        }
      ]
    },
    {
      "metadata": {
        "id": "WkIaiQpgj2Ik",
        "colab_type": "code",
        "outputId": "af0c15e6-a214-4676-92d8-a521599624fc",
        "colab": {
          "base_uri": "https://localhost:8080/",
          "height": 35
        }
      },
      "cell_type": "code",
      "source": [
        "y_pred = rnd_search.best_estimator_.predict(X_train)\n",
        "accuracy_score(y_pred, y_train)"
      ],
      "execution_count": 0,
      "outputs": [
        {
          "output_type": "execute_result",
          "data": {
            "text/plain": [
              "0.9999047619047619"
            ]
          },
          "metadata": {
            "tags": []
          },
          "execution_count": 22
        }
      ]
    },
    {
      "metadata": {
        "id": "ZsvE-630j-Ox",
        "colab_type": "text"
      },
      "cell_type": "markdown",
      "source": [
        "We see here that after the `RandomizedSearchCV` finishes, we get a model capable of predicting the test set with 97% accuracy. We see it predicts the training set with over 99.9% accuracy, which suggests the model is overfitting.\n",
        "\n",
        "### 10. Train an SVM regressor on the California housing dataset."
      ]
    },
    {
      "metadata": {
        "id": "UtG5YsoTsh2j",
        "colab_type": "code",
        "outputId": "b101ddab-4fd2-4007-f1a8-78be88684123",
        "colab": {
          "base_uri": "https://localhost:8080/",
          "height": 204
        }
      },
      "cell_type": "code",
      "source": [
        "# Getting the dataset into a DataFrame.\n",
        "\n",
        "import os\n",
        "import tarfile\n",
        "from six.moves import urllib\n",
        "import pandas as pd\n",
        "\n",
        "DOWNLOAD_ROOT = 'https://raw.githubusercontent.com/ageron/handson-ml/master/'\n",
        "HOUSING_PATH = os.path.join('datasets', 'housing')\n",
        "HOUSING_URL = DOWNLOAD_ROOT + 'datasets/housing/housing.tgz'\n",
        "\n",
        "def fetch_housing_data(housing_url=HOUSING_URL, housing_path=HOUSING_PATH):\n",
        "    if not os.path.isdir(housing_path):\n",
        "        os.makedirs(housing_path)\n",
        "    tgz_path = os.path.join(housing_path, 'housing.tgz')\n",
        "    urllib.request.urlretrieve(housing_url, tgz_path)\n",
        "    housing_tgz = tarfile.open(tgz_path)\n",
        "    housing_tgz.extractall(path=housing_path)\n",
        "    housing_tgz.close()\n",
        "\n",
        "def load_housing_data(housing_path=HOUSING_PATH):\n",
        "    csv_path = os.path.join(housing_path, 'housing.csv')\n",
        "    return pd.read_csv(csv_path)\n",
        "\n",
        "fetch_housing_data()\n",
        "housing = load_housing_data()\n",
        "housing = housing[(housing['ocean_proximity'] != 'ISLAND') & \\\n",
        "                  ~housing['ocean_proximity'].isnull()]\n",
        "housing = housing.reset_index()\n",
        "housing.head()"
      ],
      "execution_count": 11,
      "outputs": [
        {
          "output_type": "execute_result",
          "data": {
            "text/html": [
              "<div>\n",
              "<style scoped>\n",
              "    .dataframe tbody tr th:only-of-type {\n",
              "        vertical-align: middle;\n",
              "    }\n",
              "\n",
              "    .dataframe tbody tr th {\n",
              "        vertical-align: top;\n",
              "    }\n",
              "\n",
              "    .dataframe thead th {\n",
              "        text-align: right;\n",
              "    }\n",
              "</style>\n",
              "<table border=\"1\" class=\"dataframe\">\n",
              "  <thead>\n",
              "    <tr style=\"text-align: right;\">\n",
              "      <th></th>\n",
              "      <th>index</th>\n",
              "      <th>longitude</th>\n",
              "      <th>latitude</th>\n",
              "      <th>housing_median_age</th>\n",
              "      <th>total_rooms</th>\n",
              "      <th>total_bedrooms</th>\n",
              "      <th>population</th>\n",
              "      <th>households</th>\n",
              "      <th>median_income</th>\n",
              "      <th>median_house_value</th>\n",
              "      <th>ocean_proximity</th>\n",
              "    </tr>\n",
              "  </thead>\n",
              "  <tbody>\n",
              "    <tr>\n",
              "      <th>0</th>\n",
              "      <td>0</td>\n",
              "      <td>-122.23</td>\n",
              "      <td>37.88</td>\n",
              "      <td>41.0</td>\n",
              "      <td>880.0</td>\n",
              "      <td>129.0</td>\n",
              "      <td>322.0</td>\n",
              "      <td>126.0</td>\n",
              "      <td>8.3252</td>\n",
              "      <td>452600.0</td>\n",
              "      <td>NEAR BAY</td>\n",
              "    </tr>\n",
              "    <tr>\n",
              "      <th>1</th>\n",
              "      <td>1</td>\n",
              "      <td>-122.22</td>\n",
              "      <td>37.86</td>\n",
              "      <td>21.0</td>\n",
              "      <td>7099.0</td>\n",
              "      <td>1106.0</td>\n",
              "      <td>2401.0</td>\n",
              "      <td>1138.0</td>\n",
              "      <td>8.3014</td>\n",
              "      <td>358500.0</td>\n",
              "      <td>NEAR BAY</td>\n",
              "    </tr>\n",
              "    <tr>\n",
              "      <th>2</th>\n",
              "      <td>2</td>\n",
              "      <td>-122.24</td>\n",
              "      <td>37.85</td>\n",
              "      <td>52.0</td>\n",
              "      <td>1467.0</td>\n",
              "      <td>190.0</td>\n",
              "      <td>496.0</td>\n",
              "      <td>177.0</td>\n",
              "      <td>7.2574</td>\n",
              "      <td>352100.0</td>\n",
              "      <td>NEAR BAY</td>\n",
              "    </tr>\n",
              "    <tr>\n",
              "      <th>3</th>\n",
              "      <td>3</td>\n",
              "      <td>-122.25</td>\n",
              "      <td>37.85</td>\n",
              "      <td>52.0</td>\n",
              "      <td>1274.0</td>\n",
              "      <td>235.0</td>\n",
              "      <td>558.0</td>\n",
              "      <td>219.0</td>\n",
              "      <td>5.6431</td>\n",
              "      <td>341300.0</td>\n",
              "      <td>NEAR BAY</td>\n",
              "    </tr>\n",
              "    <tr>\n",
              "      <th>4</th>\n",
              "      <td>4</td>\n",
              "      <td>-122.25</td>\n",
              "      <td>37.85</td>\n",
              "      <td>52.0</td>\n",
              "      <td>1627.0</td>\n",
              "      <td>280.0</td>\n",
              "      <td>565.0</td>\n",
              "      <td>259.0</td>\n",
              "      <td>3.8462</td>\n",
              "      <td>342200.0</td>\n",
              "      <td>NEAR BAY</td>\n",
              "    </tr>\n",
              "  </tbody>\n",
              "</table>\n",
              "</div>"
            ],
            "text/plain": [
              "   index  longitude  latitude  housing_median_age  total_rooms  \\\n",
              "0      0    -122.23     37.88                41.0        880.0   \n",
              "1      1    -122.22     37.86                21.0       7099.0   \n",
              "2      2    -122.24     37.85                52.0       1467.0   \n",
              "3      3    -122.25     37.85                52.0       1274.0   \n",
              "4      4    -122.25     37.85                52.0       1627.0   \n",
              "\n",
              "   total_bedrooms  population  households  median_income  median_house_value  \\\n",
              "0           129.0       322.0       126.0         8.3252            452600.0   \n",
              "1          1106.0      2401.0      1138.0         8.3014            358500.0   \n",
              "2           190.0       496.0       177.0         7.2574            352100.0   \n",
              "3           235.0       558.0       219.0         5.6431            341300.0   \n",
              "4           280.0       565.0       259.0         3.8462            342200.0   \n",
              "\n",
              "  ocean_proximity  \n",
              "0        NEAR BAY  \n",
              "1        NEAR BAY  \n",
              "2        NEAR BAY  \n",
              "3        NEAR BAY  \n",
              "4        NEAR BAY  "
            ]
          },
          "metadata": {
            "tags": []
          },
          "execution_count": 11
        }
      ]
    },
    {
      "metadata": {
        "id": "dmwo0JOzcXmn",
        "colab_type": "code",
        "colab": {}
      },
      "cell_type": "code",
      "source": [
        "# Preprocessing the data for an ML model.\n",
        "\n",
        "from sklearn.impute import SimpleImputer\n",
        "from sklearn.preprocessing import OneHotEncoder\n",
        "from sklearn.pipeline import FeatureUnion\n",
        "from sklearn.base import BaseEstimator, TransformerMixin\n",
        "\n",
        "X = housing.drop('median_house_value', axis=1)\n",
        "y = housing['median_house_value'].copy()\n",
        "\n",
        "X['income_cat'] = np.ceil(X['median_income'] / 1.5)\n",
        "X['income_cat'].where(X['income_cat'] < 5, 5., inplace=True)\n",
        "\n",
        "num_attribs = list(X.drop('ocean_proximity', axis=1))\n",
        "cat_attribs = ['ocean_proximity']\n",
        "\n",
        "class DataFrameSelector(BaseEstimator, TransformerMixin):\n",
        "    def __init__(self, attribute_names):\n",
        "        self.attribute_names = attribute_names\n",
        "    def fit(self, X, y=None):\n",
        "        return self\n",
        "    def transform(self, X, y=None):\n",
        "        return X[self.attribute_names].values\n",
        "      \n",
        "rooms_ix, bedrooms_ix, population_ix, household_ix = 3, 4, 5, 6\n",
        "\n",
        "class CombinedAttributeAdder(BaseEstimator, TransformerMixin):\n",
        "    def __init__(self, add_bedrooms_per_room = True):\n",
        "        self.add_bedrooms_per_room = add_bedrooms_per_room\n",
        "    def fit(self, X, y=None):\n",
        "        return self # No fitting in this transformed\n",
        "    def transform(self, X, y=None):\n",
        "        rooms_per_household = X[:, rooms_ix] / X[:, household_ix]\n",
        "        population_per_household = X[:, population_ix] / X[:, household_ix]\n",
        "        if self.add_bedrooms_per_room:\n",
        "            bedrooms_per_room = X[:, bedrooms_ix]\n",
        "            return np.c_[X, rooms_per_household, population_per_household,\n",
        "                         bedrooms_per_room]\n",
        "        return np.c_[X, rooms_per_household, population_per_household]\n",
        "\n",
        "num_pipeline = Pipeline([\n",
        "  ('selector', DataFrameSelector(num_attribs)),\n",
        "  ('imputer', SimpleImputer(strategy='median')),\n",
        "  ('combined_attr_adder', CombinedAttributeAdder()),\n",
        "  ('std_scaler', StandardScaler()),\n",
        "])\n",
        "\n",
        "cat_pipeline = Pipeline([\n",
        "  ('selector', DataFrameSelector(cat_attribs)),\n",
        "  ('cat_encoder', OneHotEncoder(categories='auto',\n",
        "                                sparse=False)),\n",
        "])\n",
        "\n",
        "feature_pipeline = FeatureUnion(transformer_list=[\n",
        "  ('num_pipeline', num_pipeline),\n",
        "  ('cat_pipeline', cat_pipeline),\n",
        "])\n",
        "\n",
        "m = len(X)\n",
        "rand_idx = np.random.permutation(m)\n",
        "test_size = (4 * m) // 5\n",
        "\n",
        "X_train, X_test, y_train, y_test = \\\n",
        "  X.loc[rand_idx[:test_size]].reset_index(), \\\n",
        "  X.loc[rand_idx[test_size:]].reset_index(), \\\n",
        "  y.loc[rand_idx[:test_size]].values, \\\n",
        "  y.loc[rand_idx[test_size:]].values"
      ],
      "execution_count": 0,
      "outputs": []
    },
    {
      "metadata": {
        "id": "aDj6IWFfsjqe",
        "colab_type": "code",
        "outputId": "99b8b094-6233-426f-fc48-5a6220f9bbe5",
        "colab": {
          "base_uri": "https://localhost:8080/",
          "height": 35
        }
      },
      "cell_type": "code",
      "source": [
        "# First we try LinearSVR and it does about as well as Linear Regression did in\n",
        "# chapter 2.\n",
        "\n",
        "from sklearn.metrics import mean_squared_error\n",
        "\n",
        "root_mse = lambda y1, y2: np.sqrt(mean_squared_error(y1, y2))\n",
        "\n",
        "lin_svr = Pipeline([\n",
        "  ('feature_transform', feature_pipeline),\n",
        "  ('svm', LinearSVR(C=5e4)),\n",
        "]).fit(X_train[:5000], y_train[:5000])\n",
        "\n",
        "y_pred = lin_svr.predict(X_train)\n",
        "root_mse(y_pred, y_train)"
      ],
      "execution_count": 46,
      "outputs": [
        {
          "output_type": "execute_result",
          "data": {
            "text/plain": [
              "71349.68466207788"
            ]
          },
          "metadata": {
            "tags": []
          },
          "execution_count": 46
        }
      ]
    },
    {
      "metadata": {
        "id": "t5ehSsR4vnNj",
        "colab_type": "code",
        "outputId": "30481815-8b91-4f33-f0d7-118c3d4b8240",
        "colab": {
          "base_uri": "https://localhost:8080/",
          "height": 35
        }
      },
      "cell_type": "code",
      "source": [
        "# A 4th-degree polynomial kernel does better than the linear model.\n",
        "\n",
        "poly_svr = Pipeline([\n",
        "  ('feature_transform', feature_pipeline),\n",
        "  ('svm', SVR(kernel='poly', C=1e5)),\n",
        "]).fit(X_train[:10000], y_train[:10000])\n",
        "\n",
        "y_pred = poly_svr.predict(X_train)\n",
        "root_mse(y_pred, y_train)"
      ],
      "execution_count": 47,
      "outputs": [
        {
          "output_type": "execute_result",
          "data": {
            "text/plain": [
              "65903.31458623064"
            ]
          },
          "metadata": {
            "tags": []
          },
          "execution_count": 47
        }
      ]
    },
    {
      "metadata": {
        "id": "WDztyVmyxQTC",
        "colab_type": "code",
        "outputId": "d47c4eb4-ebfc-4745-804d-674a5d1a50a0",
        "colab": {
          "base_uri": "https://localhost:8080/",
          "height": 35
        }
      },
      "cell_type": "code",
      "source": [
        "# Trying out the Guassian RBF kernel. It performs as well as the polynomial\n",
        "# kernel did after I did manual tuning.\n",
        "\n",
        "rbf_svr = Pipeline([\n",
        "  ('feature_transform', feature_pipeline),\n",
        "  ('svm', SVR()),\n",
        "]).fit(X_train[:5000], y_train[:5000])\n",
        "\n",
        "y_pred = poly_svr.predict(X_train)\n",
        "root_mse(y_pred, y_train)"
      ],
      "execution_count": 48,
      "outputs": [
        {
          "output_type": "execute_result",
          "data": {
            "text/plain": [
              "65763.15898308737"
            ]
          },
          "metadata": {
            "tags": []
          },
          "execution_count": 48
        }
      ]
    },
    {
      "metadata": {
        "id": "OQmpYUIZyBcu",
        "colab_type": "code",
        "outputId": "19450244-157f-4268-fc09-1cbadf2122ea",
        "colab": {
          "base_uri": "https://localhost:8080/",
          "height": 215
        }
      },
      "cell_type": "code",
      "source": [
        "# Trying a CV search using the RBF kernel.\n",
        "\n",
        "from sklearn.model_selection import RandomizedSearchCV\n",
        "from scipy.stats import uniform, reciprocal\n",
        "\n",
        "param_dist = {\n",
        "  'svm__C': uniform(1, 1e6),\n",
        "  'svm__gamma': reciprocal(1., 100.),\n",
        "}\n",
        "\n",
        "rnd_search = RandomizedSearchCV(rbf_svr, param_dist, cv=3, n_iter=10)\n",
        "rnd_search.fit(X_train[:5000], y_train[:5000])"
      ],
      "execution_count": 49,
      "outputs": [
        {
          "output_type": "execute_result",
          "data": {
            "text/plain": [
              "RandomizedSearchCV(cv=3, error_score='raise-deprecating',\n",
              "          estimator=Pipeline(memory=None,\n",
              "     steps=[('feature_transform', FeatureUnion(n_jobs=None,\n",
              "       transformer_list=[('num_pipeline', Pipeline(memory=None,\n",
              "     steps=[('selector', DataFrameSelector(attribute_names=['index', 'longitude', 'latitude', 'housing_median_age', 'total_rooms', 'total_bedrooms', 'population', 'households', 'med...\n",
              "  gamma='auto_deprecated', kernel='rbf', max_iter=-1, shrinking=True,\n",
              "  tol=0.001, verbose=False))]),\n",
              "          fit_params=None, iid='warn', n_iter=10, n_jobs=None,\n",
              "          param_distributions={'svm__C': <scipy.stats._distn_infrastructure.rv_frozen object at 0x7f26502f4320>, 'svm__gamma': <scipy.stats._distn_infrastructure.rv_frozen object at 0x7f264daa2c88>},\n",
              "          pre_dispatch='2*n_jobs', random_state=None, refit=True,\n",
              "          return_train_score='warn', scoring=None, verbose=0)"
            ]
          },
          "metadata": {
            "tags": []
          },
          "execution_count": 49
        }
      ]
    },
    {
      "metadata": {
        "id": "Fll2DbmL0z3S",
        "colab_type": "code",
        "outputId": "9de35d8e-b84b-4382-e696-2acecea9c1f7",
        "colab": {
          "base_uri": "https://localhost:8080/",
          "height": 35
        }
      },
      "cell_type": "code",
      "source": [
        "# Training the model found by RandomizedSearchCV on all of the training\n",
        "# data results in an RMSE which is better than the linear models, but\n",
        "# is not as good as the RandomForest in chapter 2.\n",
        "\n",
        "rnd_search.best_estimator_.fit(X_train, y_train)\n",
        "y_pred = rnd_search.best_estimator_.predict(X_test)\n",
        "root_mse(y_pred, y_test)"
      ],
      "execution_count": 51,
      "outputs": [
        {
          "output_type": "execute_result",
          "data": {
            "text/plain": [
              "59915.51099723787"
            ]
          },
          "metadata": {
            "tags": []
          },
          "execution_count": 51
        }
      ]
    }
  ]
}