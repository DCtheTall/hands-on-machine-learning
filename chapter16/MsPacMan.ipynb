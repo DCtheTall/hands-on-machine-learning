{
  "nbformat": 4,
  "nbformat_minor": 0,
  "metadata": {
    "colab": {
      "name": "MsPacMan.ipynb",
      "version": "0.3.2",
      "provenance": [],
      "collapsed_sections": []
    },
    "kernelspec": {
      "name": "python3",
      "display_name": "Python 3"
    },
    "accelerator": "GPU"
  },
  "cells": [
    {
      "cell_type": "markdown",
      "metadata": {
        "id": "vsJvFUW9I4wq",
        "colab_type": "text"
      },
      "source": [
        "# Chapter 16: Reinforcement Learning\n",
        "\n",
        "## Learning to Play Ms. Pac-Man Using the DQN Algorithm\n",
        "\n",
        "Given a game that can be described using a [Markov Decision Process](https://goo.gl/wZTVIN), e.g. Ms. Pac-Man, we want to train an RL model which can learn what actions the agent can take which will yield the most rewards.\n",
        "\n",
        "We will do so by training a _deep Q-network_ (DQN) to learn how to approximate the Q-Values of each state-action pair by learning a function to get approximate Q-Values, $Q_\\theta (s, a)$, where $\\theta$ is the learned model parameters. In this case, the state is the raw pixels of the Pac-Man game and the actions are the 9 directions you can move the joystick.\n",
        "\n",
        "The model is trained using Gradient Descent where the target Q-Values for each state-action pair is given by\n",
        "\n",
        "$$ y(s, a) = r \\, + \\, \\gamma \\cdot \\max_{a'} \\, Q_\\theta\\left(s',a'\\right) $$\n",
        "\n",
        "where\n",
        "\n",
        "- $r$ is the reward that the agent gets from taking action $a$ when the game is in state $s$.\n",
        "\n",
        "- $\\gamma$ is the discount rate.\n",
        "\n",
        "For more information about Q-Learning and DQNs, see `ReinforcementLearning.ipynb`.\n",
        "\n",
        "## Setup\n",
        "\n"
      ]
    },
    {
      "cell_type": "code",
      "metadata": {
        "id": "VqM5MCZwHxRd",
        "colab_type": "code",
        "colab": {}
      },
      "source": [
        "import tensorflow as tf\n",
        "import numpy as np\n",
        "import os\n",
        "import sys\n",
        "\n",
        "def reset_graph(seed=42):\n",
        "  tf.reset_default_graph()\n",
        "  tf.set_random_seed(seed)\n",
        "  np.random.seed(seed)\n",
        "\n",
        "%matplotlib inline\n",
        "import matplotlib\n",
        "import matplotlib.animation as animation\n",
        "import matplotlib.pyplot as plt\n",
        "plt.rcParams['axes.labelsize'] = 14\n",
        "plt.rcParams['xtick.labelsize'] = 12\n",
        "plt.rcParams['ytick.labelsize'] = 12"
      ],
      "execution_count": 0,
      "outputs": []
    },
    {
      "cell_type": "markdown",
      "metadata": {
        "id": "Ghld4_FbXXqD",
        "colab_type": "text"
      },
      "source": [
        "## Creating the Ms. Pac-Man Environment"
      ]
    },
    {
      "cell_type": "code",
      "metadata": {
        "id": "eoVoLoRMX6Hm",
        "colab_type": "code",
        "colab": {}
      },
      "source": [
        "import gym\n",
        "\n",
        "env = gym.make('MsPacman-v0')\n",
        "obs = env.reset()"
      ],
      "execution_count": 0,
      "outputs": []
    },
    {
      "cell_type": "code",
      "metadata": {
        "id": "0yBIlxPjYHtt",
        "colab_type": "code",
        "outputId": "96c70c4c-0632-47d6-fbb3-cd4e45206893",
        "colab": {
          "base_uri": "https://localhost:8080/",
          "height": 34
        }
      },
      "source": [
        "# (height, width, channels)\n",
        "obs.shape"
      ],
      "execution_count": 0,
      "outputs": [
        {
          "output_type": "execute_result",
          "data": {
            "text/plain": [
              "(210, 160, 3)"
            ]
          },
          "metadata": {
            "tags": []
          },
          "execution_count": 3
        }
      ]
    },
    {
      "cell_type": "code",
      "metadata": {
        "id": "Qx-b0VdOYROG",
        "colab_type": "code",
        "outputId": "347371fb-826a-483f-cd92-ada174edf62e",
        "colab": {
          "base_uri": "https://localhost:8080/",
          "height": 34
        }
      },
      "source": [
        "env.action_space"
      ],
      "execution_count": 0,
      "outputs": [
        {
          "output_type": "execute_result",
          "data": {
            "text/plain": [
              "Discrete(9)"
            ]
          },
          "metadata": {
            "tags": []
          },
          "execution_count": 4
        }
      ]
    },
    {
      "cell_type": "markdown",
      "metadata": {
        "id": "9NlHiFsBYZ3t",
        "colab_type": "text"
      },
      "source": [
        "## Preprocessing\n",
        "\n",
        "Since the image for the game state is large and contains RGB channels, we want to define a preprocessing function which will reduce the image's size, make it grayscale, and increase the contrast of Ms. Pac-Man. This will speed up training and reduce the amount of computations the DQN will need to do."
      ]
    },
    {
      "cell_type": "code",
      "metadata": {
        "id": "PXjRrm7LY7Az",
        "colab_type": "code",
        "colab": {}
      },
      "source": [
        "mspacman_color = np.array([210, 164, 74]).mean()\n",
        "\n",
        "def preprocess_observation(obs):\n",
        "  img = obs[1:176:2, ::2] # crop and downsize\n",
        "  img = img.mean(axis=2) # convert to grayscale\n",
        "  img[img == mspacman_color] = 0 # improve contrast\n",
        "  img = (img - 128) / 128 # normalize values from -1 to 1.\n",
        "  return img.reshape(88, 80, 1)"
      ],
      "execution_count": 0,
      "outputs": []
    },
    {
      "cell_type": "code",
      "metadata": {
        "id": "JSOO1uV9a95E",
        "colab_type": "code",
        "outputId": "c44eb794-df39-4d93-9f0f-593203b08fb9",
        "colab": {
          "base_uri": "https://localhost:8080/",
          "height": 433
        }
      },
      "source": [
        "# Plotting the original image and the preprocessed image next to each other.\n",
        "\n",
        "plt.figure(figsize=(11, 7))\n",
        "plt.subplot(121)\n",
        "plt.title('Original Observation (160 x 210 RGB)')\n",
        "plt.imshow(obs)\n",
        "plt.axis('off')\n",
        "plt.subplot(122)\n",
        "plt.title('Preprocessed Observation (80 x 88 Grayscale)')\n",
        "img = preprocess_observation(obs)\n",
        "plt.imshow(img.reshape(88, 80), interpolation='nearest', cmap='gray')\n",
        "plt.axis('off')\n",
        "plt.show()"
      ],
      "execution_count": 0,
      "outputs": [
        {
          "output_type": "display_data",
          "data": {
            "image/png": "[encoded data removed]",
            "text/plain": [
              "<Figure size 792x504 with 2 Axes>"
            ]
          },
          "metadata": {
            "tags": []
          }
        }
      ]
    },
    {
      "cell_type": "markdown",
      "metadata": {
        "id": "D6BRqMCIdtfT",
        "colab_type": "text"
      },
      "source": [
        "## Build the DQN\n",
        "\n",
        "The DQN will be composed of 3 convolutional layers, a hidden fully connected layer, and then finally an output layer with 9 neurons, one for each action."
      ]
    },
    {
      "cell_type": "code",
      "metadata": {
        "id": "S5KPHTQvdvLt",
        "colab_type": "code",
        "colab": {}
      },
      "source": [
        "reset_graph()\n",
        "\n",
        "input_height = 88\n",
        "input_width = 80\n",
        "input_channels = 1\n",
        "conv_n_maps = [32, 64, 64]\n",
        "conv_kernel_sizes = [(8, 8), (4, 4), (3, 3)]\n",
        "conv_strides = [4, 2, 1]\n",
        "conv_paddings = ['SAME'] * 3\n",
        "conv_activation = [tf.nn.relu] * 3\n",
        "n_hidden_in = 64 * 11 * 10\n",
        "n_hidden = 512\n",
        "hidden_activation = tf.nn.relu\n",
        "n_outputs = env.action_space.n\n",
        "initializer = tf.contrib.layers.variance_scaling_initializer()"
      ],
      "execution_count": 0,
      "outputs": []
    },
    {
      "cell_type": "markdown",
      "metadata": {
        "id": "_YslHhDUoGJV",
        "colab_type": "text"
      },
      "source": [
        "This model actually will use two DQNs. The first is the _online_ DQN which learns and plays after each training iteration. The second is the _target_ DQN which generates the target Q-Values. Every few training iterations, the online DQNs parameters are copied to the target DQN. This technique was introduced by DeepMind.\n",
        "\n",
        "Below is a function which generates a DQN."
      ]
    },
    {
      "cell_type": "code",
      "metadata": {
        "id": "6muWUtaqpRZm",
        "colab_type": "code",
        "colab": {}
      },
      "source": [
        "def q_network(X_state, name):\n",
        "  prev_layer = X_state\n",
        "  with tf.variable_scope(name) as scope:\n",
        "    for n_maps, kernel_size, strides, padding, activation in zip(\n",
        "        conv_n_maps, conv_kernel_sizes, conv_strides, conv_paddings,\n",
        "        conv_activation):\n",
        "      prev_layer = tf.layers.conv2d(prev_layer, filters=n_maps,\n",
        "                                    kernel_size=kernel_size, strides=strides,\n",
        "                                    padding=padding, activation=activation,\n",
        "                                    kernel_initializer=initializer)\n",
        "    flattened = tf.reshape(prev_layer, [-1, n_hidden_in])\n",
        "    hidden = tf.layers.dense(flattened, n_hidden, activation=hidden_activation,\n",
        "                             kernel_initializer=initializer)\n",
        "    outputs = tf.layers.dense(hidden, n_outputs, kernel_initializer=initializer)\n",
        "  trainable_vars = tf.get_collection(tf.GraphKeys.TRAINABLE_VARIABLES,\n",
        "                                     scope=scope.name)\n",
        "  trainable_vars_by_name = {var.name[len(scope.name):]: var\n",
        "                            for var in trainable_vars}\n",
        "  return outputs, trainable_vars_by_name"
      ],
      "execution_count": 0,
      "outputs": []
    },
    {
      "cell_type": "code",
      "metadata": {
        "id": "oM9FsC5rvk52",
        "colab_type": "code",
        "colab": {}
      },
      "source": [
        "# Starting the DQN definition.\n",
        "\n",
        "X_state = tf.placeholder(tf.float32, shape=(None, input_height, input_width,\n",
        "                                            input_channels))\n",
        "online_q_values, online_vars = q_network(X_state, 'q_networks/online')\n",
        "target_q_values, target_vars = q_network(X_state, 'q_networks/target')\n",
        "copy_ops = [var.assign(online_vars[name]) for name, var in target_vars.items()]\n",
        "copy_online_to_target = tf.group(*copy_ops)"
      ],
      "execution_count": 0,
      "outputs": []
    },
    {
      "cell_type": "code",
      "metadata": {
        "id": "lIexN1vawcZn",
        "colab_type": "code",
        "outputId": "216ba933-32df-4760-ce74-542a29417651",
        "colab": {
          "base_uri": "https://localhost:8080/",
          "height": 187
        }
      },
      "source": [
        "online_vars"
      ],
      "execution_count": 0,
      "outputs": [
        {
          "output_type": "execute_result",
          "data": {
            "text/plain": [
              "{'/conv2d/bias:0': <tf.Variable 'q_networks/online/conv2d/bias:0' shape=(32,) dtype=float32_ref>,\n",
              " '/conv2d/kernel:0': <tf.Variable 'q_networks/online/conv2d/kernel:0' shape=(8, 8, 1, 32) dtype=float32_ref>,\n",
              " '/conv2d_1/bias:0': <tf.Variable 'q_networks/online/conv2d_1/bias:0' shape=(64,) dtype=float32_ref>,\n",
              " '/conv2d_1/kernel:0': <tf.Variable 'q_networks/online/conv2d_1/kernel:0' shape=(4, 4, 32, 64) dtype=float32_ref>,\n",
              " '/conv2d_2/bias:0': <tf.Variable 'q_networks/online/conv2d_2/bias:0' shape=(64,) dtype=float32_ref>,\n",
              " '/conv2d_2/kernel:0': <tf.Variable 'q_networks/online/conv2d_2/kernel:0' shape=(3, 3, 64, 64) dtype=float32_ref>,\n",
              " '/dense/bias:0': <tf.Variable 'q_networks/online/dense/bias:0' shape=(512,) dtype=float32_ref>,\n",
              " '/dense/kernel:0': <tf.Variable 'q_networks/online/dense/kernel:0' shape=(7040, 512) dtype=float32_ref>,\n",
              " '/dense_1/bias:0': <tf.Variable 'q_networks/online/dense_1/bias:0' shape=(9,) dtype=float32_ref>,\n",
              " '/dense_1/kernel:0': <tf.Variable 'q_networks/online/dense_1/kernel:0' shape=(512, 9) dtype=float32_ref>}"
            ]
          },
          "metadata": {
            "tags": []
          },
          "execution_count": 21
        }
      ]
    },
    {
      "cell_type": "markdown",
      "metadata": {
        "id": "xj0B-x4RqvH4",
        "colab_type": "text"
      },
      "source": [
        "Below we define the training operation for the DQN. First, we need to define its computed Q-Value for each state-action pair. Since the neural network produces a Q-Value for each possible action, we will want to input what the actual action the agent took in a one-hot encoded vector, this way we only compute the Q-Value for the action that was taken.\n",
        "\n",
        "Another modification is that instead of just using MSE for the error, we use a linear error for any loss values less than -1 or greater than 1. This helps training the model since it prevents large loss values from dominating the error gradient.\n",
        "\n",
        "For training, we use Nesterov Accelerated Gradient Descent to train the model parameters."
      ]
    },
    {
      "cell_type": "code",
      "metadata": {
        "id": "MFipnucupL84",
        "colab_type": "code",
        "colab": {}
      },
      "source": [
        "learning_rate = 1e-3\n",
        "momentum = 0.95\n",
        "\n",
        "with tf.variable_scope('training'):\n",
        "  X_action = tf.placeholder(tf.int32, shape=(None,))\n",
        "  y = tf.placeholder(tf.float32, shape=(None, 1))\n",
        "  q_value = tf.reduce_sum(online_q_values * tf.one_hot(X_action, n_outputs),\n",
        "                          axis=1, keepdims=True)\n",
        "  error = tf.abs(y - q_value)\n",
        "  clipped_error = tf.clip_by_value(error, 0.0, 1.0)\n",
        "  linear_error = 2 * (error - clipped_error)\n",
        "  loss = tf.reduce_mean(tf.square(clipped_error) + linear_error)\n",
        "  \n",
        "  global_step = tf.Variable(0, trainable=False, name='global_step')\n",
        "  optimizer = tf.train.MomentumOptimizer(learning_rate, momentum,\n",
        "                                         use_nesterov=True)\n",
        "  training_op = optimizer.minimize(loss, global_step=global_step)"
      ],
      "execution_count": 0,
      "outputs": []
    },
    {
      "cell_type": "code",
      "metadata": {
        "id": "OFZtakXeurIN",
        "colab_type": "code",
        "colab": {}
      },
      "source": [
        "init = tf.global_variables_initializer()\n",
        "saver = tf.train.Saver()"
      ],
      "execution_count": 0,
      "outputs": []
    },
    {
      "cell_type": "markdown",
      "metadata": {
        "id": "kDjhbCU6vE6t",
        "colab_type": "text"
      },
      "source": [
        "To improve the performance of the model, it will use a _replay memory_ that randomly samples a training batch of past experiences. This increases the variance of the model, helping it generalize better and not correlate the agent's actions with recent replays too strongly. This technique was also developed by DeepMind."
      ]
    },
    {
      "cell_type": "code",
      "metadata": {
        "id": "B9vF76k7wH63",
        "colab_type": "code",
        "colab": {}
      },
      "source": [
        "class ReplayMemory(object):\n",
        "  def __init__(self, maxlen):\n",
        "    self.maxlen = maxlen\n",
        "    self.buf = np.empty(shape=maxlen, dtype=np.object)\n",
        "    self.index = 0\n",
        "    self.length = 0\n",
        "    \n",
        "  def append(self, data):\n",
        "    self.buf[self.index] = data\n",
        "    self.length = min(self.length + 1, maxlen)\n",
        "    self.index = (self.index + 1) % self.maxlen\n",
        "    \n",
        "  def sample(self, batch_size):\n",
        "    return self.buf[np.random.randint(self.length, size=batch_size)]"
      ],
      "execution_count": 0,
      "outputs": []
    },
    {
      "cell_type": "code",
      "metadata": {
        "id": "0Y5eFB3gxWD0",
        "colab_type": "code",
        "colab": {}
      },
      "source": [
        "replay_memory_size = 500000\n",
        "replay_memory = ReplayMemory(replay_memory_size)"
      ],
      "execution_count": 0,
      "outputs": []
    },
    {
      "cell_type": "code",
      "metadata": {
        "id": "EufMqsnDxe-D",
        "colab_type": "code",
        "colab": {}
      },
      "source": [
        "def sample_memories(batch_size):\n",
        "  cols = [[], [], [], [], []] # state, action, reward, next_state, continue\n",
        "  for memory in replay_memory.sample(batch_size):\n",
        "    for col, value in zip(cols, memory):\n",
        "      col.append(value)\n",
        "  cols = [np.array(col) for col in cols]\n",
        "  return cols[0], cols[1], cols[2].reshape(-1, 1), cols[3], \\\n",
        "      cols[4].reshape(-1, 1)"
      ],
      "execution_count": 0,
      "outputs": []
    },
    {
      "cell_type": "markdown",
      "metadata": {
        "id": "fryiSY7rzsvM",
        "colab_type": "text"
      },
      "source": [
        "To allow the model to explore new actions at first then gradually start using the optimal action based on its predicted Q-Value. In order to do so, we will use an $\\varepsilon$-greedy policy which starts using random actions and gradually starts using the predicted Q-Value as training progresses."
      ]
    },
    {
      "cell_type": "code",
      "metadata": {
        "id": "YkNlySgv0IYc",
        "colab_type": "code",
        "colab": {}
      },
      "source": [
        "eps_min = 0.1\n",
        "eps_max = 1.0\n",
        "eps_decay_steps = 2000000\n",
        "\n",
        "def epsilon_greedy(q_values, step):\n",
        "  epsilon = max(eps_min,\n",
        "                eps_max - ((eps_max - eps_min) * (step / eps_decay_steps)))\n",
        "  if np.random.rand() < epsilon:\n",
        "    return np.random.randint(n_actions)\n",
        "  return np.argmax(q_values)"
      ],
      "execution_count": 0,
      "outputs": []
    }
  ]
}